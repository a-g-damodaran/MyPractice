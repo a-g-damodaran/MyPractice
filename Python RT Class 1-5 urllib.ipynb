{
 "cells": [
  {
   "cell_type": "markdown",
   "metadata": {
    "id": "jcEtUSqP2vUB"
   },
   "source": [
    "# Class 1 - Introduction to Python and Different Data types "
   ]
  },
  {
   "cell_type": "code",
   "execution_count": 58,
   "metadata": {},
   "outputs": [
    {
     "data": {
      "text/plain": [
       "4"
      ]
     },
     "execution_count": 58,
     "metadata": {},
     "output_type": "execute_result"
    }
   ],
   "source": [
    "len(s)"
   ]
  },
  {
   "cell_type": "code",
   "execution_count": null,
   "metadata": {
    "id": "onw4hwJW2vUK"
   },
   "outputs": [],
   "source": [
    "a = 10"
   ]
  },
  {
   "cell_type": "code",
   "execution_count": null,
   "metadata": {
    "id": "qJbrT51E2vUM",
    "outputId": "9cec6064-3b96-4893-81de-fc37363df4f1"
   },
   "outputs": [
    {
     "data": {
      "text/plain": [
       "10"
      ]
     },
     "execution_count": 3,
     "metadata": {
      "tags": []
     },
     "output_type": "execute_result"
    }
   ],
   "source": [
    "a"
   ]
  },
  {
   "cell_type": "code",
   "execution_count": null,
   "metadata": {
    "id": "hrxxZcCm2vUO",
    "outputId": "7006b0c5-83d1-4821-afcf-7a746fe55eb2"
   },
   "outputs": [
    {
     "name": "stdout",
     "output_type": "stream",
     "text": [
      "10\n"
     ]
    }
   ],
   "source": [
    "print(a)"
   ]
  },
  {
   "cell_type": "code",
   "execution_count": null,
   "metadata": {
    "id": "T5uH2JyM2vUP"
   },
   "outputs": [],
   "source": [
    "#Functional Programming Language - C programming \n",
    "#OOPs - C++\n",
    "#Scripting Language - Perl and Shell scripting \n",
    "#Modular Programming - Modula 3 \n",
    "#Syntax of Python - C programming and ABC programming "
   ]
  },
  {
   "cell_type": "code",
   "execution_count": null,
   "metadata": {
    "id": "LmDgT1pU2vUP"
   },
   "outputs": [],
   "source": [
    "#Where can I use Python \n",
    "#Desktop application \n",
    "#Web application - Django, Flask, Tkinter\n",
    "#Database Applications \n",
    "#Games \n",
    "#Network Application \n",
    "#Data Analytics and Data Science \n",
    "#Machine Learning \n",
    "#Artificial Intelligence and Deep learning \n",
    "#IoI applications"
   ]
  },
  {
   "cell_type": "code",
   "execution_count": 3,
   "metadata": {
    "id": "zfj4_Mgu2vUQ",
    "outputId": "129de79a-09cf-4cb0-ed01-a0e73637a010"
   },
   "outputs": [
    {
     "name": "stdout",
     "output_type": "stream",
     "text": [
      "9 9 7 1 8 2\n",
      "2 1 0 0 4 4\n",
      "2 1 2 6 8 0\n",
      "1 8 3 2 0 1\n",
      "0 8 0 3 2 0\n",
      "2 6 1 5 0 9\n",
      "6 5 2 1 1 7\n",
      "8 8 3 4 3 7\n",
      "7 9 8 4 2 5\n",
      "5 5 7 4 4 4\n"
     ]
    }
   ],
   "source": [
    "from random import *\n",
    "for i in range(0,10):\n",
    "    print(randint(0,9),randint(0,9),randint(0,9),randint(0,9),randint(0,9),randint(0,9))"
   ]
  },
  {
   "cell_type": "code",
   "execution_count": null,
   "metadata": {
    "id": "pVjMnhGq2vUR"
   },
   "outputs": [],
   "source": [
    "#Flavours of Python \n",
    "#cpython \n",
    "#Jpython - Jython\n",
    "#IronPython - Csharp, .net\n",
    "#pypy - Performance internally improved in P(ython) V(irtual) M(achine)\n",
    "#RubyPython - Ruby\n",
    "#Anaconda Python - Big data "
   ]
  },
  {
   "cell_type": "code",
   "execution_count": null,
   "metadata": {
    "id": "POYmjvVc2vUR"
   },
   "outputs": [],
   "source": [
    "#Python versions \n",
    "#Python 1.0 - 1994\n",
    "#Python 2.0 - 2000\n",
    "#Python 3.0 - 2008\n",
    "#Python 3.6.3 - 2016\n",
    "#Python 3.8.2 - 2020"
   ]
  },
  {
   "cell_type": "code",
   "execution_count": null,
   "metadata": {
    "id": "tD8e1CjG2vUR"
   },
   "outputs": [],
   "source": [
    "#Python Identifiers \n",
    "#alphabets (both upper or lower)\n",
    "#digits (0-9)\n",
    "#Underscore _ \n",
    "customer_name = 'Rahul'"
   ]
  },
  {
   "cell_type": "code",
   "execution_count": null,
   "metadata": {
    "id": "GPvcJ5pq2vUS"
   },
   "outputs": [],
   "source": [
    "customer_name = 'Rahul'\n",
    "#Dynamically Typed programming language "
   ]
  },
  {
   "cell_type": "code",
   "execution_count": null,
   "metadata": {
    "id": "q-IfWHF62vUS",
    "outputId": "f355314c-69b3-42ce-d4a0-78989a70e4c6"
   },
   "outputs": [
    {
     "data": {
      "text/plain": [
       "str"
      ]
     },
     "execution_count": 19,
     "metadata": {
      "tags": []
     },
     "output_type": "execute_result"
    }
   ],
   "source": [
    "type(customer_name)"
   ]
  },
  {
   "cell_type": "code",
   "execution_count": null,
   "metadata": {
    "id": "r7tq4ABw2vUS"
   },
   "outputs": [],
   "source": [
    "icust123 = 'Rahul'"
   ]
  },
  {
   "cell_type": "code",
   "execution_count": null,
   "metadata": {
    "id": "8mLKEcov2vUT"
   },
   "outputs": [],
   "source": [
    "_stu = 'rahul'"
   ]
  },
  {
   "cell_type": "code",
   "execution_count": null,
   "metadata": {
    "id": "aR3q3wnA2vUT",
    "outputId": "ec682abc-460e-4371-94d8-737448c7646a"
   },
   "outputs": [
    {
     "data": {
      "text/plain": [
       "'rahul'"
      ]
     },
     "execution_count": 25,
     "metadata": {
      "tags": []
     },
     "output_type": "execute_result"
    }
   ],
   "source": [
    "_stu"
   ]
  },
  {
   "cell_type": "code",
   "execution_count": null,
   "metadata": {
    "id": "xM01UanD2vUT"
   },
   "outputs": [],
   "source": [
    "CUST = 'A'\n",
    "cust = 'B'"
   ]
  },
  {
   "cell_type": "code",
   "execution_count": null,
   "metadata": {
    "id": "m-IDdUke2vUU",
    "outputId": "75ee95b3-6df3-4079-f520-2298e1359520"
   },
   "outputs": [
    {
     "data": {
      "text/plain": [
       "'A'"
      ]
     },
     "execution_count": 28,
     "metadata": {
      "tags": []
     },
     "output_type": "execute_result"
    }
   ],
   "source": [
    "CUST"
   ]
  },
  {
   "cell_type": "code",
   "execution_count": null,
   "metadata": {
    "id": "BZvFy5dN2vUU",
    "outputId": "57ac5d4c-2dd8-45d8-f994-3a107bfc9ed8"
   },
   "outputs": [
    {
     "data": {
      "text/plain": [
       "'B'"
      ]
     },
     "execution_count": 29,
     "metadata": {
      "tags": []
     },
     "output_type": "execute_result"
    }
   ],
   "source": [
    "cust"
   ]
  },
  {
   "cell_type": "code",
   "execution_count": 1,
   "metadata": {
    "id": "xfGL_xIv2vUV",
    "outputId": "9f8a1036-2095-4f3d-e934-34d6785cedac"
   },
   "outputs": [
    {
     "data": {
      "text/plain": [
       "35"
      ]
     },
     "execution_count": 1,
     "metadata": {},
     "output_type": "execute_result"
    }
   ],
   "source": [
    "import keyword \n",
    "len(keyword.kwlist)"
   ]
  },
  {
   "cell_type": "code",
   "execution_count": 2,
   "metadata": {},
   "outputs": [
    {
     "data": {
      "text/plain": [
       "['False',\n",
       " 'None',\n",
       " 'True',\n",
       " 'and',\n",
       " 'as',\n",
       " 'assert',\n",
       " 'async',\n",
       " 'await',\n",
       " 'break',\n",
       " 'class',\n",
       " 'continue',\n",
       " 'def',\n",
       " 'del',\n",
       " 'elif',\n",
       " 'else',\n",
       " 'except',\n",
       " 'finally',\n",
       " 'for',\n",
       " 'from',\n",
       " 'global',\n",
       " 'if',\n",
       " 'import',\n",
       " 'in',\n",
       " 'is',\n",
       " 'lambda',\n",
       " 'nonlocal',\n",
       " 'not',\n",
       " 'or',\n",
       " 'pass',\n",
       " 'raise',\n",
       " 'return',\n",
       " 'try',\n",
       " 'while',\n",
       " 'with',\n",
       " 'yield']"
      ]
     },
     "execution_count": 2,
     "metadata": {},
     "output_type": "execute_result"
    }
   ],
   "source": [
    "keyword.kwlist"
   ]
  },
  {
   "cell_type": "code",
   "execution_count": null,
   "metadata": {
    "id": "9TPhg94q2vUV"
   },
   "outputs": [],
   "source": [
    "#Types of datatypes \n",
    "#int\n",
    "#float\n",
    "#str\n",
    "#bool\n",
    "\n",
    "#Complex\n",
    "#Byte\n",
    "#Bytearray\n",
    "#range\n",
    "\n",
    "#Python Collection datatypes \n",
    "#Lists \n",
    "#Tuples \n",
    "#sets \n",
    "#Frozensets\n",
    "#Dictionaries \n",
    "\n",
    "#None"
   ]
  },
  {
   "cell_type": "code",
   "execution_count": null,
   "metadata": {
    "id": "GLqsVuqP2vUW",
    "outputId": "e4de8981-f461-4646-c179-1afab0475d93"
   },
   "outputs": [
    {
     "data": {
      "text/plain": [
       "468"
      ]
     },
     "execution_count": 37,
     "metadata": {
      "tags": []
     },
     "output_type": "execute_result"
    }
   ],
   "source": [
    "a = '123'\n",
    "b = '345'\n",
    "int(a)+int(b)"
   ]
  },
  {
   "cell_type": "code",
   "execution_count": null,
   "metadata": {
    "id": "ncT2QdPK2vUW",
    "outputId": "95e9754f-9909-46f8-eaf0-09f88693efa7"
   },
   "outputs": [
    {
     "name": "stdout",
     "output_type": "stream",
     "text": [
      "140733052723888\n",
      "140733052723888\n"
     ]
    }
   ],
   "source": [
    "a = 10\n",
    "print(id(a))\n",
    "b = 10\n",
    "print(id(b))"
   ]
  },
  {
   "cell_type": "code",
   "execution_count": null,
   "metadata": {
    "id": "HUI0QMPK2vUX",
    "outputId": "5b9e6abf-e9ec-420c-caf6-3a122f385e7e"
   },
   "outputs": [
    {
     "name": "stdout",
     "output_type": "stream",
     "text": [
      "2842231934672\n",
      "2842231934576\n"
     ]
    }
   ],
   "source": [
    "a = 257\n",
    "print(id(a))\n",
    "b = 257\n",
    "print(id(b))"
   ]
  },
  {
   "cell_type": "code",
   "execution_count": null,
   "metadata": {
    "id": "f5PIkzDO2vUX"
   },
   "outputs": [],
   "source": [
    "#Int \n",
    "    #Decimal - Base 10 \n",
    "    #Binary - Base 2\n",
    "    #Octal - Base 8\n",
    "    #Hexadecimal - Base 16"
   ]
  },
  {
   "cell_type": "code",
   "execution_count": null,
   "metadata": {
    "id": "L8gBUGsM2vUX",
    "outputId": "28c9d704-2c7b-4888-d440-fbc1028c6480"
   },
   "outputs": [
    {
     "data": {
      "text/plain": [
       "10"
      ]
     },
     "execution_count": 43,
     "metadata": {
      "tags": []
     },
     "output_type": "execute_result"
    }
   ],
   "source": [
    "a = 10\n",
    "a"
   ]
  },
  {
   "cell_type": "code",
   "execution_count": null,
   "metadata": {
    "id": "cZorg9V42vUY",
    "outputId": "57da7711-fb62-4e9a-a6ff-69845ec22777"
   },
   "outputs": [
    {
     "name": "stdout",
     "output_type": "stream",
     "text": [
      "15\n"
     ]
    }
   ],
   "source": [
    "a = 0b1111\n",
    "print(a)"
   ]
  },
  {
   "cell_type": "code",
   "execution_count": 11,
   "metadata": {
    "id": "TgpNWUqh2vUY"
   },
   "outputs": [
    {
     "data": {
      "text/plain": [
       "14"
      ]
     },
     "execution_count": 11,
     "metadata": {},
     "output_type": "execute_result"
    }
   ],
   "source": [
    "# 0o\n",
    "0b1110"
   ]
  },
  {
   "cell_type": "code",
   "execution_count": null,
   "metadata": {
    "id": "JrW-aGw-2vUY"
   },
   "outputs": [],
   "source": [
    "#Float \n"
   ]
  },
  {
   "cell_type": "code",
   "execution_count": null,
   "metadata": {
    "id": "qt4ow1k62vUY",
    "outputId": "4289844a-8ec9-4aad-a697-e0cc4eec19b3"
   },
   "outputs": [
    {
     "data": {
      "text/plain": [
       "float"
      ]
     },
     "execution_count": 49,
     "metadata": {
      "tags": []
     },
     "output_type": "execute_result"
    }
   ],
   "source": [
    "type(10.5)"
   ]
  },
  {
   "cell_type": "code",
   "execution_count": null,
   "metadata": {
    "id": "uOccrxHN2vUZ",
    "outputId": "8edbb065-ca25-4437-d33b-ef0fb98d550d"
   },
   "outputs": [
    {
     "data": {
      "text/plain": [
       "str"
      ]
     },
     "execution_count": 53,
     "metadata": {
      "tags": []
     },
     "output_type": "execute_result"
    }
   ],
   "source": [
    "cust = \"123\"\n",
    "type(cust)"
   ]
  },
  {
   "cell_type": "code",
   "execution_count": null,
   "metadata": {
    "id": "48R6fMs22vUZ",
    "outputId": "5a4c3ea0-a9b1-4008-9230-f4cbd6fd6fde"
   },
   "outputs": [
    {
     "data": {
      "text/plain": [
       "complex"
      ]
     },
     "execution_count": 56,
     "metadata": {
      "tags": []
     },
     "output_type": "execute_result"
    }
   ],
   "source": [
    "#Complex number \n",
    "#a + bj\n",
    "x = 10 + 2j\n",
    "type(x)"
   ]
  },
  {
   "cell_type": "code",
   "execution_count": null,
   "metadata": {
    "id": "llOl4Z0H2vUa",
    "outputId": "135dadc0-e502-4e6a-c508-b32fb30e7be1"
   },
   "outputs": [
    {
     "data": {
      "text/plain": [
       "bool"
      ]
     },
     "execution_count": 57,
     "metadata": {
      "tags": []
     },
     "output_type": "execute_result"
    }
   ],
   "source": [
    "a = True\n",
    "type(a)"
   ]
  },
  {
   "cell_type": "code",
   "execution_count": null,
   "metadata": {
    "id": "ooncCc5w2vUa"
   },
   "outputs": [],
   "source": [
    "b = 'Edureka Training'"
   ]
  },
  {
   "cell_type": "code",
   "execution_count": null,
   "metadata": {
    "id": "y7s3X_cl2vUb"
   },
   "outputs": [],
   "source": [
    "a = '''Edureka \n",
    "                Training'''"
   ]
  },
  {
   "cell_type": "code",
   "execution_count": null,
   "metadata": {
    "id": "kvxjA03n2vUb",
    "outputId": "e97ea3b8-1071-4764-ff4a-be53d34fa715"
   },
   "outputs": [
    {
     "data": {
      "text/plain": [
       "'Edureka Training'"
      ]
     },
     "execution_count": 61,
     "metadata": {
      "tags": []
     },
     "output_type": "execute_result"
    }
   ],
   "source": [
    "b"
   ]
  },
  {
   "cell_type": "code",
   "execution_count": null,
   "metadata": {
    "id": "HRmPvA_d2vUc",
    "outputId": "060510b8-cac2-4312-de96-99de38d657bb"
   },
   "outputs": [
    {
     "data": {
      "text/plain": [
       "'Edureka \\n                Training'"
      ]
     },
     "execution_count": 62,
     "metadata": {
      "tags": []
     },
     "output_type": "execute_result"
    }
   ],
   "source": [
    "a"
   ]
  },
  {
   "cell_type": "code",
   "execution_count": null,
   "metadata": {
    "id": "rTWeLi7J2vUc",
    "outputId": "31a56ffa-7f92-4dc7-a258-53182eaf8721"
   },
   "outputs": [
    {
     "data": {
      "text/plain": [
       "\"Python by 'Edureka' is good and the 'Materials' are good also\""
      ]
     },
     "execution_count": 66,
     "metadata": {
      "tags": []
     },
     "output_type": "execute_result"
    }
   ],
   "source": [
    "\"Python by 'Edureka' is good and the 'Materials' are good also\""
   ]
  },
  {
   "cell_type": "code",
   "execution_count": null,
   "metadata": {
    "id": "LgvVNjLB2vUc",
    "outputId": "82ec842d-0dbc-4dd3-cb7e-7668e1678b5d"
   },
   "outputs": [
    {
     "name": "stdout",
     "output_type": "stream",
     "text": [
      "Python by 'Edureka' is good and the \"Materials\" are good also\n"
     ]
    }
   ],
   "source": [
    "print('''Python by 'Edureka' is good and the \"Materials\" are good also''')"
   ]
  },
  {
   "cell_type": "code",
   "execution_count": null,
   "metadata": {
    "id": "jHOOeeSi2vUd"
   },
   "outputs": [],
   "source": [
    "a = 'Edureka'"
   ]
  },
  {
   "cell_type": "code",
   "execution_count": null,
   "metadata": {
    "id": "27cDhFFh2vUd",
    "outputId": "ab0fc159-6ea4-428f-8e13-728d7c099f54"
   },
   "outputs": [
    {
     "data": {
      "text/plain": [
       "'Edu'"
      ]
     },
     "execution_count": 71,
     "metadata": {
      "tags": []
     },
     "output_type": "execute_result"
    }
   ],
   "source": [
    "a[0:3]"
   ]
  },
  {
   "cell_type": "code",
   "execution_count": null,
   "metadata": {
    "id": "-bmQv2W02vUd",
    "outputId": "9f66cdb6-d694-48f7-846f-b86d8085d89f"
   },
   "outputs": [
    {
     "data": {
      "text/plain": [
       "'rek'"
      ]
     },
     "execution_count": 72,
     "metadata": {
      "tags": []
     },
     "output_type": "execute_result"
    }
   ],
   "source": [
    "a[3:6]"
   ]
  },
  {
   "cell_type": "code",
   "execution_count": null,
   "metadata": {
    "id": "KotwsZg_2vUd",
    "outputId": "c694cf64-a086-4c94-8fc4-b3f6f58aff36"
   },
   "outputs": [
    {
     "data": {
      "text/plain": [
       "'ake'"
      ]
     },
     "execution_count": 77,
     "metadata": {
      "tags": []
     },
     "output_type": "execute_result"
    }
   ],
   "source": [
    "a[-1:-4:-1]"
   ]
  },
  {
   "cell_type": "code",
   "execution_count": null,
   "metadata": {
    "id": "uw6tCJK22vUe",
    "outputId": "0fd8be35-ed5d-477a-fa95-25da71b2ba79"
   },
   "outputs": [
    {
     "data": {
      "text/plain": [
       "'Edureka'"
      ]
     },
     "execution_count": 78,
     "metadata": {
      "tags": []
     },
     "output_type": "execute_result"
    }
   ],
   "source": [
    "a"
   ]
  },
  {
   "cell_type": "code",
   "execution_count": null,
   "metadata": {
    "id": "PW3hS3_l2vUe",
    "outputId": "e3368a88-585b-4698-fcd6-2ef96cb7f90b"
   },
   "outputs": [
    {
     "data": {
      "text/plain": [
       "'ek'"
      ]
     },
     "execution_count": 79,
     "metadata": {
      "tags": []
     },
     "output_type": "execute_result"
    }
   ],
   "source": [
    "a[-3:-1]"
   ]
  },
  {
   "cell_type": "code",
   "execution_count": 3,
   "metadata": {
    "id": "TQp-kPWP2vUe"
   },
   "outputs": [],
   "source": [
    "#Python collection datatypes \n",
    "#Lists \n",
    "ages = [21,23,32,32,12,32,33,23,22,33,22,33]"
   ]
  },
  {
   "cell_type": "code",
   "execution_count": 4,
   "metadata": {},
   "outputs": [],
   "source": [
    "ages.sort()"
   ]
  },
  {
   "cell_type": "code",
   "execution_count": 5,
   "metadata": {
    "id": "ruIhD1GZ2vUf",
    "outputId": "a7bf1152-6379-4d46-b233-8c6935943aa8"
   },
   "outputs": [
    {
     "data": {
      "text/plain": [
       "[12, 21, 22, 22, 23, 23, 32, 32, 32, 33, 33, 33]"
      ]
     },
     "execution_count": 5,
     "metadata": {},
     "output_type": "execute_result"
    }
   ],
   "source": [
    "ages"
   ]
  },
  {
   "cell_type": "code",
   "execution_count": 6,
   "metadata": {
    "id": "ytJ9RCAU2vUf"
   },
   "outputs": [],
   "source": [
    "list1 = ['A', 10, 9.5, True]"
   ]
  },
  {
   "cell_type": "code",
   "execution_count": 7,
   "metadata": {
    "id": "0FcTm65X2vUf",
    "outputId": "1c08f641-1349-46da-f4b4-30f353a9f0d7"
   },
   "outputs": [
    {
     "data": {
      "text/plain": [
       "bool"
      ]
     },
     "execution_count": 7,
     "metadata": {},
     "output_type": "execute_result"
    }
   ],
   "source": [
    "type(list1[3])"
   ]
  },
  {
   "cell_type": "code",
   "execution_count": 8,
   "metadata": {
    "id": "AP3RJBni2vUg",
    "outputId": "c23113f7-8704-4792-f66d-9370eb6b2b62"
   },
   "outputs": [
    {
     "data": {
      "text/plain": [
       "12"
      ]
     },
     "execution_count": 8,
     "metadata": {},
     "output_type": "execute_result"
    }
   ],
   "source": [
    "len(ages)"
   ]
  },
  {
   "cell_type": "code",
   "execution_count": 18,
   "metadata": {
    "id": "g9jopR1U2vUg",
    "outputId": "1ef0eeb6-6065-45e0-a9e8-c64742644286"
   },
   "outputs": [
    {
     "data": {
      "text/plain": [
       "[12, 21, 22, 22, 23, 23, 32, 32, 32, 33, 33, 33]"
      ]
     },
     "execution_count": 18,
     "metadata": {},
     "output_type": "execute_result"
    }
   ],
   "source": [
    "ages"
   ]
  },
  {
   "cell_type": "code",
   "execution_count": 19,
   "metadata": {
    "id": "IM0JSbLD2vUg",
    "outputId": "11d16a43-8cad-4d1e-fd61-07e7b900b33d"
   },
   "outputs": [
    {
     "data": {
      "text/plain": [
       "[12, 21, 22, 22]"
      ]
     },
     "execution_count": 19,
     "metadata": {},
     "output_type": "execute_result"
    }
   ],
   "source": [
    "ages[0:4]"
   ]
  },
  {
   "cell_type": "code",
   "execution_count": null,
   "metadata": {
    "id": "DKidr-Bn2vUh",
    "outputId": "8bc309d2-5217-47a4-81f2-8e911bb7b251"
   },
   "outputs": [
    {
     "data": {
      "text/plain": [
       "[]"
      ]
     },
     "execution_count": 91,
     "metadata": {
      "tags": []
     },
     "output_type": "execute_result"
    }
   ],
   "source": [
    "ages[-1:-5]"
   ]
  },
  {
   "cell_type": "code",
   "execution_count": 10,
   "metadata": {
    "id": "T2K3KKin2vUh",
    "outputId": "58520c86-0b6d-429e-99c2-7f0713acc4cf"
   },
   "outputs": [
    {
     "data": {
      "text/plain": [
       "[33, 32, 22]"
      ]
     },
     "execution_count": 10,
     "metadata": {},
     "output_type": "execute_result"
    }
   ],
   "source": [
    "ages[-1:-10:-4]"
   ]
  },
  {
   "cell_type": "code",
   "execution_count": 9,
   "metadata": {
    "id": "153zAero2vUh",
    "outputId": "f4dc9eb0-d9a6-480a-acb9-39dabc3083e9",
    "scrolled": true
   },
   "outputs": [
    {
     "data": {
      "text/plain": [
       "[32, 32, 32, 23, 23, 22, 22, 21, 12]"
      ]
     },
     "execution_count": 9,
     "metadata": {},
     "output_type": "execute_result"
    }
   ],
   "source": [
    "ages[-4::-1]"
   ]
  },
  {
   "cell_type": "code",
   "execution_count": null,
   "metadata": {
    "id": "G3wHHKAr2vUi"
   },
   "outputs": [],
   "source": [
    "#Insertion order is preserved\n",
    "#Duplicates are allowed\n",
    "#Heterogeneous data allowed\n",
    "#Growable in nature\n",
    "#Values should be enclosed in a square bracket\n",
    "#Mutable "
   ]
  },
  {
   "cell_type": "code",
   "execution_count": 22,
   "metadata": {
    "id": "kyEg_VAw2vUi"
   },
   "outputs": [],
   "source": [
    "ages[4] = 22"
   ]
  },
  {
   "cell_type": "code",
   "execution_count": 23,
   "metadata": {
    "id": "SCeNW7hp2vUi",
    "outputId": "53b8a4e2-913c-4bab-fdd4-e4ae160a0ee1"
   },
   "outputs": [
    {
     "data": {
      "text/plain": [
       "[12, 21, 22, 22, 22, 23, 32, 32, 32, 33, 33, 33, 100]"
      ]
     },
     "execution_count": 23,
     "metadata": {},
     "output_type": "execute_result"
    }
   ],
   "source": [
    "ages"
   ]
  },
  {
   "cell_type": "code",
   "execution_count": 20,
   "metadata": {
    "id": "u_dJJElo2vUj"
   },
   "outputs": [],
   "source": [
    "ages.append(100)"
   ]
  },
  {
   "cell_type": "code",
   "execution_count": 21,
   "metadata": {
    "id": "D1LvD8RL2vUj",
    "outputId": "e68526c6-3427-4103-c132-58f7dbc4659b"
   },
   "outputs": [
    {
     "data": {
      "text/plain": [
       "[12, 21, 22, 22, 23, 23, 32, 32, 32, 33, 33, 33, 100]"
      ]
     },
     "execution_count": 21,
     "metadata": {},
     "output_type": "execute_result"
    }
   ],
   "source": [
    "ages"
   ]
  },
  {
   "cell_type": "code",
   "execution_count": 25,
   "metadata": {
    "id": "RPA6DDOJ2vUk"
   },
   "outputs": [],
   "source": [
    "ages.append([200,300])"
   ]
  },
  {
   "cell_type": "code",
   "execution_count": 26,
   "metadata": {
    "id": "qtSwE2zR2vUk"
   },
   "outputs": [
    {
     "ename": "TypeError",
     "evalue": "'int' object does not support item assignment",
     "output_type": "error",
     "traceback": [
      "\u001b[1;31m---------------------------------------------------------------------------\u001b[0m",
      "\u001b[1;31mTypeError\u001b[0m                                 Traceback (most recent call last)",
      "\u001b[1;32m<ipython-input-26-56b92ceb2773>\u001b[0m in \u001b[0;36m<module>\u001b[1;34m\u001b[0m\n\u001b[1;32m----> 1\u001b[1;33m \u001b[0mages\u001b[0m\u001b[1;33m[\u001b[0m\u001b[1;36m1\u001b[0m\u001b[1;33m]\u001b[0m\u001b[1;33m[\u001b[0m\u001b[1;36m1\u001b[0m\u001b[1;33m]\u001b[0m\u001b[1;33m=\u001b[0m\u001b[1;33m[\u001b[0m\u001b[1;36m200\u001b[0m\u001b[1;33m,\u001b[0m\u001b[1;36m300\u001b[0m\u001b[1;33m]\u001b[0m\u001b[1;33m\u001b[0m\u001b[1;33m\u001b[0m\u001b[0m\n\u001b[0m",
      "\u001b[1;31mTypeError\u001b[0m: 'int' object does not support item assignment"
     ]
    }
   ],
   "source": [
    "ages[1][1]=[200,300]"
   ]
  },
  {
   "cell_type": "code",
   "execution_count": null,
   "metadata": {
    "id": "oqOrDG012vUk"
   },
   "outputs": [],
   "source": [
    "del ages[-1]"
   ]
  },
  {
   "cell_type": "code",
   "execution_count": 12,
   "metadata": {
    "id": "c9sZmz9T2vUk"
   },
   "outputs": [],
   "source": [
    "ages.clear()"
   ]
  },
  {
   "cell_type": "code",
   "execution_count": 14,
   "metadata": {
    "id": "kRmeCWWx2vUl"
   },
   "outputs": [],
   "source": [
    "ages=[21, 23, 32, 32, 22, 32, 33, 23, 22, 33, 22, 33, 100]"
   ]
  },
  {
   "cell_type": "code",
   "execution_count": 15,
   "metadata": {
    "id": "Qti1YaIW2vUl"
   },
   "outputs": [],
   "source": [
    "ages1=ages.copy()"
   ]
  },
  {
   "cell_type": "code",
   "execution_count": 16,
   "metadata": {
    "id": "Yb-xxwY62vUl",
    "outputId": "48c5c0fa-1894-46ed-b009-0f88b30dce23"
   },
   "outputs": [
    {
     "data": {
      "text/plain": [
       "[21, 23, 32, 32, 22, 32, 33, 23, 22, 33, 22, 33, 100]"
      ]
     },
     "execution_count": 16,
     "metadata": {},
     "output_type": "execute_result"
    }
   ],
   "source": [
    "ages"
   ]
  },
  {
   "cell_type": "code",
   "execution_count": null,
   "metadata": {
    "id": "oZBV4r712vUm"
   },
   "outputs": [],
   "source": [
    "del ages1"
   ]
  },
  {
   "cell_type": "code",
   "execution_count": 40,
   "metadata": {
    "id": "4Wdc63Kr2vUm",
    "outputId": "d7e660dc-cfdb-4383-a409-62180abbaca5"
   },
   "outputs": [
    {
     "data": {
      "text/plain": [
       "[22, 22, 23, 23, 32, 32, 32, 33, 33, 100, 100]"
      ]
     },
     "execution_count": 40,
     "metadata": {},
     "output_type": "execute_result"
    }
   ],
   "source": [
    "ages1"
   ]
  },
  {
   "cell_type": "code",
   "execution_count": 17,
   "metadata": {
    "id": "aK0-HY192vUm"
   },
   "outputs": [],
   "source": [
    "ages.extend([10,11,12])"
   ]
  },
  {
   "cell_type": "code",
   "execution_count": 18,
   "metadata": {
    "id": "mga9hJOz2vUm",
    "outputId": "a6f4c8bf-bceb-4254-b519-1a004a96dff4"
   },
   "outputs": [
    {
     "data": {
      "text/plain": [
       "[21, 23, 32, 32, 22, 32, 33, 23, 22, 33, 22, 33, 100, 10, 11, 12]"
      ]
     },
     "execution_count": 18,
     "metadata": {},
     "output_type": "execute_result"
    }
   ],
   "source": [
    "ages"
   ]
  },
  {
   "cell_type": "code",
   "execution_count": 21,
   "metadata": {
    "id": "5DgsgOf72vUn",
    "outputId": "34cdd688-df53-46ae-d7e8-e530d033693e"
   },
   "outputs": [
    {
     "data": {
      "text/plain": [
       "12"
      ]
     },
     "execution_count": 21,
     "metadata": {},
     "output_type": "execute_result"
    }
   ],
   "source": [
    "ages.index(100)"
   ]
  },
  {
   "cell_type": "code",
   "execution_count": null,
   "metadata": {
    "id": "FDT6EMtA2vUn"
   },
   "outputs": [],
   "source": [
    "ages.insert(12,50)"
   ]
  },
  {
   "cell_type": "code",
   "execution_count": null,
   "metadata": {
    "id": "G5zd7sRl2vUn",
    "outputId": "259cbf24-c747-467d-e1bd-970d3d794d27"
   },
   "outputs": [
    {
     "data": {
      "text/plain": [
       "[21, 23, 32, 32, 22, 32, 33, 23, 22, 33, 22, 33, 50, 100, 10, 11, 12]"
      ]
     },
     "execution_count": 133,
     "metadata": {
      "tags": []
     },
     "output_type": "execute_result"
    }
   ],
   "source": [
    "ages"
   ]
  },
  {
   "cell_type": "code",
   "execution_count": 34,
   "metadata": {
    "id": "CT7sB4KR2vUo",
    "outputId": "70bd6ea1-1e62-4032-8274-689cbf1ce82c"
   },
   "outputs": [
    {
     "data": {
      "text/plain": [
       "12"
      ]
     },
     "execution_count": 34,
     "metadata": {},
     "output_type": "execute_result"
    }
   ],
   "source": [
    "ages.pop()"
   ]
  },
  {
   "cell_type": "code",
   "execution_count": 22,
   "metadata": {
    "id": "RwOpKFx52vUo",
    "outputId": "b718fbee-f868-4fb5-8fa9-16f477a4ab09"
   },
   "outputs": [
    {
     "data": {
      "text/plain": [
       "22"
      ]
     },
     "execution_count": 22,
     "metadata": {},
     "output_type": "execute_result"
    }
   ],
   "source": [
    "ages.pop(10)"
   ]
  },
  {
   "cell_type": "code",
   "execution_count": 23,
   "metadata": {
    "id": "S5EUR9mP2vUo"
   },
   "outputs": [],
   "source": [
    "ages.insert(12,75)"
   ]
  },
  {
   "cell_type": "code",
   "execution_count": 24,
   "metadata": {
    "id": "9q0qyxQb2vUp"
   },
   "outputs": [],
   "source": [
    "ages.remove(75)"
   ]
  },
  {
   "cell_type": "code",
   "execution_count": 25,
   "metadata": {
    "id": "IsHB6EXW2vUp"
   },
   "outputs": [
    {
     "data": {
      "text/plain": [
       "[12, 11, 10, 100, 33, 33, 22, 23, 33, 32, 22, 32, 32, 23, 21]"
      ]
     },
     "execution_count": 25,
     "metadata": {},
     "output_type": "execute_result"
    }
   ],
   "source": [
    "ages.reverse()\n",
    "ages"
   ]
  },
  {
   "cell_type": "code",
   "execution_count": 39,
   "metadata": {
    "id": "cLzdWkUX2vUp"
   },
   "outputs": [
    {
     "data": {
      "text/plain": [
       "[11, 10, [200, 300], 100, 33, 33, 32, 32, 32, 23, 22, 22, 22, 21]"
      ]
     },
     "execution_count": 39,
     "metadata": {},
     "output_type": "execute_result"
    }
   ],
   "source": [
    "ages.pop(-1)\n",
    "ages"
   ]
  },
  {
   "cell_type": "code",
   "execution_count": 26,
   "metadata": {
    "id": "hD1BIDrw2vUp"
   },
   "outputs": [
    {
     "data": {
      "text/plain": [
       "[100, 33, 33, 33, 32, 32, 32, 23, 23, 22, 22, 21, 12, 11, 10]"
      ]
     },
     "execution_count": 26,
     "metadata": {},
     "output_type": "execute_result"
    }
   ],
   "source": [
    "ages.sort(reverse=True)\n",
    "ages"
   ]
  },
  {
   "cell_type": "code",
   "execution_count": null,
   "metadata": {
    "id": "G66rjNci2vUp"
   },
   "outputs": [],
   "source": [
    "ages.append([34,54,54])"
   ]
  },
  {
   "cell_type": "code",
   "execution_count": 38,
   "metadata": {
    "id": "9lP2IZsj2vUq",
    "outputId": "b2c37b67-ed18-44c6-ac3c-0a34ae5092a4"
   },
   "outputs": [],
   "source": [
    "ages.sort()"
   ]
  },
  {
   "cell_type": "code",
   "execution_count": null,
   "metadata": {
    "id": "t6dJR3kr2vUq"
   },
   "outputs": [],
   "source": [
    "#Tuple\n",
    "ages = (21,23,23,22,33)"
   ]
  },
  {
   "cell_type": "code",
   "execution_count": 34,
   "metadata": {
    "id": "8eE-lx-b2vUq",
    "outputId": "8ddb7236-8cab-451c-a9a1-ff2b6c1c7ec7"
   },
   "outputs": [],
   "source": [
    "ages[1] = 100"
   ]
  },
  {
   "cell_type": "code",
   "execution_count": 35,
   "metadata": {
    "id": "PXUYxKFx2vUr",
    "outputId": "8eeba874-0f11-44cf-f30d-404e967e5cb3"
   },
   "outputs": [
    {
     "data": {
      "text/plain": [
       "2"
      ]
     },
     "execution_count": 35,
     "metadata": {},
     "output_type": "execute_result"
    }
   ],
   "source": [
    "ages.count(23)"
   ]
  },
  {
   "cell_type": "code",
   "execution_count": 36,
   "metadata": {
    "id": "uBOQXBN72vUr",
    "outputId": "122ae544-29a9-4b67-a268-21885e39a70f"
   },
   "outputs": [
    {
     "data": {
      "text/plain": [
       "7"
      ]
     },
     "execution_count": 36,
     "metadata": {},
     "output_type": "execute_result"
    }
   ],
   "source": [
    "ages.index(23)"
   ]
  },
  {
   "cell_type": "code",
   "execution_count": 37,
   "metadata": {
    "id": "VxBl2zjx2vUr",
    "outputId": "158943cb-6828-4a34-ccc1-b909305f0803"
   },
   "outputs": [
    {
     "data": {
      "text/plain": [
       "list"
      ]
     },
     "execution_count": 37,
     "metadata": {},
     "output_type": "execute_result"
    }
   ],
   "source": [
    "type(ages)"
   ]
  },
  {
   "cell_type": "code",
   "execution_count": null,
   "metadata": {
    "id": "Ln-bmbkc2vUs"
   },
   "outputs": [],
   "source": [
    "ages1 = list(ages)"
   ]
  },
  {
   "cell_type": "code",
   "execution_count": null,
   "metadata": {
    "id": "aoXPJ-FF2vUs",
    "outputId": "e05b67b3-993f-4a2f-ba8d-50eeb1161fc2"
   },
   "outputs": [
    {
     "data": {
      "text/plain": [
       "(21, 23, 23, 22, 33)"
      ]
     },
     "execution_count": 160,
     "metadata": {
      "tags": []
     },
     "output_type": "execute_result"
    }
   ],
   "source": [
    "ages"
   ]
  },
  {
   "cell_type": "code",
   "execution_count": null,
   "metadata": {
    "id": "txeOJMO62vUs",
    "outputId": "ca0b6c74-7617-4dc7-cf31-3eecf5ca2b8d"
   },
   "outputs": [
    {
     "data": {
      "text/plain": [
       "list"
      ]
     },
     "execution_count": 162,
     "metadata": {
      "tags": []
     },
     "output_type": "execute_result"
    }
   ],
   "source": [
    "type(ages1)"
   ]
  },
  {
   "cell_type": "code",
   "execution_count": 27,
   "metadata": {
    "id": "Jf5LaKsD2vUt",
    "outputId": "c2529113-1cab-4967-978f-e33e0c5302f3"
   },
   "outputs": [
    {
     "data": {
      "text/plain": [
       "439"
      ]
     },
     "execution_count": 27,
     "metadata": {},
     "output_type": "execute_result"
    }
   ],
   "source": [
    "sum(ages)"
   ]
  },
  {
   "cell_type": "code",
   "execution_count": null,
   "metadata": {
    "id": "4ngHpmJo2vUt",
    "outputId": "4718ecd5-3677-4910-e16b-dc7471abf455"
   },
   "outputs": [
    {
     "data": {
      "text/plain": [
       "122"
      ]
     },
     "execution_count": 166,
     "metadata": {
      "tags": []
     },
     "output_type": "execute_result"
    }
   ],
   "source": [
    "sum(ages1)"
   ]
  },
  {
   "cell_type": "code",
   "execution_count": 29,
   "metadata": {
    "id": "lv20VxRM2vUt",
    "outputId": "dfa1edd4-25dd-41a1-b817-1a16d433f7e1"
   },
   "outputs": [],
   "source": [
    "t = tuple(ages1)\n",
    "ages = list(t)"
   ]
  },
  {
   "cell_type": "code",
   "execution_count": 31,
   "metadata": {},
   "outputs": [
    {
     "data": {
      "text/plain": [
       "4"
      ]
     },
     "execution_count": 31,
     "metadata": {},
     "output_type": "execute_result"
    }
   ],
   "source": [
    "t.index(22)\n"
   ]
  },
  {
   "cell_type": "code",
   "execution_count": 32,
   "metadata": {},
   "outputs": [
    {
     "data": {
      "text/plain": [
       "3"
      ]
     },
     "execution_count": 32,
     "metadata": {},
     "output_type": "execute_result"
    }
   ],
   "source": [
    "t.count(22)"
   ]
  },
  {
   "cell_type": "code",
   "execution_count": 28,
   "metadata": {},
   "outputs": [
    {
     "data": {
      "text/plain": [
       "[100, 33, 33, 32, 32, 23, 23, 22, 22, 21, 12, 11, 10]"
      ]
     },
     "execution_count": 28,
     "metadata": {},
     "output_type": "execute_result"
    }
   ],
   "source": [
    "del ages[1:7:3]\n",
    "ages"
   ]
  },
  {
   "cell_type": "markdown",
   "metadata": {
    "id": "DsIdMSpP2vUu"
   },
   "source": [
    "# Class 2 - Different Data Types and Operators"
   ]
  },
  {
   "cell_type": "code",
   "execution_count": null,
   "metadata": {
    "id": "4ER5hQPu2vUu"
   },
   "outputs": [],
   "source": [
    "#Dictionaries\n",
    "#Sets \n",
    "#range \n",
    "#Operators in Python"
   ]
  },
  {
   "cell_type": "markdown",
   "metadata": {
    "id": "y19Wh6vX2vUu"
   },
   "source": [
    "Dictionaries"
   ]
  },
  {
   "cell_type": "code",
   "execution_count": 35,
   "metadata": {
    "id": "9XIMK7TW2vUu"
   },
   "outputs": [],
   "source": [
    "stu_details = {'Name':'John', 'stu_id':(t), 'Region':'North'}"
   ]
  },
  {
   "cell_type": "code",
   "execution_count": 36,
   "metadata": {
    "id": "dtgzpXb_2vUv",
    "outputId": "df02c821-b48e-44b9-992a-933ff015395b"
   },
   "outputs": [
    {
     "data": {
      "text/plain": [
       "'North'"
      ]
     },
     "execution_count": 36,
     "metadata": {},
     "output_type": "execute_result"
    }
   ],
   "source": [
    "stu_details['Region']"
   ]
  },
  {
   "cell_type": "code",
   "execution_count": 37,
   "metadata": {
    "id": "sua4KUhp2vUv"
   },
   "outputs": [],
   "source": [
    "stu_details['Region'] = 'South'"
   ]
  },
  {
   "cell_type": "code",
   "execution_count": 42,
   "metadata": {
    "id": "tbPvIeaF2vUv",
    "outputId": "0bfb99a1-5243-417b-fc69-02e277a7ad9f"
   },
   "outputs": [
    {
     "data": {
      "text/plain": [
       "{'Name': 'John',\n",
       " 'stu_id': (21, 23, 32, 32, 22, 32, 33, 23, 22, 33, 22, 33, 100),\n",
       " 'Region': 'South',\n",
       " 'Avg_Marks': 85.5,\n",
       " 'Age': [21, 23, 32, 32, 22, 32, 33, 23, 22, 33, 22, 33, 100]}"
      ]
     },
     "execution_count": 42,
     "metadata": {},
     "output_type": "execute_result"
    }
   ],
   "source": [
    "stu_details"
   ]
  },
  {
   "cell_type": "code",
   "execution_count": 39,
   "metadata": {
    "id": "ScGsTieh2vUv"
   },
   "outputs": [],
   "source": [
    "stu_details['Avg_Marks'] = 85.5"
   ]
  },
  {
   "cell_type": "code",
   "execution_count": 40,
   "metadata": {
    "id": "3w4bpapf2vUw",
    "outputId": "81449c17-bc13-4f79-dcbd-e4481c5ff121"
   },
   "outputs": [
    {
     "data": {
      "text/plain": [
       "4"
      ]
     },
     "execution_count": 40,
     "metadata": {},
     "output_type": "execute_result"
    }
   ],
   "source": [
    "len(stu_details)"
   ]
  },
  {
   "cell_type": "code",
   "execution_count": 41,
   "metadata": {},
   "outputs": [],
   "source": [
    "stu_details['Age'] = ages"
   ]
  },
  {
   "cell_type": "code",
   "execution_count": null,
   "metadata": {},
   "outputs": [],
   "source": []
  },
  {
   "cell_type": "code",
   "execution_count": 43,
   "metadata": {
    "id": "cjQtrqGN2vUw"
   },
   "outputs": [],
   "source": [
    "stu_details = {'Name':['Rahul','Rohaan','John','James'], \n",
    "              'Stu_id':[1,2,3,4], \n",
    "              'Region':['S','N','E','NaN'],\n",
    "              'NM':['Rahul','Rohaan','John','James'],\n",
    "              'NM':['Mitesh','Rohaan','John','James']}"
   ]
  },
  {
   "cell_type": "code",
   "execution_count": null,
   "metadata": {
    "id": "LbTbjsnN2vUx"
   },
   "outputs": [],
   "source": [
    "del stu_details['Stu_id'][4]"
   ]
  },
  {
   "cell_type": "code",
   "execution_count": 84,
   "metadata": {
    "id": "7qsyDAgk2vUx",
    "outputId": "083e29ae-795f-4ef8-c80d-1734652ac90f"
   },
   "outputs": [
    {
     "data": {
      "text/plain": [
       "{'Name': ['Rahul', 'Rohaan', 'John', 'James'],\n",
       " 'Stu_id': [1, 2, 3, 4],\n",
       " 'Region': ['S', 'N', 'E', 'NaN'],\n",
       " 'NM': ['Mitesh', 'Rohaan', 'John', 'James']}"
      ]
     },
     "execution_count": 84,
     "metadata": {},
     "output_type": "execute_result"
    }
   ],
   "source": [
    "stu_details"
   ]
  },
  {
   "cell_type": "code",
   "execution_count": null,
   "metadata": {
    "id": "itMuQeRg2vUx"
   },
   "outputs": [],
   "source": [
    "import pandas as pd"
   ]
  },
  {
   "cell_type": "code",
   "execution_count": null,
   "metadata": {
    "id": "uGRYHLhe2vUy",
    "outputId": "04b739f8-89bd-41dc-f15a-5cce760c5367"
   },
   "outputs": [
    {
     "data": {
      "text/html": [
       "<div>\n",
       "<style scoped>\n",
       "    .dataframe tbody tr th:only-of-type {\n",
       "        vertical-align: middle;\n",
       "    }\n",
       "\n",
       "    .dataframe tbody tr th {\n",
       "        vertical-align: top;\n",
       "    }\n",
       "\n",
       "    .dataframe thead th {\n",
       "        text-align: right;\n",
       "    }\n",
       "</style>\n",
       "<table border=\"1\" class=\"dataframe\">\n",
       "  <thead>\n",
       "    <tr style=\"text-align: right;\">\n",
       "      <th></th>\n",
       "      <th>Name</th>\n",
       "      <th>Stu_id</th>\n",
       "      <th>Region</th>\n",
       "      <th>NM</th>\n",
       "    </tr>\n",
       "  </thead>\n",
       "  <tbody>\n",
       "    <tr>\n",
       "      <th>0</th>\n",
       "      <td>Rahul</td>\n",
       "      <td>1</td>\n",
       "      <td>S</td>\n",
       "      <td>Mitesh</td>\n",
       "    </tr>\n",
       "    <tr>\n",
       "      <th>1</th>\n",
       "      <td>Rohaan</td>\n",
       "      <td>2</td>\n",
       "      <td>N</td>\n",
       "      <td>Rohaan</td>\n",
       "    </tr>\n",
       "    <tr>\n",
       "      <th>2</th>\n",
       "      <td>John</td>\n",
       "      <td>3</td>\n",
       "      <td>E</td>\n",
       "      <td>John</td>\n",
       "    </tr>\n",
       "    <tr>\n",
       "      <th>3</th>\n",
       "      <td>James</td>\n",
       "      <td>4</td>\n",
       "      <td>NaN</td>\n",
       "      <td>James</td>\n",
       "    </tr>\n",
       "  </tbody>\n",
       "</table>\n",
       "</div>"
      ],
      "text/plain": [
       "     Name  Stu_id Region      NM\n",
       "0   Rahul       1      S  Mitesh\n",
       "1  Rohaan       2      N  Rohaan\n",
       "2    John       3      E    John\n",
       "3   James       4    NaN   James"
      ]
     },
     "execution_count": 34,
     "metadata": {
      "tags": []
     },
     "output_type": "execute_result"
    }
   ],
   "source": [
    "pd.DataFrame(stu_details)"
   ]
  },
  {
   "cell_type": "code",
   "execution_count": 69,
   "metadata": {
    "id": "uaKgUJPS2vUy"
   },
   "outputs": [],
   "source": [
    "a = stu_details.fromkeys({'Name','Region'}, 'NA')"
   ]
  },
  {
   "cell_type": "code",
   "execution_count": 72,
   "metadata": {},
   "outputs": [
    {
     "data": {
      "text/plain": [
       "'NA'"
      ]
     },
     "execution_count": 72,
     "metadata": {},
     "output_type": "execute_result"
    }
   ],
   "source": [
    "a.pop('Name')"
   ]
  },
  {
   "cell_type": "code",
   "execution_count": 62,
   "metadata": {
    "id": "K5GbHWex2vUy",
    "outputId": "82b8bb11-49e6-4c5b-f20c-d7f83d25376e"
   },
   "outputs": [],
   "source": [
    "stu_details = {'Name': ['Rahul', 'Rohaan', 'John', 'James'],\n",
    " 'Stu_id': [1, 2, 3, 4],\n",
    " 'Region': ['S', 'N', 'E', 'NaN'],\n",
    " 'NM': ['Mitesh', 'Rohaan', 'John', 'James']}"
   ]
  },
  {
   "cell_type": "code",
   "execution_count": null,
   "metadata": {
    "id": "UsbPWeSI2vUy"
   },
   "outputs": [],
   "source": [
    "a['Region']=['S','N']"
   ]
  },
  {
   "cell_type": "code",
   "execution_count": null,
   "metadata": {
    "id": "FGl-7W6o2vUz",
    "outputId": "af2b8474-d2e0-4631-b9d0-563bd9d10f25"
   },
   "outputs": [
    {
     "data": {
      "text/plain": [
       "{'Region': ['S', 'N'], 'Name': 'NA'}"
      ]
     },
     "execution_count": 39,
     "metadata": {
      "tags": []
     },
     "output_type": "execute_result"
    }
   ],
   "source": [
    "a"
   ]
  },
  {
   "cell_type": "code",
   "execution_count": null,
   "metadata": {
    "id": "KjDyefyO2vUz",
    "outputId": "e66ccce7-5618-44b5-e714-e4cd6ca5a189"
   },
   "outputs": [
    {
     "data": {
      "text/plain": [
       "['Rahul', 'Rohaan', 'John', 'James']"
      ]
     },
     "execution_count": 41,
     "metadata": {
      "tags": []
     },
     "output_type": "execute_result"
    }
   ],
   "source": [
    "stu_details.get('Name')"
   ]
  },
  {
   "cell_type": "code",
   "execution_count": null,
   "metadata": {
    "id": "rcRKqxR52vUz",
    "outputId": "ccec628c-63cc-42ab-e04a-1743a979acb3"
   },
   "outputs": [
    {
     "data": {
      "text/plain": [
       "['Rahul', 'Rohaan', 'John', 'James']"
      ]
     },
     "execution_count": 42,
     "metadata": {
      "tags": []
     },
     "output_type": "execute_result"
    }
   ],
   "source": [
    "stu_details['Name']"
   ]
  },
  {
   "cell_type": "code",
   "execution_count": 49,
   "metadata": {
    "id": "5QtIXMTy2vU0",
    "outputId": "1aa9f680-ba9b-4dc6-a2fd-1d66b50cd0d0"
   },
   "outputs": [
    {
     "data": {
      "text/plain": [
       "dict_items([('Name', ['Rahul', 'Rohaan', 'John', 'James']), ('Stu_id', [1, 2, 3, 4]), ('Region', ['S', 'N', 'E', 'NaN'])])"
      ]
     },
     "execution_count": 49,
     "metadata": {},
     "output_type": "execute_result"
    }
   ],
   "source": [
    "stu_details.items()"
   ]
  },
  {
   "cell_type": "code",
   "execution_count": 58,
   "metadata": {
    "id": "R2R8mODs2vU0",
    "outputId": "098a158d-7773-4e60-99b9-de9ad9b05c35"
   },
   "outputs": [
    {
     "data": {
      "text/plain": [
       "{'Name': ['Rahul', 'Rohaan', 'John', 'James'],\n",
       " 'Stu_id': [1, 2, 3, 4],\n",
       " 'Country': ['S', 'N', 'E', 'NaN']}"
      ]
     },
     "execution_count": 58,
     "metadata": {},
     "output_type": "execute_result"
    }
   ],
   "source": [
    "stu_details"
   ]
  },
  {
   "cell_type": "code",
   "execution_count": 59,
   "metadata": {
    "id": "Pn20OKHP2vU0",
    "outputId": "5f88c287-efd2-4c17-bf55-c0a52bef17d7"
   },
   "outputs": [
    {
     "data": {
      "text/plain": [
       "dict_keys(['Name', 'Stu_id', 'Country'])"
      ]
     },
     "execution_count": 59,
     "metadata": {},
     "output_type": "execute_result"
    }
   ],
   "source": [
    "stu_details.keys()"
   ]
  },
  {
   "cell_type": "code",
   "execution_count": 60,
   "metadata": {
    "id": "I7aNqjzI2vU1",
    "outputId": "b1022b8b-e04f-448a-cf68-faae3d26ae3d"
   },
   "outputs": [
    {
     "data": {
      "text/plain": [
       "dict_values([['Rahul', 'Rohaan', 'John', 'James'], [1, 2, 3, 4], ['S', 'N', 'E', 'NaN']])"
      ]
     },
     "execution_count": 60,
     "metadata": {},
     "output_type": "execute_result"
    }
   ],
   "source": [
    "stu_details.values()"
   ]
  },
  {
   "cell_type": "code",
   "execution_count": 61,
   "metadata": {
    "id": "HBxVqn9b2vU1",
    "outputId": "fe08a056-38a8-4c89-b364-6c73fe88fafe"
   },
   "outputs": [
    {
     "data": {
      "text/plain": [
       "('Country', ['S', 'N', 'E', 'NaN'])"
      ]
     },
     "execution_count": 61,
     "metadata": {},
     "output_type": "execute_result"
    }
   ],
   "source": [
    "stu_details.popitem()"
   ]
  },
  {
   "cell_type": "code",
   "execution_count": 63,
   "metadata": {
    "id": "PiC4w2yE2vU1"
   },
   "outputs": [],
   "source": [
    "a = stu_details.pop('NM')"
   ]
  },
  {
   "cell_type": "code",
   "execution_count": 64,
   "metadata": {},
   "outputs": [
    {
     "data": {
      "text/plain": [
       "['Mitesh', 'Rohaan', 'John', 'James']"
      ]
     },
     "execution_count": 64,
     "metadata": {},
     "output_type": "execute_result"
    }
   ],
   "source": [
    "a"
   ]
  },
  {
   "cell_type": "code",
   "execution_count": null,
   "metadata": {},
   "outputs": [],
   "source": []
  },
  {
   "cell_type": "code",
   "execution_count": 52,
   "metadata": {
    "id": "5SKa2aqc2vU2"
   },
   "outputs": [],
   "source": [
    "stu_details['Country'] = stu_details.pop('Region')"
   ]
  },
  {
   "cell_type": "code",
   "execution_count": 55,
   "metadata": {
    "id": "uqT2t0Bw2vU2",
    "outputId": "2cda1359-ef7d-48e4-b336-4183382e2db6"
   },
   "outputs": [
    {
     "data": {
      "text/plain": [
       "{'Name': ['Rahul', 'Rohaan', 'John', 'James'],\n",
       " 'Stu_id': [1, 2, 3, 4],\n",
       " 'Country': ['S', 'N', 'E', 'NaN']}"
      ]
     },
     "execution_count": 55,
     "metadata": {},
     "output_type": "execute_result"
    }
   ],
   "source": [
    "stu_details"
   ]
  },
  {
   "cell_type": "code",
   "execution_count": 94,
   "metadata": {
    "id": "ltg1BcGt2vU2",
    "outputId": "e8c11dd4-d7ac-4c44-e950-02a4afd79fa0"
   },
   "outputs": [
    {
     "data": {
      "text/plain": [
       "('NM', ['Mitesh', 'Rohaan', 'John', 'James'])"
      ]
     },
     "execution_count": 94,
     "metadata": {},
     "output_type": "execute_result"
    }
   ],
   "source": [
    "stu_details.popitem()"
   ]
  },
  {
   "cell_type": "code",
   "execution_count": 65,
   "metadata": {
    "id": "eoykrbQd2vU3",
    "outputId": "0fd46ee2-fed8-42ea-e143-68fafd6c8d11"
   },
   "outputs": [
    {
     "data": {
      "text/plain": [
       "['Rahul', 'Rohaan', 'John', 'James']"
      ]
     },
     "execution_count": 65,
     "metadata": {},
     "output_type": "execute_result"
    }
   ],
   "source": [
    "l1=stu_details['Stu_id']\n",
    "l1\n",
    "l2=stu_details['Name']\n",
    "l2"
   ]
  },
  {
   "cell_type": "code",
   "execution_count": 66,
   "metadata": {},
   "outputs": [
    {
     "data": {
      "text/plain": [
       "{1: 'Rahul', 2: 'Rohaan', 3: 'John', 4: 'James'}"
      ]
     },
     "execution_count": 66,
     "metadata": {},
     "output_type": "execute_result"
    }
   ],
   "source": [
    "dic = dict(zip(l1,l2))\n",
    "dic"
   ]
  },
  {
   "cell_type": "code",
   "execution_count": 67,
   "metadata": {
    "id": "_KHGAOXL2vU3"
   },
   "outputs": [],
   "source": [
    "stu_details.setdefault('DOJ')"
   ]
  },
  {
   "cell_type": "code",
   "execution_count": 68,
   "metadata": {
    "id": "9mTVoPpL2vU3",
    "outputId": "795cf959-fb0e-4885-f6b1-7e28112e7d1e"
   },
   "outputs": [
    {
     "data": {
      "text/plain": [
       "{'Name': ['Rahul', 'Rohaan', 'John', 'James'],\n",
       " 'Stu_id': [1, 2, 3, 4],\n",
       " 'Region': ['S', 'N', 'E', 'NaN'],\n",
       " 'DOJ': None}"
      ]
     },
     "execution_count": 68,
     "metadata": {},
     "output_type": "execute_result"
    }
   ],
   "source": [
    "stu_details"
   ]
  },
  {
   "cell_type": "code",
   "execution_count": 102,
   "metadata": {
    "id": "HoWOh0NN2vU3"
   },
   "outputs": [],
   "source": [
    "dict1 = {1:2,5:9, 3:4}\n",
    "dict2 = {1:5, 7:8, 3:8}\n",
    "dict1.update(dict2)"
   ]
  },
  {
   "cell_type": "code",
   "execution_count": 103,
   "metadata": {
    "id": "wJPTqMkY2vU4",
    "outputId": "20877499-63f6-4211-b48d-db52f3df62ba"
   },
   "outputs": [
    {
     "data": {
      "text/plain": [
       "{1: 5, 5: 9, 3: 8, 7: 8}"
      ]
     },
     "execution_count": 103,
     "metadata": {},
     "output_type": "execute_result"
    }
   ],
   "source": [
    "dict1"
   ]
  },
  {
   "cell_type": "markdown",
   "metadata": {
    "id": "piMLpE1a2vU5"
   },
   "source": [
    "Sets"
   ]
  },
  {
   "cell_type": "code",
   "execution_count": 109,
   "metadata": {
    "id": "9BCBmmgP2vU5"
   },
   "outputs": [],
   "source": [
    "cust = {1,1,1,2,3,4,4,5,6,6,6,7}"
   ]
  },
  {
   "cell_type": "code",
   "execution_count": 110,
   "metadata": {
    "id": "fMZT7RBi2vU5",
    "outputId": "3f178bfb-3217-44f4-e532-827337bd09ff"
   },
   "outputs": [
    {
     "data": {
      "text/plain": [
       "{1, 2, 3, 4, 5, 6, 7}"
      ]
     },
     "execution_count": 110,
     "metadata": {},
     "output_type": "execute_result"
    }
   ],
   "source": [
    "set(cust)"
   ]
  },
  {
   "cell_type": "code",
   "execution_count": 107,
   "metadata": {},
   "outputs": [
    {
     "data": {
      "text/plain": [
       "{1, 2, 3, 4, 5}"
      ]
     },
     "execution_count": 107,
     "metadata": {},
     "output_type": "execute_result"
    }
   ],
   "source": [
    "set({1,1,2,3,4,5,5})"
   ]
  },
  {
   "cell_type": "code",
   "execution_count": null,
   "metadata": {
    "id": "Q3aRjVLH2vU6",
    "outputId": "4dc8a0f3-6ee6-4fd7-ca39-94fdbc5613b8"
   },
   "outputs": [
    {
     "data": {
      "text/plain": [
       "['False',\n",
       " 'None',\n",
       " 'True',\n",
       " 'and',\n",
       " 'as',\n",
       " 'assert',\n",
       " 'async',\n",
       " 'await',\n",
       " 'break',\n",
       " 'class',\n",
       " 'continue',\n",
       " 'def',\n",
       " 'del',\n",
       " 'elif',\n",
       " 'else',\n",
       " 'except',\n",
       " 'finally',\n",
       " 'for',\n",
       " 'from',\n",
       " 'global',\n",
       " 'if',\n",
       " 'import',\n",
       " 'in',\n",
       " 'is',\n",
       " 'lambda',\n",
       " 'nonlocal',\n",
       " 'not',\n",
       " 'or',\n",
       " 'pass',\n",
       " 'raise',\n",
       " 'return',\n",
       " 'try',\n",
       " 'while',\n",
       " 'with',\n",
       " 'yield']"
      ]
     },
     "execution_count": 75,
     "metadata": {
      "tags": []
     },
     "output_type": "execute_result"
    }
   ],
   "source": [
    "import keyword\n",
    "keyword.kwlist"
   ]
  },
  {
   "cell_type": "code",
   "execution_count": 100,
   "metadata": {
    "id": "lRjm2Q9h2vU6",
    "outputId": "9384c37f-7d5d-445d-b768-7ed9b6e4d921"
   },
   "outputs": [
    {
     "data": {
      "text/plain": [
       "[1, 2, 3, 4, 5, 6, 7]"
      ]
     },
     "execution_count": 100,
     "metadata": {},
     "output_type": "execute_result"
    }
   ],
   "source": [
    "set1 = {1,1,1,2,3,4,4,5,6,6,6,7}\n",
    "list(set1)"
   ]
  },
  {
   "cell_type": "code",
   "execution_count": 103,
   "metadata": {
    "id": "-9geZWS82vU7"
   },
   "outputs": [],
   "source": [
    "set1.add(12)"
   ]
  },
  {
   "cell_type": "code",
   "execution_count": 109,
   "metadata": {
    "id": "xuaxjmWZ2vU7",
    "outputId": "44bf9eb9-8f17-474a-fa2e-d812f8a77663"
   },
   "outputs": [
    {
     "data": {
      "text/plain": [
       "{1, 2, 3}"
      ]
     },
     "execution_count": 109,
     "metadata": {},
     "output_type": "execute_result"
    }
   ],
   "source": [
    "set1"
   ]
  },
  {
   "cell_type": "code",
   "execution_count": 86,
   "metadata": {},
   "outputs": [],
   "source": [
    "set2=set1.copy()"
   ]
  },
  {
   "cell_type": "code",
   "execution_count": 89,
   "metadata": {},
   "outputs": [
    {
     "data": {
      "text/plain": [
       "3"
      ]
     },
     "execution_count": 89,
     "metadata": {},
     "output_type": "execute_result"
    }
   ],
   "source": [
    "set2.pop()"
   ]
  },
  {
   "cell_type": "code",
   "execution_count": 105,
   "metadata": {},
   "outputs": [
    {
     "data": {
      "text/plain": [
       "{4, 5, 6, 7, 12}"
      ]
     },
     "execution_count": 105,
     "metadata": {},
     "output_type": "execute_result"
    }
   ],
   "source": [
    "set2"
   ]
  },
  {
   "cell_type": "code",
   "execution_count": 106,
   "metadata": {},
   "outputs": [
    {
     "data": {
      "text/plain": [
       "{1, 2, 3}"
      ]
     },
     "execution_count": 106,
     "metadata": {},
     "output_type": "execute_result"
    }
   ],
   "source": [
    "set1.difference(set2)"
   ]
  },
  {
   "cell_type": "code",
   "execution_count": 108,
   "metadata": {},
   "outputs": [],
   "source": [
    "set1.difference_update(set2)"
   ]
  },
  {
   "cell_type": "code",
   "execution_count": 114,
   "metadata": {},
   "outputs": [],
   "source": [
    "set2.discard(4)"
   ]
  },
  {
   "cell_type": "code",
   "execution_count": 115,
   "metadata": {},
   "outputs": [],
   "source": [
    "set2.remove(5)"
   ]
  },
  {
   "cell_type": "code",
   "execution_count": 83,
   "metadata": {
    "id": "UQ7KOuM22vU7"
   },
   "outputs": [],
   "source": [
    "a=set()"
   ]
  },
  {
   "cell_type": "code",
   "execution_count": 84,
   "metadata": {
    "id": "bRFlv-0m2vU8",
    "outputId": "838def1e-5f78-455f-e2cb-b4bb089f741d"
   },
   "outputs": [
    {
     "data": {
      "text/plain": [
       "set"
      ]
     },
     "execution_count": 84,
     "metadata": {},
     "output_type": "execute_result"
    }
   ],
   "source": [
    "type(a)\n"
   ]
  },
  {
   "cell_type": "code",
   "execution_count": 116,
   "metadata": {
    "id": "QReysqBd2vU8"
   },
   "outputs": [
    {
     "data": {
      "text/plain": [
       "{}"
      ]
     },
     "execution_count": 116,
     "metadata": {},
     "output_type": "execute_result"
    }
   ],
   "source": [
    "c ={}\n",
    "c"
   ]
  },
  {
   "cell_type": "code",
   "execution_count": 117,
   "metadata": {
    "id": "rBVRU0jD2vU8",
    "outputId": "5d402bd2-4b13-46c9-b71a-11e365364862"
   },
   "outputs": [
    {
     "data": {
      "text/plain": [
       "dict"
      ]
     },
     "execution_count": 117,
     "metadata": {},
     "output_type": "execute_result"
    }
   ],
   "source": [
    "type(c)"
   ]
  },
  {
   "cell_type": "code",
   "execution_count": 118,
   "metadata": {
    "id": "OxkjzJoZ2vU9"
   },
   "outputs": [],
   "source": [
    "cust_id.add((10,20,20))"
   ]
  },
  {
   "cell_type": "code",
   "execution_count": 79,
   "metadata": {
    "id": "_iAqFTVA2vU9"
   },
   "outputs": [],
   "source": [
    "\n",
    "cust_id = {4, 5, 6, 7, 10, 11, 12, 20, 30, 40}"
   ]
  },
  {
   "cell_type": "code",
   "execution_count": 121,
   "metadata": {},
   "outputs": [
    {
     "data": {
      "text/plain": [
       "{4, 5, 6, 7, 10, 11, 12, 20, 30, 40}"
      ]
     },
     "execution_count": 121,
     "metadata": {},
     "output_type": "execute_result"
    }
   ],
   "source": [
    "cust_id"
   ]
  },
  {
   "cell_type": "code",
   "execution_count": 120,
   "metadata": {},
   "outputs": [],
   "source": [
    "cust_id.discard((10,20,20))"
   ]
  },
  {
   "cell_type": "code",
   "execution_count": 123,
   "metadata": {
    "id": "UGve-5Mt2vU-",
    "outputId": "005500f5-57fb-43c9-aa1a-6ea3a038a99a"
   },
   "outputs": [],
   "source": [
    "cust_id.remove(4)"
   ]
  },
  {
   "cell_type": "code",
   "execution_count": 124,
   "metadata": {
    "id": "0lLW2Xtb2vU-",
    "outputId": "137465ea-ca16-49bf-c9f0-7d42b5df5ac7"
   },
   "outputs": [
    {
     "data": {
      "text/plain": [
       "5"
      ]
     },
     "execution_count": 124,
     "metadata": {},
     "output_type": "execute_result"
    }
   ],
   "source": [
    "cust_id.pop()"
   ]
  },
  {
   "cell_type": "code",
   "execution_count": 125,
   "metadata": {
    "id": "CVapiZQS2vU-"
   },
   "outputs": [],
   "source": [
    "cust_id.update([10,20,30,40,40])"
   ]
  },
  {
   "cell_type": "code",
   "execution_count": 126,
   "metadata": {
    "id": "SNmkhDOu2vU_"
   },
   "outputs": [],
   "source": [
    "set1 = {1,2,3,4}\n",
    "set2 = {4,5,6}"
   ]
  },
  {
   "cell_type": "code",
   "execution_count": null,
   "metadata": {
    "id": "XO9pXcBS2vU_",
    "outputId": "c7520204-85a0-410e-ca5a-3d34f3de1919"
   },
   "outputs": [
    {
     "data": {
      "text/plain": [
       "{1, 2, 3}"
      ]
     },
     "execution_count": 151,
     "metadata": {
      "tags": []
     },
     "output_type": "execute_result"
    }
   ],
   "source": [
    "set1.difference(set2)"
   ]
  },
  {
   "cell_type": "code",
   "execution_count": null,
   "metadata": {
    "id": "rgVjKPxv2vU_",
    "outputId": "d93e2b83-e148-491a-c0c1-30dee4cc522d"
   },
   "outputs": [
    {
     "data": {
      "text/plain": [
       "{5, 6}"
      ]
     },
     "execution_count": 144,
     "metadata": {
      "tags": []
     },
     "output_type": "execute_result"
    }
   ],
   "source": [
    "set2.difference(set1)"
   ]
  },
  {
   "cell_type": "code",
   "execution_count": 141,
   "metadata": {
    "id": "PQY2_IJX2vVA"
   },
   "outputs": [],
   "source": [
    "set1.difference_update(set2)\n"
   ]
  },
  {
   "cell_type": "code",
   "execution_count": 127,
   "metadata": {
    "id": "EvwOWpxN2vVA"
   },
   "outputs": [],
   "source": [
    "set1 = {1,2,3,4,5}\n",
    "set2 = {5,6}"
   ]
  },
  {
   "cell_type": "code",
   "execution_count": 128,
   "metadata": {
    "id": "620bQrLA2vVA",
    "outputId": "02e4fc10-2ec6-4df8-9abf-21f4eb6d3453"
   },
   "outputs": [
    {
     "data": {
      "text/plain": [
       "{1, 2, 3, 4, 5}"
      ]
     },
     "execution_count": 128,
     "metadata": {},
     "output_type": "execute_result"
    }
   ],
   "source": [
    "set1"
   ]
  },
  {
   "cell_type": "code",
   "execution_count": 130,
   "metadata": {
    "id": "69nL4RKv2vVB",
    "outputId": "9081a3f3-8173-4d8c-d4c2-0fabef8f8e72"
   },
   "outputs": [
    {
     "data": {
      "text/plain": [
       "{5, 6}"
      ]
     },
     "execution_count": 130,
     "metadata": {},
     "output_type": "execute_result"
    }
   ],
   "source": [
    "set2"
   ]
  },
  {
   "cell_type": "code",
   "execution_count": 131,
   "metadata": {
    "id": "lx8h5itw2vVB",
    "outputId": "e7c85b39-4c44-4693-aeda-8e07ea391e51"
   },
   "outputs": [
    {
     "data": {
      "text/plain": [
       "{5}"
      ]
     },
     "execution_count": 131,
     "metadata": {},
     "output_type": "execute_result"
    }
   ],
   "source": [
    "set1.intersection(set2)"
   ]
  },
  {
   "cell_type": "code",
   "execution_count": 132,
   "metadata": {
    "id": "jvDxz5vg2vVC"
   },
   "outputs": [],
   "source": [
    "set1.intersection_update(set2)"
   ]
  },
  {
   "cell_type": "code",
   "execution_count": 133,
   "metadata": {
    "id": "o-oCRPqy2vVC",
    "outputId": "0fd075b5-9e42-4e61-c66e-b76045371a81"
   },
   "outputs": [
    {
     "data": {
      "text/plain": [
       "{5}"
      ]
     },
     "execution_count": 133,
     "metadata": {},
     "output_type": "execute_result"
    }
   ],
   "source": [
    "set1"
   ]
  },
  {
   "cell_type": "code",
   "execution_count": 134,
   "metadata": {
    "id": "80tcRh6n2vVG"
   },
   "outputs": [],
   "source": [
    "set1 = {1,2,3,4,5,6,7}\n",
    "set2 = {8,9}\n",
    "set3 = {4,5} "
   ]
  },
  {
   "cell_type": "code",
   "execution_count": 135,
   "metadata": {
    "id": "VpTH6hbU2vVG",
    "outputId": "882d4205-d444-46ad-bf5d-37b8e3e3ba8a"
   },
   "outputs": [
    {
     "data": {
      "text/plain": [
       "True"
      ]
     },
     "execution_count": 135,
     "metadata": {},
     "output_type": "execute_result"
    }
   ],
   "source": [
    "set1.isdisjoint(set2)"
   ]
  },
  {
   "cell_type": "code",
   "execution_count": 136,
   "metadata": {
    "id": "IGvgKI-z2vVG",
    "outputId": "8df27320-b417-4aaa-9ab1-b702befaa460"
   },
   "outputs": [
    {
     "data": {
      "text/plain": [
       "False"
      ]
     },
     "execution_count": 136,
     "metadata": {},
     "output_type": "execute_result"
    }
   ],
   "source": [
    "set1.isdisjoint(set3)"
   ]
  },
  {
   "cell_type": "code",
   "execution_count": null,
   "metadata": {
    "id": "H87HImuf2vVH",
    "outputId": "ebea17b7-fb66-4b09-e399-38b1b7d91973"
   },
   "outputs": [
    {
     "data": {
      "text/plain": [
       "False"
      ]
     },
     "execution_count": 161,
     "metadata": {
      "tags": []
     },
     "output_type": "execute_result"
    }
   ],
   "source": [
    "set1.issubset(set2)"
   ]
  },
  {
   "cell_type": "code",
   "execution_count": 137,
   "metadata": {
    "id": "BEvbC8Sn2vVH",
    "outputId": "66a2b590-66b9-4a6d-b990-71caab3a9e36"
   },
   "outputs": [
    {
     "data": {
      "text/plain": [
       "True"
      ]
     },
     "execution_count": 137,
     "metadata": {},
     "output_type": "execute_result"
    }
   ],
   "source": [
    "set3.issubset(set1)"
   ]
  },
  {
   "cell_type": "code",
   "execution_count": 138,
   "metadata": {
    "id": "BLpZkrfb2vVI",
    "outputId": "de66624b-9292-4602-f252-90e4552a99d9",
    "scrolled": true
   },
   "outputs": [
    {
     "data": {
      "text/plain": [
       "True"
      ]
     },
     "execution_count": 138,
     "metadata": {},
     "output_type": "execute_result"
    }
   ],
   "source": [
    "set1.issuperset(set3)"
   ]
  },
  {
   "cell_type": "code",
   "execution_count": 141,
   "metadata": {
    "scrolled": true
   },
   "outputs": [
    {
     "data": {
      "text/plain": [
       "{1, 2, 3, 4, 5, 6, 7, 8, 9}"
      ]
     },
     "execution_count": 141,
     "metadata": {},
     "output_type": "execute_result"
    }
   ],
   "source": [
    "set1.symmetric_difference(set2)"
   ]
  },
  {
   "cell_type": "code",
   "execution_count": 142,
   "metadata": {
    "scrolled": true
   },
   "outputs": [
    {
     "data": {
      "text/plain": [
       "{1, 2, 3, 4, 5, 6, 7, 8, 9}"
      ]
     },
     "execution_count": 142,
     "metadata": {},
     "output_type": "execute_result"
    }
   ],
   "source": [
    "set1.union(set2)"
   ]
  },
  {
   "cell_type": "code",
   "execution_count": 143,
   "metadata": {},
   "outputs": [
    {
     "data": {
      "text/plain": [
       "True"
      ]
     },
     "execution_count": 143,
     "metadata": {},
     "output_type": "execute_result"
    }
   ],
   "source": [
    "set1.isdisjoint(set2)"
   ]
  },
  {
   "cell_type": "code",
   "execution_count": 144,
   "metadata": {},
   "outputs": [
    {
     "data": {
      "text/plain": [
       "{1, 2, 3, 4, 5, 6, 7}"
      ]
     },
     "execution_count": 144,
     "metadata": {},
     "output_type": "execute_result"
    }
   ],
   "source": [
    "set1"
   ]
  },
  {
   "cell_type": "code",
   "execution_count": 145,
   "metadata": {},
   "outputs": [
    {
     "data": {
      "text/plain": [
       "{8, 9}"
      ]
     },
     "execution_count": 145,
     "metadata": {},
     "output_type": "execute_result"
    }
   ],
   "source": [
    "set2."
   ]
  },
  {
   "cell_type": "code",
   "execution_count": 139,
   "metadata": {
    "id": "ABncYPSp2vVI"
   },
   "outputs": [],
   "source": [
    "s = {10,20,30,30,40}"
   ]
  },
  {
   "cell_type": "code",
   "execution_count": 140,
   "metadata": {
    "id": "5mzra43R2vVI"
   },
   "outputs": [],
   "source": [
    "fs = frozenset(s)"
   ]
  },
  {
   "cell_type": "code",
   "execution_count": null,
   "metadata": {
    "id": "yUKQpB572vVJ"
   },
   "outputs": [],
   "source": [
    "#Frozenset is immutable\n",
    "#Sets are mutable"
   ]
  },
  {
   "cell_type": "markdown",
   "metadata": {
    "id": "IDYTof7C2vVJ"
   },
   "source": [
    "Range"
   ]
  },
  {
   "cell_type": "code",
   "execution_count": 2,
   "metadata": {
    "id": "_3q_jBgP2vVJ",
    "outputId": "2bc7d1d9-e065-475b-89d4-fcbeb5402003"
   },
   "outputs": [
    {
     "data": {
      "text/plain": [
       "[0, 1, 2, 3, 4, 5, 6, 7, 8, 9]"
      ]
     },
     "execution_count": 2,
     "metadata": {},
     "output_type": "execute_result"
    }
   ],
   "source": [
    "list(range(0,10))"
   ]
  },
  {
   "cell_type": "code",
   "execution_count": 3,
   "metadata": {
    "id": "mhD4xq392vVJ",
    "outputId": "ebb9f09c-24fc-4335-a6e9-0e57d1bbfe8e"
   },
   "outputs": [
    {
     "data": {
      "text/plain": [
       "[0, 1, 2, 3, 4, 5, 6, 7, 8, 9]"
      ]
     },
     "execution_count": 3,
     "metadata": {},
     "output_type": "execute_result"
    }
   ],
   "source": [
    "list(range(10))"
   ]
  },
  {
   "cell_type": "code",
   "execution_count": null,
   "metadata": {
    "id": "_OU8wpgI2vVK",
    "outputId": "67f85518-6a9a-4fc1-cad2-96a0ce93ca12"
   },
   "outputs": [
    {
     "data": {
      "text/plain": [
       "[5, 6, 7, 8, 9]"
      ]
     },
     "execution_count": 171,
     "metadata": {
      "tags": []
     },
     "output_type": "execute_result"
    }
   ],
   "source": [
    "list(range(5,10))"
   ]
  },
  {
   "cell_type": "code",
   "execution_count": 150,
   "metadata": {
    "id": "E4p60cIU2vVK",
    "outputId": "183677a3-aa06-4dfb-90b7-b32670e76690"
   },
   "outputs": [],
   "source": [
    "#list(range(5.5,10.5))"
   ]
  },
  {
   "cell_type": "code",
   "execution_count": null,
   "metadata": {
    "id": "sRMbT6Jy2vVK",
    "outputId": "c0ec9b27-6878-41d1-f8b9-66e98b4fa4b8"
   },
   "outputs": [
    {
     "data": {
      "text/plain": [
       "[0, 5, 10, 15]"
      ]
     },
     "execution_count": 173,
     "metadata": {
      "tags": []
     },
     "output_type": "execute_result"
    }
   ],
   "source": [
    "list(range(0,20, 5))"
   ]
  },
  {
   "cell_type": "code",
   "execution_count": null,
   "metadata": {
    "id": "f7gbjdK62vVL",
    "outputId": "91c6712e-6d7c-4864-e152-b57448dfd847"
   },
   "outputs": [
    {
     "data": {
      "text/plain": [
       "[10, 9, 8, 7, 6]"
      ]
     },
     "execution_count": 175,
     "metadata": {
      "tags": []
     },
     "output_type": "execute_result"
    }
   ],
   "source": [
    "list(range(10,5,-1))"
   ]
  },
  {
   "cell_type": "code",
   "execution_count": null,
   "metadata": {
    "id": "1CBp_LzY2vVL",
    "outputId": "e944d63e-c9bb-4175-ff9b-dcba85b0e4af"
   },
   "outputs": [
    {
     "data": {
      "text/plain": [
       "range"
      ]
     },
     "execution_count": 177,
     "metadata": {
      "tags": []
     },
     "output_type": "execute_result"
    }
   ],
   "source": [
    "type(range(0,10))"
   ]
  },
  {
   "cell_type": "markdown",
   "metadata": {
    "id": "p1eNEf_K2vVL"
   },
   "source": [
    "NoneType"
   ]
  },
  {
   "cell_type": "code",
   "execution_count": null,
   "metadata": {
    "id": "AYe-K3js2vVL"
   },
   "outputs": [],
   "source": [
    "a = None"
   ]
  },
  {
   "cell_type": "code",
   "execution_count": null,
   "metadata": {
    "id": "8k6mnPCn2vVM",
    "outputId": "c0d72e62-4268-403c-923c-985f5ac2e900"
   },
   "outputs": [
    {
     "data": {
      "text/plain": [
       "NoneType"
      ]
     },
     "execution_count": 179,
     "metadata": {
      "tags": []
     },
     "output_type": "execute_result"
    }
   ],
   "source": [
    "type(a)"
   ]
  },
  {
   "cell_type": "markdown",
   "metadata": {
    "id": "P3TLR4ZH2vVM"
   },
   "source": [
    "Operators in Python"
   ]
  },
  {
   "cell_type": "code",
   "execution_count": null,
   "metadata": {
    "id": "fTsSDYqw2vVM"
   },
   "outputs": [],
   "source": [
    "#Arithmatic \n",
    "#Relational or Comparision\n",
    "#Logical \n",
    "#Equality\n",
    "#Assignment \n",
    "#Special"
   ]
  },
  {
   "cell_type": "code",
   "execution_count": null,
   "metadata": {
    "id": "gn7wuRfL2vVM"
   },
   "outputs": [],
   "source": [
    "#Arithmatic Operators \n",
    "    #+ - Addition \n",
    "    #- - Subtraction\n",
    "    #* - Multiplication\n",
    "    #/ - Division - Result will always be float\n",
    "    #% - Modulo\n",
    "    #// - Floor Division - It will return either int or float. \n",
    "        #If the arguemet is int type then int else float\n",
    "    #** - Power"
   ]
  },
  {
   "cell_type": "code",
   "execution_count": null,
   "metadata": {
    "id": "N1rbeCdn2vVN",
    "outputId": "cd36c46f-be62-422f-e43f-0d610552b5fa"
   },
   "outputs": [
    {
     "name": "stdout",
     "output_type": "stream",
     "text": [
      "a+b: 13\n",
      "a-b: 7\n",
      "a*b: 30\n",
      "a/b: 3.3333333333333335\n",
      "a%b: 1\n",
      "a//b: 3\n",
      "a**b: 1000\n"
     ]
    }
   ],
   "source": [
    "a=10\n",
    "b=3\n",
    "print('a+b:', a+b)\n",
    "print('a-b:', a-b)\n",
    "print('a*b:', a*b)\n",
    "print('a/b:', a/b)\n",
    "print('a%b:', a%b)\n",
    "print('a//b:', a//b)\n",
    "print('a**b:', a**b)"
   ]
  },
  {
   "cell_type": "code",
   "execution_count": null,
   "metadata": {
    "id": "G8DvwEWW2vVN",
    "outputId": "c2372326-7f37-4b1a-c851-0a806d256501"
   },
   "outputs": [
    {
     "data": {
      "text/plain": [
       "'Rahul3'"
      ]
     },
     "execution_count": 197,
     "metadata": {
      "tags": []
     },
     "output_type": "execute_result"
    }
   ],
   "source": [
    "'Rahul'+ str(3)"
   ]
  },
  {
   "cell_type": "code",
   "execution_count": null,
   "metadata": {
    "id": "pxBMd1Zs2vVO",
    "outputId": "27c8740a-6902-43d7-a870-14d45f4ad46b"
   },
   "outputs": [
    {
     "name": "stdout",
     "output_type": "stream",
     "text": [
      "a<b: True\n",
      "a<=b: True\n",
      "a>b: False\n",
      "a>=b: False\n"
     ]
    }
   ],
   "source": [
    "#Relational Operator \n",
    "a = 10\n",
    "b = 20\n",
    "#>\n",
    "#<\n",
    "#>=\n",
    "#<=\n",
    "print('a<b:', a<b)\n",
    "print('a<=b:', a<=b)\n",
    "print('a>b:', a>b)\n",
    "print('a>=b:', a>=b)"
   ]
  },
  {
   "cell_type": "code",
   "execution_count": null,
   "metadata": {
    "id": "FC_BRKfH2vVO",
    "outputId": "f7a7dd00-5639-4f31-8db8-0284393842e9"
   },
   "outputs": [
    {
     "data": {
      "text/plain": [
       "False"
      ]
     },
     "execution_count": 200,
     "metadata": {
      "tags": []
     },
     "output_type": "execute_result"
    }
   ],
   "source": [
    "#Equality operator \n",
    "#==\n",
    "#!=\n",
    "a = 10\n",
    "b = 10\n",
    "a==b\n",
    "a!=b"
   ]
  },
  {
   "cell_type": "code",
   "execution_count": 148,
   "metadata": {
    "id": "pbdms6e82vVO",
    "outputId": "0d490ca6-2ccd-4f25-e888-28f96c0bc927"
   },
   "outputs": [
    {
     "data": {
      "text/plain": [
       "True"
      ]
     },
     "execution_count": 148,
     "metadata": {},
     "output_type": "execute_result"
    }
   ],
   "source": [
    "10 == int('10')"
   ]
  },
  {
   "cell_type": "code",
   "execution_count": 147,
   "metadata": {
    "id": "BS3kIb392vVP",
    "outputId": "3e06c994-ebe0-464e-f227-d26ac9b627dc"
   },
   "outputs": [
    {
     "data": {
      "text/plain": [
       "False"
      ]
     },
     "execution_count": 147,
     "metadata": {},
     "output_type": "execute_result"
    }
   ],
   "source": [
    "#Logical Operator \n",
    "#and -> If all the arguemnts are true then true \n",
    "#or -> Atleast one should true \n",
    "#not\n",
    "True and True\n",
    "True and False\n",
    "True or True\n",
    "True or False\n",
    "not True"
   ]
  },
  {
   "cell_type": "code",
   "execution_count": 146,
   "metadata": {
    "id": "2OGHIeCL2vVP",
    "outputId": "211b3f14-a6e1-4d2e-b675-761edb56e70d"
   },
   "outputs": [
    {
     "name": "stdout",
     "output_type": "stream",
     "text": [
      "0\n",
      "0\n",
      "20\n",
      "20\n"
     ]
    },
    {
     "data": {
      "text/plain": [
       "True"
      ]
     },
     "execution_count": 146,
     "metadata": {},
     "output_type": "execute_result"
    }
   ],
   "source": [
    "x = 0\n",
    "y = 20\n",
    "print(x and y)\n",
    "print(y and x)\n",
    "print(x or y)\n",
    "print(y or x)\n",
    "not x"
   ]
  },
  {
   "cell_type": "code",
   "execution_count": null,
   "metadata": {
    "id": "sfD-B3y72vVQ",
    "outputId": "64396c2a-1e49-4c19-e5d5-ad01be2a671f"
   },
   "outputs": [
    {
     "data": {
      "text/plain": [
       "0"
      ]
     },
     "execution_count": 211,
     "metadata": {
      "tags": []
     },
     "output_type": "execute_result"
    }
   ],
   "source": [
    "int(False)"
   ]
  },
  {
   "cell_type": "code",
   "execution_count": null,
   "metadata": {
    "id": "8da7Ty9K2vVQ",
    "outputId": "077d70a1-229e-45c8-c081-af9e231320f7"
   },
   "outputs": [
    {
     "data": {
      "text/plain": [
       "40"
      ]
     },
     "execution_count": 219,
     "metadata": {
      "tags": []
     },
     "output_type": "execute_result"
    }
   ],
   "source": [
    "#Ternary Operator \n",
    "x = 30 if 10>20 else 40\n",
    "x"
   ]
  },
  {
   "cell_type": "code",
   "execution_count": 151,
   "metadata": {
    "id": "Pu5y0r5v2vVR",
    "outputId": "9caa8fe8-bac0-48cd-b08d-6cd34abcb244"
   },
   "outputs": [
    {
     "name": "stdout",
     "output_type": "stream",
     "text": [
      "Enter the first no1\n",
      "Enter the second no2\n",
      "Enter the Third no3\n",
      "3\n"
     ]
    }
   ],
   "source": [
    "a = int(input('Enter the first no'))\n",
    "b = int(input('Enter the second no'))\n",
    "c = int(input('Enter the Third no'))\n",
    "\n",
    "x = a if a>b>c else b if b>c else c\n",
    "print(x)"
   ]
  },
  {
   "cell_type": "code",
   "execution_count": 154,
   "metadata": {},
   "outputs": [
    {
     "name": "stdout",
     "output_type": "stream",
     "text": [
      "Enter the first no89\n",
      "Enter the second no76\n",
      "Enter the Third no898789\n",
      "76\n"
     ]
    }
   ],
   "source": [
    "a = int(input('Enter the first no'))\n",
    "b = int(input('Enter the second no'))\n",
    "c = int(input('Enter the Third no'))\n",
    "\n",
    "x = a if a>b>c else b if c>a else c\n",
    "print(x)"
   ]
  },
  {
   "cell_type": "code",
   "execution_count": null,
   "metadata": {
    "id": "WWAHYY0L2vVR",
    "outputId": "328a5176-abda-48a0-9bb3-659d61ccfaec"
   },
   "outputs": [
    {
     "name": "stdout",
     "output_type": "stream",
     "text": [
      "Enter the first no7\n",
      "Enter the second no4\n",
      "Enter the Third no5\n",
      "7\n"
     ]
    }
   ],
   "source": [
    "a = int(input('Enter the first no'))\n",
    "b = int(input('Enter the second no'))\n",
    "c = int(input('Enter the Third no'))\n",
    "\n",
    "x = a if a>=b and a>=c else b if b>=c else c\n",
    "print(x)"
   ]
  },
  {
   "cell_type": "code",
   "execution_count": null,
   "metadata": {
    "id": "hpYUxHvX2vVS",
    "outputId": "dde9a881-4d77-4d7e-b252-121341af48eb"
   },
   "outputs": [
    {
     "data": {
      "text/plain": [
       "90"
      ]
     },
     "execution_count": 224,
     "metadata": {
      "tags": []
     },
     "output_type": "execute_result"
    }
   ],
   "source": [
    "#Compound Assignment operator \n",
    "#+=\n",
    "#-=\n",
    "#*=\n",
    "#/=\n",
    "#%=\n",
    "#//=\n",
    "x = 100\n",
    "x +=10\n",
    "x\n",
    "x-=20\n",
    "x"
   ]
  },
  {
   "cell_type": "code",
   "execution_count": null,
   "metadata": {
    "id": "R3DZYoAn2vVS"
   },
   "outputs": [],
   "source": [
    "#Special Operators \n",
    "    #Identity Operators\n",
    "        #is\n",
    "        #is not\n",
    "    #Membership operators \n",
    "        #in \n",
    "        #not in"
   ]
  },
  {
   "cell_type": "code",
   "execution_count": 153,
   "metadata": {
    "id": "gKXqZKpJ2vVS",
    "outputId": "78166e30-8cc9-4561-bffa-99aa87df9c23"
   },
   "outputs": [
    {
     "name": "stdout",
     "output_type": "stream",
     "text": [
      "140733583992896\n",
      "140733583992896\n",
      "True\n"
     ]
    }
   ],
   "source": [
    "a = 10 \n",
    "b = 10\n",
    "print(id(a))\n",
    "print(id(b))\n",
    "print(a is b)"
   ]
  },
  {
   "cell_type": "code",
   "execution_count": 155,
   "metadata": {
    "id": "Vgkhjsw62vVS",
    "outputId": "1a828c60-a7a7-470d-f181-2637e4d9e25b"
   },
   "outputs": [
    {
     "name": "stdout",
     "output_type": "stream",
     "text": [
      "False\n"
     ]
    }
   ],
   "source": [
    "a=257\n",
    "b =257\n",
    "# print(id(a))\n",
    "# print(id(b))\n",
    "print(a is b)"
   ]
  },
  {
   "cell_type": "code",
   "execution_count": null,
   "metadata": {
    "id": "_FUZjtwl2vVT",
    "outputId": "ad0b6530-a481-4139-f6b9-583c7a7c30f3"
   },
   "outputs": [
    {
     "name": "stdout",
     "output_type": "stream",
     "text": [
      "2693742972552\n",
      "2693742933448\n",
      "False\n"
     ]
    },
    {
     "data": {
      "text/plain": [
       "True"
      ]
     },
     "execution_count": 234,
     "metadata": {
      "tags": []
     },
     "output_type": "execute_result"
    }
   ],
   "source": [
    "list1 = [10,20,30,40]\n",
    "list2 = [10,20,30,40]\n",
    "print(id(list1))\n",
    "print(id(list2))\n",
    "print(list1 is list2)\n",
    "list1 == list2"
   ]
  },
  {
   "cell_type": "code",
   "execution_count": 156,
   "metadata": {
    "id": "-R1Ddevj2vVT"
   },
   "outputs": [
    {
     "data": {
      "text/plain": [
       "False"
      ]
     },
     "execution_count": 156,
     "metadata": {},
     "output_type": "execute_result"
    }
   ],
   "source": [
    "a=10\n",
    "a==b"
   ]
  },
  {
   "cell_type": "code",
   "execution_count": 157,
   "metadata": {
    "id": "aE2HqrWN2vVT",
    "outputId": "b87fe4bf-2613-43a1-8308-3fa23b889756"
   },
   "outputs": [
    {
     "data": {
      "text/plain": [
       "True"
      ]
     },
     "execution_count": 157,
     "metadata": {},
     "output_type": "execute_result"
    }
   ],
   "source": [
    "a = 'Hello'\n",
    "'l' in a"
   ]
  },
  {
   "cell_type": "markdown",
   "metadata": {
    "id": "3S3ytVKz2vVU"
   },
   "source": [
    "# Class 3 - Input and Output + Flow control"
   ]
  },
  {
   "cell_type": "code",
   "execution_count": null,
   "metadata": {
    "id": "QWm6iDen2vVU",
    "outputId": "d3b7f866-37ff-47d1-dbbf-892affc205c4"
   },
   "outputs": [
    {
     "name": "stdout",
     "output_type": "stream",
     "text": [
      "Enter your age34\n"
     ]
    }
   ],
   "source": [
    "a = input('Enter your age')"
   ]
  },
  {
   "cell_type": "code",
   "execution_count": null,
   "metadata": {
    "id": "rt7y8cg82vVU",
    "outputId": "311d3c52-bf83-4fbb-c0b8-bc2a63d04c98"
   },
   "outputs": [
    {
     "data": {
      "text/plain": [
       "str"
      ]
     },
     "execution_count": 2,
     "metadata": {
      "tags": []
     },
     "output_type": "execute_result"
    }
   ],
   "source": [
    "type(a)"
   ]
  },
  {
   "cell_type": "code",
   "execution_count": null,
   "metadata": {
    "id": "dyhGRqG32vVU",
    "outputId": "cbed6934-d22b-498c-c46e-9be58203fad4"
   },
   "outputs": [
    {
     "name": "stdout",
     "output_type": "stream",
     "text": [
      "Enter your age34\n"
     ]
    }
   ],
   "source": [
    "a = int(input('Enter your age'))"
   ]
  },
  {
   "cell_type": "code",
   "execution_count": null,
   "metadata": {
    "id": "IYmH-h412vVV",
    "outputId": "4e66ecc7-7211-45bc-955b-93b7d138fa55"
   },
   "outputs": [
    {
     "data": {
      "text/plain": [
       "int"
      ]
     },
     "execution_count": 4,
     "metadata": {
      "tags": []
     },
     "output_type": "execute_result"
    }
   ],
   "source": [
    "type(a)"
   ]
  },
  {
   "cell_type": "code",
   "execution_count": null,
   "metadata": {
    "id": "l4G6hlt-2vVX",
    "outputId": "d7c32d1f-4816-48f3-be9d-a5a59f3454b7"
   },
   "outputs": [
    {
     "name": "stdout",
     "output_type": "stream",
     "text": [
      "Enter first number34\n",
      "Enter second number23\n",
      "57\n"
     ]
    }
   ],
   "source": [
    "a = input('Enter first number')\n",
    "b = input('Enter second number')\n",
    "i = int(a)\n",
    "j = int(b)\n",
    "print(i + j)"
   ]
  },
  {
   "cell_type": "code",
   "execution_count": null,
   "metadata": {
    "id": "iwAHfy-A2vVY",
    "outputId": "9bc32560-2353-415f-caf8-800ee9242754"
   },
   "outputs": [
    {
     "name": "stdout",
     "output_type": "stream",
     "text": [
      "Enter the number34\n",
      "Enter the number23\n",
      "57\n"
     ]
    }
   ],
   "source": [
    "a = int(input('Enter the number'))\n",
    "b = int(input('Enter the number'))\n",
    "print(a+b)"
   ]
  },
  {
   "cell_type": "code",
   "execution_count": null,
   "metadata": {
    "id": "oS-KtNW92vVY",
    "outputId": "8c126932-b0be-43e1-a780-afb8ce358e73"
   },
   "outputs": [
    {
     "name": "stdout",
     "output_type": "stream",
     "text": [
      "Enter 5 numbers23 43 55 65 43\n"
     ]
    }
   ],
   "source": [
    "a = input('Enter 5 numbers')"
   ]
  },
  {
   "cell_type": "code",
   "execution_count": null,
   "metadata": {
    "id": "iZwPDZmi2vVY",
    "outputId": "2af59395-10d2-4667-d219-60b327397c5e"
   },
   "outputs": [
    {
     "data": {
      "text/plain": [
       "str"
      ]
     },
     "execution_count": 10,
     "metadata": {
      "tags": []
     },
     "output_type": "execute_result"
    }
   ],
   "source": [
    "type(a)"
   ]
  },
  {
   "cell_type": "code",
   "execution_count": 159,
   "metadata": {
    "id": "-CVgY54X2vVZ",
    "outputId": "788c5e2b-ebf9-4556-e88d-2c9da069a8b0"
   },
   "outputs": [
    {
     "name": "stdout",
     "output_type": "stream",
     "text": [
      "Enter 5 numbers1 2\n"
     ]
    }
   ],
   "source": [
    "a,b = input('Enter 5 numbers').split(' ')"
   ]
  },
  {
   "cell_type": "code",
   "execution_count": null,
   "metadata": {
    "id": "ZXlOr-I32vVZ",
    "outputId": "5b573e72-224b-4bbd-de9a-e908a60d0209"
   },
   "outputs": [
    {
     "data": {
      "text/plain": [
       "str"
      ]
     },
     "execution_count": 14,
     "metadata": {
      "tags": []
     },
     "output_type": "execute_result"
    }
   ],
   "source": [
    "type(a[0])"
   ]
  },
  {
   "cell_type": "code",
   "execution_count": null,
   "metadata": {
    "id": "VirBVD_P2vVa",
    "outputId": "07ba500f-5a1c-4541-cd08-42f68fdcdff7"
   },
   "outputs": [
    {
     "data": {
      "text/plain": [
       "int"
      ]
     },
     "execution_count": 18,
     "metadata": {
      "tags": []
     },
     "output_type": "execute_result"
    }
   ],
   "source": [
    "type(int(a[0]))"
   ]
  },
  {
   "cell_type": "code",
   "execution_count": 164,
   "metadata": {
    "id": "Ku7Dvy4k2vVa",
    "outputId": "941b19ce-3872-4346-85af-8425949d8d1b"
   },
   "outputs": [
    {
     "data": {
      "text/plain": [
       "[1, 2, 3, 4, 5]"
      ]
     },
     "execution_count": 164,
     "metadata": {},
     "output_type": "execute_result"
    }
   ],
   "source": [
    "a"
   ]
  },
  {
   "cell_type": "code",
   "execution_count": 163,
   "metadata": {
    "id": "W9HAND9n2vVa",
    "outputId": "8cada1f7-cc64-4bae-f45e-d8493a2907ee"
   },
   "outputs": [
    {
     "name": "stdout",
     "output_type": "stream",
     "text": [
      "Enter 5 numbers1 2 3 4 5\n"
     ]
    }
   ],
   "source": [
    "a = [int(x) for x in input('Enter 5 numbers').split(' ')]"
   ]
  },
  {
   "cell_type": "code",
   "execution_count": null,
   "metadata": {
    "id": "FdHADDKK2vVb",
    "outputId": "a664e796-f3eb-44d8-fc75-fe42c3c6cdeb"
   },
   "outputs": [
    {
     "data": {
      "text/plain": [
       "int"
      ]
     },
     "execution_count": 22,
     "metadata": {
      "tags": []
     },
     "output_type": "execute_result"
    }
   ],
   "source": [
    "type(a[0])"
   ]
  },
  {
   "cell_type": "code",
   "execution_count": null,
   "metadata": {
    "id": "gtBpTlSE2vVb",
    "outputId": "6ca0e159-9191-409a-dfe4-46ad9b467525"
   },
   "outputs": [
    {
     "data": {
      "text/plain": [
       "int"
      ]
     },
     "execution_count": 24,
     "metadata": {
      "tags": []
     },
     "output_type": "execute_result"
    }
   ],
   "source": [
    "type(a[0])"
   ]
  },
  {
   "cell_type": "code",
   "execution_count": 161,
   "metadata": {
    "id": "O2QqlprV2vVb",
    "outputId": "97a75e94-bf81-4e26-bdf4-ae910b175874"
   },
   "outputs": [
    {
     "name": "stdout",
     "output_type": "stream",
     "text": [
      "Enter the values1 'rahul' 12\n",
      "<class 'int'>\n"
     ]
    }
   ],
   "source": [
    "a = [eval(x) for x in input('Enter the values').split(' ')]\n",
    "print(type(a[0]))\n"
   ]
  },
  {
   "cell_type": "code",
   "execution_count": 164,
   "metadata": {},
   "outputs": [
    {
     "name": "stdout",
     "output_type": "stream",
     "text": [
      "<class 'str'>\n",
      "<class 'int'>\n",
      "<class 'int'>\n"
     ]
    }
   ],
   "source": [
    "print(type(a[1]))\n",
    "print(type(a[2]))\n",
    "print(type(a[0]))"
   ]
  },
  {
   "cell_type": "code",
   "execution_count": null,
   "metadata": {},
   "outputs": [],
   "source": []
  },
  {
   "cell_type": "code",
   "execution_count": null,
   "metadata": {
    "id": "YweHvJCe2vVc",
    "outputId": "e42d654a-d5ff-4605-b785-efda9efb9a83"
   },
   "outputs": [
    {
     "data": {
      "text/plain": [
       "str"
      ]
     },
     "execution_count": 31,
     "metadata": {
      "tags": []
     },
     "output_type": "execute_result"
    }
   ],
   "source": [
    "type(a[3])"
   ]
  },
  {
   "cell_type": "code",
   "execution_count": null,
   "metadata": {
    "id": "eISFxlBf2vVc"
   },
   "outputs": [],
   "source": [
    "Rahul = 10"
   ]
  },
  {
   "cell_type": "code",
   "execution_count": null,
   "metadata": {
    "id": "XVOfNbrK2vVc"
   },
   "outputs": [],
   "source": [
    "sales =150.45"
   ]
  },
  {
   "cell_type": "code",
   "execution_count": null,
   "metadata": {
    "id": "XoCSZ-Ww2vVc",
    "outputId": "b38e506a-8566-4982-db3b-45844b3bc9db"
   },
   "outputs": [
    {
     "data": {
      "text/plain": [
       "bool"
      ]
     },
     "execution_count": 42,
     "metadata": {
      "tags": []
     },
     "output_type": "execute_result"
    }
   ],
   "source": [
    "type(sales > 100)"
   ]
  },
  {
   "cell_type": "code",
   "execution_count": null,
   "metadata": {
    "id": "rGIEzdjX2vVd",
    "outputId": "a0022638-62ac-4154-9f1d-7672dbe44c86"
   },
   "outputs": [
    {
     "data": {
      "text/plain": [
       "'The code is doing\\nadssdf sdsgds dfgdf dgdf \\ndgd fgdfg\\ndfgdfg\\ndfg dfg\\ndfg\\ndfg\\n dfgdf\\n g'"
      ]
     },
     "execution_count": 43,
     "metadata": {
      "tags": []
     },
     "output_type": "execute_result"
    }
   ],
   "source": [
    "'''The code is doing\n",
    "adssdf sdsgds dfgdf dgdf \n",
    "dgd fgdfg\n",
    "dfgdfg\n",
    "dfg dfg\n",
    "dfg\n",
    "dfg\n",
    " dfgdf\n",
    " g'''"
   ]
  },
  {
   "cell_type": "code",
   "execution_count": null,
   "metadata": {
    "id": "8wNBNrK32vVd"
   },
   "outputs": [],
   "source": [
    "#"
   ]
  },
  {
   "cell_type": "code",
   "execution_count": null,
   "metadata": {
    "id": "u4MaP3ul2vVd",
    "outputId": "ad179a9d-c221-4c65-859d-75ed969ddc0c"
   },
   "outputs": [
    {
     "name": "stdout",
     "output_type": "stream",
     "text": [
      "Hello\n",
      "\n",
      "Good Morning\n"
     ]
    }
   ],
   "source": [
    "#Output Statements \n",
    "print('Hello')\n",
    "print()\n",
    "print('Good Morning')"
   ]
  },
  {
   "cell_type": "code",
   "execution_count": 167,
   "metadata": {
    "id": "hvIv3Xc02vVe",
    "outputId": "c1b361c1-8334-49c5-aced-03f2239f1224"
   },
   "outputs": [
    {
     "name": "stdout",
     "output_type": "stream",
     "text": [
      "Hello\n",
      "\n",
      "all\n"
     ]
    }
   ],
   "source": [
    "print('Hello\\n\\nall')"
   ]
  },
  {
   "cell_type": "code",
   "execution_count": null,
   "metadata": {
    "id": "Alg9JkWM2vVe",
    "outputId": "4b18a4df-c7b5-4716-acaa-825340456193"
   },
   "outputs": [
    {
     "name": "stdout",
     "output_type": "stream",
     "text": [
      "Hello \t all\n"
     ]
    }
   ],
   "source": [
    "print('Hello \\t all')"
   ]
  },
  {
   "cell_type": "code",
   "execution_count": null,
   "metadata": {
    "id": "kzaM-lc72vVf"
   },
   "outputs": [],
   "source": [
    "a,b,c=10,20,30"
   ]
  },
  {
   "cell_type": "code",
   "execution_count": null,
   "metadata": {
    "id": "zSvDe8mo2vVf",
    "outputId": "ba332117-831e-4080-842d-324b85bfeae3"
   },
   "outputs": [
    {
     "name": "stdout",
     "output_type": "stream",
     "text": [
      "The variables are: 10 20 30\n"
     ]
    }
   ],
   "source": [
    "print('The variables are:', a,b,c)"
   ]
  },
  {
   "cell_type": "code",
   "execution_count": 165,
   "metadata": {
    "id": "C100O3-L2vVf",
    "outputId": "fb0232eb-3105-4f82-8d8b-eede9ca20351"
   },
   "outputs": [
    {
     "name": "stdout",
     "output_type": "stream",
     "text": [
      "10 20 30\n",
      "10,20,30\n",
      "10$20$30\n",
      "10\n",
      "20\n",
      "30\n"
     ]
    }
   ],
   "source": [
    "a= 10\n",
    "b= 20\n",
    "c= 30\n",
    "print(a,b,c)\n",
    "print(a,b,c, sep=',')\n",
    "print(a,b,c, sep='$')\n",
    "print(a)\n",
    "print(b)\n",
    "print(c)"
   ]
  },
  {
   "cell_type": "code",
   "execution_count": null,
   "metadata": {
    "id": "xToBnlvj2vVg",
    "outputId": "00544439-2028-4c2a-ea95-4dc6d4c62bdb"
   },
   "outputs": [
    {
     "name": "stdout",
     "output_type": "stream",
     "text": [
      "Hello\n",
      "Students\n",
      "To learn Python\n",
      "You have to practice\n"
     ]
    }
   ],
   "source": [
    "print('Hello')\n",
    "print('Students')\n",
    "print('To learn Python')\n",
    "print('You have to practice')"
   ]
  },
  {
   "cell_type": "code",
   "execution_count": 165,
   "metadata": {
    "id": "LFjYg7-W2vVg",
    "outputId": "9e510dec-ffbd-4b7d-8514-55d5bbe2efb5"
   },
   "outputs": [
    {
     "name": "stdout",
     "output_type": "stream",
     "text": [
      "Hello Students To learn Python You have to practice\n"
     ]
    }
   ],
   "source": [
    "print('Hello', 'Students', 'To learn Python', 'You have to practice')"
   ]
  },
  {
   "cell_type": "code",
   "execution_count": 170,
   "metadata": {
    "id": "mSIZ4jIq2vVh",
    "outputId": "669aac57-ab21-44b1-b61e-b1c79c604ed6"
   },
   "outputs": [
    {
     "name": "stdout",
     "output_type": "stream",
     "text": [
      "Hello Students\n",
      "To learn Python\t\tYou have to practice$"
     ]
    }
   ],
   "source": [
    "print('Hello', end =  ' ')\n",
    "print('Students', end = '\\n')\n",
    "print('To learn Python', end ='\\t\\t')\n",
    "print('You have to practice', end = '$')"
   ]
  },
  {
   "cell_type": "code",
   "execution_count": null,
   "metadata": {
    "id": "GjknNkSF2vVh",
    "outputId": "297b6a24-7bfc-424d-82dd-9afe129b4b1f"
   },
   "outputs": [
    {
     "name": "stdout",
     "output_type": "stream",
     "text": [
      "10-20-30-40-50-60--------"
     ]
    }
   ],
   "source": [
    "print(10,20,30,40,50,60, sep='-', end='--------')"
   ]
  },
  {
   "cell_type": "code",
   "execution_count": null,
   "metadata": {
    "id": "ld7EYrDH2vVh",
    "outputId": "ce2b7a89-2497-41cc-b0d8-073e7219938c"
   },
   "outputs": [
    {
     "name": "stdout",
     "output_type": "stream",
     "text": [
      "Hello Rahul, your salary is 10000 and your current company is Deloitte\n"
     ]
    }
   ],
   "source": [
    "name = 'Rahul'\n",
    "salary = 10000\n",
    "company = 'Deloitte'\n",
    "print('Hello {}, your salary is {} and your current company is {}'.format(name, salary, company))"
   ]
  },
  {
   "cell_type": "code",
   "execution_count": null,
   "metadata": {
    "id": "ycRaPQz32vVi",
    "outputId": "38ae8159-1942-4268-cb74-afd98b5777be"
   },
   "outputs": [
    {
     "name": "stdout",
     "output_type": "stream",
     "text": [
      "Hello Deloitte, your salary is 10000 and your current company is Rahul\n"
     ]
    }
   ],
   "source": [
    "name = 'Rahul'\n",
    "salary = 10000\n",
    "company = 'Deloitte'\n",
    "print('Hello {}, your salary is {} and your current company is {}'.format(company, salary, name))"
   ]
  },
  {
   "cell_type": "code",
   "execution_count": null,
   "metadata": {
    "id": "gd3ryrHy2vVi",
    "outputId": "27723c39-e3b0-4109-ef6d-42efefd6dfa1"
   },
   "outputs": [
    {
     "name": "stdout",
     "output_type": "stream",
     "text": [
      "Hello Rahul, your salary is 10000 and your current company is Deloitte\n"
     ]
    }
   ],
   "source": [
    "name = 'Rahul'\n",
    "salary = 10000\n",
    "company = 'Deloitte'\n",
    "print('Hello {2}, your salary is {1} and your current company is {0}'.format(company, salary, name))"
   ]
  },
  {
   "cell_type": "code",
   "execution_count": null,
   "metadata": {
    "id": "FzxUx4UD2vVi",
    "outputId": "d71bb29d-d704-41a8-9dca-358d1a35ca04"
   },
   "outputs": [
    {
     "name": "stdout",
     "output_type": "stream",
     "text": [
      "Hello Rahul, your salary is 10000 and your current company is Deloitte\n"
     ]
    }
   ],
   "source": [
    "name = 'Rahul'\n",
    "salary = 10000\n",
    "company = 'Deloitte'\n",
    "print('Hello {n}, your salary is {s} and your current company is {c}'.format(c=company, s=salary, n=name))"
   ]
  },
  {
   "cell_type": "code",
   "execution_count": null,
   "metadata": {
    "id": "TD2mFGc-2vVj",
    "outputId": "09e5677b-a80e-4a93-9494-30f3fdaaed3a"
   },
   "outputs": [
    {
     "name": "stdout",
     "output_type": "stream",
     "text": [
      "{2}\n"
     ]
    }
   ],
   "source": [
    "print('{2}')"
   ]
  },
  {
   "cell_type": "code",
   "execution_count": null,
   "metadata": {
    "id": "HTUcTw3P2vVj",
    "outputId": "f899ad6f-aeef-4c3f-ccaa-42ed0a26275c"
   },
   "outputs": [
    {
     "name": "stdout",
     "output_type": "stream",
     "text": [
      "{0} is Rahul\n"
     ]
    }
   ],
   "source": [
    "a = '{0}'\n",
    "name = 'Rahul'\n",
    "print('{} is {}'.format(a,name))"
   ]
  },
  {
   "cell_type": "code",
   "execution_count": null,
   "metadata": {
    "id": "kSYF71ZV2vVk"
   },
   "outputs": [],
   "source": [
    "#Flow control\n",
    "    #if else \n",
    "    #for loop \n",
    "    #while loop\n",
    "    #Break \n",
    "    #Continue"
   ]
  },
  {
   "cell_type": "code",
   "execution_count": null,
   "metadata": {
    "id": "aC9F9xsM2vVk",
    "outputId": "4c476688-2c67-4234-8fb5-1631c7d15770"
   },
   "outputs": [
    {
     "data": {
      "text/plain": [
       "'if condition:\\n    result1 \\nelif condtion:\\n    result3\\nelif condition:\\n    result4\\n    .\\n    .\\n    .\\n    .\\nelse: \\n    result2'"
      ]
     },
     "execution_count": 68,
     "metadata": {
      "tags": []
     },
     "output_type": "execute_result"
    }
   ],
   "source": [
    "'''if condition:\n",
    "    result1 \n",
    "elif condtion:\n",
    "    result3\n",
    "elif condition:\n",
    "    result4\n",
    "    .\n",
    "    .\n",
    "    .\n",
    "    .\n",
    "else: \n",
    "    result2'''\n"
   ]
  },
  {
   "cell_type": "code",
   "execution_count": null,
   "metadata": {
    "id": "lf7oP04X2vVk",
    "outputId": "dbf14e7f-fa4f-4051-e506-8ec0e65893f3"
   },
   "outputs": [
    {
     "name": "stdout",
     "output_type": "stream",
     "text": [
      "You passed the exam\n"
     ]
    }
   ],
   "source": [
    "marks = 61\n",
    "if marks<36:\n",
    "    print('You failed the exam')\n",
    "elif marks>=36 and marks<=60:\n",
    "    print('Your marks are average in the exam')\n",
    "else:\n",
    "    print('You passed the exam')"
   ]
  },
  {
   "cell_type": "code",
   "execution_count": null,
   "metadata": {
    "id": "H-DBXYf_2vVl",
    "outputId": "6b701b78-a483-4d71-aa85-dd732a43d9cf"
   },
   "outputs": [
    {
     "name": "stdout",
     "output_type": "stream",
     "text": [
      "Enter your name:Python\n",
      "Hello Python Good morning\n",
      "How r y?\n"
     ]
    }
   ],
   "source": [
    "name = input('Enter your name:')\n",
    "if name=='Python':\n",
    "    print('Hello', name, 'Good morning')\n",
    "elif name =='R Programming':\n",
    "    print('Hello', name, 'You are not in demand')\n",
    "else:\n",
    "    print('Hello', name, 'Welcome to Programming world')\n",
    "print('How r y?')"
   ]
  },
  {
   "cell_type": "code",
   "execution_count": null,
   "metadata": {
    "id": "FkQmW-8O2vVl",
    "outputId": "4f47ecca-f82b-4986-e3c5-7c5389c0b472"
   },
   "outputs": [
    {
     "name": "stdout",
     "output_type": "stream",
     "text": [
      "Enter the first number2\n",
      "Enter the second number4\n",
      "4 is bigger\n"
     ]
    }
   ],
   "source": [
    "x = int(input('Enter the first number'))\n",
    "y = int(input('Enter the second number'))\n",
    "if x>y:\n",
    "    print(x, 'is bigger')\n",
    "else:\n",
    "    print(y, 'is bigger')"
   ]
  },
  {
   "cell_type": "code",
   "execution_count": null,
   "metadata": {
    "id": "khxlKhb-2vVl",
    "outputId": "1c6556e3-af98-42a5-a4b8-a07a40168a88"
   },
   "outputs": [
    {
     "name": "stdout",
     "output_type": "stream",
     "text": [
      "Enter the number12\n",
      "This is an even number\n"
     ]
    }
   ],
   "source": [
    "x = int(input('Enter the number'))\n",
    "if x%2 == 0:\n",
    "    print('This is an even number')\n",
    "else:\n",
    "    print('This is an odd number')"
   ]
  },
  {
   "cell_type": "code",
   "execution_count": null,
   "metadata": {
    "id": "7VbafNtc2vVm",
    "outputId": "7aae4207-75dc-4a07-ba7e-b0cefa80993c"
   },
   "outputs": [
    {
     "name": "stdout",
     "output_type": "stream",
     "text": [
      "T 1 h 2 i 3 s 4   5 i 6 s 7   8 p 9 y 10 t 11 h 12 o 13 n 14   15 c 16 l 17 a 18 s 19 s 20 "
     ]
    }
   ],
   "source": [
    "#For loop\n",
    "s = 'This is python class'\n",
    "\n",
    "#for condition:\n",
    "#    statement1\n",
    "#    statement2\n",
    "#statement3\n",
    "count = 0\n",
    "for i in s:\n",
    "    print(i, end=' ')\n",
    "    count = count + 1\n",
    "    print(count,end = ' ')"
   ]
  },
  {
   "cell_type": "code",
   "execution_count": null,
   "metadata": {
    "id": "HyztTgWL2vVm"
   },
   "outputs": [],
   "source": [
    "sales = [3243,4433,2344,3433]\n",
    "profit = [432,233,233,433]"
   ]
  },
  {
   "cell_type": "code",
   "execution_count": null,
   "metadata": {
    "id": "sstf61uj2vVm",
    "outputId": "253f98a9-4550-4eb4-9697-d4dc448fa553"
   },
   "outputs": [
    {
     "data": {
      "text/plain": [
       "[0.1332099907493062,\n",
       " 0.05256034288292353,\n",
       " 0.09940273037542662,\n",
       " 0.12612875036411303]"
      ]
     },
     "execution_count": 105,
     "metadata": {
      "tags": []
     },
     "output_type": "execute_result"
    }
   ],
   "source": [
    "profitratio = []\n",
    "for i in range(0,len(sales)):\n",
    "    profitratio.append(profit[i]/sales[i])\n",
    "profitratio"
   ]
  },
  {
   "cell_type": "code",
   "execution_count": null,
   "metadata": {
    "id": "tOOmAavF2vVm",
    "outputId": "23d3dbcb-31fb-4825-baca-0b34b8ee534e"
   },
   "outputs": [
    {
     "name": "stdout",
     "output_type": "stream",
     "text": [
      "E\n",
      "d\n",
      "u\n",
      "r\n",
      "e\n",
      "k\n",
      "a\n"
     ]
    }
   ],
   "source": [
    "a = 'Edureka'\n",
    "for i  in a:\n",
    "    print(i)"
   ]
  },
  {
   "cell_type": "code",
   "execution_count": null,
   "metadata": {
    "id": "XuHSjq2h2vVn"
   },
   "outputs": [],
   "source": [
    "while condition:\n",
    "    statement1\n",
    "    statement2\n",
    "statement3"
   ]
  },
  {
   "cell_type": "code",
   "execution_count": null,
   "metadata": {
    "id": "9FJib1wl2vVn",
    "outputId": "e0dbffb8-9d53-4ac3-e1cc-c3f22087d013"
   },
   "outputs": [
    {
     "name": "stdout",
     "output_type": "stream",
     "text": [
      "Total coupouns left are: 5\n",
      "Total coupouns left are: 4\n",
      "Total coupouns left are: 3\n",
      "Total coupouns left are: 2\n",
      "Total coupouns left are: 1\n",
      "Total coupouns left are: 0\n",
      "No coupouns left\n"
     ]
    }
   ],
   "source": [
    "coupoun = 5\n",
    "utilized = 0\n",
    "while utilized<=5:\n",
    "    print('Total coupouns left are:', coupoun-utilized)\n",
    "    utilized=utilized+1\n",
    "print('No coupouns left')"
   ]
  },
  {
   "cell_type": "code",
   "execution_count": null,
   "metadata": {
    "id": "VZvenB9A2vVn"
   },
   "outputs": [],
   "source": [
    "#while True:\n",
    "#    print('Hi')"
   ]
  },
  {
   "cell_type": "code",
   "execution_count": null,
   "metadata": {
    "id": "wozgm6dI2vVn",
    "outputId": "6d1ccc7e-bb7c-4d74-ce4a-6abf1b09c6b0"
   },
   "outputs": [
    {
     "name": "stdout",
     "output_type": "stream",
     "text": [
      "Hi A\n",
      "Hi B\n",
      "Hi C\n"
     ]
    }
   ],
   "source": [
    "list1 = ['A','B','C']\n",
    "for i in list1:\n",
    "    print('Hi',i)"
   ]
  },
  {
   "cell_type": "markdown",
   "metadata": {
    "id": "0sQ_DVKf2vVn"
   },
   "source": [
    "# Class 4 - Functions "
   ]
  },
  {
   "cell_type": "code",
   "execution_count": null,
   "metadata": {
    "id": "eh6RaKmC2vVo"
   },
   "outputs": [],
   "source": [
    "#Why functions are required? \n",
    "    #When we are writing multiple lines of a code (multiple times) then obviously \n",
    "        #my code length will increase \n",
    "    #We will write functions for those lines \n",
    "    #Code reusability is the biggest advantage     "
   ]
  },
  {
   "cell_type": "code",
   "execution_count": null,
   "metadata": {
    "id": "3MHV5BWQ2vVo",
    "outputId": "e039c7cd-876d-4880-f2f1-63473d8bae1f"
   },
   "outputs": [
    {
     "name": "stdout",
     "output_type": "stream",
     "text": [
      "Good Morning\n"
     ]
    }
   ],
   "source": [
    "def greeting():\n",
    "    '''This function os wishing good morning'''\n",
    "    print('Good Morning')\n",
    "greeting()"
   ]
  },
  {
   "cell_type": "code",
   "execution_count": null,
   "metadata": {
    "id": "eYxx1gzE2vVo",
    "outputId": "ffd0e1b7-0c34-4460-d6f4-c9dd74769999"
   },
   "outputs": [
    {
     "name": "stdout",
     "output_type": "stream",
     "text": [
      "Hello Hussain Good Morning\n"
     ]
    }
   ],
   "source": [
    "def greeting(name='Guest'):\n",
    "    print('Hello', name, 'Good Morning')\n",
    "greeting('Hussain')    "
   ]
  },
  {
   "cell_type": "code",
   "execution_count": null,
   "metadata": {
    "id": "NzJsgsLE2vVo",
    "outputId": "d8750409-aff0-4167-86a3-548aab5b0489"
   },
   "outputs": [
    {
     "name": "stdout",
     "output_type": "stream",
     "text": [
      "100\n"
     ]
    }
   ],
   "source": [
    "def square(x):\n",
    "    print(x*x)\n",
    "square(10)"
   ]
  },
  {
   "cell_type": "code",
   "execution_count": null,
   "metadata": {
    "id": "JfNryqN22vVp",
    "outputId": "b57a73df-2226-4cf7-bd58-04cb799351af"
   },
   "outputs": [
    {
     "name": "stdout",
     "output_type": "stream",
     "text": [
      "15\n"
     ]
    }
   ],
   "source": [
    "def add(a,b):\n",
    "    print(a+b)\n",
    "z = add(10,5)"
   ]
  },
  {
   "cell_type": "code",
   "execution_count": null,
   "metadata": {
    "id": "6OrMZ9d_2vVp",
    "outputId": "a03b4235-f5cd-42f9-e16b-7574ab24cf20"
   },
   "outputs": [
    {
     "data": {
      "text/plain": [
       "NoneType"
      ]
     },
     "execution_count": 19,
     "metadata": {
      "tags": []
     },
     "output_type": "execute_result"
    }
   ],
   "source": [
    "type(z)"
   ]
  },
  {
   "cell_type": "code",
   "execution_count": null,
   "metadata": {
    "id": "XXtoLY-S2vVp"
   },
   "outputs": [],
   "source": [
    "def add(a,b):\n",
    "    return a+b\n",
    "z = add(10,5)"
   ]
  },
  {
   "cell_type": "code",
   "execution_count": null,
   "metadata": {
    "id": "NQl2r-dy2vVq",
    "outputId": "d39c0b95-cf6b-422a-c852-9fdb944132ac"
   },
   "outputs": [
    {
     "data": {
      "text/plain": [
       "int"
      ]
     },
     "execution_count": 28,
     "metadata": {
      "tags": []
     },
     "output_type": "execute_result"
    }
   ],
   "source": [
    "type(z)"
   ]
  },
  {
   "cell_type": "code",
   "execution_count": null,
   "metadata": {
    "id": "b4lpcZXf2vVq",
    "outputId": "7030fe9b-abf6-46f0-b799-89affb98cb9a"
   },
   "outputs": [
    {
     "name": "stdout",
     "output_type": "stream",
     "text": [
      "The number is even 10\n",
      "The number is odd 11\n"
     ]
    }
   ],
   "source": [
    "def evenodd(n):\n",
    "    if n%2==0:\n",
    "        print('The number is even', n)\n",
    "    else:\n",
    "        print('The number is odd', n)\n",
    "evenodd(10)\n",
    "evenodd(11)"
   ]
  },
  {
   "cell_type": "code",
   "execution_count": null,
   "metadata": {
    "id": "0JwvrAsD2vVq"
   },
   "outputs": [],
   "source": [
    "def evenodd(n):\n",
    "    if n%2==0:\n",
    "        return 'The number is even'\n",
    "    else:\n",
    "        return 'The number is odd'\n",
    "evenodd(10)\n",
    "z=evenodd(11)"
   ]
  },
  {
   "cell_type": "code",
   "execution_count": null,
   "metadata": {
    "id": "aOy-8tBb2vVq",
    "outputId": "1f85b2eb-2c7c-4f8a-e253-447d4082c825"
   },
   "outputs": [
    {
     "data": {
      "text/plain": [
       "'The number is odd'"
      ]
     },
     "execution_count": 34,
     "metadata": {
      "tags": []
     },
     "output_type": "execute_result"
    }
   ],
   "source": [
    "z"
   ]
  },
  {
   "cell_type": "code",
   "execution_count": null,
   "metadata": {
    "id": "1BZDDHXo2vVr",
    "outputId": "096c8aa2-338e-4a1a-af52-54300897be44"
   },
   "outputs": [
    {
     "name": "stdout",
     "output_type": "stream",
     "text": [
      "1\n",
      "2\n",
      "6\n",
      "24\n",
      "120\n",
      "720\n",
      "5040\n",
      "40320\n",
      "362880\n"
     ]
    }
   ],
   "source": [
    "def fact(n):\n",
    "    result = 1\n",
    "    while n>=1:\n",
    "        result = result * n\n",
    "        n = n-1 \n",
    "    return result  \n",
    "for i in range(1,10):\n",
    "    print(fact(i))"
   ]
  },
  {
   "cell_type": "code",
   "execution_count": null,
   "metadata": {
    "id": "nqfH-rsP2vVr",
    "outputId": "161193b5-02f2-4bf6-f238-6c3a773d6dc7"
   },
   "outputs": [
    {
     "data": {
      "text/plain": [
       "(14, 6, 40, 2.5)"
      ]
     },
     "execution_count": 41,
     "metadata": {
      "tags": []
     },
     "output_type": "execute_result"
    }
   ],
   "source": [
    "def calc(a,b):\n",
    "    sum = a+b\n",
    "    sub = a-b\n",
    "    mul = a*b\n",
    "    div = a/b\n",
    "    return sum, sub, mul, div\n",
    "\n",
    "calc(10,4)    "
   ]
  },
  {
   "cell_type": "code",
   "execution_count": null,
   "metadata": {
    "id": "Rw0saUkq2vVr",
    "outputId": "c2abdd1b-c5e5-4e70-8ed5-b49e9fa67853"
   },
   "outputs": [
    {
     "data": {
      "text/plain": [
       "{'Sum of a+b': 14, 'Sub of a-b': 6, 'Mul of a*b': 40, 'Div of a/b': 2.5}"
      ]
     },
     "execution_count": 42,
     "metadata": {
      "tags": []
     },
     "output_type": "execute_result"
    }
   ],
   "source": [
    "def calc(a,b):\n",
    "    sum = a+b\n",
    "    sub = a-b\n",
    "    mul = a*b\n",
    "    div = a/b\n",
    "    return {'Sum of a+b':sum, 'Sub of a-b':sub, 'Mul of a*b':mul, 'Div of a/b':div}\n",
    "\n",
    "calc(10,4)    "
   ]
  },
  {
   "cell_type": "code",
   "execution_count": null,
   "metadata": {
    "id": "2FClcPaR2vVs"
   },
   "outputs": [],
   "source": [
    "#Different types of arguements \n",
    "    #1. Positional Arguement\n",
    "    #2. Keyword Arguement\n",
    "    #3. Default Arguement\n",
    "    #4. Variable length Arguement "
   ]
  },
  {
   "cell_type": "code",
   "execution_count": 168,
   "metadata": {
    "id": "jS7dcbTX2vVs",
    "outputId": "12cb5565-5ae2-446a-a24e-eeda795e402b"
   },
   "outputs": [
    {
     "name": "stdout",
     "output_type": "stream",
     "text": [
      "12\n"
     ]
    }
   ],
   "source": [
    "def sum(a,b):\n",
    "    print(a+b)\n",
    "    \n",
    "sum(10,2)"
   ]
  },
  {
   "cell_type": "code",
   "execution_count": null,
   "metadata": {
    "id": "ErjRlfMG2vVs",
    "outputId": "13d89362-89d4-49df-ccde-173a267fd993"
   },
   "outputs": [
    {
     "name": "stdout",
     "output_type": "stream",
     "text": [
      "Hello Deloitte your company is  Rahul\n"
     ]
    }
   ],
   "source": [
    "def intro(name, company):\n",
    "    print('Hello', name, 'your company is ', company)\n",
    "intro('Deloitte', 'Rahul')"
   ]
  },
  {
   "cell_type": "code",
   "execution_count": null,
   "metadata": {
    "id": "AmIEQfy12vVs",
    "outputId": "a4c3d366-2552-45d6-ca63-5544528b2a88"
   },
   "outputs": [
    {
     "name": "stdout",
     "output_type": "stream",
     "text": [
      "Hello Purushotham Good morning\n",
      "Hello Purushotham Good morning\n"
     ]
    }
   ],
   "source": [
    "#Keyword Arguement \n",
    "def greeting(name,msg):\n",
    "    print('Hello', name, msg)\n",
    "greeting('Purushotham', 'Good morning')\n",
    "greeting(msg='Good morning',name='Purushotham')"
   ]
  },
  {
   "cell_type": "code",
   "execution_count": 172,
   "metadata": {
    "id": "yPEW7aPW2vVt",
    "outputId": "b1426da1-7868-4738-c401-9eeaffc53ba7"
   },
   "outputs": [
    {
     "name": "stdout",
     "output_type": "stream",
     "text": [
      "Hello Guest Good Morning\n"
     ]
    }
   ],
   "source": [
    "#Default Arguement \n",
    "def greeting(name='Guest'):\n",
    "    print('Hello', name, 'Good Morning')\n",
    "greeting()"
   ]
  },
  {
   "cell_type": "code",
   "execution_count": null,
   "metadata": {
    "id": "-LC706vy2vVt",
    "outputId": "c2b22adb-c10b-47ee-ceda-e952d027714b"
   },
   "outputs": [
    {
     "name": "stdout",
     "output_type": "stream",
     "text": [
      "Hello Rohaan Good Morning your company name is Deloitte your age is 34\n"
     ]
    }
   ],
   "source": [
    "#Default Argument \n",
    "def greeting(company, age, name='Guest'):\n",
    "    print('Hello', name, 'Good Morning', 'your company name is', company, 'your age is', age)\n",
    "greeting('Deloitte', 34, 'Rohaan')"
   ]
  },
  {
   "cell_type": "code",
   "execution_count": null,
   "metadata": {
    "id": "qnBJtUVY2vVt",
    "outputId": "86531691-24de-4d12-ba8f-85641095905e"
   },
   "outputs": [
    {
     "ename": "SyntaxError",
     "evalue": "non-default argument follows default argument (<ipython-input-62-03722d7c0a6b>, line 2)",
     "output_type": "error",
     "traceback": [
      "\u001b[1;36m  File \u001b[1;32m\"<ipython-input-62-03722d7c0a6b>\"\u001b[1;36m, line \u001b[1;32m2\u001b[0m\n\u001b[1;33m    def greeting(name='Guest',company, age):\u001b[0m\n\u001b[1;37m                ^\u001b[0m\n\u001b[1;31mSyntaxError\u001b[0m\u001b[1;31m:\u001b[0m non-default argument follows default argument\n"
     ]
    }
   ],
   "source": [
    "#Default Arguement \n",
    "def greeting(name='Guest',company, age):\n",
    "    print('Hello', name, 'Good Morning', 'your company name is', company, 'your age is', age)\n",
    "greeting('Deloitte', 34, 'Rohaan')"
   ]
  },
  {
   "cell_type": "code",
   "execution_count": 176,
   "metadata": {
    "id": "IgFAJ4iO2vVt"
   },
   "outputs": [
    {
     "name": "stdout",
     "output_type": "stream",
     "text": [
      "Student name: Guest\n",
      "Student Age: 20\n",
      "Student marks: 100\n",
      "Student msg: Good morning\n",
      "Student name: Guest\n",
      "Student Age: 48\n",
      "Student marks: 100\n",
      "Student msg: Good morning\n",
      "Student name: A\n",
      "Student Age: 100\n",
      "Student marks: 48\n",
      "Student msg: Hi\n"
     ]
    }
   ],
   "source": [
    "def greeting(marks, age, name='Guest', msg='Good morning'):\n",
    "    print('Student name:', name)\n",
    "    print('Student Age:', age)\n",
    "    print('Student marks:', marks)\n",
    "    print('Student msg:', msg)\n",
    "greeting(100,20)   \n",
    "greeting(age=48,marks=100)   \n",
    "greeting(48,100,'A','Hi')"
   ]
  },
  {
   "cell_type": "code",
   "execution_count": null,
   "metadata": {
    "id": "XrkLqGDL2vVu",
    "outputId": "2c89d1b6-6346-475d-df5c-b60233e017a8",
    "scrolled": true
   },
   "outputs": [
    {
     "name": "stdout",
     "output_type": "stream",
     "text": [
      "12\n",
      "15\n",
      "15\n"
     ]
    }
   ],
   "source": [
    "#Variable Length Arguement \n",
    "def sum(a,b):\n",
    "    print(a+b)\n",
    "sum(10,2)\n",
    "\n",
    "def sum(a,b,c):\n",
    "    print(a+b+c)\n",
    "sum(10,2,3)\n",
    "    "
   ]
  },
  {
   "cell_type": "code",
   "execution_count": 170,
   "metadata": {},
   "outputs": [
    {
     "name": "stdout",
     "output_type": "stream",
     "text": [
      "10\n",
      "12\n",
      "15\n"
     ]
    }
   ],
   "source": [
    "\n",
    "def sum(*a): #tuple (10,2,3,4,3,2,3,4)\n",
    "    result = 0 \n",
    "    for i in a:\n",
    "        result = result + i\n",
    "        print(result)\n",
    "sum(10,2,3)"
   ]
  },
  {
   "cell_type": "code",
   "execution_count": null,
   "metadata": {
    "id": "eZQTfxD42vVu"
   },
   "outputs": [],
   "source": [
    "#Types of variables in function \n",
    "    #Global Variable\n",
    "    #Local Variable"
   ]
  },
  {
   "cell_type": "code",
   "execution_count": null,
   "metadata": {
    "id": "xLXHtPmX2vVv",
    "outputId": "69806c67-aa34-4ca7-cc73-6e6ed6ed6b02"
   },
   "outputs": [
    {
     "name": "stdout",
     "output_type": "stream",
     "text": [
      "F1 10\n",
      "F2 10\n"
     ]
    }
   ],
   "source": [
    "a = 10\n",
    "def f1():\n",
    "    print('F1', a)\n",
    "f1()\n",
    "\n",
    "def f2():\n",
    "    print('F2', a)\n",
    "f2()"
   ]
  },
  {
   "cell_type": "code",
   "execution_count": null,
   "metadata": {
    "id": "ot276riY2vVv",
    "outputId": "1f6e372c-5ffb-4986-fd12-d79f335d6917"
   },
   "outputs": [
    {
     "name": "stdout",
     "output_type": "stream",
     "text": [
      "F1 20\n",
      "F2 200\n"
     ]
    }
   ],
   "source": [
    "p=200\n",
    "def f1():\n",
    "    p = 20\n",
    "    print('F1', p)\n",
    "f1()\n",
    "\n",
    "def f2():\n",
    "    print('F2', p)\n",
    "f2()"
   ]
  },
  {
   "cell_type": "code",
   "execution_count": null,
   "metadata": {
    "id": "PJ9UAfd92vVw",
    "outputId": "39311999-fb25-4bc4-a6d8-73fb85001acb"
   },
   "outputs": [
    {
     "name": "stdout",
     "output_type": "stream",
     "text": [
      "F1 20\n",
      "F2 20\n"
     ]
    }
   ],
   "source": [
    "p=200\n",
    "def f1():\n",
    "    global p\n",
    "    p = 20\n",
    "    print('F1', p)\n",
    "f1()\n",
    "\n",
    "def f2():\n",
    "    print('F2', p)\n",
    "f2()"
   ]
  },
  {
   "cell_type": "code",
   "execution_count": null,
   "metadata": {
    "id": "ipzIYK__2vVw",
    "outputId": "e5b12ffd-af8d-4525-df16-13c964a60366"
   },
   "outputs": [
    {
     "name": "stdout",
     "output_type": "stream",
     "text": [
      "F1 200\n",
      "F2 20\n",
      "F1 20\n"
     ]
    }
   ],
   "source": [
    "q=200\n",
    "def f1():\n",
    "\n",
    "    print('F1', q)\n",
    "f1()\n",
    "\n",
    "def f2():\n",
    "    global q\n",
    "    q = 20\n",
    "    print('F2', q)\n",
    "f2()\n",
    "\n",
    "def f1():\n",
    "\n",
    "    print('F1', q)\n",
    "f1()"
   ]
  },
  {
   "cell_type": "code",
   "execution_count": null,
   "metadata": {
    "id": "3Tn-lNkw2vVx",
    "outputId": "477c36d2-bed6-4183-ea1c-76eb01fec0c1"
   },
   "outputs": [
    {
     "name": "stdout",
     "output_type": "stream",
     "text": [
      "F2 20\n",
      "F1 20\n"
     ]
    }
   ],
   "source": [
    "def f2():\n",
    "    global r\n",
    "    r = 20\n",
    "    print('F2', r)\n",
    "f2()\n",
    "\n",
    "def f1():\n",
    "\n",
    "    print('F1', r)\n",
    "f1()"
   ]
  },
  {
   "cell_type": "code",
   "execution_count": null,
   "metadata": {
    "id": "6GeP4upM2vVx",
    "outputId": "053b6674-5327-4362-ebcb-e62a673fda01"
   },
   "outputs": [
    {
     "data": {
      "text/plain": [
       "16"
      ]
     },
     "execution_count": 85,
     "metadata": {
      "tags": []
     },
     "output_type": "execute_result"
    }
   ],
   "source": [
    "#Lambda Function - Anonymous Function - Without name - Nameless function \n",
    "def square(n):\n",
    "    return n*n\n",
    "square(4)"
   ]
  },
  {
   "cell_type": "code",
   "execution_count": 2,
   "metadata": {
    "id": "Se9LKZwp2vVx"
   },
   "outputs": [],
   "source": [
    "sq1 = lambda n : n*n"
   ]
  },
  {
   "cell_type": "code",
   "execution_count": null,
   "metadata": {
    "id": "t-XDSfUV2vVy",
    "outputId": "d46ae7fe-9c84-4b90-9884-55f49677bab3"
   },
   "outputs": [
    {
     "data": {
      "text/plain": [
       "16"
      ]
     },
     "execution_count": 89,
     "metadata": {
      "tags": []
     },
     "output_type": "execute_result"
    }
   ],
   "source": [
    "sq1(4)"
   ]
  },
  {
   "cell_type": "code",
   "execution_count": null,
   "metadata": {
    "id": "Sm092Sgi2vVy"
   },
   "outputs": [],
   "source": [
    "sum1 = lambda a,b : a+b"
   ]
  },
  {
   "cell_type": "code",
   "execution_count": null,
   "metadata": {
    "id": "ulSJlR_s2vVy",
    "outputId": "af779a37-4aed-4994-c416-4ce3c64ed02e"
   },
   "outputs": [
    {
     "data": {
      "text/plain": [
       "12"
      ]
     },
     "execution_count": 92,
     "metadata": {
      "tags": []
     },
     "output_type": "execute_result"
    }
   ],
   "source": [
    "sum1(10,2)"
   ]
  },
  {
   "cell_type": "code",
   "execution_count": null,
   "metadata": {
    "id": "Kgog5R4y2vVy"
   },
   "outputs": [],
   "source": [
    "noc = lambda a,b : a if a>=b else b"
   ]
  },
  {
   "cell_type": "code",
   "execution_count": null,
   "metadata": {
    "id": "3yYrQNWO2vVy",
    "outputId": "f64161f5-2576-48bd-dfc2-c8f961f0e110"
   },
   "outputs": [
    {
     "data": {
      "text/plain": [
       "10"
      ]
     },
     "execution_count": 97,
     "metadata": {
      "tags": []
     },
     "output_type": "execute_result"
    }
   ],
   "source": [
    "noc(10,10)"
   ]
  },
  {
   "cell_type": "code",
   "execution_count": null,
   "metadata": {
    "id": "ldXn8wjC2vVz"
   },
   "outputs": [],
   "source": [
    "#filter()\n",
    "filter(func, list)\n",
    "#map()\n",
    "#reduce()"
   ]
  },
  {
   "cell_type": "code",
   "execution_count": 3,
   "metadata": {
    "id": "42cYXn4_2vVz",
    "outputId": "34f2b1ac-8b9a-4ab4-9fee-073cce892878"
   },
   "outputs": [
    {
     "data": {
      "text/plain": [
       "[32, 44, 32, 112, 22]"
      ]
     },
     "execution_count": 3,
     "metadata": {},
     "output_type": "execute_result"
    }
   ],
   "source": [
    "def iseven(x):\n",
    "    if x%2 ==0:\n",
    "        return True\n",
    "    else:\n",
    "        False\n",
    "l = [32,33,445,43,44,32,112,22,11]\n",
    "list(filter(iseven,l))"
   ]
  },
  {
   "cell_type": "code",
   "execution_count": null,
   "metadata": {
    "id": "DI76QydJ2vVz",
    "outputId": "d94eef59-7af9-4871-f0b4-33fc71439fc3"
   },
   "outputs": [
    {
     "data": {
      "text/plain": [
       "[32, 44, 32, 112, 22]"
      ]
     },
     "execution_count": 103,
     "metadata": {
      "tags": []
     },
     "output_type": "execute_result"
    }
   ],
   "source": [
    "list(filter(lambda x : x%2==0, l))"
   ]
  },
  {
   "cell_type": "code",
   "execution_count": null,
   "metadata": {
    "id": "qpn5J6Er2vVz",
    "outputId": "f32407c3-c1bd-4d33-cfc7-841daf4d4d9b"
   },
   "outputs": [
    {
     "data": {
      "text/plain": [
       "[64, 66, 890, 86, 88, 64, 224, 44, 22]"
      ]
     },
     "execution_count": 105,
     "metadata": {
      "tags": []
     },
     "output_type": "execute_result"
    }
   ],
   "source": [
    "def double(x):\n",
    "    return 2*x\n",
    "l = [32,33,445,43,44,32,112,22,11]\n",
    "list(map(double,l))"
   ]
  },
  {
   "cell_type": "code",
   "execution_count": 4,
   "metadata": {},
   "outputs": [
    {
     "data": {
      "text/plain": [
       "[32, 33, 445, 43, 44, 32, 112, 22, 11, 32, 33, 445, 43, 44, 32, 112, 22, 11]"
      ]
     },
     "execution_count": 4,
     "metadata": {},
     "output_type": "execute_result"
    }
   ],
   "source": [
    "l*2"
   ]
  },
  {
   "cell_type": "code",
   "execution_count": null,
   "metadata": {
    "id": "Q4r8Z_jT2vV0",
    "outputId": "7b3cb5d7-60b8-4979-ee4d-6760ebbad7ca"
   },
   "outputs": [
    {
     "data": {
      "text/plain": [
       "[32, 33, 445, 43, 44, 32, 112, 22, 11, 32, 33, 445, 43, 44, 32, 112, 22, 11]"
      ]
     },
     "execution_count": 106,
     "metadata": {
      "tags": []
     },
     "output_type": "execute_result"
    }
   ],
   "source": [
    "double(l)"
   ]
  },
  {
   "cell_type": "code",
   "execution_count": null,
   "metadata": {
    "id": "tXHSvro72vV0",
    "outputId": "edc14b45-a7c8-42f8-822d-0b89849c3547"
   },
   "outputs": [
    {
     "data": {
      "text/plain": [
       "[64, 66, 890, 86, 88, 64, 224, 44, 22]"
      ]
     },
     "execution_count": 108,
     "metadata": {
      "tags": []
     },
     "output_type": "execute_result"
    }
   ],
   "source": [
    "list(map(lambda x : x*2, l))"
   ]
  },
  {
   "cell_type": "code",
   "execution_count": 5,
   "metadata": {
    "id": "yZxUtnH42vV0",
    "outputId": "555af2d9-8c2c-49f9-e65b-3579769eea08"
   },
   "outputs": [
    {
     "data": {
      "text/plain": [
       "[5, 8, 9, 8]"
      ]
     },
     "execution_count": 5,
     "metadata": {},
     "output_type": "execute_result"
    }
   ],
   "source": [
    "list1 = [1,2,3,4,5]\n",
    "list2 = [5,4,3,2]\n",
    "list(map(lambda x,y : x * y, list1, list2))"
   ]
  },
  {
   "cell_type": "code",
   "execution_count": null,
   "metadata": {
    "id": "WhFV0Hnt2vV1"
   },
   "outputs": [],
   "source": [
    "map(func, l)\n",
    "filter(func, l)"
   ]
  },
  {
   "cell_type": "code",
   "execution_count": 171,
   "metadata": {
    "id": "x-ZigQE92vV1",
    "outputId": "8b7bcad1-0402-4dcd-ed30-8d24e8adf1c5"
   },
   "outputs": [
    {
     "data": {
      "text/plain": [
       "210"
      ]
     },
     "execution_count": 171,
     "metadata": {},
     "output_type": "execute_result"
    }
   ],
   "source": [
    "from functools import *\n",
    "list1 = [10,20,30,40,50,60]\n",
    "reduce(lambda x,y : x + y, list1)"
   ]
  },
  {
   "cell_type": "code",
   "execution_count": 172,
   "metadata": {},
   "outputs": [
    {
     "data": {
      "text/plain": [
       "[10, 20, 30, 40, 50, 60]"
      ]
     },
     "execution_count": 172,
     "metadata": {},
     "output_type": "execute_result"
    }
   ],
   "source": [
    "list1"
   ]
  },
  {
   "cell_type": "code",
   "execution_count": 15,
   "metadata": {},
   "outputs": [
    {
     "data": {
      "text/plain": [
       "720000000"
      ]
     },
     "execution_count": 15,
     "metadata": {},
     "output_type": "execute_result"
    }
   ],
   "source": [
    "list1 = [10,20,30,40,50,60]\n",
    "list2 = list(range(6))\n",
    "list3 = list(range(6,12))\n",
    "reduce(lambda x,y: x*y, list1)"
   ]
  },
  {
   "cell_type": "code",
   "execution_count": 26,
   "metadata": {
    "id": "RfMGXJ942vV1",
    "outputId": "1061c186-8be6-4c2e-f8f9-c3379b057aaa"
   },
   "outputs": [
    {
     "name": "stdout",
     "output_type": "stream",
     "text": [
      "Outer function is runing\n",
      "Inner function is running\n"
     ]
    }
   ],
   "source": [
    "#Nested Function\n",
    "def outer():\n",
    "    print('Outer function is runing')\n",
    "    def inner():\n",
    "        print('Inner function is running')\n",
    "    inner()\n",
    "    \n",
    "outer()"
   ]
  },
  {
   "cell_type": "code",
   "execution_count": null,
   "metadata": {
    "id": "mMNWpE9l2vV1",
    "outputId": "ffd1187a-a80a-4ded-b912-aa130935dbbf"
   },
   "outputs": [
    {
     "name": "stdout",
     "output_type": "stream",
     "text": [
      "2\n",
      "4\n",
      "6\n",
      "8\n",
      "10\n"
     ]
    }
   ],
   "source": [
    "list1 = [1,2,3,4,5]\n",
    "def double(l):\n",
    "    for i in l:\n",
    "        print(2*i)\n",
    "double(list1)"
   ]
  },
  {
   "cell_type": "markdown",
   "metadata": {
    "id": "06u2rVXJ2vV2"
   },
   "source": [
    "# Class 5 - Python String Operations"
   ]
  },
  {
   "cell_type": "code",
   "execution_count": null,
   "metadata": {
    "id": "VOF_K68e2vV2",
    "outputId": "afc2e6d4-1c5b-4bfc-8fed-7f4c0c630fba"
   },
   "outputs": [
    {
     "name": "stdout",
     "output_type": "stream",
     "text": [
      "Enter the city nameMumbai \n",
      "Your city is not available\n"
     ]
    }
   ],
   "source": [
    "city = input('Enter the city name')\n",
    "list1 = ['Mumbai', 'Pune','Bengaluru','Chennai']\n",
    "if city in list1:\n",
    "    print('Your city is available')\n",
    "else:\n",
    "    print('Your city is not available')"
   ]
  },
  {
   "cell_type": "code",
   "execution_count": null,
   "metadata": {
    "id": "rqz2KhMF2vV2",
    "outputId": "51066f3b-9676-4986-e1ad-a2e33593950a"
   },
   "outputs": [
    {
     "name": "stdout",
     "output_type": "stream",
     "text": [
      "Enter the city nameMumbai \n",
      "Your city is not available\n"
     ]
    }
   ],
   "source": [
    "city = input('Enter the city name')\n",
    "list1 = ['Mumbai', 'Pune','Bengaluru','Chennai']\n",
    "if city.lstrip() in list1:\n",
    "    print('Your city is available')\n",
    "else:\n",
    "    print('Your city is not available')"
   ]
  },
  {
   "cell_type": "code",
   "execution_count": 32,
   "metadata": {},
   "outputs": [
    {
     "name": "stdout",
     "output_type": "stream",
     "text": [
      "Enter the city name   hhhjkhk   kjkhh    \n"
     ]
    },
    {
     "data": {
      "text/plain": [
       "'hhhjkhk   kjkhh'"
      ]
     },
     "execution_count": 32,
     "metadata": {},
     "output_type": "execute_result"
    }
   ],
   "source": [
    "city = input('Enter the city name')\n",
    "city.strip()"
   ]
  },
  {
   "cell_type": "code",
   "execution_count": null,
   "metadata": {
    "id": "q3NKVZBG2vV2",
    "outputId": "0be9c0ac-0740-4773-d421-755ed3824686"
   },
   "outputs": [
    {
     "name": "stdout",
     "output_type": "stream",
     "text": [
      "Enter the city name Mumbai\n",
      "Your city is not available\n"
     ]
    }
   ],
   "source": [
    "city = input('Enter the city name')\n",
    "list1 = ['Mumbai', 'Pune','Bengaluru','Chennai']\n",
    "if city.rstrip() in list1:\n",
    "    print('Your city is available')\n",
    "else:\n",
    "    print('Your city is not available')"
   ]
  },
  {
   "cell_type": "code",
   "execution_count": null,
   "metadata": {
    "id": "3g1Xsq9U2vV3",
    "outputId": "33983140-c4a2-4e37-db14-3c39438732a3"
   },
   "outputs": [
    {
     "name": "stdout",
     "output_type": "stream",
     "text": [
      "Enter the city name               Mumbai            \n",
      "Your city is available\n"
     ]
    }
   ],
   "source": [
    "city = input('Enter the city name')\n",
    "list1 = ['Mumbai', 'Pune','Bengaluru','Chennai']\n",
    "if city.strip() in list1:\n",
    "    print('Your city is available')\n",
    "else:\n",
    "    print('Your city is not available')"
   ]
  },
  {
   "cell_type": "code",
   "execution_count": null,
   "metadata": {
    "id": "5Hf7-q7A2vV3",
    "outputId": "2ab093d1-0a67-432c-b5ac-4533207801ac"
   },
   "outputs": [
    {
     "name": "stdout",
     "output_type": "stream",
     "text": [
      "Enter the city nameMum$bai\n",
      "Your city is not available\n"
     ]
    }
   ],
   "source": [
    "city = input('Enter the city name')\n",
    "list1 = ['Mumbai', 'Pune','Bengaluru','Chennai']\n",
    "if city.strip('$') in list1:\n",
    "    print('Your city is available')\n",
    "else:\n",
    "    print('Your city is not available')"
   ]
  },
  {
   "cell_type": "code",
   "execution_count": null,
   "metadata": {
    "id": "s_PndyvY2vV7",
    "outputId": "60b97dc3-b607-4be9-e372-a43a4ab639ca"
   },
   "outputs": [
    {
     "name": "stdout",
     "output_type": "stream",
     "text": [
      "-1\n",
      "5\n",
      "16\n",
      "16\n",
      "16\n"
     ]
    }
   ],
   "source": [
    "s = 'RahulTiwariRahulTiwari'\n",
    "print(s.find('Roohan'))\n",
    "print(s.find('Tiwari'))\n",
    "print(s.find('Tiwari', 7,22))\n",
    "#If the value is not present it will return -1 (This is not reverse index)\n",
    "#If the value is present it will give the 1st iteration of that value from left to right\n",
    "print(s.rfind('Tiwari'))\n",
    "#rfind is reverse find giving the index from Right to left\n",
    "print(s.rfind('Tiwari', 7,22))"
   ]
  },
  {
   "cell_type": "code",
   "execution_count": 173,
   "metadata": {},
   "outputs": [
    {
     "data": {
      "text/plain": [
       "4"
      ]
     },
     "execution_count": 173,
     "metadata": {},
     "output_type": "execute_result"
    }
   ],
   "source": [
    "s='rahulllji'\n",
    "s.find('l',4,-1)"
   ]
  },
  {
   "cell_type": "code",
   "execution_count": 179,
   "metadata": {},
   "outputs": [
    {
     "data": {
      "text/plain": [
       "'rahulllji'"
      ]
     },
     "execution_count": 179,
     "metadata": {},
     "output_type": "execute_result"
    }
   ],
   "source": [
    "s.zfill(6)"
   ]
  },
  {
   "cell_type": "code",
   "execution_count": 187,
   "metadata": {
    "id": "kmWdfzSq2vV9",
    "outputId": "4cf52126-644b-41ed-e0c9-18d338d9833e"
   },
   "outputs": [
    {
     "name": "stdout",
     "output_type": "stream",
     "text": [
      "Enter the main stringrahgrahrah\n",
      "What you are looking for?r\n",
      "Found at index: 0\n",
      "Found at index: 4\n",
      "Found at index: 7\n"
     ]
    }
   ],
   "source": [
    "#All the occurances of the value in the string rahullllllluull\n",
    "s = input('Enter the main string')\n",
    "sub = input('What you are looking for?')\n",
    "flg = False\n",
    "pos = -1\n",
    "n = len(s)\n",
    "while True:\n",
    "    pos = s.find(sub, pos+1, n)\n",
    "    if pos==-1:\n",
    "        break\n",
    "    print('Found at index:', pos)\n",
    "    flg = True\n",
    "if flg == False:\n",
    "    print('Not Found')"
   ]
  },
  {
   "cell_type": "code",
   "execution_count": 186,
   "metadata": {},
   "outputs": [
    {
     "data": {
      "text/plain": [
       "['False',\n",
       " 'None',\n",
       " 'True',\n",
       " 'and',\n",
       " 'as',\n",
       " 'assert',\n",
       " 'async',\n",
       " 'await',\n",
       " 'break',\n",
       " 'class',\n",
       " 'continue',\n",
       " 'def',\n",
       " 'del',\n",
       " 'elif',\n",
       " 'else',\n",
       " 'except',\n",
       " 'finally',\n",
       " 'for',\n",
       " 'from',\n",
       " 'global',\n",
       " 'if',\n",
       " 'import',\n",
       " 'in',\n",
       " 'is',\n",
       " 'lambda',\n",
       " 'nonlocal',\n",
       " 'not',\n",
       " 'or',\n",
       " 'pass',\n",
       " 'raise',\n",
       " 'return',\n",
       " 'try',\n",
       " 'while',\n",
       " 'with',\n",
       " 'yield']"
      ]
     },
     "execution_count": 186,
     "metadata": {},
     "output_type": "execute_result"
    }
   ],
   "source": [
    "import keyword\n",
    "keyword.kwlist"
   ]
  },
  {
   "cell_type": "code",
   "execution_count": 189,
   "metadata": {
    "id": "eJ7QOy5M2vV-",
    "outputId": "8a2f60ea-77b3-43c9-bcbe-5b533608e960"
   },
   "outputs": [
    {
     "name": "stdout",
     "output_type": "stream",
     "text": [
      "Enter the main stringrahurahurahu\n",
      "What you are looking for?r\n",
      "Found at index: 0\n",
      "Found at index: 4\n",
      "Found at index: 8\n",
      "3\n"
     ]
    }
   ],
   "source": [
    "#All the occurances of the value in the string rahullllllluull\n",
    "s = input('Enter the main string')\n",
    "sub = input('What you are looking for?')\n",
    "flag = False\n",
    "pos = -1\n",
    "n = len(s)\n",
    "count = 0\n",
    "while True:\n",
    "    pos = s.find(sub, pos+1, n)\n",
    "    if pos==-1:\n",
    "        break\n",
    "    print('Found at index:', pos)\n",
    "    flag = True\n",
    "    count = count + 1\n",
    "if flag == False:\n",
    "    print('Not Found')\n",
    "print(count)"
   ]
  },
  {
   "cell_type": "code",
   "execution_count": 188,
   "metadata": {},
   "outputs": [
    {
     "name": "stdout",
     "output_type": "stream",
     "text": [
      "Enter the main stringrahurahurahu\n",
      "What you are looking for?r\n",
      "Found at index: 1\n",
      "Found at index: 5\n",
      "Found at index: 9\n",
      "3\n"
     ]
    }
   ],
   "source": [
    "str1 = input('Enter the main string')\n",
    "c = input('What you are looking for?')\n",
    "idx = 0\n",
    "cnt = 0\n",
    "for i in str1:\n",
    "    idx += 1\n",
    "    if c == i:\n",
    "        print('Found at index:', idx)\n",
    "        cnt += 1\n",
    "print(cnt)\n",
    "       "
   ]
  },
  {
   "cell_type": "code",
   "execution_count": null,
   "metadata": {
    "id": "ecammenD2vV-",
    "outputId": "008d63ad-5860-4ef2-b03a-a8c9eb6b204c"
   },
   "outputs": [
    {
     "name": "stdout",
     "output_type": "stream",
     "text": [
      "2\n",
      "0\n",
      "1\n"
     ]
    }
   ],
   "source": [
    "s = 'rahultiwarirahultiwari'\n",
    "print(s.count('rahul'))\n",
    "print(s.count('Rahul'))\n",
    "print(s.count('rahul',7,22))"
   ]
  },
  {
   "cell_type": "code",
   "execution_count": 39,
   "metadata": {
    "id": "AOS8nff32vV-",
    "outputId": "85322e0f-a3db-4a61-af33-73a4d1d65104"
   },
   "outputs": [
    {
     "data": {
      "text/plain": [
       "'atharvtiwariatharvtiwari'"
      ]
     },
     "execution_count": 39,
     "metadata": {},
     "output_type": "execute_result"
    }
   ],
   "source": [
    "s = 'rahultiwarirahultiwari'\n",
    "s.replace('rahul','atharv')"
   ]
  },
  {
   "cell_type": "code",
   "execution_count": 190,
   "metadata": {
    "id": "EBOFv6ue2vV_",
    "outputId": "5e531bc8-c4df-4aab-b46e-5fdf420144d4"
   },
   "outputs": [
    {
     "data": {
      "text/plain": [
       "['rahul', 'tiwari', 'atharv']"
      ]
     },
     "execution_count": 190,
     "metadata": {},
     "output_type": "execute_result"
    }
   ],
   "source": [
    "s = 'rahul$tiwari$atharv'\n",
    "list1 = s.split('$')\n",
    "list1"
   ]
  },
  {
   "cell_type": "code",
   "execution_count": null,
   "metadata": {
    "id": "Bn26Dfxa2vV_",
    "outputId": "af10333b-e8c2-47d2-9398-cb1066309cdc"
   },
   "outputs": [
    {
     "data": {
      "text/plain": [
       "['Rahul', 'Tiwari', 'Python', 'Edureka-Morning-Batch-7AM']"
      ]
     },
     "execution_count": 37,
     "metadata": {
      "tags": []
     },
     "output_type": "execute_result"
    }
   ],
   "source": [
    "s = 'Rahul-Tiwari-Python-Edureka-Morning-Batch-7AM'\n",
    "list1 = s.split('-',3)\n",
    "list1"
   ]
  },
  {
   "cell_type": "code",
   "execution_count": null,
   "metadata": {
    "id": "Ai3_LCHn2vV_",
    "outputId": "882c4841-1321-4372-a45f-297e2bb6e65b"
   },
   "outputs": [
    {
     "data": {
      "text/plain": [
       "'Rahul$Tiwari$Atharv'"
      ]
     },
     "execution_count": 42,
     "metadata": {
      "tags": []
     },
     "output_type": "execute_result"
    }
   ],
   "source": [
    "l = ['Rahul','Tiwari','Atharv']\n",
    "s = '$'.join(l)\n",
    "type(s)\n",
    "s"
   ]
  },
  {
   "cell_type": "code",
   "execution_count": null,
   "metadata": {
    "id": "a2B-NhJF2vWA",
    "outputId": "3e0dd98e-f94b-4aa7-a1e9-12473abb968a"
   },
   "outputs": [
    {
     "name": "stdout",
     "output_type": "stream",
     "text": [
      "RAHUL TIWARI IS A DATA SCIENTIST\n",
      "rahul tiwari is a data scientist\n",
      "rAHUL tIWARI IS A dATA sCIENTIST\n",
      "Rahul Tiwari Is A Data Scientist\n",
      "Rahul tiwari is a data scientist\n"
     ]
    }
   ],
   "source": [
    "s = 'Rahul Tiwari is a Data Scientist'\n",
    "print(s.upper())\n",
    "print(s.lower())\n",
    "print(s.swapcase())\n",
    "print(s.title())\n",
    "print(s.capitalize())"
   ]
  },
  {
   "cell_type": "code",
   "execution_count": null,
   "metadata": {
    "id": "dP9BF_1b2vWA",
    "outputId": "87c2940b-1c8b-4603-a602-3eb6abefb965"
   },
   "outputs": [
    {
     "name": "stdout",
     "output_type": "stream",
     "text": [
      "True\n",
      "True\n"
     ]
    }
   ],
   "source": [
    "s = 'Learning Python is very easy'\n",
    "print(s.startswith('Learn'))\n",
    "print(s.endswith('easy'))"
   ]
  },
  {
   "cell_type": "code",
   "execution_count": null,
   "metadata": {
    "id": "nIgf7Fkv2vWA"
   },
   "outputs": [],
   "source": [
    "#Type of character present in the string\n",
    "isalnum()\n",
    "isalpha()\n",
    "isdigit()\n",
    "islower()\n",
    "isupper()\n",
    "istitle()\n",
    "isspace()"
   ]
  },
  {
   "cell_type": "code",
   "execution_count": null,
   "metadata": {
    "id": "nCE5otgG2vWA",
    "outputId": "8130430a-ae24-41a9-d578-e1499fb93833"
   },
   "outputs": [
    {
     "name": "stdout",
     "output_type": "stream",
     "text": [
      "True\n",
      "False\n",
      "True\n",
      "True\n",
      "False\n",
      "True\n",
      "False\n",
      "True\n"
     ]
    }
   ],
   "source": [
    "print('Rahul'.isalnum())\n",
    "print('$$$$$'.isalnum())\n",
    "print('123'.isdigit())\n",
    "print('rahul'.islower())\n",
    "print('rahul'.isupper())\n",
    "print('Rahul'.istitle())\n",
    "print('rahul tiwari'.isspace())\n",
    "print('        '.isspace())"
   ]
  },
  {
   "cell_type": "code",
   "execution_count": 193,
   "metadata": {
    "id": "3DWftAm12vWB",
    "outputId": "b11275ac-b749-4eee-ea88-d1a95da96877"
   },
   "outputs": [
    {
     "name": "stdout",
     "output_type": "stream",
     "text": [
      "Enter the stringAsjkJjjkOP\n",
      "Alpha Numeric Character\n",
      "Alphabets present only\n",
      "Title Case\n"
     ]
    }
   ],
   "source": [
    "s = input('Enter the string')\n",
    "if s.isalnum():\n",
    "    print('Alpha Numeric Character')\n",
    "    if s.isalpha():\n",
    "        print('Alphabets present only')\n",
    "        if s.islower():\n",
    "            print('Lower Case')\n",
    "        elif s.isupper():\n",
    "            print('Upper Case')\n",
    "        else:\n",
    "            print('Title Case')\n",
    "    else:\n",
    "        print('It is a digit')\n",
    "elif s.isspace():\n",
    "    print('It is a space')\n",
    "else:\n",
    "    print('Looks like special character')"
   ]
  },
  {
   "cell_type": "code",
   "execution_count": 194,
   "metadata": {
    "id": "2U7puAJU2vWB",
    "outputId": "f1544499-318d-467f-e3cd-8c9cdfec6c7b"
   },
   "outputs": [
    {
     "name": "stdout",
     "output_type": "stream",
     "text": [
      "Enter the stringedurekaRahul\n"
     ]
    },
    {
     "data": {
      "text/plain": [
       "'lhRk'"
      ]
     },
     "execution_count": 194,
     "metadata": {},
     "output_type": "execute_result"
    }
   ],
   "source": [
    "s = input('Enter the string')\n",
    "s[-1:-8:-2]"
   ]
  },
  {
   "cell_type": "code",
   "execution_count": 195,
   "metadata": {},
   "outputs": [
    {
     "data": {
      "text/plain": [
       "reversed"
      ]
     },
     "execution_count": 195,
     "metadata": {},
     "output_type": "execute_result"
    }
   ],
   "source": [
    "r=reversed(s)\n",
    "type(r)"
   ]
  },
  {
   "cell_type": "code",
   "execution_count": 198,
   "metadata": {},
   "outputs": [
    {
     "name": "stdout",
     "output_type": "stream",
     "text": [
      "l\n",
      "u\n",
      "h\n",
      "a\n",
      "R\n",
      "a\n",
      "k\n",
      "e\n",
      "r\n",
      "u\n",
      "d\n",
      "e\n"
     ]
    }
   ],
   "source": [
    "for x in r:\n",
    "    print(x)"
   ]
  },
  {
   "cell_type": "code",
   "execution_count": 200,
   "metadata": {},
   "outputs": [
    {
     "data": {
      "text/plain": [
       "[]"
      ]
     },
     "execution_count": 200,
     "metadata": {},
     "output_type": "execute_result"
    }
   ],
   "source": [
    "l1=list(r)\n",
    "l1"
   ]
  },
  {
   "cell_type": "code",
   "execution_count": 45,
   "metadata": {
    "id": "3aVRylHg2vWB",
    "outputId": "dc05ea3f-bdda-47b9-a913-ae16e55de501"
   },
   "outputs": [
    {
     "name": "stdout",
     "output_type": "stream",
     "text": [
      "Enter the stringedureka\n",
      "akerude"
     ]
    }
   ],
   "source": [
    "s = input('Enter the string')\n",
    "reversed(s)\n",
    "for x in reversed(s):\n",
    "    print(x, end='')"
   ]
  },
  {
   "cell_type": "code",
   "execution_count": null,
   "metadata": {
    "id": "zIlaoFzA2vWC",
    "outputId": "a01c4c7a-74cb-4234-fd2c-cb7f9d585d2e"
   },
   "outputs": [
    {
     "name": "stdout",
     "output_type": "stream",
     "text": [
      "Enter the stringedureka\n",
      "akerude\n"
     ]
    }
   ],
   "source": [
    "s = input('Enter the string')\n",
    "print(''.join(reversed(s)))"
   ]
  },
  {
   "cell_type": "code",
   "execution_count": null,
   "metadata": {
    "id": "TgdjvHNP2vWC",
    "outputId": "2f9c3d7f-f91f-4a94-85c6-371848711ef6"
   },
   "outputs": [
    {
     "name": "stdout",
     "output_type": "stream",
     "text": [
      "Enter the stringedureka\n",
      "6\n",
      "akerude\n"
     ]
    }
   ],
   "source": [
    "s = input('Enter the string')\n",
    "i = len(s) - 1\n",
    "print(i)\n",
    "output=''\n",
    "while i>=0:\n",
    "    output = output+s[i]\n",
    "    i = i - 1\n",
    "print(output)"
   ]
  },
  {
   "cell_type": "code",
   "execution_count": null,
   "metadata": {
    "id": "bKdCh44q2vWC",
    "outputId": "a2e6e825-f28c-4cdf-c58b-83837634e08f"
   },
   "outputs": [
    {
     "name": "stdout",
     "output_type": "stream",
     "text": [
      "Enter the stringEdureka is good for Python\n",
      "['Edureka', 'is', 'good', 'for', 'Python']\n",
      "['Python', 'for', 'good', 'is', 'Edureka']\n",
      "Python for good is Edureka\n"
     ]
    }
   ],
   "source": [
    "s = input('Enter the string')\n",
    "list = s.split()\n",
    "print(list)\n",
    "l1 = []\n",
    "i = len(list) - 1\n",
    "while i >=0:\n",
    "    l1.append(list[i])\n",
    "    i = i - 1\n",
    "print(l1)\n",
    "output = ' '.join(l1)\n",
    "print(output)"
   ]
  },
  {
   "cell_type": "code",
   "execution_count": null,
   "metadata": {
    "id": "VsLkfCy12vWD",
    "outputId": "e5404426-440e-494f-9dbd-3e3a19a6499a"
   },
   "outputs": [
    {
     "name": "stdout",
     "output_type": "stream",
     "text": [
      "Enter the stringabc xyz\n",
      "['cba', 'zyx']\n",
      "cba zyx\n"
     ]
    }
   ],
   "source": [
    "s = input('Enter the string')\n",
    "l = s.split()\n",
    "l1 = []\n",
    "for x in l:\n",
    "    l1.append(x[::-1])\n",
    "print(l1)\n",
    "output = ' '.join(l1)\n",
    "print(output)"
   ]
  },
  {
   "cell_type": "code",
   "execution_count": 202,
   "metadata": {
    "id": "jSPbGtwY2vWD",
    "outputId": "40fd7177-93ec-40e2-a839-1e705100722b"
   },
   "outputs": [
    {
     "data": {
      "text/plain": [
       "'akerudE'"
      ]
     },
     "execution_count": 202,
     "metadata": {},
     "output_type": "execute_result"
    }
   ],
   "source": [
    "a = 'Edureka'\n",
    "b=a[::-1]\n",
    "b"
   ]
  },
  {
   "cell_type": "code",
   "execution_count": 52,
   "metadata": {},
   "outputs": [
    {
     "name": "stdout",
     "output_type": "stream",
     "text": [
      "Ea\n",
      "dk\n",
      "ue\n",
      "rr\n",
      "eu\n",
      "kd\n",
      "aE\n"
     ]
    }
   ],
   "source": [
    "for (i,j) in zip(a,b):\n",
    "    print(i+j)"
   ]
  },
  {
   "cell_type": "code",
   "execution_count": null,
   "metadata": {
    "id": "D5vuC76Q2vWD"
   },
   "outputs": [],
   "source": [
    "#Homework1: \n",
    "#edureka\n",
    "#0123456\n",
    "    #even index characters\n",
    "        #euea\n",
    "    #Odd index characters\n",
    "        #drk\n",
    "        \n",
    "#Homework2: \n",
    "#s1: John\n",
    "#s2: Jame\n",
    "#JJoahmne\n",
    "\n",
    "#Homework3:\n",
    "#input: B4A1D3\n",
    "#Output: ABD134\n",
    "\n",
    "#Homework4:\n",
    "#input: a4b3c2\n",
    "#Output: aaaabbbcc"
   ]
  },
  {
   "cell_type": "code",
   "execution_count": 203,
   "metadata": {},
   "outputs": [
    {
     "name": "stdout",
     "output_type": "stream",
     "text": [
      "drk\n",
      "euea\n"
     ]
    }
   ],
   "source": [
    "s = 'edureka'\n",
    "idx = 0\n",
    "s1 = s2 = ''\n",
    "for c in s:\n",
    "    idx += 1\n",
    "    if idx%2 == 0:\n",
    "        s1 = s1 + c\n",
    "    else:\n",
    "        s2 = s2 + c\n",
    "print(s1)\n",
    "print(s2)\n",
    "    "
   ]
  },
  {
   "cell_type": "code",
   "execution_count": 205,
   "metadata": {},
   "outputs": [
    {
     "data": {
      "text/plain": [
       "'JJoahmne'"
      ]
     },
     "execution_count": 205,
     "metadata": {},
     "output_type": "execute_result"
    }
   ],
   "source": [
    "s1 = 'John'\n",
    "s2 = 'Jame'\n",
    "# JJoahmne\n",
    "list1 = []\n",
    "for (i,j) in zip(s1,s2):\n",
    "    list1.extend([i,j])\n",
    "str1 = ''.join(list1)\n",
    "str1"
   ]
  },
  {
   "cell_type": "code",
   "execution_count": 210,
   "metadata": {},
   "outputs": [
    {
     "data": {
      "text/plain": [
       "'ABD134'"
      ]
     },
     "execution_count": 210,
     "metadata": {},
     "output_type": "execute_result"
    }
   ],
   "source": [
    "ip = 'B4A1D3'\n",
    "l1 = [] \n",
    "l2 = []\n",
    "for c in ip:\n",
    "    if c.isalpha():\n",
    "        l1.append(c)     \n",
    "    else:\n",
    "        l2.append(c)\n",
    "l1.sort()\n",
    "l2.sort()\n",
    "lstr = l1 + l2\n",
    "lstr\n",
    "str1 = ''.join(lstr)\n",
    "str1\n",
    "        \n",
    "# Output: ABD134"
   ]
  },
  {
   "cell_type": "code",
   "execution_count": 220,
   "metadata": {},
   "outputs": [
    {
     "data": {
      "text/plain": [
       "'aaaabbbcc'"
      ]
     },
     "execution_count": 220,
     "metadata": {},
     "output_type": "execute_result"
    }
   ],
   "source": [
    "ip = 'a4b3c2'\n",
    "idx = 0\n",
    "l1 = []\n",
    "s1 =''\n",
    "s2 = ''\n",
    "for c in ip:\n",
    "    idx = idx + 1\n",
    "    if c.isdigit():\n",
    "        s1 = ip[idx-2]*int(c)\n",
    "        s2 = s2 + s1\n",
    "s2\n",
    "# #Output: aaaabbbcc"
   ]
  },
  {
   "cell_type": "markdown",
   "metadata": {
    "id": "YFKbsCOJ2vWE"
   },
   "source": [
    "# Class 6 - Regular Expressions"
   ]
  },
  {
   "cell_type": "code",
   "execution_count": null,
   "metadata": {
    "id": "8GNafDrP2vWE"
   },
   "outputs": [],
   "source": [
    "import re"
   ]
  },
  {
   "cell_type": "code",
   "execution_count": 222,
   "metadata": {
    "id": "VEJtBhs-2vWE",
    "outputId": "190a6d63-bf13-4033-84ea-02bc37676182"
   },
   "outputs": [
    {
     "name": "stdout",
     "output_type": "stream",
     "text": [
      "Match is avaiable at the start index: 0 .... 2 .... cd\n",
      "Match is avaiable at the start index: 2 .... 4 .... cd\n",
      "Match is avaiable at the start index: 6 .... 8 .... cd\n",
      "Match is avaiable at the start index: 8 .... 10 .... cd\n",
      "Match is avaiable at the start index: 12 .... 14 .... cd\n",
      "Match is avaiable at the start index: 14 .... 16 .... cd\n",
      "Match is avaiable at the start index: 16 .... 18 .... cd\n",
      "Match is avaiable at the start index: 18 .... 20 .... cd\n",
      "Match is avaiable at the start index: 21 .... 23 .... cd\n",
      "The total occurances are: 9\n"
     ]
    }
   ],
   "source": [
    "import re\n",
    "count = 0\n",
    "pat1 = re.compile('cd')\n",
    "mat1 = pat1.finditer('cdcdcccdcdcccdcdcdcdccd')\n",
    "\n",
    "for m in mat1:\n",
    "    count = count+1\n",
    "    print('Match is avaiable at the start index:', m.start(),'....', m.end(), '....', m.group())\n",
    "print('The total occurances are:', count)"
   ]
  },
  {
   "cell_type": "code",
   "execution_count": null,
   "metadata": {
    "id": "pVLrt36Z2vWE"
   },
   "outputs": [],
   "source": [
    "#[abc] -> either a or b or c\n",
    "#[^abc] -> except a and b and c\n",
    "#[a-z] -> All the small letter\n",
    "#[A-Z] -> All the upper letter\n",
    "#[a-zA-Z] -> All the characters small and upper letter\n",
    "#[0-9] -> All the digits\n",
    "#[a-zA-Z0-9] -> All the small and upper letter and digits\n",
    "#[^a-zA-Z0-9] -> Except characters that is small and upper and except digits"
   ]
  },
  {
   "cell_type": "code",
   "execution_count": 58,
   "metadata": {
    "id": "cob-IjXO2vWF",
    "outputId": "6c80db0a-7614-4a55-dbab-4722a0a25bb2"
   },
   "outputs": [
    {
     "name": "stdout",
     "output_type": "stream",
     "text": [
      "0 .... 1 .... a\n",
      "1 .... 2 .... 7\n",
      "6 .... 7 .... a\n",
      "9 .... 10 .... x\n"
     ]
    }
   ],
   "source": [
    "import re \n",
    "matcher = re.finditer('[a7x]', 'a7b@kca9zx')\n",
    "for m in matcher:\n",
    "    print(m.start(), '....', m.end(), '....', m.group())"
   ]
  },
  {
   "cell_type": "code",
   "execution_count": null,
   "metadata": {
    "id": "JTRFFleR2vWF",
    "outputId": "6f3209c4-3fc1-4c3c-edef-b13ecc48969b"
   },
   "outputs": [
    {
     "name": "stdout",
     "output_type": "stream",
     "text": [
      "1 .... 2 .... 7\n",
      "2 .... 3 .... b\n",
      "3 .... 4 .... @\n",
      "4 .... 5 .... k\n",
      "6 .... 7 .... 9\n",
      "7 .... 8 .... z\n"
     ]
    }
   ],
   "source": [
    "import re \n",
    "matcher = re.finditer('[^acx]', 'a7b@kc9zx')\n",
    "for m in matcher:\n",
    "    print(m.start(), '....', m.end(), '....', m.group())"
   ]
  },
  {
   "cell_type": "code",
   "execution_count": null,
   "metadata": {
    "id": "NKX52kwQ2vWF",
    "outputId": "179b2001-364d-4117-ca23-ba8842400304"
   },
   "outputs": [
    {
     "name": "stdout",
     "output_type": "stream",
     "text": [
      "0 .... 1 .... a\n",
      "2 .... 3 .... b\n",
      "4 .... 5 .... k\n",
      "5 .... 6 .... c\n",
      "7 .... 8 .... z\n",
      "8 .... 9 .... x\n"
     ]
    }
   ],
   "source": [
    "import re \n",
    "matcher = re.finditer('[a-z]', 'a7b@kc9zx')\n",
    "for m in matcher:\n",
    "    print(m.start(), '....', m.end(), '....', m.group())"
   ]
  },
  {
   "cell_type": "code",
   "execution_count": null,
   "metadata": {
    "id": "nKLhyeeb2vWH",
    "outputId": "f3b00e43-fe99-4640-b23a-beee621e06a8"
   },
   "outputs": [
    {
     "name": "stdout",
     "output_type": "stream",
     "text": [
      "0 .... 1 .... A\n"
     ]
    }
   ],
   "source": [
    "import re \n",
    "matcher = re.finditer('[A-Z]', 'Aa7b@kc9zx')\n",
    "for m in matcher:\n",
    "    print(m.start(), '....', m.end(), '....', m.group())"
   ]
  },
  {
   "cell_type": "code",
   "execution_count": null,
   "metadata": {
    "id": "t7Z_axJP2vWH",
    "outputId": "661bf507-d1c2-4e17-dd01-2264dd81a70a"
   },
   "outputs": [
    {
     "name": "stdout",
     "output_type": "stream",
     "text": [
      "0 .... 1 .... A\n",
      "1 .... 2 .... a\n",
      "3 .... 4 .... b\n",
      "5 .... 6 .... k\n",
      "6 .... 7 .... c\n",
      "8 .... 9 .... z\n",
      "9 .... 10 .... x\n"
     ]
    }
   ],
   "source": [
    "import re \n",
    "matcher = re.finditer('[a-zA-Z]', 'Aa7b@kc9zx')\n",
    "for m in matcher:\n",
    "    print(m.start(), '....', m.end(), '....', m.group())"
   ]
  },
  {
   "cell_type": "code",
   "execution_count": 66,
   "metadata": {
    "id": "L5H0h_Rf2vWI",
    "outputId": "0d1c1b0c-5497-4334-a268-2c03b0aaf414"
   },
   "outputs": [
    {
     "name": "stdout",
     "output_type": "stream",
     "text": [
      "0 .... 1 .... A\n",
      "1 .... 2 .... a\n",
      "3 .... 4 .... b\n",
      "4 .... 5 .... @\n",
      "5 .... 6 .... k\n",
      "6 .... 7 .... c\n",
      "8 .... 9 .... z\n",
      "9 .... 10 .... x\n"
     ]
    }
   ],
   "source": [
    "import re \n",
    "matcher = re.finditer('[^0-9]', 'Aa7b@kc9zx')\n",
    "for m in matcher:\n",
    "    print(m.start(), '....', m.end(), '....', m.group())"
   ]
  },
  {
   "cell_type": "code",
   "execution_count": 68,
   "metadata": {},
   "outputs": [
    {
     "name": "stdout",
     "output_type": "stream",
     "text": [
      "0 .... 1 .... A\n",
      "1 .... 2 .... a\n",
      "3 .... 4 .... b\n",
      "4 .... 5 .... @\n",
      "5 .... 6 .... k\n",
      "6 .... 7 .... c\n",
      "8 .... 9 .... z\n",
      "9 .... 10 .... x\n"
     ]
    }
   ],
   "source": [
    "import re \n",
    "matcher = re.finditer('\\D', 'Aa7b@kc9zx')\n",
    "for m in matcher:\n",
    "    print(m.start(), '....', m.end(), '....', m.group())"
   ]
  },
  {
   "cell_type": "code",
   "execution_count": null,
   "metadata": {
    "id": "T9l30lbd2vWJ",
    "outputId": "e1a8bde8-43a6-4de8-c215-5713b62bd143"
   },
   "outputs": [
    {
     "name": "stdout",
     "output_type": "stream",
     "text": [
      "0 .... 1 .... A\n",
      "1 .... 2 .... a\n",
      "2 .... 3 .... 7\n",
      "3 .... 4 .... b\n",
      "5 .... 6 .... k\n",
      "6 .... 7 .... c\n",
      "7 .... 8 .... 9\n",
      "8 .... 9 .... z\n",
      "9 .... 10 .... x\n"
     ]
    }
   ],
   "source": [
    "import re \n",
    "matcher = re.finditer('[a-zA-Z0-9]', 'Aa7b@kc9zx')\n",
    "for m in matcher:\n",
    "    print(m.start(), '....', m.end(), '....', m.group())"
   ]
  },
  {
   "cell_type": "code",
   "execution_count": 60,
   "metadata": {
    "id": "aLRHSWz82vWJ",
    "outputId": "8c000e04-c492-4694-85d5-20e3c59cab3a"
   },
   "outputs": [
    {
     "name": "stdout",
     "output_type": "stream",
     "text": [
      "4 .... 5 .... @\n"
     ]
    }
   ],
   "source": [
    "import re \n",
    "matcher = re.finditer('[^a-zA-Z0-9]', 'Aa7b@kc9zx')\n",
    "for m in matcher:\n",
    "    print(m.start(), '....', m.end(), '....', m.group())"
   ]
  },
  {
   "cell_type": "code",
   "execution_count": null,
   "metadata": {
    "id": "-VqQGd-u2vWK"
   },
   "outputs": [],
   "source": [
    "#Predefined Character classes \n",
    "#\\s -seach for space\n",
    "#\\S - Except space character\n",
    "#\\d - Any digit\n",
    "#\\D - Except Digits\n",
    "#\\w - Any alphabets (Alphanumeric)\n",
    "#\\W - Any character except alphanumeric (special character)\n",
    "#. - Every character"
   ]
  },
  {
   "cell_type": "code",
   "execution_count": null,
   "metadata": {
    "id": "P1ezRk8H2vWK",
    "outputId": "169b2b01-2f75-4242-e16f-1d8893bca42f"
   },
   "outputs": [
    {
     "name": "stdout",
     "output_type": "stream",
     "text": [
      "4 .... 5 ....  \n",
      "9 .... 10 ....  \n"
     ]
    }
   ],
   "source": [
    "import re \n",
    "matcher = re.finditer('\\s', 'Aa7b @kc9 zx')\n",
    "for m in matcher:\n",
    "    print(m.start(), '....', m.end(), '....', m.group())"
   ]
  },
  {
   "cell_type": "code",
   "execution_count": null,
   "metadata": {
    "id": "_Q014Z6J2vWK",
    "outputId": "116f0303-c4e5-4a7e-8c0e-db70d0567c2d"
   },
   "outputs": [
    {
     "name": "stdout",
     "output_type": "stream",
     "text": [
      "0 .... 1 .... A\n",
      "1 .... 2 .... a\n",
      "2 .... 3 .... 7\n",
      "3 .... 4 .... b\n",
      "5 .... 6 .... @\n",
      "6 .... 7 .... k\n",
      "7 .... 8 .... c\n",
      "8 .... 9 .... 9\n",
      "10 .... 11 .... z\n",
      "11 .... 12 .... x\n"
     ]
    }
   ],
   "source": [
    "import re \n",
    "matcher = re.finditer('\\S', 'Aa7b @kc9 zx')\n",
    "for m in matcher:\n",
    "    print(m.start(), '....', m.end(), '....', m.group())"
   ]
  },
  {
   "cell_type": "code",
   "execution_count": null,
   "metadata": {
    "id": "EY0qi-Mj2vWL",
    "outputId": "1501a7dc-e157-48df-c034-668e2b188849"
   },
   "outputs": [
    {
     "name": "stdout",
     "output_type": "stream",
     "text": [
      "2 .... 3 .... 7\n",
      "8 .... 9 .... 9\n"
     ]
    }
   ],
   "source": [
    "import re \n",
    "matcher = re.finditer('\\d', 'Aa7b @kc9 zx')\n",
    "for m in matcher:\n",
    "    print(m.start(), '....', m.end(), '....', m.group())"
   ]
  },
  {
   "cell_type": "code",
   "execution_count": null,
   "metadata": {
    "id": "NPGcI26K2vWL",
    "outputId": "c6ebe856-5b0f-4001-da28-4271f1528adc"
   },
   "outputs": [
    {
     "name": "stdout",
     "output_type": "stream",
     "text": [
      "0 .... 1 .... A\n",
      "1 .... 2 .... a\n",
      "3 .... 4 .... b\n",
      "4 .... 5 ....  \n",
      "5 .... 6 .... @\n",
      "6 .... 7 .... k\n",
      "7 .... 8 .... c\n",
      "9 .... 10 ....  \n",
      "10 .... 11 .... z\n",
      "11 .... 12 .... x\n"
     ]
    }
   ],
   "source": [
    "import re \n",
    "matcher = re.finditer('\\D', 'Aa7b @kc9 zx')\n",
    "for m in matcher:\n",
    "    print(m.start(), '....', m.end(), '....', m.group())"
   ]
  },
  {
   "cell_type": "code",
   "execution_count": null,
   "metadata": {
    "id": "Pubnh7Gi2vWL",
    "outputId": "9d681552-5241-4349-8093-a7a49f000b3e"
   },
   "outputs": [
    {
     "name": "stdout",
     "output_type": "stream",
     "text": [
      "0 .... 1 .... A\n",
      "1 .... 2 .... a\n",
      "2 .... 3 .... 7\n",
      "3 .... 4 .... b\n",
      "6 .... 7 .... k\n",
      "7 .... 8 .... c\n",
      "8 .... 9 .... 9\n",
      "10 .... 11 .... z\n",
      "11 .... 12 .... x\n"
     ]
    }
   ],
   "source": [
    "import re \n",
    "matcher = re.finditer('\\w', 'Aa7b @kc9 zx')\n",
    "for m in matcher:\n",
    "    print(m.start(), '....', m.end(), '....', m.group())"
   ]
  },
  {
   "cell_type": "code",
   "execution_count": null,
   "metadata": {
    "id": "huyNTSWS2vWM",
    "outputId": "7a5d656b-af0d-4d4b-ad27-a25cb6844c77"
   },
   "outputs": [
    {
     "name": "stdout",
     "output_type": "stream",
     "text": [
      "4 .... 5 ....  \n",
      "5 .... 6 .... @\n",
      "9 .... 10 ....  \n"
     ]
    }
   ],
   "source": [
    "import re \n",
    "matcher = re.finditer('\\W', 'Aa7b @kc9 zx')\n",
    "for m in matcher:\n",
    "    print(m.start(), '....', m.end(), '....', m.group())"
   ]
  },
  {
   "cell_type": "code",
   "execution_count": null,
   "metadata": {
    "id": "YOBvxwto2vWM",
    "outputId": "f22b72ea-cacd-4f62-fd56-ace6079f678b"
   },
   "outputs": [
    {
     "name": "stdout",
     "output_type": "stream",
     "text": [
      "0 .... 1 .... A\n",
      "1 .... 2 .... a\n",
      "2 .... 3 .... 7\n",
      "3 .... 4 .... b\n",
      "4 .... 5 ....  \n",
      "5 .... 6 .... @\n",
      "6 .... 7 .... k\n",
      "7 .... 8 .... c\n",
      "8 .... 9 .... 9\n",
      "9 .... 10 ....  \n",
      "10 .... 11 .... z\n",
      "11 .... 12 .... x\n"
     ]
    }
   ],
   "source": [
    "import re \n",
    "matcher = re.finditer('.', 'Aa7b @kc9 zx')\n",
    "for m in matcher:\n",
    "    print(m.start(), '....', m.end(), '....', m.group())"
   ]
  },
  {
   "cell_type": "code",
   "execution_count": 223,
   "metadata": {
    "id": "h1jbavqG2vWM",
    "outputId": "8071083a-ab3d-48e7-dba5-098f095cbc5e"
   },
   "outputs": [
    {
     "name": "stdout",
     "output_type": "stream",
     "text": [
      "0 .... 2 .... cd\n",
      "3 .... 5 .... cd\n",
      "7 .... 9 .... cd\n"
     ]
    }
   ],
   "source": [
    "import re \n",
    "matcher = re.finditer('cd', 'cdccdcccd')\n",
    "for m in matcher:\n",
    "    print(m.start(), '....',m.end(),'....',m.group())"
   ]
  },
  {
   "cell_type": "code",
   "execution_count": 225,
   "metadata": {
    "id": "kQ8FFdjn2vWN",
    "outputId": "d0e8ec7a-9816-4e7e-fe87-68a30bc2889c"
   },
   "outputs": [
    {
     "name": "stdout",
     "output_type": "stream",
     "text": [
      "0 .... 1 .... c\n",
      "3 .... 5 .... cc\n",
      "6 .... 9 .... ccc\n"
     ]
    }
   ],
   "source": [
    "import re \n",
    "matcher = re.finditer('c+', 'cdeccdcccd')\n",
    "for m in matcher:\n",
    "    print(m.start(), '....',m.end(),'....',m.group())\n",
    "#atleast 1 c or any number of continous c's in this example"
   ]
  },
  {
   "cell_type": "code",
   "execution_count": 224,
   "metadata": {
    "id": "TvGLL6nT2vWN",
    "outputId": "40291c74-57a6-4f5d-cef7-b1d7cd529ada"
   },
   "outputs": [
    {
     "name": "stdout",
     "output_type": "stream",
     "text": [
      "0 .... 1 .... c\n",
      "1 .... 1 .... \n",
      "2 .... 2 .... \n",
      "3 .... 5 .... cc\n",
      "5 .... 5 .... \n",
      "6 .... 9 .... ccc\n",
      "9 .... 9 .... \n",
      "10 .... 10 .... \n"
     ]
    }
   ],
   "source": [
    "import re \n",
    "matcher = re.finditer('c*', 'cdeccdcccd')\n",
    "for m in matcher:\n",
    "    print(m.start(), '....',m.end(),'....',m.group())\n",
    "#Any number of c's including 0 c's"
   ]
  },
  {
   "cell_type": "code",
   "execution_count": null,
   "metadata": {
    "id": "SZm36G6I2vWN",
    "outputId": "5f31ba2c-6bc0-43d2-e71a-d6c0d97b8d89"
   },
   "outputs": [
    {
     "name": "stdout",
     "output_type": "stream",
     "text": [
      "0 .... 1 .... c\n",
      "1 .... 1 .... \n",
      "2 .... 3 .... c\n",
      "3 .... 4 .... c\n",
      "4 .... 4 .... \n",
      "5 .... 6 .... c\n",
      "6 .... 7 .... c\n",
      "7 .... 8 .... c\n",
      "8 .... 8 .... \n",
      "9 .... 9 .... \n"
     ]
    }
   ],
   "source": [
    "import re \n",
    "matcher = re.finditer('c?', 'cdccdcccd')\n",
    "for m in matcher:\n",
    "    print(m.start(), '....',m.end(),'....',m.group())\n",
    "#Atmost one c"
   ]
  },
  {
   "cell_type": "code",
   "execution_count": null,
   "metadata": {
    "id": "nyVQFdn62vWN",
    "outputId": "2b1d6456-b802-4445-8bd4-2d64b655e5cf"
   },
   "outputs": [
    {
     "name": "stdout",
     "output_type": "stream",
     "text": [
      "5 .... 8 .... ccc\n"
     ]
    }
   ],
   "source": [
    "import re \n",
    "matcher = re.finditer('c{3}', 'cdccdcccd')\n",
    "for m in matcher:\n",
    "    print(m.start(), '....',m.end(),'....',m.group())\n",
    "#Exactly c{n}, n number of c's in this example n is 3"
   ]
  },
  {
   "cell_type": "code",
   "execution_count": null,
   "metadata": {
    "id": "39qjB75z2vWO",
    "outputId": "d67379d2-d6e6-45be-df6f-e9c7eba8fae4"
   },
   "outputs": [
    {
     "name": "stdout",
     "output_type": "stream",
     "text": [
      "2 .... 4 .... cc\n",
      "5 .... 8 .... ccc\n"
     ]
    }
   ],
   "source": [
    "import re \n",
    "matcher = re.finditer('c{2,3}', 'cdccdcccd')\n",
    "for m in matcher:\n",
    "    print(m.start(), '....',m.end(),'....',m.group())\n",
    "##Exactly c{n,m}, n or m number of c's in this example n is 2,3"
   ]
  },
  {
   "cell_type": "code",
   "execution_count": null,
   "metadata": {
    "id": "1V2TEvJF2vWO",
    "outputId": "25a8fa82-35e3-4727-8221-dce839fa69f1"
   },
   "outputs": [
    {
     "name": "stdout",
     "output_type": "stream",
     "text": [
      "1 .... 2 .... d\n",
      "4 .... 5 .... d\n",
      "8 .... 9 .... d\n"
     ]
    }
   ],
   "source": [
    "import re \n",
    "matcher = re.finditer('[^c]', 'cdccdcccd')\n",
    "for m in matcher:\n",
    "    print(m.start(), '....',m.end(),'....',m.group())\n",
    "##Except c"
   ]
  },
  {
   "cell_type": "code",
   "execution_count": null,
   "metadata": {
    "id": "Eg6S0EiC2vWO",
    "outputId": "ecf7e221-1d13-443b-c75b-61a2e729a941"
   },
   "outputs": [
    {
     "name": "stdout",
     "output_type": "stream",
     "text": [
      "0 .... 1 .... c\n"
     ]
    }
   ],
   "source": [
    "import re \n",
    "matcher = re.finditer('^c', 'cdccdcccd')\n",
    "for m in matcher:\n",
    "    print(m.start(), '....',m.end(),'....',m.group())\n",
    "#Whether it is starting with c or not"
   ]
  },
  {
   "cell_type": "code",
   "execution_count": null,
   "metadata": {
    "id": "cBHnj9og2vWP",
    "outputId": "ce9edfb0-26c2-4c89-c449-a0f72b943406"
   },
   "outputs": [
    {
     "name": "stdout",
     "output_type": "stream",
     "text": [
      "8 .... 9 .... d\n"
     ]
    }
   ],
   "source": [
    "import re \n",
    "matcher = re.finditer('d$', 'cdccdcccd')\n",
    "for m in matcher:\n",
    "    print(m.start(), '....',m.end(),'....',m.group())\n",
    "#Whether it is ending with d or not"
   ]
  },
  {
   "cell_type": "code",
   "execution_count": null,
   "metadata": {
    "id": "_TdtjoLP2vWP"
   },
   "outputs": [],
   "source": [
    "#Important functions in RE Module\n",
    "#finditer()\n",
    "#compile()\n",
    "#match()\n",
    "#fullmatch()\n",
    "#search()\n",
    "#findall()\n",
    "#sub()\n",
    "#subn()\n",
    "#split()"
   ]
  },
  {
   "cell_type": "code",
   "execution_count": 76,
   "metadata": {
    "id": "1Q-Q5dOZ2vWP",
    "outputId": "84039379-343b-4348-8c2b-de07a84f0820"
   },
   "outputs": [
    {
     "name": "stdout",
     "output_type": "stream",
     "text": [
      "Enter the sting you looking foradf\n",
      "<re.Match object; span=(0, 3), match='adf'>\n",
      "Match is available\n"
     ]
    }
   ],
   "source": [
    "import re\n",
    "s = input('Enter the sting you looking for')\n",
    "m = re.match(s, 'adfgredgyrt65gtdf')\n",
    "print(m)\n",
    "if m!=None:\n",
    "    print('Match is available')\n",
    "else:\n",
    "    print('Match is not available')"
   ]
  },
  {
   "cell_type": "code",
   "execution_count": 73,
   "metadata": {
    "id": "n8zfp9YR2vWP",
    "outputId": "875f617c-6078-442f-8b41-8a9aedbd2250"
   },
   "outputs": [],
   "source": [
    "type(m)\n",
    "m"
   ]
  },
  {
   "cell_type": "code",
   "execution_count": null,
   "metadata": {
    "id": "tG_06vVc2vWQ",
    "outputId": "ec0b100a-4aa8-4031-939d-f8d64fa6cb3f"
   },
   "outputs": [
    {
     "name": "stdout",
     "output_type": "stream",
     "text": [
      "Enter the sting you looking foradfgredgyrt65gtdf\n",
      "Match is available\n"
     ]
    }
   ],
   "source": [
    "import re\n",
    "s = input('Enter the sting you looking for')\n",
    "m = re.fullmatch(s, 'adfgredgyrt65gtdf')\n",
    "if m!=None:\n",
    "    print('Match is available')\n",
    "else:\n",
    "    print('Match is not available')"
   ]
  },
  {
   "cell_type": "code",
   "execution_count": 78,
   "metadata": {
    "id": "m1L9BzKJ2vWQ",
    "outputId": "2cd24e60-f562-4667-87a4-f179404e5904"
   },
   "outputs": [
    {
     "name": "stdout",
     "output_type": "stream",
     "text": [
      "Enter the sting you looking fordc\n",
      "Match is available\n",
      "1 .... 3\n",
      "<re.Match object; span=(1, 3), match='dc'>\n"
     ]
    }
   ],
   "source": [
    "import re\n",
    "s = input('Enter the sting you looking for')\n",
    "m = re.search(s, 'cdccdcccdcccd')\n",
    "if m!=None:\n",
    "    print('Match is available')\n",
    "    print(m.start(),'....',m.end())\n",
    "else:\n",
    "    print('Match is not available')\n",
    "print(m)"
   ]
  },
  {
   "cell_type": "code",
   "execution_count": null,
   "metadata": {
    "id": "gCX6-Xj82vWQ",
    "outputId": "13434fe5-6632-48e4-d0d1-6ac40f9aa54f"
   },
   "outputs": [
    {
     "name": "stdout",
     "output_type": "stream",
     "text": [
      "Enter the sting you looking forccc\n",
      "['ccc', 'ccc']\n"
     ]
    }
   ],
   "source": [
    "import re\n",
    "s = input('Enter the sting you looking for')\n",
    "m = re.findall(s, 'cdccdcccdcccd')\n",
    "print(m)"
   ]
  },
  {
   "cell_type": "code",
   "execution_count": null,
   "metadata": {
    "id": "kqz6Aa2K2vWR",
    "outputId": "3dfa1066-a13c-42a2-861d-3f7481d6fb1c"
   },
   "outputs": [
    {
     "name": "stdout",
     "output_type": "stream",
     "text": [
      "['6', '7', '8', '9', '4']\n"
     ]
    }
   ],
   "source": [
    "import re\n",
    "m = re.findall('[0-9]', 'a67ytyu89iu4$')\n",
    "print(m)"
   ]
  },
  {
   "cell_type": "code",
   "execution_count": null,
   "metadata": {
    "id": "ZGoXArxb2vWR",
    "outputId": "2a057bb1-2ba3-4804-8bc0-f2ef6047f7e0"
   },
   "outputs": [
    {
     "name": "stdout",
     "output_type": "stream",
     "text": [
      "0 .... 2 .... cd\n",
      "3 .... 5 .... cd\n",
      "7 .... 9 .... cd\n",
      "9 .... 11 .... cd\n",
      "11 .... 13 .... cd\n"
     ]
    }
   ],
   "source": [
    "import re\n",
    "matcher = re.finditer('cd','cdecdcccdcdcd')\n",
    "for m in matcher:\n",
    "    print(m.start(),'....',m.end(),'....',m.group())"
   ]
  },
  {
   "cell_type": "code",
   "execution_count": null,
   "metadata": {
    "id": "sClviO1z2vWR",
    "outputId": "fd4d02f0-d031-4c4c-c2ec-580368365a29"
   },
   "outputs": [
    {
     "name": "stdout",
     "output_type": "stream",
     "text": [
      "['#', ' ', '$', ' ', '$', ' ', '&']\n"
     ]
    }
   ],
   "source": [
    "import re\n",
    "l = re.findall('\\W', 'a7# $trg $fhgf &fvvv')\n",
    "print(l)"
   ]
  },
  {
   "cell_type": "code",
   "execution_count": null,
   "metadata": {
    "id": "Qkvv-RJ02vWR",
    "outputId": "bc96265d-d393-4b55-9095-4d1b7707d191"
   },
   "outputs": [
    {
     "name": "stdout",
     "output_type": "stream",
     "text": [
      "['a', '7', 't', 'r', 'g', 'f', 'h', 'g', 'f', 'f', 'v', 'v', 'v']\n"
     ]
    }
   ],
   "source": [
    "import re\n",
    "l = re.findall('\\w', 'a7# $trg $fhgf &fvvv')\n",
    "print(l)"
   ]
  },
  {
   "cell_type": "code",
   "execution_count": null,
   "metadata": {
    "id": "sxSwXKIl2vWS",
    "outputId": "b3cbed96-8b37-4757-f125-b51015ab374f"
   },
   "outputs": [
    {
     "name": "stdout",
     "output_type": "stream",
     "text": [
      "a## $trg $fhgf &fvvv###\n"
     ]
    }
   ],
   "source": [
    "import re \n",
    "s = re.sub('\\d', '#','a7# $trg $fhgf &fvvv657')\n",
    "print(s)"
   ]
  },
  {
   "cell_type": "code",
   "execution_count": null,
   "metadata": {
    "id": "-iU1A2Cb2vWS",
    "outputId": "cf93a3b7-8c90-451e-8f4e-f094f56993d2"
   },
   "outputs": [
    {
     "name": "stdout",
     "output_type": "stream",
     "text": [
      "('a## $trg $fhgf &fvvv###', 4)\n",
      "a## $trg $fhgf &fvvv###\n",
      "4\n"
     ]
    }
   ],
   "source": [
    "import re \n",
    "s = re.subn('\\d', '#','a7# $trg $fhgf &fvvv657')\n",
    "print(s)\n",
    "print(s[0])\n",
    "print(s[1])"
   ]
  },
  {
   "cell_type": "code",
   "execution_count": null,
   "metadata": {
    "id": "I6QXxgWA2vWS",
    "outputId": "922a7df9-a715-4083-cf37-e0479520ebc5"
   },
   "outputs": [
    {
     "name": "stdout",
     "output_type": "stream",
     "text": [
      "['10', '20', '30', '40', '50', '60', '70']\n"
     ]
    }
   ],
   "source": [
    "import re\n",
    "l = re.split('-', '10-20-30-40-50-60-70')\n",
    "print(l)"
   ]
  },
  {
   "cell_type": "code",
   "execution_count": null,
   "metadata": {
    "id": "iKpbTeGm2vWS",
    "outputId": "59c04e1a-2e66-44b9-9c04-252819c96f76"
   },
   "outputs": [
    {
     "name": "stdout",
     "output_type": "stream",
     "text": [
      "['', '', '', '', '', '', '', '', '', '', '', '', '', '', '', '', '', '', '']\n"
     ]
    }
   ],
   "source": [
    "import re \n",
    "l = re.split('.', 'www.rahultiwari.co')\n",
    "print(l)"
   ]
  },
  {
   "cell_type": "code",
   "execution_count": null,
   "metadata": {
    "id": "4-62B3RN2vWT",
    "outputId": "aa36632c-3d28-4524-d236-ad99e153ce2e"
   },
   "outputs": [
    {
     "name": "stdout",
     "output_type": "stream",
     "text": [
      "['www', 'rahultiwari', 'co']\n"
     ]
    }
   ],
   "source": [
    "import re \n",
    "l = re.split('\\.', 'www.rahultiwari.co')\n",
    "print(l)"
   ]
  },
  {
   "cell_type": "code",
   "execution_count": null,
   "metadata": {
    "id": "tBqKOmjA2vWT",
    "outputId": "12793393-4285-4306-e3df-310d3d738eb4"
   },
   "outputs": [
    {
     "name": "stdout",
     "output_type": "stream",
     "text": [
      "['www', 'rahultiwari', 'co']\n"
     ]
    }
   ],
   "source": [
    "import re \n",
    "l = re.split('[.]', 'www.rahultiwari.co')\n",
    "print(l)"
   ]
  },
  {
   "cell_type": "code",
   "execution_count": 86,
   "metadata": {
    "id": "esR6vN_z2vWT",
    "outputId": "85caff0a-2ff2-4481-a4c2-a7346eefdb84"
   },
   "outputs": [
    {
     "name": "stdout",
     "output_type": "stream",
     "text": [
      "Target string starts with Learn\n"
     ]
    }
   ],
   "source": [
    "import re\n",
    "s = 'Learning Python is very easy'\n",
    "res = re.search('^Learn',s)\n",
    "if res !=None:\n",
    "    print('Target string starts with Learn')\n",
    "else:\n",
    "    print('Target string does not starts with learn')"
   ]
  },
  {
   "cell_type": "code",
   "execution_count": null,
   "metadata": {
    "id": "GND3nWGO2vWT",
    "outputId": "42f2123e-2928-4a94-9187-6dff1092def9"
   },
   "outputs": [
    {
     "name": "stdout",
     "output_type": "stream",
     "text": [
      "Target string ends with easy\n"
     ]
    }
   ],
   "source": [
    "import re\n",
    "s = 'Learning Python is very easy'\n",
    "res = re.search('easy$',s)\n",
    "if res !=None:\n",
    "    print('Target string ends with easy')\n",
    "else:\n",
    "    print('Target string does not ends with easy')"
   ]
  },
  {
   "cell_type": "code",
   "execution_count": null,
   "metadata": {
    "id": "Li8nRMJL2vWU",
    "outputId": "9419d855-0faa-4641-a0cd-13f50b0542d5"
   },
   "outputs": [
    {
     "name": "stdout",
     "output_type": "stream",
     "text": [
      "Target string ends with easy\n"
     ]
    }
   ],
   "source": [
    "import re\n",
    "s = 'Learning Python is very easy'\n",
    "res = re.search('Easy$',s, re.IGNORECASE)\n",
    "if res !=None:\n",
    "    print('Target string ends with easy')\n",
    "else:\n",
    "    print('Target string does not ends with easy')"
   ]
  },
  {
   "cell_type": "code",
   "execution_count": null,
   "metadata": {
    "id": "oTfkWUwU2vWU"
   },
   "outputs": [],
   "source": [
    "#New Programming Language - Rython - Identifers \n",
    "#1. The allowable characters should be \n",
    "    #a. Alphabets (A-Z,a-z)\n",
    "    #b. Digits (0-9)\n",
    "    #c. #\n",
    "#2. First character should be lower case alphabet between [a-k]\n",
    "#3. The second character should be any digit divisible by 3 [0369]\n",
    "#4. The length of the identifier should be atleast 2\n",
    "#[a-k][0369][a-zA-Z0-9#]*"
   ]
  },
  {
   "cell_type": "code",
   "execution_count": 88,
   "metadata": {
    "id": "XnyP9-vR2vWU",
    "outputId": "04ebeb5d-3432-434d-c820-9ceaf6101a5f"
   },
   "outputs": [
    {
     "name": "stdout",
     "output_type": "stream",
     "text": [
      "Enter the identifier to validate*&^jhgjhg\n",
      "*&^jhgjhg is an invalid identifier\n"
     ]
    }
   ],
   "source": [
    "import re \n",
    "s = input('Enter the identifier to validate')\n",
    "m = re.fullmatch('[a-k][0369][a-zA-Z0-9#]*', s)\n",
    "if m!=None:\n",
    "    print(s, 'is the valid identifier')\n",
    "else:\n",
    "    print(s, 'is an invalid identifier')"
   ]
  },
  {
   "cell_type": "code",
   "execution_count": null,
   "metadata": {
    "id": "4K6wEY6v2vWY"
   },
   "outputs": [],
   "source": [
    "#10 Digit phone number\n",
    "[6789][0-9]*\n",
    "[6789][0-9]+\n",
    "[6789][0-9][0-9][0-9][0-9][0-9][0-9][0-9][0-9][0-9]\n",
    "[6789][0-9]{9}\n",
    "[6-9]\\d{9}"
   ]
  },
  {
   "cell_type": "code",
   "execution_count": 89,
   "metadata": {
    "id": "ItZXvKgi2vWY",
    "outputId": "9db7b90c-6389-4a00-a9ef-2441881d5245"
   },
   "outputs": [
    {
     "name": "stdout",
     "output_type": "stream",
     "text": [
      "Enter the mobile number67868768767687\n",
      "67868768767687 is invalid phone number\n"
     ]
    }
   ],
   "source": [
    "import re \n",
    "s = input('Enter the mobile number')\n",
    "m = re.fullmatch('[6-9]\\d{9}', s)\n",
    "if m!=None:\n",
    "    print(s, 'is a valid phone number')\n",
    "else:\n",
    "    print(s, 'is invalid phone number')"
   ]
  },
  {
   "cell_type": "code",
   "execution_count": 91,
   "metadata": {},
   "outputs": [
    {
     "name": "stdout",
     "output_type": "stream",
     "text": [
      "Enter the mobile number769879798708709\n",
      "769879798708709 is a valid phone number\n"
     ]
    }
   ],
   "source": [
    "import re \n",
    "s = input('Enter the mobile number')\n",
    "m = re.fullmatch('[6789][0-9]+', s)\n",
    "if m!=None:\n",
    "    print(s, 'is a valid phone number')\n",
    "else:\n",
    "    print(s, 'is invalid phone number')"
   ]
  },
  {
   "cell_type": "code",
   "execution_count": null,
   "metadata": {
    "id": "Sp0XszhY2vWY"
   },
   "outputs": [],
   "source": [
    "10 - without country code \n",
    "11 - 0\n",
    "12 - 91\n",
    "13 - +91\n"
   ]
  },
  {
   "cell_type": "code",
   "execution_count": 232,
   "metadata": {
    "id": "Iho5b8HR2vWZ",
    "outputId": "4d2a3d5d-9f63-424a-d0a7-df4988df3946"
   },
   "outputs": [
    {
     "name": "stdout",
     "output_type": "stream",
     "text": [
      "searching in  http://www.google.com\n",
      "['<title>Google</title>']\n",
      "searching in  http://www.rediff.com\n",
      "['<title>Rediff.com: News | Rediffmail | Stock Quotes | Shopping</title>']\n"
     ]
    }
   ],
   "source": [
    "import re , urllib.request\n",
    "sites = ['http://www.google.com','http://www.rediff.com']\n",
    "for s in sites:\n",
    "    print('searching in ', s)\n",
    "    u = urllib.request.urlopen(s)\n",
    "    text = u.read()\n",
    "    title = re.findall('<title>.*</title>', str(text), re.IGNORECASE)\n",
    "    print(title)"
   ]
  },
  {
   "cell_type": "code",
   "execution_count": 230,
   "metadata": {},
   "outputs": [
    {
     "name": "stdout",
     "output_type": "stream",
     "text": [
      "searching in  http://www.google.com\n",
      "<title>Google</title>\n",
      "searching in  http://www.rediff.com\n",
      "<title>Rediff.com: News | Rediffmail | Stock Quotes | Shopping</title>\n"
     ]
    }
   ],
   "source": [
    "import re , urllib.request\n",
    "sites = ['http://www.google.com','http://www.rediff.com']\n",
    "for s in sites:\n",
    "    print('searching in ', s)\n",
    "    u = urllib.request.urlopen(s)\n",
    "    text = u.read()\n",
    "    title = re.findall('<title>.*</title>', str(text), re.IGNORECASE)\n",
    "    print(title[0])"
   ]
  },
  {
   "cell_type": "code",
   "execution_count": 102,
   "metadata": {},
   "outputs": [],
   "source": [
    "# import pandas as pd\n",
    "# s = pd.read_csv('https://www.dropbox.com/s/kr6f2lednm1pvc4/heart_failure_clinical_records_dataset%20%281%29.csv',sep=',')\n",
    "# s"
   ]
  },
  {
   "cell_type": "code",
   "execution_count": 98,
   "metadata": {},
   "outputs": [
    {
     "data": {
      "text/plain": [
       "['(257) 563-7401',\n",
       " '(372) 587-2335',\n",
       " '(786) 713-8616',\n",
       " '(793) 151-6230',\n",
       " '(492) 709-6392',\n",
       " '(654) 393-5734',\n",
       " '(404) 960-3807',\n",
       " '(314) 244-6306',\n",
       " '(947) 278-5929',\n",
       " '(684) 579-1879',\n",
       " '(389) 737-2852',\n",
       " '(660) 663-4518',\n",
       " '(608) 265-2215',\n",
       " '(959) 119-8364',\n",
       " '(468) 353-2641',\n",
       " '(248) 675-4007',\n",
       " '(939) 353-1107',\n",
       " '(570) 873-7090',\n",
       " '(302) 259-2375',\n",
       " '(717) 450-4729',\n",
       " '(453) 391-4650',\n",
       " '(559) 104-5475',\n",
       " '(387) 142-9434',\n",
       " '(516) 745-4496',\n",
       " '(326) 677-3419',\n",
       " '(746) 679-2470',\n",
       " '(455) 430-0989',\n",
       " '(490) 936-4694',\n",
       " '(985) 834-8285',\n",
       " '(662) 661-1446',\n",
       " '(802) 668-8240',\n",
       " '(477) 768-9247',\n",
       " '(791) 239-9057',\n",
       " '(832) 109-0213',\n",
       " '(837) 196-3274',\n",
       " '(268) 442-2428',\n",
       " '(850) 676-5117',\n",
       " '(861) 546-5032',\n",
       " '(176) 805-4108',\n",
       " '(715) 912-6931',\n",
       " '(993) 554-0563',\n",
       " '(357) 616-5411',\n",
       " '(121) 347-0086',\n",
       " '(304) 506-6314',\n",
       " '(425) 288-2332',\n",
       " '(145) 987-4962',\n",
       " '(187) 582-9707',\n",
       " '(750) 558-3965',\n",
       " '(492) 467-3131',\n",
       " '(774) 914-2510',\n",
       " '(888) 106-8550',\n",
       " '(539) 567-3573',\n",
       " '(693) 337-2849',\n",
       " '(545) 604-9386',\n",
       " '(221) 156-5026',\n",
       " '(414) 876-0865',\n",
       " '(932) 726-8645',\n",
       " '(726) 710-9826',\n",
       " '(622) 594-1662',\n",
       " '(948) 600-8503',\n",
       " '(605) 900-7508',\n",
       " '(716) 977-5775',\n",
       " '(368) 239-8275',\n",
       " '(725) 342-0650',\n",
       " '(711) 993-5187',\n",
       " '(882) 399-5084',\n",
       " '(287) 755-9948',\n",
       " '(659) 551-3389',\n",
       " '(275) 730-6868',\n",
       " '(725) 757-4047',\n",
       " '(314) 882-1496',\n",
       " '(639) 360-7590',\n",
       " '(168) 222-1592',\n",
       " '(896) 303-1164',\n",
       " '(203) 982-6130',\n",
       " '(906) 217-1470',\n",
       " '(614) 514-1269',\n",
       " '(763) 409-5446',\n",
       " '(836) 292-5324',\n",
       " '(926) 709-3295',\n",
       " '(963) 356-9268',\n",
       " '(736) 522-8584',\n",
       " '(410) 483-0352',\n",
       " '(252) 204-1434',\n",
       " '(874) 886-4174',\n",
       " '(581) 379-7573',\n",
       " '(983) 632-8597',\n",
       " '(295) 983-3476',\n",
       " '(873) 392-8802',\n",
       " '(360) 669-3923',\n",
       " '(840) 987-9449',\n",
       " '(422) 517-6053',\n",
       " '(126) 940-2753',\n",
       " '(427) 930-5255',\n",
       " '(689) 721-5145',\n",
       " '(676) 334-2174',\n",
       " '(437) 994-5270',\n",
       " '(564) 908-6970',\n",
       " '(577) 333-6244',\n",
       " '(655) 840-6139']"
      ]
     },
     "execution_count": 98,
     "metadata": {},
     "output_type": "execute_result"
    }
   ],
   "source": [
    "data\n",
    "response\n",
    "data_str\n",
    "pdata"
   ]
  },
  {
   "cell_type": "code",
   "execution_count": 236,
   "metadata": {},
   "outputs": [
    {
     "data": {
      "text/plain": [
       "'<html>\\n<head><title>Sample Addresses!</title></head>\\n<body>\\n<h1> A page full of sample addresses for your parsing enjoyment!</h1>\\n<h2> (All data is random....)</h2>\\n<ul>\\n<li>Cecilia Chapman<br/>711-2880 Nulla St.<br/>Mankato Mississippi 96522<br/>(257) 563-7401</li>\\n<li>Iris Watson<br/>P.O. Box 283 8562 Fusce Rd.<br/>Frederick Nebraska 20620<br/>(372) 587-2335</li>\\n<li>Celeste Slater<br/>606-3727 Ullamcorper. Street<br/>Roseville NH 11523<br/>(786) 713-8616</li>\\n<li>Theodore Lowe<br/>Ap #867-859 Sit Rd.<br/>Azusa New York 39531<br/>(793) 151-6230</li>\\n<li>Calista Wise<br/>7292 Dictum Av.<br/>San Antonio MI 47096<br/>(492) 709-6392</li>\\n<li>Kyla Olsen<br/>Ap #651-8679 Sodales Av.<br/>Tamuning PA 10855<br/>(654) 393-5734</li>\\n<li>Forrest Ray<br/>191-103 Integer Rd.<br/>Corona New Mexico 08219<br/>(404) 960-3807</li>\\n<li>Hiroko Potter<br/>P.O. Box 887 2508 Dolor. Av.<br/>Muskegon KY 12482<br/>(314) 244-6306</li>\\n<li>Nyssa Vazquez<br/>511-5762 At Rd.<br/>Chelsea MI 67708<br/>(947) 278-5929</li>\\n<li>Lawrence Moreno<br/>935-9940 Tortor. Street<br/>Santa Rosa MN 98804<br/>(684) 579-1879</li>\\n<li>Ina Moran<br/>P.O. Box 929 4189 Nunc Road<br/>Lebanon KY 69409<br/>(389) 737-2852</li>\\n<li>Aaron Hawkins<br/>5587 Nunc. Avenue<br/>Erie Rhode Island 24975<br/>(660) 663-4518</li>\\n<li>Hedy Greene<br/>Ap #696-3279 Viverra. Avenue<br/>Latrobe DE 38100<br/>(608) 265-2215</li>\\n<li>Melvin Porter<br/>P.O. Box 132 1599 Curabitur Rd.<br/>Bandera South Dakota 45149<br/>(959) 119-8364</li>\\n<li>Keefe Sellers<br/>347-7666 Iaculis St.<br/>Woodruff SC 49854<br/>(468) 353-2641</li>\\n<li>Joan Romero<br/>666-4366 Lacinia Avenue<br/>Idaho Falls Ohio 19253<br/>(248) 675-4007</li>\\n<li>Davis Patrick<br/>P.O. Box 147 2546 Sociosqu Rd.<br/>Bethlehem Utah 02913<br/>(939) 353-1107</li>\\n<li>Leilani Boyer<br/>557-6308 Lacinia Road<br/>San Bernardino ND 09289<br/>(570) 873-7090</li>\\n<li>Colby Bernard<br/>Ap #285-7193 Ullamcorper Avenue<br/>Amesbury HI 93373<br/>(302) 259-2375</li>\\n<li>Bryar Pitts<br/>5543 Aliquet St.<br/>Fort Dodge GA 20783<br/>(717) 450-4729</li>\\n<li>Rahim Henderson<br/>5037 Diam Rd.<br/>Daly City Ohio 90255<br/>(453) 391-4650</li>\\n<li>Noelle Adams<br/>6351 Fringilla Avenue<br/>Gardena Colorado 37547<br/>(559) 104-5475</li>\\n<li>Lillith Daniel<br/>935-1670 Neque. St.<br/>Centennial Delaware 48432<br/>(387) 142-9434</li>\\n<li>Adria Russell<br/>414-7533 Non Rd.<br/>Miami Beach North Dakota 58563<br/>(516) 745-4496</li>\\n<li>Hilda Haynes<br/>778-9383 Suspendisse Av.<br/>Weirton IN 93479<br/>(326) 677-3419</li>\\n<li>Sheila Mcintosh<br/>P.O. Box 360 4407 Et Rd.<br/>Santa Monica FL 30309<br/>(746) 679-2470</li>\\n<li>Rebecca Chambers<br/>P.O. Box 813 5982 Sit Ave<br/>Liberal Vermont 51324<br/>(455) 430-0989</li>\\n<li>Christian Emerson<br/>P.O. Box 886 4118 Arcu St.<br/>Rolling Hills Georgia 92358<br/>(490) 936-4694</li>\\n<li>Nevada Ware<br/>P.O. Box 597 4156 Tincidunt Ave<br/>Green Bay Indiana 19759<br/>(985) 834-8285</li>\\n<li>Margaret Joseph<br/>P.O. Box 508 3919 Gravida St.<br/>Tamuning Washington 55797<br/>(662) 661-1446</li>\\n<li>Edward Nieves<br/>928-3313 Vel Av.<br/>Idaho Falls Rhode Island 37232<br/>(802) 668-8240</li>\\n<li>Imani Talley<br/>P.O. Box 262 4978 Sit St.<br/>Yigo Massachusetts 50654<br/>(477) 768-9247</li>\\n<li>Bertha Riggs<br/>P.O. Box 206 6639 In St.<br/>Easthampton TN 31626<br/>(791) 239-9057</li>\\n<li>Wallace Ross<br/>313 Pellentesque Ave<br/>Villa Park Hawaii 43526<br/>(832) 109-0213</li>\\n<li>Chester Bennett<br/>3476 Aliquet. Ave<br/>Minot AZ 95302<br/>(837) 196-3274</li>\\n<li>Castor Richardson<br/>P.O. Box 902 3472 Ullamcorper Street<br/>Lynchburg DC 29738<br/>(268) 442-2428</li>\\n<li>Sonya Jordan<br/>Ap #443-336 Ullamcorper. Street<br/>Visalia VA 54886<br/>(850) 676-5117</li>\\n<li>Harrison Mcguire<br/>574-8633 Arcu Street<br/>San Fernando ID 77373<br/>(861) 546-5032</li>\\n<li>Malcolm Long<br/>9291 Proin Road<br/>Lake Charles Maine 11292<br/>(176) 805-4108</li>\\n<li>Raymond Levy<br/>Ap #643-7006 Risus St.<br/>Beaumont New Mexico 73585<br/>(715) 912-6931</li>\\n<li>Hedley Ingram<br/>737-2580 At Street<br/>Independence Texas 87535<br/>(993) 554-0563</li>\\n<li>David Mathews<br/>1011 Malesuada Road<br/>Moscow Kentucky 77382<br/>(357) 616-5411</li>\\n<li>Xyla Cash<br/>969-1762 Tincidunt Rd.<br/>Boise CT 35282<br/>(121) 347-0086</li>\\n<li>Madeline Gregory<br/>977-4841 Ut Ave<br/>Walla Walla Michigan 82776<br/>(304) 506-6314</li>\\n<li>Griffith Daniels<br/>6818 Eget St.<br/>Tacoma AL 92508<br/>(425) 288-2332</li>\\n<li>Anne Beasley<br/>987-4223 Urna St.<br/>Savannah Illinois 85794<br/>(145) 987-4962</li>\\n<li>Chaney Bennett<br/>P.O. Box 721 902 Dolor Rd.<br/>Fremont AK 19408<br/>(187) 582-9707</li>\\n<li>Daniel Bernard<br/>P.O. Box 567 1561 Duis Rd.<br/>Pomona TN 08609<br/>(750) 558-3965</li>\\n<li>Willow Hunt<br/>Ap #784-1887 Lobortis Ave<br/>Cudahy Ohio 31522<br/>(492) 467-3131</li>\\n<li>Judith Floyd<br/>361-7936 Feugiat St.<br/>Williston Nevada 58521<br/>(774) 914-2510</li>\\n<li>Seth Farley<br/>6216 Aenean Avenue<br/>Seattle Utah 81202<br/>(888) 106-8550</li>\\n<li>Zephania Sanders<br/>3714 Nascetur St.<br/>Hawthorne Louisiana 10626<br/>(539) 567-3573</li>\\n<li>Calista Merritt<br/>Ap #938-5470 Posuere Ave<br/>Chickasha LA 58520<br/>(693) 337-2849</li>\\n<li>Craig Williams<br/>P.O. Box 372 5634 Montes Rd.<br/>Springdale MO 57692<br/>(545) 604-9386</li>\\n<li>Lee Preston<br/>981 Eget Rd.<br/>Clemson GA 04645<br/>(221) 156-5026</li>\\n<li>Katelyn Cooper<br/>6059 Sollicitudin Road<br/>Burlingame Colorado 26278<br/>(414) 876-0865</li>\\n<li>Lacy Eaton<br/>1379 Nulla. Av.<br/>Asbury Park Montana 69679<br/>(932) 726-8645</li>\\n<li>Driscoll Leach<br/>P.O. Box 120 2410 Odio Avenue<br/>Pass Christian Delaware 03869<br/>(726) 710-9826</li>\\n<li>Merritt Watson<br/>P.O. Box 686 7014 Amet Street<br/>Corona Oklahoma 55246<br/>(622) 594-1662</li>\\n<li>Nehru Holmes<br/>P.O. Box 547 4764 Sed Road<br/>Grand Rapids CT 87323<br/>(948) 600-8503</li>\\n<li>Quamar Rivera<br/>427-5827 Ac St.<br/>Schaumburg Arkansas 84872<br/>(605) 900-7508</li>\\n<li>Hiram Mullins<br/>754-6427 Nunc Ave<br/>Kennewick AL 41329<br/>(716) 977-5775</li>\\n<li>Kim Fletcher<br/>Ap #345-3847 Metus Road<br/>Independence CO 30135<br/>(368) 239-8275</li>\\n<li>Rigel Koch<br/>P.O. Box 558 9561 Lacus. Road<br/>Laughlin Hawaii 99602<br/>(725) 342-0650</li>\\n<li>Jeanette Sharpe<br/>Ap #364-2006 Ipsum Avenue<br/>Wilmington Ohio 91750<br/>(711) 993-5187</li>\\n<li>Dahlia Lee<br/>1293 Tincidunt Street<br/>Atwater Pennsylvania 76865<br/>(882) 399-5084</li>\\n<li>Howard Hayden<br/>P.O. Box 847 8019 Facilisis Street<br/>Joliet SC 73490<br/>(287) 755-9948</li>\\n<li>Hyatt Kramer<br/>1011 Massa Av.<br/>Kent ID 63725<br/>(659) 551-3389</li>\\n<li>Sonya Ray<br/>Ap #315-8441 Eleifend Street<br/>Fairbanks RI 96892<br/>(275) 730-6868</li>\\n<li>Cara Whitehead<br/>4005 Praesent St.<br/>Torrance Wyoming 22767<br/>(725) 757-4047</li>\\n<li>Blythe Carroll<br/>7709 Justo. Ave<br/>Princeton TX 77987<br/>(314) 882-1496</li>\\n<li>Dale Griffin<br/>P.O. Box 854 8580 In Ave<br/>Revere South Dakota 43841<br/>(639) 360-7590</li>\\n<li>McKenzie Hernandez<br/>Ap #367-674 Mi Street<br/>Greensboro VT 40684<br/>(168) 222-1592</li>\\n<li>Haviva Holcomb<br/>P.O. Box 642 3450 In Road<br/>Isle of Palms New York 03828<br/>(896) 303-1164</li>\\n<li>Ezra Duffy<br/>Ap #782-7348 Dis Rd.<br/>Austin KY 50710<br/>(203) 982-6130</li>\\n<li>Eleanor Jennings<br/>9631 Semper Ave<br/>Astoria NJ 66309<br/>(906) 217-1470</li>\\n<li>Remedios Hester<br/>487-5787 Mollis St.<br/>City of Industry Louisiana 67973<br/>(614) 514-1269</li>\\n<li>Jasper Carney<br/>1195 Lobortis Rd.<br/>New Orleans New Hampshire 71983<br/>(763) 409-5446</li>\\n<li>Vielka Nielsen<br/>Ap #517-7326 Elementum Rd.<br/>Fort Smith North Dakota 79637<br/>(836) 292-5324</li>\\n<li>Wilma Pace<br/>Ap #676-6532 Odio Rd.<br/>Darlington CO 06963<br/>(926) 709-3295</li>\\n<li>Palmer Gay<br/>557-2026 Purus St.<br/>Watertown TN 07367<br/>(963) 356-9268</li>\\n<li>Lyle Sutton<br/>Ap #250-9843 Elementum St.<br/>South Gate Missouri 68999<br/>(736) 522-8584</li>\\n<li>Ina Burt<br/>Ap #130-1685 Ut Street<br/>Tyler KS 73510<br/>(410) 483-0352</li>\\n<li>Cleo Best<br/>282-8351 Tincidunt Ave<br/>Sedalia Utah 53700<br/>(252) 204-1434</li>\\n<li>Hu Park<br/>1429 Netus Rd.<br/>Reedsport NY 48247<br/>(874) 886-4174</li>\\n<li>Liberty Walton<br/>343-6527 Purus. Avenue<br/>Logan NV 12657<br/>(581) 379-7573</li>\\n<li>Aaron Trujillo<br/>Ap #146-3132 Cras Rd.<br/>Kingsport NH 56618<br/>(983) 632-8597</li>\\n<li>Elmo Lopez<br/>Ap #481-7473 Cum Rd.<br/>Yorba Linda South Carolina 28423<br/>(295) 983-3476</li>\\n<li>Emerson Espinoza<br/>Ap #247-5577 Tincidunt St.<br/>Corpus Christi WI 97020<br/>(873) 392-8802</li>\\n<li>Daniel Malone<br/>2136 Adipiscing Av.<br/>Lima RI 93490<br/>(360) 669-3923</li>\\n<li>Dante Bennett<br/>481-8762 Nulla Street<br/>Dearborn OR 62401<br/>(840) 987-9449</li>\\n<li>Sade Higgins<br/>Ap #287-3260 Ut St.<br/>Wilmington OR 05182<br/>(422) 517-6053</li>\\n<li>Zorita Anderson<br/>1964 Facilisis Avenue<br/>Bell Gardens Texas 87065<br/>(126) 940-2753</li>\\n<li>Jordan Calderon<br/>430-985 Eleifend St.<br/>Duluth Washington 92611<br/>(427) 930-5255</li>\\n<li>Ivor Delgado<br/>Ap #310-1678 Ut Av.<br/>Santa Barbara MT 88317<br/>(689) 721-5145</li>\\n<li>Pascale Patton<br/>P.O. Box 399 4275 Amet Street<br/>West Allis NC 36734<br/>(676) 334-2174</li>\\n<li>Nasim Strong<br/>Ap #630-3889 Nulla. Street<br/>Watervliet Oklahoma 70863<br/>(437) 994-5270</li>\\n<li>Keaton Underwood<br/>Ap #636-8082 Arcu Avenue<br/>Thiensville Maryland 19587<br/>(564) 908-6970</li>\\n<li>Keegan Blair<br/>Ap #761-2515 Egestas. Rd.<br/>Manitowoc TN 07528<br/>(577) 333-6244</li>\\n<li>Tamara Howe<br/>3415 Lobortis. Avenue<br/>Rocky Mount WA 48580<br/>(655) 840-6139</li>\\n </ul> </body></html>'"
      ]
     },
     "execution_count": 236,
     "metadata": {},
     "output_type": "execute_result"
    }
   ],
   "source": [
    "data_str"
   ]
  },
  {
   "cell_type": "code",
   "execution_count": 233,
   "metadata": {
    "id": "nfebrh-x2vWZ",
    "outputId": "9f98d46b-4f20-4856-b473-acd7edb3193a"
   },
   "outputs": [
    {
     "name": "stdout",
     "output_type": "stream",
     "text": [
      "(257) 563-7401\n",
      "(372) 587-2335\n",
      "(786) 713-8616\n",
      "(793) 151-6230\n",
      "(492) 709-6392\n",
      "(654) 393-5734\n",
      "(404) 960-3807\n",
      "(314) 244-6306\n",
      "(947) 278-5929\n",
      "(684) 579-1879\n",
      "(389) 737-2852\n",
      "(660) 663-4518\n",
      "(608) 265-2215\n",
      "(959) 119-8364\n",
      "(468) 353-2641\n",
      "(248) 675-4007\n",
      "(939) 353-1107\n",
      "(570) 873-7090\n",
      "(302) 259-2375\n",
      "(717) 450-4729\n",
      "(453) 391-4650\n",
      "(559) 104-5475\n",
      "(387) 142-9434\n",
      "(516) 745-4496\n",
      "(326) 677-3419\n",
      "(746) 679-2470\n",
      "(455) 430-0989\n",
      "(490) 936-4694\n",
      "(985) 834-8285\n",
      "(662) 661-1446\n",
      "(802) 668-8240\n",
      "(477) 768-9247\n",
      "(791) 239-9057\n",
      "(832) 109-0213\n",
      "(837) 196-3274\n",
      "(268) 442-2428\n",
      "(850) 676-5117\n",
      "(861) 546-5032\n",
      "(176) 805-4108\n",
      "(715) 912-6931\n",
      "(993) 554-0563\n",
      "(357) 616-5411\n",
      "(121) 347-0086\n",
      "(304) 506-6314\n",
      "(425) 288-2332\n",
      "(145) 987-4962\n",
      "(187) 582-9707\n",
      "(750) 558-3965\n",
      "(492) 467-3131\n",
      "(774) 914-2510\n",
      "(888) 106-8550\n",
      "(539) 567-3573\n",
      "(693) 337-2849\n",
      "(545) 604-9386\n",
      "(221) 156-5026\n",
      "(414) 876-0865\n",
      "(932) 726-8645\n",
      "(726) 710-9826\n",
      "(622) 594-1662\n",
      "(948) 600-8503\n",
      "(605) 900-7508\n",
      "(716) 977-5775\n",
      "(368) 239-8275\n",
      "(725) 342-0650\n",
      "(711) 993-5187\n",
      "(882) 399-5084\n",
      "(287) 755-9948\n",
      "(659) 551-3389\n",
      "(275) 730-6868\n",
      "(725) 757-4047\n",
      "(314) 882-1496\n",
      "(639) 360-7590\n",
      "(168) 222-1592\n",
      "(896) 303-1164\n",
      "(203) 982-6130\n",
      "(906) 217-1470\n",
      "(614) 514-1269\n",
      "(763) 409-5446\n",
      "(836) 292-5324\n",
      "(926) 709-3295\n",
      "(963) 356-9268\n",
      "(736) 522-8584\n",
      "(410) 483-0352\n",
      "(252) 204-1434\n",
      "(874) 886-4174\n",
      "(581) 379-7573\n",
      "(983) 632-8597\n",
      "(295) 983-3476\n",
      "(873) 392-8802\n",
      "(360) 669-3923\n",
      "(840) 987-9449\n",
      "(422) 517-6053\n",
      "(126) 940-2753\n",
      "(427) 930-5255\n",
      "(689) 721-5145\n",
      "(676) 334-2174\n",
      "(437) 994-5270\n",
      "(564) 908-6970\n",
      "(577) 333-6244\n",
      "(655) 840-6139\n"
     ]
    }
   ],
   "source": [
    "import re \n",
    "import urllib.request\n",
    "url = 'https://www.summet.com/dmsi/html/codesamples/addresses.html'\n",
    "response = urllib.request.urlopen(url)\n",
    "data = response.read()\n",
    "data_str = data.decode()\n",
    "pdata = re.findall('\\(\\d{3}\\) \\d{3}-\\d{4}', data_str)\n",
    "for i in pdata:\n",
    "    print(i)"
   ]
  },
  {
   "cell_type": "code",
   "execution_count": null,
   "metadata": {
    "id": "Y1BbDXWy2vWZ",
    "outputId": "e3bc6738-3025-4cd4-ef01-d836541403d0"
   },
   "outputs": [
    {
     "name": "stdout",
     "output_type": "stream",
     "text": [
      "Enter your email addressrahul@.comgmail\n",
      "Invalid email id\n"
     ]
    }
   ],
   "source": [
    "import re \n",
    "s = input('Enter your email address')\n",
    "m = re.fullmatch(('[a-zA-Z0-9_.]*@gmail[.]com'),s)\n",
    "if m !=None:\n",
    "    print('Valid email id')\n",
    "else:\n",
    "    print('Invalid email id')"
   ]
  },
  {
   "cell_type": "code",
   "execution_count": null,
   "metadata": {
    "id": "4RZsI3_e2vWa",
    "outputId": "2c3def6e-8b0f-4e0e-eed1-6cfb687269a0"
   },
   "outputs": [
    {
     "name": "stdout",
     "output_type": "stream",
     "text": [
      "Enter your email addressrahul@edureka.co\n",
      "Valid email id\n"
     ]
    }
   ],
   "source": [
    "import re \n",
    "s = input('Enter your email address')\n",
    "m = re.fullmatch(('[a-zA-Z0-9_.]*@[a-zA-Z0-9]*[.][a-zA-Z]*'),s)\n",
    "if m !=None:\n",
    "    print('Valid email id')\n",
    "else:\n",
    "    print('Invalid email id')"
   ]
  },
  {
   "cell_type": "code",
   "execution_count": null,
   "metadata": {
    "id": "uoj5e0IO2vWa",
    "outputId": "a62aa903-60c0-4618-ed3a-50c0441d31a6"
   },
   "outputs": [
    {
     "name": "stdout",
     "output_type": "stream",
     "text": [
      "Enter your email addressrahul@rediffmail.com\n",
      "Valid email id\n"
     ]
    }
   ],
   "source": [
    "import re \n",
    "s = input('Enter your email address')\n",
    "m = re.fullmatch(('[a-zA-Z0-9_.]*@(gmail|rediffmail)[.][a-zA-Z]*'),s)\n",
    "if m !=None:\n",
    "    print('Valid email id')\n",
    "else:\n",
    "    print('Invalid email id')"
   ]
  }
 ],
 "metadata": {
  "colab": {
   "name": "Python Programming - Part 1.ipynb",
   "provenance": []
  },
  "kernelspec": {
   "display_name": "Python 3",
   "language": "python",
   "name": "python3"
  },
  "language_info": {
   "codemirror_mode": {
    "name": "ipython",
    "version": 3
   },
   "file_extension": ".py",
   "mimetype": "text/x-python",
   "name": "python",
   "nbconvert_exporter": "python",
   "pygments_lexer": "ipython3",
   "version": "3.8.5"
  }
 },
 "nbformat": 4,
 "nbformat_minor": 1
}
