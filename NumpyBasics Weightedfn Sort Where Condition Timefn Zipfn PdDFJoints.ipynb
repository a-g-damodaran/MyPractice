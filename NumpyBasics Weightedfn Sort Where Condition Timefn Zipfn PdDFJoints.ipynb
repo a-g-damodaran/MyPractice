{
 "cells": [
  {
   "cell_type": "code",
   "execution_count": 6,
   "metadata": {
    "colab": {
     "base_uri": "https://localhost:8080/"
    },
    "id": "5cpLGGDLy2oe",
    "outputId": "213339c9-b6fb-45ce-a392-3932b649d246"
   },
   "outputs": [
    {
     "name": "stdout",
     "output_type": "stream",
     "text": [
      "[[79 65 44 55]\n",
      " [65 66 78 66]\n",
      " [77 66 44 33]]\n",
      "33\n",
      "[44 65 33]\n",
      "[65 65 44 33]\n"
     ]
    }
   ],
   "source": [
    "#!pip install numpy\n",
    "#np.version.version\n",
    "import numpy as np\n",
    "a = np.array([[79,65,44,55], [65,66,78,66],[77,66,44,33]])\n",
    "print(a)\n",
    "print(np.min(a))\n",
    "print(np.min(a, axis=1))\n",
    "print(np.min(a, axis=0))"
   ]
  },
  {
   "cell_type": "code",
   "execution_count": null,
   "metadata": {
    "colab": {
     "base_uri": "https://localhost:8080/"
    },
    "id": "7s9lnLbszwG9",
    "outputId": "ef9b7f6a-8e2c-4789-e8cd-375f0a3dd876"
   },
   "outputs": [
    {
     "name": "stdout",
     "output_type": "stream",
     "text": [
      "65.5\n",
      "[60. 66. 55.]\n",
      "[77. 66. 44. 55.]\n"
     ]
    }
   ],
   "source": [
    "print(np.median(a))\n",
    "print(np.median(a,axis=1))\n",
    "print(np.median(a,axis=0))"
   ]
  },
  {
   "cell_type": "code",
   "execution_count": null,
   "metadata": {
    "colab": {
     "base_uri": "https://localhost:8080/"
    },
    "id": "a8paYhULzxm8",
    "outputId": "7f0955d9-f06b-40cb-e69c-222701afae2f"
   },
   "outputs": [
    {
     "name": "stdout",
     "output_type": "stream",
     "text": [
      "2.5\n",
      "2.5\n",
      "2.0\n"
     ]
    },
    {
     "data": {
      "text/plain": [
       "1.118033988749895"
      ]
     },
     "execution_count": 6,
     "metadata": {
      "tags": []
     },
     "output_type": "execute_result"
    }
   ],
   "source": [
    "a = np.array([1,2,3,4])\n",
    "wts = np.array([4,3,2,1])\n",
    "print(np.average(a))\n",
    "print(np.mean(a))\n",
    "print(np.average(a, weights=wts)) #weighted averge\n",
    "np.var(a)\n",
    "np.std(a)"
   ]
  },
  {
   "cell_type": "code",
   "execution_count": 2,
   "metadata": {
    "colab": {
     "base_uri": "https://localhost:8080/"
    },
    "id": "vbjLblnv0TNP",
    "outputId": "c80a42ae-c82d-4072-b0d6-2a0e1691071d"
   },
   "outputs": [
    {
     "data": {
      "text/plain": [
       "array([[79, 65, 44, 55],\n",
       "       [65, 66, 78, 66],\n",
       "       [77, 66, 44, 33]])"
      ]
     },
     "execution_count": 2,
     "metadata": {},
     "output_type": "execute_result"
    }
   ],
   "source": [
    "a = np.array([[79,65,44,55], [65,66,78,66],[77,66,44,33]])\n",
    "a"
   ]
  },
  {
   "cell_type": "code",
   "execution_count": 3,
   "metadata": {
    "colab": {
     "base_uri": "https://localhost:8080/"
    },
    "id": "LDnhtiJ50_dD",
    "outputId": "842cb893-3b78-4533-f4f4-70725660c84a"
   },
   "outputs": [
    {
     "data": {
      "text/plain": [
       "array([[0, 1, 2],\n",
       "       [3, 4, 5],\n",
       "       [6, 7, 8]])"
      ]
     },
     "execution_count": 3,
     "metadata": {},
     "output_type": "execute_result"
    }
   ],
   "source": [
    "x=np.arange(9).reshape(3,3)\n",
    "x"
   ]
  },
  {
   "cell_type": "code",
   "execution_count": 4,
   "metadata": {
    "colab": {
     "base_uri": "https://localhost:8080/"
    },
    "id": "xie5ZaFq0oAx",
    "outputId": "01c80a26-5465-408c-e2b4-d556d662a7d9"
   },
   "outputs": [
    {
     "name": "stdout",
     "output_type": "stream",
     "text": [
      "[[44 55 65 79]\n",
      " [65 66 66 78]\n",
      " [33 44 66 77]]\n",
      "\n",
      "[[44 55 65 79]\n",
      " [65 66 66 78]\n",
      " [33 44 66 77]]\n",
      "\n",
      "[[65 65 44 33]\n",
      " [77 66 44 55]\n",
      " [79 66 78 66]]\n"
     ]
    }
   ],
   "source": [
    "print(np.sort(a))\n",
    "print()\n",
    "print(np.sort(a,axis=1)) # default as np.sort(a)\n",
    "print()\n",
    "print(np.sort(a, axis=0))"
   ]
  },
  {
   "cell_type": "code",
   "execution_count": 5,
   "metadata": {
    "colab": {
     "base_uri": "https://localhost:8080/"
    },
    "id": "ll3_VuiE1BDe",
    "outputId": "5de61b30-be58-4dda-e8b9-957672dac05f"
   },
   "outputs": [
    {
     "data": {
      "text/plain": [
       "array([0, 1, 2])"
      ]
     },
     "execution_count": 5,
     "metadata": {},
     "output_type": "execute_result"
    }
   ],
   "source": [
    "x[np.where(x<3)]"
   ]
  },
  {
   "cell_type": "code",
   "execution_count": null,
   "metadata": {
    "colab": {
     "base_uri": "https://localhost:8080/"
    },
    "id": "_JCBySL-1R22",
    "outputId": "88dbfe68-695a-4672-a6a1-2eb8d2220598"
   },
   "outputs": [
    {
     "data": {
      "text/plain": [
       "array([0, 2, 4, 6, 8])"
      ]
     },
     "execution_count": 11,
     "metadata": {
      "tags": []
     },
     "output_type": "execute_result"
    }
   ],
   "source": [
    "condition = np.mod(x,2)==0\n",
    "np.extract(condition, x)"
   ]
  },
  {
   "cell_type": "code",
   "execution_count": 7,
   "metadata": {
    "colab": {
     "base_uri": "https://localhost:8080/"
    },
    "id": "CWAbthg51V9D",
    "outputId": "b0457c98-29f5-477f-b3bc-5a534fcb180f"
   },
   "outputs": [
    {
     "data": {
      "text/plain": [
       "[0.099933964340744,\n",
       " 0.10434393193013883,\n",
       " 0.10219146482122261,\n",
       " 0.16925837320574164,\n",
       " 0.17103235747303544,\n",
       " 0.10345354523227383,\n",
       " 0.15568022440392706,\n",
       " 0.229066985645933,\n",
       " 0.06953996637627999,\n",
       " 0.08338350391330523,\n",
       " 0.07586993725042784,\n",
       " 0.13692446584411677,\n",
       " 0.061018747789175806,\n",
       " 0.229066985645933,\n",
       " 0.07852847541563494,\n",
       " 0.07301055884625289]"
      ]
     },
     "execution_count": 7,
     "metadata": {},
     "output_type": "execute_result"
    }
   ],
   "source": [
    "sales = [4543,2233,4335,3344,4543,6544,3565,3344,6543,6644,8765,3323,5654,3344,5654,7766]\n",
    "profit = [454,233,443,566,777,677,555,766,455,554,665,455,345,766,444,567]\n",
    "len(sales)\n",
    "len(profit)\n",
    "profitratio = []\n",
    "for i in range(0,len(sales)):\n",
    "    profitratio.append(profit[i]/sales[i])\n",
    "profitratio"
   ]
  },
  {
   "cell_type": "code",
   "execution_count": null,
   "metadata": {
    "colab": {
     "base_uri": "https://localhost:8080/"
    },
    "id": "jGupqhkF2OTJ",
    "outputId": "cbd514e5-7e2b-483c-a464-12114a1d5c31"
   },
   "outputs": [
    {
     "data": {
      "text/plain": [
       "array([0.09993396, 0.10434393, 0.10219146, 0.16925837, 0.17103236,\n",
       "       0.10345355, 0.15568022, 0.22906699, 0.06953997, 0.0833835 ,\n",
       "       0.07586994, 0.13692447, 0.06101875, 0.22906699, 0.07852848,\n",
       "       0.07301056])"
      ]
     },
     "execution_count": 13,
     "metadata": {
      "tags": []
     },
     "output_type": "execute_result"
    }
   ],
   "source": [
    "sales_array = np.array(sales)\n",
    "profit_array = np.array(profit)\n",
    "profit_array/sales_array"
   ]
  },
  {
   "cell_type": "code",
   "execution_count": 8,
   "metadata": {
    "colab": {
     "base_uri": "https://localhost:8080/"
    },
    "id": "dBsg1t1r2as4",
    "outputId": "8bf2b86a-e758-48f3-fa75-745d7d1ebf44"
   },
   "outputs": [
    {
     "name": "stdout",
     "output_type": "stream",
     "text": [
      "0.0\n"
     ]
    }
   ],
   "source": [
    "import time \n",
    "start = time.time()\n",
    "profitratio = []\n",
    "for i in range(0,len(sales)):\n",
    "    profitratio.append(profit[i]/sales[i])\n",
    "profitratio\n",
    "print((time.time() - start)*1000)"
   ]
  },
  {
   "cell_type": "code",
   "execution_count": 9,
   "metadata": {
    "colab": {
     "base_uri": "https://localhost:8080/"
    },
    "id": "9HtVafvj2jcr",
    "outputId": "53f116e0-6cd1-48a5-b8ed-0d02998b3f21"
   },
   "outputs": [
    {
     "name": "stdout",
     "output_type": "stream",
     "text": [
      "Time taken by list operation\n",
      "283.82062911987305\n",
      "Time taken by Array\n",
      "55.96470832824707\n"
     ]
    }
   ],
   "source": [
    "size = 1000000\n",
    "l1 = range(size)\n",
    "l2 = range(size)\n",
    "a1 = np.arange(size)\n",
    "a2 = np.arange(size)\n",
    "\n",
    "start = time.time()\n",
    "result = [(x,y) for x,y in zip(l1,l2)]\n",
    "print('Time taken by list operation')\n",
    "print((time.time()-start)*1000)\n",
    "\n",
    "start = time.time()\n",
    "result = a1 + a2\n",
    "print('Time taken by Array')\n",
    "print((time.time()-start)*1000)"
   ]
  },
  {
   "cell_type": "code",
   "execution_count": null,
   "metadata": {
    "colab": {
     "base_uri": "https://localhost:8080/"
    },
    "id": "jQ2HWBxs2oOh",
    "outputId": "837af0ea-d5f3-4c36-d7d9-c1b4fcf627c7"
   },
   "outputs": [
    {
     "name": "stdout",
     "output_type": "stream",
     "text": [
      "Hello A1 Your order id is: 1\n",
      "Hello A2 Your order id is: 2\n",
      "Hello A3 Your order id is: 3\n",
      "Hello A4 Your order id is: 4\n"
     ]
    }
   ],
   "source": [
    "cust  = ['A1', 'A2','A3','A4']\n",
    "order = [1,2,3,4]\n",
    "for (c,o) in zip(cust, order):\n",
    "    print('Hello', c, 'Your order id is:', o)"
   ]
  },
  {
   "cell_type": "code",
   "execution_count": null,
   "metadata": {
    "colab": {
     "base_uri": "https://localhost:8080/"
    },
    "id": "esrm3IiN3Zvx",
    "outputId": "37c5b696-2274-44e1-faaf-da8034177f75"
   },
   "outputs": [
    {
     "data": {
      "text/plain": [
       "bool"
      ]
     },
     "execution_count": 17,
     "metadata": {
      "tags": []
     },
     "output_type": "execute_result"
    }
   ],
   "source": [
    "list1 = [True]\n",
    "type(list1[0])"
   ]
  },
  {
   "cell_type": "code",
   "execution_count": null,
   "metadata": {
    "colab": {
     "base_uri": "https://localhost:8080/"
    },
    "id": "XlBngQtp3zEE",
    "outputId": "fc239948-1115-4845-fbcf-65a0044c0301"
   },
   "outputs": [
    {
     "data": {
      "text/plain": [
       "numpy.bool_"
      ]
     },
     "execution_count": 18,
     "metadata": {
      "tags": []
     },
     "output_type": "execute_result"
    }
   ],
   "source": [
    "array1 = np.array(list1)\n",
    "array1\n",
    "type(array1[0]) # bool_ may relates to vector"
   ]
  },
  {
   "cell_type": "code",
   "execution_count": 1,
   "metadata": {
    "colab": {
     "base_uri": "https://localhost:8080/"
    },
    "id": "lMJr-Uq437JV",
    "outputId": "555a411e-45ae-4baf-9148-05780ee1bb36"
   },
   "outputs": [
    {
     "data": {
      "text/plain": [
       "[32, 3, 44, 34, 54, 32, 3, 44, 34, 54]"
      ]
     },
     "execution_count": 1,
     "metadata": {},
     "output_type": "execute_result"
    }
   ],
   "source": [
    "list1 = [32,3,44,34,54]\n",
    "list1*2"
   ]
  },
  {
   "cell_type": "code",
   "execution_count": 7,
   "metadata": {
    "colab": {
     "base_uri": "https://localhost:8080/"
    },
    "id": "1swoKwq_4TKI",
    "outputId": "3712f4bb-0760-4561-e967-642bdc3c328d"
   },
   "outputs": [
    {
     "data": {
      "text/plain": [
       "array([ 64,   6,  88,  68, 108])"
      ]
     },
     "execution_count": 7,
     "metadata": {},
     "output_type": "execute_result"
    }
   ],
   "source": [
    "array1 = np.array(list1)\n",
    "array1*2"
   ]
  },
  {
   "cell_type": "code",
   "execution_count": 11,
   "metadata": {
    "colab": {
     "base_uri": "https://localhost:8080/"
    },
    "id": "6336P9X54Xxx",
    "outputId": "954abd8f-fe93-4e94-e7bd-ab2ec265cb9e"
   },
   "outputs": [
    {
     "data": {
      "text/plain": [
       "[32, 3, 44]"
      ]
     },
     "execution_count": 11,
     "metadata": {},
     "output_type": "execute_result"
    }
   ],
   "source": [
    "list2 = list1.copy()\n",
    "list3 = list1[0:3]\n",
    "list3"
   ]
  },
  {
   "cell_type": "code",
   "execution_count": 9,
   "metadata": {
    "colab": {
     "base_uri": "https://localhost:8080/"
    },
    "id": "0gSWPuL-4nxD",
    "outputId": "ea943b04-d64c-4a11-f987-36f51345648e"
   },
   "outputs": [
    {
     "data": {
      "text/plain": [
       "array([32,  3, 44, 34, 54])"
      ]
     },
     "execution_count": 9,
     "metadata": {},
     "output_type": "execute_result"
    }
   ],
   "source": [
    "a1 = np.array(list1)\n",
    "a2 = a1.copy()\n",
    "a2"
   ]
  },
  {
   "cell_type": "code",
   "execution_count": 13,
   "metadata": {
    "colab": {
     "base_uri": "https://localhost:8080/"
    },
    "id": "6pnOylFJ5DDx",
    "outputId": "ff1c99c1-8010-4090-b2c3-115198bc7c7e"
   },
   "outputs": [
    {
     "data": {
      "text/plain": [
       "array([32,  3, 44])"
      ]
     },
     "execution_count": 13,
     "metadata": {},
     "output_type": "execute_result"
    }
   ],
   "source": [
    "a3 = a1[0:3]\n",
    "a3"
   ]
  },
  {
   "cell_type": "code",
   "execution_count": 16,
   "metadata": {
    "colab": {
     "base_uri": "https://localhost:8080/"
    },
    "id": "ZUC7DaqI5uAi",
    "outputId": "062a75ab-ba1c-47c7-86f4-f3d86d5ec7ce"
   },
   "outputs": [
    {
     "data": {
      "text/plain": [
       "numpy.int32"
      ]
     },
     "execution_count": 16,
     "metadata": {},
     "output_type": "execute_result"
    }
   ],
   "source": [
    "type(a3[0])"
   ]
  },
  {
   "cell_type": "code",
   "execution_count": 17,
   "metadata": {
    "colab": {
     "base_uri": "https://localhost:8080/"
    },
    "id": "cPfCxVxG54B1",
    "outputId": "0bdfa1e7-5df6-47d5-d1cc-d3da5305b74d"
   },
   "outputs": [
    {
     "data": {
      "text/plain": [
       "dtype('int32')"
      ]
     },
     "execution_count": 17,
     "metadata": {},
     "output_type": "execute_result"
    }
   ],
   "source": [
    "a3.dtype"
   ]
  },
  {
   "cell_type": "code",
   "execution_count": 12,
   "metadata": {
    "colab": {
     "base_uri": "https://localhost:8080/"
    },
    "id": "nw9EbwE0576Z",
    "outputId": "bcf798a3-715b-4376-b8f4-9af28d0085f3"
   },
   "outputs": [
    {
     "data": {
      "text/plain": [
       "array([32,  3, 44, 34, 54])"
      ]
     },
     "execution_count": 12,
     "metadata": {},
     "output_type": "execute_result"
    }
   ],
   "source": [
    "a1.ndim\n",
    "a1"
   ]
  },
  {
   "cell_type": "code",
   "execution_count": 22,
   "metadata": {
    "colab": {
     "base_uri": "https://localhost:8080/"
    },
    "id": "CRsgqM4e6G_Q",
    "outputId": "70d6747f-149e-4cd6-e302-0fe0c856b9d9",
    "scrolled": true
   },
   "outputs": [
    {
     "data": {
      "text/plain": [
       "292.64"
      ]
     },
     "execution_count": 22,
     "metadata": {},
     "output_type": "execute_result"
    }
   ],
   "source": [
    "a1.var(axis=0)\n",
    "a1.std()\n",
    "a1.var(axis=0)"
   ]
  },
  {
   "cell_type": "code",
   "execution_count": 20,
   "metadata": {},
   "outputs": [
    {
     "data": {
      "text/plain": [
       "17.10672382427448"
      ]
     },
     "execution_count": 20,
     "metadata": {},
     "output_type": "execute_result"
    }
   ],
   "source": [
    "np.std(a1)"
   ]
  },
  {
   "cell_type": "code",
   "execution_count": 22,
   "metadata": {
    "id": "v7bxMfrb6QTA"
   },
   "outputs": [],
   "source": [
    "sales_us = [4354,3345,3432,2232]\n",
    "sales_eu = [5433,3433,5554,3333]\n",
    "sales_jp = [2222,3242,2223,3322]\n",
    "\n",
    "profit_us = [435,444,545,566]\n",
    "profit_eu = [544,234,534,566]\n",
    "profit_jp = [655,554,334,454]"
   ]
  },
  {
   "cell_type": "code",
   "execution_count": 24,
   "metadata": {
    "colab": {
     "base_uri": "https://localhost:8080/"
    },
    "id": "_YpSC4nL6d_P",
    "outputId": "5f0bc821-6ce0-459e-9922-2eef47617245"
   },
   "outputs": [
    {
     "data": {
      "text/plain": [
       "(3, 4)"
      ]
     },
     "execution_count": 24,
     "metadata": {},
     "output_type": "execute_result"
    }
   ],
   "source": [
    "sales_matrix = np.array([sales_us,sales_eu,sales_jp])\n",
    "profit_matrix = np.array([profit_us, profit_eu, profit_jp])\n",
    "sales_matrix.shape"
   ]
  },
  {
   "cell_type": "code",
   "execution_count": null,
   "metadata": {
    "colab": {
     "base_uri": "https://localhost:8080/"
    },
    "id": "Up9VtGZ4609u",
    "outputId": "e6727515-64cf-4c2f-8dd8-bd275b7a58ec"
   },
   "outputs": [
    {
     "data": {
      "text/plain": [
       "array([[0.09990813, 0.13273543, 0.15879953, 0.25358423],\n",
       "       [0.10012884, 0.06816196, 0.09614692, 0.16981698],\n",
       "       [0.29477948, 0.17088217, 0.15024741, 0.13666466]])"
      ]
     },
     "execution_count": 30,
     "metadata": {
      "tags": []
     },
     "output_type": "execute_result"
    }
   ],
   "source": [
    "profit_matrix/sales_matrix"
   ]
  },
  {
   "cell_type": "code",
   "execution_count": 25,
   "metadata": {
    "colab": {
     "base_uri": "https://localhost:8080/"
    },
    "id": "dQixAujS7Bbz",
    "outputId": "d35f8316-5f2d-49d7-d3ef-e3da871ad678"
   },
   "outputs": [
    {
     "data": {
      "text/plain": [
       "2"
      ]
     },
     "execution_count": 25,
     "metadata": {},
     "output_type": "execute_result"
    }
   ],
   "source": [
    "type(profit_matrix)\n",
    "profit_matrix.ndim"
   ]
  },
  {
   "cell_type": "code",
   "execution_count": null,
   "metadata": {
    "colab": {
     "base_uri": "https://localhost:8080/"
    },
    "id": "HtQlyuWS7Gd1",
    "outputId": "96e9b77a-4c0c-4d72-db1a-87fde80c1814"
   },
   "outputs": [
    {
     "data": {
      "text/plain": [
       "array([[435, 444, 545, 566],\n",
       "       [544, 234, 534, 566],\n",
       "       [655, 554, 334, 454]])"
      ]
     },
     "execution_count": 32,
     "metadata": {
      "tags": []
     },
     "output_type": "execute_result"
    }
   ],
   "source": [
    "profit_matrix#[1,2]"
   ]
  },
  {
   "cell_type": "code",
   "execution_count": null,
   "metadata": {
    "colab": {
     "base_uri": "https://localhost:8080/"
    },
    "id": "occYhC7L7VXh",
    "outputId": "6e75f436-a349-48b4-b4d3-ebbfcdccc9ec"
   },
   "outputs": [
    {
     "data": {
      "text/plain": [
       "array([[545, 566],\n",
       "       [534, 566],\n",
       "       [334, 454]])"
      ]
     },
     "execution_count": 33,
     "metadata": {
      "tags": []
     },
     "output_type": "execute_result"
    }
   ],
   "source": [
    "profit_matrix[:, 2:4]"
   ]
  },
  {
   "cell_type": "code",
   "execution_count": 26,
   "metadata": {
    "colab": {
     "base_uri": "https://localhost:8080/"
    },
    "id": "Awv_t5bC7iAw",
    "outputId": "c44d81f7-67d1-4af5-dc94-f15be82ae563"
   },
   "outputs": [
    {
     "data": {
      "text/plain": [
       "545"
      ]
     },
     "execution_count": 26,
     "metadata": {},
     "output_type": "execute_result"
    }
   ],
   "source": [
    "profit_matrix[0][2]\n",
    "profit_matrix[0,2]"
   ]
  },
  {
   "cell_type": "code",
   "execution_count": null,
   "metadata": {
    "colab": {
     "base_uri": "https://localhost:8080/"
    },
    "id": "SlOm7BoK7z2q",
    "outputId": "ae7eca79-c1cc-425f-ebc9-1969aa2a67b7"
   },
   "outputs": [
    {
     "data": {
      "text/plain": [
       "545"
      ]
     },
     "execution_count": 35,
     "metadata": {
      "tags": []
     },
     "output_type": "execute_result"
    }
   ],
   "source": [
    "rdict = {'US':0, 'EU':1, 'JP':2}\n",
    "qdict = {'Q1':0, 'Q2':1, 'Q3':2, 'Q4':3}\n",
    "profit_matrix[rdict['US']][qdict['Q3']]"
   ]
  },
  {
   "cell_type": "code",
   "execution_count": 27,
   "metadata": {
    "colab": {
     "base_uri": "https://localhost:8080/"
    },
    "id": "dXF6B6L98Idq",
    "outputId": "ac57db7c-a64d-4e09-890e-9aa2bb36fd9b"
   },
   "outputs": [
    {
     "data": {
      "text/plain": [
       "array([ 1,  2,  3,  4,  5,  6,  7,  8,  9, 10, 11, 12, 13, 14, 15, 16, 17,\n",
       "       18, 19, 20, 21, 22, 23, 24])"
      ]
     },
     "execution_count": 27,
     "metadata": {},
     "output_type": "execute_result"
    }
   ],
   "source": [
    "a = np.arange(1,25)\n",
    "a"
   ]
  },
  {
   "cell_type": "code",
   "execution_count": 28,
   "metadata": {
    "colab": {
     "base_uri": "https://localhost:8080/"
    },
    "id": "ZvGdCg028iso",
    "outputId": "8dddf394-78d6-46ca-dbec-74a3a8305017"
   },
   "outputs": [
    {
     "data": {
      "text/plain": [
       "array([[[[ 1,  2,  3,  4],\n",
       "         [ 5,  6,  7,  8],\n",
       "         [ 9, 10, 11, 12]],\n",
       "\n",
       "        [[13, 14, 15, 16],\n",
       "         [17, 18, 19, 20],\n",
       "         [21, 22, 23, 24]]]])"
      ]
     },
     "execution_count": 28,
     "metadata": {},
     "output_type": "execute_result"
    }
   ],
   "source": [
    "a.reshape(1,2,3,4)"
   ]
  },
  {
   "cell_type": "code",
   "execution_count": 24,
   "metadata": {
    "id": "mMzzKnqv8tYD"
   },
   "outputs": [],
   "source": [
    "stu_details = {'st_id':[1,2,3,4,5], \n",
    "              'stu_name':['A','B','C','D','E'],\n",
    "              'Region':['N','S','W','E','S']}\n",
    "\n",
    "stu_marks = {'st_id':[1,2,3,4,6],\n",
    "            'sub':['Py','Tab','R','Py','Py'],\n",
    "            'Marks':[35,32,34,37,38]}"
   ]
  },
  {
   "cell_type": "code",
   "execution_count": 23,
   "metadata": {
    "colab": {
     "base_uri": "https://localhost:8080/",
     "height": 35
    },
    "id": "WZy52v8lJyQM",
    "outputId": "0c2fe982-b21f-4ce2-c159-cae09b5df478"
   },
   "outputs": [
    {
     "data": {
      "text/plain": [
       "'1.1.3'"
      ]
     },
     "execution_count": 23,
     "metadata": {},
     "output_type": "execute_result"
    }
   ],
   "source": [
    "import pandas as pd\n",
    "pd.__version__"
   ]
  },
  {
   "cell_type": "code",
   "execution_count": 25,
   "metadata": {
    "colab": {
     "base_uri": "https://localhost:8080/",
     "height": 173
    },
    "id": "jAiDirvWJ6lD",
    "outputId": "0dc5b05b-0e9a-4d59-d56d-07466881da59"
   },
   "outputs": [
    {
     "data": {
      "text/html": [
       "<div>\n",
       "<style scoped>\n",
       "    .dataframe tbody tr th:only-of-type {\n",
       "        vertical-align: middle;\n",
       "    }\n",
       "\n",
       "    .dataframe tbody tr th {\n",
       "        vertical-align: top;\n",
       "    }\n",
       "\n",
       "    .dataframe thead th {\n",
       "        text-align: right;\n",
       "    }\n",
       "</style>\n",
       "<table border=\"1\" class=\"dataframe\">\n",
       "  <thead>\n",
       "    <tr style=\"text-align: right;\">\n",
       "      <th></th>\n",
       "      <th>st_id</th>\n",
       "      <th>stu_name</th>\n",
       "      <th>Region</th>\n",
       "      <th>sub</th>\n",
       "      <th>Marks</th>\n",
       "    </tr>\n",
       "  </thead>\n",
       "  <tbody>\n",
       "    <tr>\n",
       "      <th>0</th>\n",
       "      <td>1</td>\n",
       "      <td>A</td>\n",
       "      <td>N</td>\n",
       "      <td>Py</td>\n",
       "      <td>35</td>\n",
       "    </tr>\n",
       "    <tr>\n",
       "      <th>1</th>\n",
       "      <td>2</td>\n",
       "      <td>B</td>\n",
       "      <td>S</td>\n",
       "      <td>Tab</td>\n",
       "      <td>32</td>\n",
       "    </tr>\n",
       "    <tr>\n",
       "      <th>2</th>\n",
       "      <td>3</td>\n",
       "      <td>C</td>\n",
       "      <td>W</td>\n",
       "      <td>R</td>\n",
       "      <td>34</td>\n",
       "    </tr>\n",
       "    <tr>\n",
       "      <th>3</th>\n",
       "      <td>4</td>\n",
       "      <td>D</td>\n",
       "      <td>E</td>\n",
       "      <td>Py</td>\n",
       "      <td>37</td>\n",
       "    </tr>\n",
       "  </tbody>\n",
       "</table>\n",
       "</div>"
      ],
      "text/plain": [
       "   st_id stu_name Region  sub  Marks\n",
       "0      1        A      N   Py     35\n",
       "1      2        B      S  Tab     32\n",
       "2      3        C      W    R     34\n",
       "3      4        D      E   Py     37"
      ]
     },
     "execution_count": 25,
     "metadata": {},
     "output_type": "execute_result"
    }
   ],
   "source": [
    "stu_details = pd.DataFrame(stu_details)\n",
    "stu_marks = pd.DataFrame(stu_marks)\n",
    "pd.merge(stu_details,stu_marks, on='st_id', how='inner')"
   ]
  },
  {
   "cell_type": "code",
   "execution_count": 37,
   "metadata": {
    "colab": {
     "base_uri": "https://localhost:8080/",
     "height": 204
    },
    "id": "c2eaIXEjKia6",
    "outputId": "1880966a-ed9c-49e7-ac9d-84e2bed147f7"
   },
   "outputs": [
    {
     "data": {
      "text/html": [
       "<div>\n",
       "<style scoped>\n",
       "    .dataframe tbody tr th:only-of-type {\n",
       "        vertical-align: middle;\n",
       "    }\n",
       "\n",
       "    .dataframe tbody tr th {\n",
       "        vertical-align: top;\n",
       "    }\n",
       "\n",
       "    .dataframe thead th {\n",
       "        text-align: right;\n",
       "    }\n",
       "</style>\n",
       "<table border=\"1\" class=\"dataframe\">\n",
       "  <thead>\n",
       "    <tr style=\"text-align: right;\">\n",
       "      <th></th>\n",
       "      <th>st_id</th>\n",
       "      <th>stu_name</th>\n",
       "      <th>Region</th>\n",
       "    </tr>\n",
       "  </thead>\n",
       "  <tbody>\n",
       "    <tr>\n",
       "      <th>0</th>\n",
       "      <td>1</td>\n",
       "      <td>A</td>\n",
       "      <td>N</td>\n",
       "    </tr>\n",
       "    <tr>\n",
       "      <th>1</th>\n",
       "      <td>2</td>\n",
       "      <td>B</td>\n",
       "      <td>S</td>\n",
       "    </tr>\n",
       "    <tr>\n",
       "      <th>2</th>\n",
       "      <td>3</td>\n",
       "      <td>C</td>\n",
       "      <td>W</td>\n",
       "    </tr>\n",
       "    <tr>\n",
       "      <th>3</th>\n",
       "      <td>4</td>\n",
       "      <td>D</td>\n",
       "      <td>E</td>\n",
       "    </tr>\n",
       "    <tr>\n",
       "      <th>4</th>\n",
       "      <td>5</td>\n",
       "      <td>E</td>\n",
       "      <td>S</td>\n",
       "    </tr>\n",
       "  </tbody>\n",
       "</table>\n",
       "</div>"
      ],
      "text/plain": [
       "   st_id stu_name Region\n",
       "0      1        A      N\n",
       "1      2        B      S\n",
       "2      3        C      W\n",
       "3      4        D      E\n",
       "4      5        E      S"
      ]
     },
     "execution_count": 37,
     "metadata": {},
     "output_type": "execute_result"
    }
   ],
   "source": [
    "stu_details"
   ]
  },
  {
   "cell_type": "code",
   "execution_count": 38,
   "metadata": {
    "colab": {
     "base_uri": "https://localhost:8080/",
     "height": 204
    },
    "id": "hAmGJefuKjeH",
    "outputId": "3b58a7ed-8c1d-4312-8477-65840fce9c81"
   },
   "outputs": [
    {
     "data": {
      "text/html": [
       "<div>\n",
       "<style scoped>\n",
       "    .dataframe tbody tr th:only-of-type {\n",
       "        vertical-align: middle;\n",
       "    }\n",
       "\n",
       "    .dataframe tbody tr th {\n",
       "        vertical-align: top;\n",
       "    }\n",
       "\n",
       "    .dataframe thead th {\n",
       "        text-align: right;\n",
       "    }\n",
       "</style>\n",
       "<table border=\"1\" class=\"dataframe\">\n",
       "  <thead>\n",
       "    <tr style=\"text-align: right;\">\n",
       "      <th></th>\n",
       "      <th>st_id</th>\n",
       "      <th>sub</th>\n",
       "      <th>Marks</th>\n",
       "    </tr>\n",
       "  </thead>\n",
       "  <tbody>\n",
       "    <tr>\n",
       "      <th>0</th>\n",
       "      <td>1</td>\n",
       "      <td>Py</td>\n",
       "      <td>35</td>\n",
       "    </tr>\n",
       "    <tr>\n",
       "      <th>1</th>\n",
       "      <td>2</td>\n",
       "      <td>Tab</td>\n",
       "      <td>32</td>\n",
       "    </tr>\n",
       "    <tr>\n",
       "      <th>2</th>\n",
       "      <td>3</td>\n",
       "      <td>R</td>\n",
       "      <td>34</td>\n",
       "    </tr>\n",
       "    <tr>\n",
       "      <th>3</th>\n",
       "      <td>4</td>\n",
       "      <td>Py</td>\n",
       "      <td>37</td>\n",
       "    </tr>\n",
       "    <tr>\n",
       "      <th>4</th>\n",
       "      <td>6</td>\n",
       "      <td>Py</td>\n",
       "      <td>38</td>\n",
       "    </tr>\n",
       "  </tbody>\n",
       "</table>\n",
       "</div>"
      ],
      "text/plain": [
       "   st_id  sub  Marks\n",
       "0      1   Py     35\n",
       "1      2  Tab     32\n",
       "2      3    R     34\n",
       "3      4   Py     37\n",
       "4      6   Py     38"
      ]
     },
     "execution_count": 38,
     "metadata": {},
     "output_type": "execute_result"
    }
   ],
   "source": [
    "stu_marks"
   ]
  },
  {
   "cell_type": "code",
   "execution_count": null,
   "metadata": {
    "colab": {
     "base_uri": "https://localhost:8080/",
     "height": 204
    },
    "id": "87jn4acTKKiK",
    "outputId": "a1f0eb97-935e-450a-9b59-e3922a6c602c"
   },
   "outputs": [
    {
     "data": {
      "text/html": [
       "<div>\n",
       "<style scoped>\n",
       "    .dataframe tbody tr th:only-of-type {\n",
       "        vertical-align: middle;\n",
       "    }\n",
       "\n",
       "    .dataframe tbody tr th {\n",
       "        vertical-align: top;\n",
       "    }\n",
       "\n",
       "    .dataframe thead th {\n",
       "        text-align: right;\n",
       "    }\n",
       "</style>\n",
       "<table border=\"1\" class=\"dataframe\">\n",
       "  <thead>\n",
       "    <tr style=\"text-align: right;\">\n",
       "      <th></th>\n",
       "      <th>st_id</th>\n",
       "      <th>stu_name</th>\n",
       "      <th>Region</th>\n",
       "      <th>sub</th>\n",
       "      <th>Marks</th>\n",
       "    </tr>\n",
       "  </thead>\n",
       "  <tbody>\n",
       "    <tr>\n",
       "      <th>0</th>\n",
       "      <td>1</td>\n",
       "      <td>A</td>\n",
       "      <td>N</td>\n",
       "      <td>Py</td>\n",
       "      <td>35.0</td>\n",
       "    </tr>\n",
       "    <tr>\n",
       "      <th>1</th>\n",
       "      <td>2</td>\n",
       "      <td>B</td>\n",
       "      <td>S</td>\n",
       "      <td>Tab</td>\n",
       "      <td>32.0</td>\n",
       "    </tr>\n",
       "    <tr>\n",
       "      <th>2</th>\n",
       "      <td>3</td>\n",
       "      <td>C</td>\n",
       "      <td>W</td>\n",
       "      <td>R</td>\n",
       "      <td>34.0</td>\n",
       "    </tr>\n",
       "    <tr>\n",
       "      <th>3</th>\n",
       "      <td>4</td>\n",
       "      <td>D</td>\n",
       "      <td>E</td>\n",
       "      <td>Py</td>\n",
       "      <td>37.0</td>\n",
       "    </tr>\n",
       "    <tr>\n",
       "      <th>4</th>\n",
       "      <td>5</td>\n",
       "      <td>E</td>\n",
       "      <td>S</td>\n",
       "      <td>NaN</td>\n",
       "      <td>NaN</td>\n",
       "    </tr>\n",
       "  </tbody>\n",
       "</table>\n",
       "</div>"
      ],
      "text/plain": [
       "   st_id stu_name Region  sub  Marks\n",
       "0      1        A      N   Py   35.0\n",
       "1      2        B      S  Tab   32.0\n",
       "2      3        C      W    R   34.0\n",
       "3      4        D      E   Py   37.0\n",
       "4      5        E      S  NaN    NaN"
      ]
     },
     "execution_count": 43,
     "metadata": {
      "tags": []
     },
     "output_type": "execute_result"
    }
   ],
   "source": [
    "pd.merge(stu_details,stu_marks, on='st_id', how='left')"
   ]
  },
  {
   "cell_type": "code",
   "execution_count": null,
   "metadata": {
    "colab": {
     "base_uri": "https://localhost:8080/",
     "height": 204
    },
    "id": "GWuPbF9TK_4v",
    "outputId": "2166f3a1-4569-435a-fb8f-341d2d4883fa"
   },
   "outputs": [
    {
     "data": {
      "text/html": [
       "<div>\n",
       "<style scoped>\n",
       "    .dataframe tbody tr th:only-of-type {\n",
       "        vertical-align: middle;\n",
       "    }\n",
       "\n",
       "    .dataframe tbody tr th {\n",
       "        vertical-align: top;\n",
       "    }\n",
       "\n",
       "    .dataframe thead th {\n",
       "        text-align: right;\n",
       "    }\n",
       "</style>\n",
       "<table border=\"1\" class=\"dataframe\">\n",
       "  <thead>\n",
       "    <tr style=\"text-align: right;\">\n",
       "      <th></th>\n",
       "      <th>st_id</th>\n",
       "      <th>stu_name</th>\n",
       "      <th>Region</th>\n",
       "      <th>sub</th>\n",
       "      <th>Marks</th>\n",
       "    </tr>\n",
       "  </thead>\n",
       "  <tbody>\n",
       "    <tr>\n",
       "      <th>0</th>\n",
       "      <td>1</td>\n",
       "      <td>A</td>\n",
       "      <td>N</td>\n",
       "      <td>Py</td>\n",
       "      <td>35</td>\n",
       "    </tr>\n",
       "    <tr>\n",
       "      <th>1</th>\n",
       "      <td>2</td>\n",
       "      <td>B</td>\n",
       "      <td>S</td>\n",
       "      <td>Tab</td>\n",
       "      <td>32</td>\n",
       "    </tr>\n",
       "    <tr>\n",
       "      <th>2</th>\n",
       "      <td>3</td>\n",
       "      <td>C</td>\n",
       "      <td>W</td>\n",
       "      <td>R</td>\n",
       "      <td>34</td>\n",
       "    </tr>\n",
       "    <tr>\n",
       "      <th>3</th>\n",
       "      <td>4</td>\n",
       "      <td>D</td>\n",
       "      <td>E</td>\n",
       "      <td>Py</td>\n",
       "      <td>37</td>\n",
       "    </tr>\n",
       "    <tr>\n",
       "      <th>4</th>\n",
       "      <td>6</td>\n",
       "      <td>NaN</td>\n",
       "      <td>NaN</td>\n",
       "      <td>Py</td>\n",
       "      <td>38</td>\n",
       "    </tr>\n",
       "  </tbody>\n",
       "</table>\n",
       "</div>"
      ],
      "text/plain": [
       "   st_id stu_name Region  sub  Marks\n",
       "0      1        A      N   Py     35\n",
       "1      2        B      S  Tab     32\n",
       "2      3        C      W    R     34\n",
       "3      4        D      E   Py     37\n",
       "4      6      NaN    NaN   Py     38"
      ]
     },
     "execution_count": 44,
     "metadata": {
      "tags": []
     },
     "output_type": "execute_result"
    }
   ],
   "source": [
    "pd.merge(stu_details,stu_marks, on='st_id', how='right')"
   ]
  },
  {
   "cell_type": "code",
   "execution_count": null,
   "metadata": {
    "colab": {
     "base_uri": "https://localhost:8080/",
     "height": 235
    },
    "id": "xI4dWgNaKOdA",
    "outputId": "8897bcd1-68b1-461a-ae33-ea60654fa5fd"
   },
   "outputs": [
    {
     "data": {
      "text/html": [
       "<div>\n",
       "<style scoped>\n",
       "    .dataframe tbody tr th:only-of-type {\n",
       "        vertical-align: middle;\n",
       "    }\n",
       "\n",
       "    .dataframe tbody tr th {\n",
       "        vertical-align: top;\n",
       "    }\n",
       "\n",
       "    .dataframe thead th {\n",
       "        text-align: right;\n",
       "    }\n",
       "</style>\n",
       "<table border=\"1\" class=\"dataframe\">\n",
       "  <thead>\n",
       "    <tr style=\"text-align: right;\">\n",
       "      <th></th>\n",
       "      <th>st_id</th>\n",
       "      <th>stu_name</th>\n",
       "      <th>Region</th>\n",
       "      <th>sub</th>\n",
       "      <th>Marks</th>\n",
       "    </tr>\n",
       "  </thead>\n",
       "  <tbody>\n",
       "    <tr>\n",
       "      <th>0</th>\n",
       "      <td>1</td>\n",
       "      <td>A</td>\n",
       "      <td>N</td>\n",
       "      <td>Py</td>\n",
       "      <td>35.0</td>\n",
       "    </tr>\n",
       "    <tr>\n",
       "      <th>1</th>\n",
       "      <td>2</td>\n",
       "      <td>B</td>\n",
       "      <td>S</td>\n",
       "      <td>Tab</td>\n",
       "      <td>32.0</td>\n",
       "    </tr>\n",
       "    <tr>\n",
       "      <th>2</th>\n",
       "      <td>3</td>\n",
       "      <td>C</td>\n",
       "      <td>W</td>\n",
       "      <td>R</td>\n",
       "      <td>34.0</td>\n",
       "    </tr>\n",
       "    <tr>\n",
       "      <th>3</th>\n",
       "      <td>4</td>\n",
       "      <td>D</td>\n",
       "      <td>E</td>\n",
       "      <td>Py</td>\n",
       "      <td>37.0</td>\n",
       "    </tr>\n",
       "    <tr>\n",
       "      <th>4</th>\n",
       "      <td>5</td>\n",
       "      <td>E</td>\n",
       "      <td>S</td>\n",
       "      <td>NaN</td>\n",
       "      <td>NaN</td>\n",
       "    </tr>\n",
       "    <tr>\n",
       "      <th>5</th>\n",
       "      <td>6</td>\n",
       "      <td>NaN</td>\n",
       "      <td>NaN</td>\n",
       "      <td>Py</td>\n",
       "      <td>38.0</td>\n",
       "    </tr>\n",
       "  </tbody>\n",
       "</table>\n",
       "</div>"
      ],
      "text/plain": [
       "   st_id stu_name Region  sub  Marks\n",
       "0      1        A      N   Py   35.0\n",
       "1      2        B      S  Tab   32.0\n",
       "2      3        C      W    R   34.0\n",
       "3      4        D      E   Py   37.0\n",
       "4      5        E      S  NaN    NaN\n",
       "5      6      NaN    NaN   Py   38.0"
      ]
     },
     "execution_count": 45,
     "metadata": {
      "tags": []
     },
     "output_type": "execute_result"
    }
   ],
   "source": [
    "pd.merge(stu_details,stu_marks, on='st_id', how='outer')"
   ]
  },
  {
   "cell_type": "code",
   "execution_count": 29,
   "metadata": {
    "id": "zJRHFMbLLK3D"
   },
   "outputs": [],
   "source": [
    "stu_details_Nag = {'st_id':[1,2,3,4,5,6],\n",
    "                  'stu_name':['A','B','C','D','E','F'],\n",
    "                  'sub':['Py','Tab','Py','Tab','PY','k']}\n",
    "\n",
    "stu_details_US = {'st_id':[6,7,8,9,10],\n",
    "                  'stu_name':['T','Y','U','I','O'],\n",
    "                  'sub':['Tab','Tab','Tab','SQL','PY']}"
   ]
  },
  {
   "cell_type": "code",
   "execution_count": 32,
   "metadata": {
    "id": "waaAazJRMlzN"
   },
   "outputs": [],
   "source": [
    "stu_details_Nag=pd.DataFrame(stu_details_Nag)\n",
    "stu_details_US=pd.DataFrame(stu_details_US)"
   ]
  },
  {
   "cell_type": "code",
   "execution_count": 34,
   "metadata": {
    "colab": {
     "base_uri": "https://localhost:8080/",
     "height": 390
    },
    "id": "GNXTQoedMxNg",
    "outputId": "3677f005-9315-4704-ba22-1b45913185e2"
   },
   "outputs": [
    {
     "data": {
      "text/html": [
       "<div>\n",
       "<style scoped>\n",
       "    .dataframe tbody tr th:only-of-type {\n",
       "        vertical-align: middle;\n",
       "    }\n",
       "\n",
       "    .dataframe tbody tr th {\n",
       "        vertical-align: top;\n",
       "    }\n",
       "\n",
       "    .dataframe thead th {\n",
       "        text-align: right;\n",
       "    }\n",
       "</style>\n",
       "<table border=\"1\" class=\"dataframe\">\n",
       "  <thead>\n",
       "    <tr style=\"text-align: right;\">\n",
       "      <th></th>\n",
       "      <th>st_id</th>\n",
       "      <th>stu_name</th>\n",
       "      <th>sub</th>\n",
       "    </tr>\n",
       "  </thead>\n",
       "  <tbody>\n",
       "    <tr>\n",
       "      <th>0</th>\n",
       "      <td>1</td>\n",
       "      <td>A</td>\n",
       "      <td>Py</td>\n",
       "    </tr>\n",
       "    <tr>\n",
       "      <th>1</th>\n",
       "      <td>2</td>\n",
       "      <td>B</td>\n",
       "      <td>Tab</td>\n",
       "    </tr>\n",
       "    <tr>\n",
       "      <th>2</th>\n",
       "      <td>3</td>\n",
       "      <td>C</td>\n",
       "      <td>Py</td>\n",
       "    </tr>\n",
       "    <tr>\n",
       "      <th>3</th>\n",
       "      <td>4</td>\n",
       "      <td>D</td>\n",
       "      <td>Tab</td>\n",
       "    </tr>\n",
       "    <tr>\n",
       "      <th>4</th>\n",
       "      <td>5</td>\n",
       "      <td>E</td>\n",
       "      <td>PY</td>\n",
       "    </tr>\n",
       "    <tr>\n",
       "      <th>5</th>\n",
       "      <td>6</td>\n",
       "      <td>F</td>\n",
       "      <td>k</td>\n",
       "    </tr>\n",
       "    <tr>\n",
       "      <th>0</th>\n",
       "      <td>6</td>\n",
       "      <td>T</td>\n",
       "      <td>Tab</td>\n",
       "    </tr>\n",
       "    <tr>\n",
       "      <th>1</th>\n",
       "      <td>7</td>\n",
       "      <td>Y</td>\n",
       "      <td>Tab</td>\n",
       "    </tr>\n",
       "    <tr>\n",
       "      <th>2</th>\n",
       "      <td>8</td>\n",
       "      <td>U</td>\n",
       "      <td>Tab</td>\n",
       "    </tr>\n",
       "    <tr>\n",
       "      <th>3</th>\n",
       "      <td>9</td>\n",
       "      <td>I</td>\n",
       "      <td>SQL</td>\n",
       "    </tr>\n",
       "    <tr>\n",
       "      <th>4</th>\n",
       "      <td>10</td>\n",
       "      <td>O</td>\n",
       "      <td>PY</td>\n",
       "    </tr>\n",
       "  </tbody>\n",
       "</table>\n",
       "</div>"
      ],
      "text/plain": [
       "   st_id stu_name  sub\n",
       "0      1        A   Py\n",
       "1      2        B  Tab\n",
       "2      3        C   Py\n",
       "3      4        D  Tab\n",
       "4      5        E   PY\n",
       "5      6        F    k\n",
       "0      6        T  Tab\n",
       "1      7        Y  Tab\n",
       "2      8        U  Tab\n",
       "3      9        I  SQL\n",
       "4     10        O   PY"
      ]
     },
     "execution_count": 34,
     "metadata": {},
     "output_type": "execute_result"
    }
   ],
   "source": [
    "student_details = pd.concat([stu_details_Nag, stu_details_US],axis=0)#1\n",
    "student_details"
   ]
  },
  {
   "cell_type": "code",
   "execution_count": null,
   "metadata": {
    "id": "Qi-6C-84OUPo"
   },
   "outputs": [],
   "source": []
  }
 ],
 "metadata": {
  "colab": {
   "collapsed_sections": [],
   "name": "Numpy.ipynb",
   "provenance": []
  },
  "kernelspec": {
   "display_name": "Python 3",
   "language": "python",
   "name": "python3"
  },
  "language_info": {
   "codemirror_mode": {
    "name": "ipython",
    "version": 3
   },
   "file_extension": ".py",
   "mimetype": "text/x-python",
   "name": "python",
   "nbconvert_exporter": "python",
   "pygments_lexer": "ipython3",
   "version": "3.8.5"
  }
 },
 "nbformat": 4,
 "nbformat_minor": 1
}
