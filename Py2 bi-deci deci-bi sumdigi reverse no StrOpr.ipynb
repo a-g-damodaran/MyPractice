{
 "cells": [
  {
   "cell_type": "code",
   "execution_count": null,
   "metadata": {},
   "outputs": [],
   "source": [
    "a = input()\n",
    "eval(a)\n",
    "#type(eval(a))"
   ]
  },
  {
   "cell_type": "code",
   "execution_count": 17,
   "metadata": {},
   "outputs": [
    {
     "name": "stdout",
     "output_type": "stream",
     "text": [
      "Enter the values1 2 3\n",
      "[1, 2, 3]\n"
     ]
    },
    {
     "data": {
      "text/plain": [
       "int"
      ]
     },
     "execution_count": 17,
     "metadata": {},
     "output_type": "execute_result"
    }
   ],
   "source": [
    "a = [eval(x) for x in input('Enter the values').split( )]\n",
    "print(a)\n",
    "type(a[1])"
   ]
  },
  {
   "cell_type": "code",
   "execution_count": 134,
   "metadata": {},
   "outputs": [
    {
     "name": "stdout",
     "output_type": "stream",
     "text": [
      "enter 2 nos :1 11\n",
      "2\n",
      "4\n",
      "6\n",
      "8\n",
      "10\n"
     ]
    }
   ],
   "source": [
    "a,b = input('enter 2 nos :').split(' ')\n",
    "x = int(a)\n",
    "y = int(b)\n",
    "for i in range(x,y,2):\n",
    "    if x%2 == 0:\n",
    "        print(i)\n",
    "    else:\n",
    "        print(i+1)"
   ]
  },
  {
   "cell_type": "code",
   "execution_count": 132,
   "metadata": {},
   "outputs": [
    {
     "name": "stdout",
     "output_type": "stream",
     "text": [
      "Enter the main stringdamo\n",
      "What you are looking for?m\n"
     ]
    },
    {
     "data": {
      "text/plain": [
       "2"
      ]
     },
     "execution_count": 132,
     "metadata": {},
     "output_type": "execute_result"
    }
   ],
   "source": [
    "s = input('Enter the main string')\n",
    "sub = input('What you are looking for?')\n",
    "#flag = False\n",
    "pos = -1\n",
    "pos = s.find(sub, pos+3, n)\n",
    "pos"
   ]
  },
  {
   "cell_type": "code",
   "execution_count": 1,
   "metadata": {},
   "outputs": [
    {
     "name": "stdout",
     "output_type": "stream",
     "text": [
      "11\n",
      "1101\n"
     ]
    }
   ],
   "source": [
    "#decimal to binary - Reverse Order\n",
    "x = input()\n",
    "l = len(x)\n",
    "n = int(x)\n",
    "b = 0\n",
    "db = 0\n",
    "while n:\n",
    "    b = n%2\n",
    "    n = n//2\n",
    "    db = db*10 + b\n",
    "print(db)"
   ]
  },
  {
   "cell_type": "code",
   "execution_count": 2,
   "metadata": {},
   "outputs": [
    {
     "data": {
      "text/plain": [
       "2000"
      ]
     },
     "execution_count": 2,
     "metadata": {},
     "output_type": "execute_result"
    }
   ],
   "source": [
    "c=3\n",
    "b=2\n",
    "db =10**c*b\n",
    "db"
   ]
  },
  {
   "cell_type": "code",
   "execution_count": 4,
   "metadata": {},
   "outputs": [
    {
     "name": "stdout",
     "output_type": "stream",
     "text": [
      "11\n",
      "1\n",
      "10\n",
      "0\n",
      "1000\n",
      "1011\n"
     ]
    }
   ],
   "source": [
    "#decimal to binary - correct order\n",
    "x = input()\n",
    "l = len(x)\n",
    "n = int(x)\n",
    "b = 0\n",
    "db = 0\n",
    "c = 0\n",
    "bi = 0\n",
    "while n:\n",
    "    b = n%2\n",
    "    n = n//2\n",
    "    db =(10**c)*b\n",
    "    print(db)\n",
    "    c = c + 1\n",
    "    bi = bi + db\n",
    "print(bi)"
   ]
  },
  {
   "cell_type": "code",
   "execution_count": 42,
   "metadata": {},
   "outputs": [
    {
     "name": "stdout",
     "output_type": "stream",
     "text": [
      "Enter some stringrahul\n",
      "Characters at even position: rhl\n",
      "Characters at odd position: au\n"
     ]
    }
   ],
   "source": [
    "#rahul\n",
    "#0 2 4\n",
    "#rhl\n",
    "#au\n",
    "\n",
    "s = input('Enter some string')\n",
    "print('Characters at even position:', s[::2])\n",
    "print('Characters at odd position:', s[1::2])"
   ]
  },
  {
   "cell_type": "code",
   "execution_count": 34,
   "metadata": {},
   "outputs": [
    {
     "name": "stdout",
     "output_type": "stream",
     "text": [
      "9\n",
      "1001\n"
     ]
    }
   ],
   "source": [
    "#decimal to binary - using String\n",
    "x = input()\n",
    "l = len(x)\n",
    "n = int(x)\n",
    "b = 0\n",
    "db = 0\n",
    "b1 = ''\n",
    "dbs = ''\n",
    "while n:\n",
    "    b = n%2\n",
    "    n = n//2\n",
    "    b1 = str(b)\n",
    "    dbs += b1\n",
    "\n",
    "print(int(dbs[::-1]))"
   ]
  },
  {
   "cell_type": "code",
   "execution_count": 5,
   "metadata": {},
   "outputs": [
    {
     "name": "stdout",
     "output_type": "stream",
     "text": [
      "1001\n",
      "9\n"
     ]
    }
   ],
   "source": [
    "# binary to decimal\n",
    "x = input()\n",
    "n = int(x)\n",
    "b = 0\n",
    "d = 0\n",
    "c = 0\n",
    "deci = 0\n",
    "while n:\n",
    "    b = n%10\n",
    "    n = n//10\n",
    "    deci = (2**c)*b\n",
    "    c = c + 1\n",
    "    d = d + deci\n",
    "\n",
    "print(d)"
   ]
  },
  {
   "cell_type": "code",
   "execution_count": 39,
   "metadata": {},
   "outputs": [
    {
     "data": {
      "text/plain": [
       "'01'"
      ]
     },
     "execution_count": 39,
     "metadata": {},
     "output_type": "execute_result"
    }
   ],
   "source": [
    "x = 0\n",
    "y = 1\n",
    "s1=str(y)\n",
    "s2=str(x)\n",
    "s2+s1"
   ]
  },
  {
   "cell_type": "code",
   "execution_count": 45,
   "metadata": {},
   "outputs": [
    {
     "name": "stdout",
     "output_type": "stream",
     "text": [
      "123456\n",
      "21\n"
     ]
    }
   ],
   "source": [
    "#sum of all digits of the given number\n",
    "n = int(input())\n",
    "\n",
    "dig = 0\n",
    "sdig = 0\n",
    "\n",
    "while n:\n",
    "    dig = n%10\n",
    "    n = n//10\n",
    "    sdig = sdig + dig\n",
    "\n",
    "print(sdig)"
   ]
  },
  {
   "cell_type": "code",
   "execution_count": 46,
   "metadata": {},
   "outputs": [
    {
     "name": "stdout",
     "output_type": "stream",
     "text": [
      "1234\n",
      "4321\n"
     ]
    }
   ],
   "source": [
    "#reverse of that number.\n",
    "n = int(input())\n",
    "rn = 0\n",
    "dig = 0\n",
    "sdig = 0\n",
    "\n",
    "while n:\n",
    "    dig = n%10\n",
    "    n = n//10\n",
    "    rn = rn*10 + dig\n",
    "print(rn)"
   ]
  },
  {
   "cell_type": "code",
   "execution_count": 10,
   "metadata": {},
   "outputs": [
    {
     "name": "stdout",
     "output_type": "stream",
     "text": [
      "Enter User Name: g_dam\n",
      "User Name Incorrect\n"
     ]
    }
   ],
   "source": [
    "#program to input username and password and to check whether the given username and password are correct or not\n",
    "uname = input('Enter User Name: ')\n",
    "\n",
    "if uname == 'g_damodaran':\n",
    "    pw = input('Enter Password: ')\n",
    "    if pw == 'pranav@ds':\n",
    "        print('Login Correct')\n",
    "    else:\n",
    "        print('Password Incorrect')\n",
    "        #pw = input('Enter Password: ')\n",
    "else:\n",
    "    print('User Name Incorrect')"
   ]
  },
  {
   "cell_type": "code",
   "execution_count": 12,
   "metadata": {},
   "outputs": [
    {
     "name": "stdout",
     "output_type": "stream",
     "text": [
      "kljn\n"
     ]
    },
    {
     "data": {
      "text/plain": [
       "'g^dam'"
      ]
     },
     "execution_count": 12,
     "metadata": {},
     "output_type": "execute_result"
    }
   ],
   "source": [
    "#Which string method is used to implement the following:\n",
    "#a) To count the number of characters in the string.\n",
    "#b) To change the first character of the string in capital letter.\n",
    "#c) To check whether given character is letter or a number.\n",
    "#d) To change lower case to upper case letter.\n",
    "#e) Change one character into another character.\n",
    "len(uname)\n",
    "str.capitalize(uname)\n",
    "str.isdigit(input())\n",
    "str.upper(uname)\n",
    "uname.replace('_','^')"
   ]
  },
  {
   "cell_type": "markdown",
   "metadata": {},
   "source": [
    "Write a program to input n numbers and to search any number from the list."
   ]
  },
  {
   "cell_type": "code",
   "execution_count": 66,
   "metadata": {},
   "outputs": [
    {
     "name": "stdout",
     "output_type": "stream",
     "text": [
      "5\n",
      "12\n",
      "12\n",
      "12\n",
      "13\n",
      "14\n",
      "[12, 12, 12, 13, 14]\n"
     ]
    }
   ],
   "source": [
    "x = []\n",
    "n= int(input())\n",
    "for i in range(n):\n",
    "    var = int(input())\n",
    "    x.append(var)\n",
    "print(x)"
   ]
  },
  {
   "cell_type": "code",
   "execution_count": 13,
   "metadata": {},
   "outputs": [
    {
     "name": "stdout",
     "output_type": "stream",
     "text": [
      "12\n",
      "12 is in the list of 0 numbers\n"
     ]
    }
   ],
   "source": [
    "y = int(input())\n",
    "cnt = 0\n",
    "\n",
    "for i in range(len(x)):\n",
    "    if x[i] == y:\n",
    "        cnt = cnt + 1\n",
    "print(y, 'is in the list of', cnt, 'numbers')        "
   ]
  },
  {
   "cell_type": "markdown",
   "metadata": {},
   "source": [
    "write a program to input n customer name and phone numbers.\n",
    "Write a program to search input any customer name and display customer phone number if the customer name is exist in the list."
   ]
  },
  {
   "cell_type": "code",
   "execution_count": 70,
   "metadata": {},
   "outputs": [
    {
     "name": "stdout",
     "output_type": "stream",
     "text": [
      "5\n",
      "Name: Raj\n",
      "Phone: 789\n",
      "Name: Vig\n",
      "Phone: 678\n",
      "Name: You\n",
      "Phone: 675\n",
      "Name: Uop\n",
      "Phone: 098\n",
      "Name: Kio\n",
      "Phone: 565\n",
      "['Raj', 'Vig', 'You', 'Uop', 'Kio'] [789, 678, 675, 98, 565]\n"
     ]
    }
   ],
   "source": [
    "x = []\n",
    "y = []\n",
    "n = int(input())\n",
    "for i in range(n):\n",
    "    name = input('Name: ')\n",
    "    ph = int(input('Phone: '))\n",
    "    x.append(name)\n",
    "    y.append(ph)\n",
    "    \n",
    "print(x,y)"
   ]
  },
  {
   "cell_type": "code",
   "execution_count": 18,
   "metadata": {},
   "outputs": [
    {
     "data": {
      "text/plain": [
       "{'Raj': 789, 'Vig': 678, 'You': 675, 'Uop': 98}"
      ]
     },
     "execution_count": 18,
     "metadata": {},
     "output_type": "execute_result"
    }
   ],
   "source": [
    "x=['Raj', 'Vig', 'You', 'Uop', 'Kio'] \n",
    "y=[789, 678, 675, 98]\n",
    "ph_di = dict(zip(x,y))\n",
    "ph_di"
   ]
  },
  {
   "cell_type": "code",
   "execution_count": 22,
   "metadata": {},
   "outputs": [],
   "source": [
    "ph_dir = {'Raj': 789, 'Vig': 678, 'You': 675, 'Uop': 98, 'Kio': 565}"
   ]
  },
  {
   "cell_type": "code",
   "execution_count": 79,
   "metadata": {},
   "outputs": [
    {
     "data": {
      "text/plain": [
       "dict_values([789, 678, 675, 98, 565])"
      ]
     },
     "execution_count": 79,
     "metadata": {},
     "output_type": "execute_result"
    }
   ],
   "source": [
    "ph_dir.keys()\n",
    "ph_dir.values()"
   ]
  },
  {
   "cell_type": "code",
   "execution_count": 37,
   "metadata": {},
   "outputs": [],
   "source": [
    "# cname = input()\n",
    "# #for keys in range(len(ph_dir)):\n",
    "# while ph_di.fromkeys(ph_dir):\n",
    "#     print(ph_dir[cname])\n",
    "#     break\n",
    "# print(ph_di)"
   ]
  },
  {
   "cell_type": "code",
   "execution_count": 98,
   "metadata": {},
   "outputs": [
    {
     "name": "stdout",
     "output_type": "stream",
     "text": [
      "[6, 5, 4, 3, 2, 1]\n"
     ]
    }
   ],
   "source": [
    "#Write a program to input n numbers and to reverse the set of numbers without using functions.\n",
    "listA = [1,2,3,4,5,6]\n",
    "listR = []\n",
    "j = 0\n",
    "for i in range(1,len(listA)+1):\n",
    "    j = -i\n",
    "    listR.append(listA[j])\n",
    "        #cnt = cnt + 1\n",
    "print(listR)   "
   ]
  },
  {
   "cell_type": "code",
   "execution_count": 102,
   "metadata": {},
   "outputs": [
    {
     "name": "stdout",
     "output_type": "stream",
     "text": [
      "[6, 5, 4, 3, 2, 1]\n"
     ]
    }
   ],
   "source": [
    "listA = [1,2,3,4,5,6]\n",
    "listR = []\n",
    "n = len(listA)\n",
    "c = n-1\n",
    "\n",
    "for i in range(1,n+1):\n",
    "    j = c \n",
    "    listR.append(listA[j])\n",
    "    c = c - 1\n",
    "print(listR)   "
   ]
  },
  {
   "cell_type": "code",
   "execution_count": 35,
   "metadata": {},
   "outputs": [
    {
     "name": "stdout",
     "output_type": "stream",
     "text": [
      "[6, 5, 4, 3, 2, 1]\n"
     ]
    }
   ],
   "source": [
    "listA = [1,2,3,4,5,6]\n",
    "listR = []\n",
    "n = len(listA)\n",
    "c = n-1\n",
    "\n",
    "for i in range(-1,-n-1,-1):\n",
    "   \n",
    "    listR.append(listA[i])\n",
    "\n",
    "print(listR)   "
   ]
  },
  {
   "cell_type": "code",
   "execution_count": 36,
   "metadata": {},
   "outputs": [
    {
     "data": {
      "text/plain": [
       "[1, 2, 3, 4, 5, 6, 6, 5, 4, 3, 2, 1]"
      ]
     },
     "execution_count": 36,
     "metadata": {},
     "output_type": "execute_result"
    }
   ],
   "source": [
    "listA+listR\n"
   ]
  },
  {
   "cell_type": "code",
   "execution_count": 105,
   "metadata": {},
   "outputs": [
    {
     "name": "stdout",
     "output_type": "stream",
     "text": [
      "Enter some stringuytuytuy\n",
      "The characters at even position\n",
      "u,t,y,u,\n",
      "The characters at odd position\n",
      "y,u,t,y,"
     ]
    }
   ],
   "source": [
    "#string Operation\n",
    "s = input('Enter some string')\n",
    "i = 0\n",
    "print('The characters at even position')\n",
    "while i < len(s):\n",
    "    print(s[i], end=',')\n",
    "    i = i+2\n",
    "print()\n",
    "print('The characters at odd position')\n",
    "i=1\n",
    "while i<len(s):\n",
    "    print(s[i], end=',')\n",
    "    i=i+2"
   ]
  },
  {
   "cell_type": "code",
   "execution_count": 40,
   "metadata": {},
   "outputs": [
    {
     "name": "stdout",
     "output_type": "stream",
     "text": [
      "Enter some stringDG565\n",
      "DG\n",
      "565\n"
     ]
    }
   ],
   "source": [
    "#input B4A1D3\n",
    "#out ABD134\n",
    "\n",
    "s = input('Enter some string')\n",
    "s1 = s2 = output = ''\n",
    "for x in s:\n",
    "    if x.isalpha():\n",
    "        s1 = s1 + x\n",
    "    else:\n",
    "        s2 = s2 + x\n",
    "print(s1)\n",
    "print(s2)"
   ]
  },
  {
   "cell_type": "code",
   "execution_count": 45,
   "metadata": {},
   "outputs": [
    {
     "name": "stdout",
     "output_type": "stream",
     "text": [
      "Enter some stringiu998779hubk\n",
      "bhikuu778999\n"
     ]
    },
    {
     "data": {
      "text/plain": [
       "'bhikuu'"
      ]
     },
     "execution_count": 45,
     "metadata": {},
     "output_type": "execute_result"
    }
   ],
   "source": [
    "s = input('Enter some string')\n",
    "s1 = s2 = output = ''\n",
    "for x in sorted(s):\n",
    "    if x.isalpha():\n",
    "        s1 = s1 + x\n",
    "    else:\n",
    "        s2 = s2 + x\n",
    "for x in sorted(s1):\n",
    "    output = output+x\n",
    "for x in sorted(s2):\n",
    "    output = output+x\n",
    "print(output)\n",
    "sorted(s1)\n",
    "s1"
   ]
  },
  {
   "cell_type": "code",
   "execution_count": 46,
   "metadata": {},
   "outputs": [
    {
     "data": {
      "text/plain": [
       "['b', 'h', 'i', 'k', 'u', 'u']"
      ]
     },
     "execution_count": 46,
     "metadata": {},
     "output_type": "execute_result"
    }
   ],
   "source": [
    "sorted(s1)"
   ]
  },
  {
   "cell_type": "code",
   "execution_count": 109,
   "metadata": {},
   "outputs": [
    {
     "data": {
      "text/plain": [
       "'BAD'"
      ]
     },
     "execution_count": 109,
     "metadata": {},
     "output_type": "execute_result"
    }
   ],
   "source": [
    "s1"
   ]
  },
  {
   "cell_type": "code",
   "execution_count": 110,
   "metadata": {},
   "outputs": [
    {
     "name": "stdout",
     "output_type": "stream",
     "text": [
      "Enter some stringB4A1D3\n",
      "['1', '3', '4', 'A', 'B', 'D']\n"
     ]
    }
   ],
   "source": [
    "s = input('Enter some string')\n",
    "s1 = s2 = output = ''\n",
    "for x in s:\n",
    "    if x.isalpha():\n",
    "        s1 = s1 + x\n",
    "    else: \n",
    "        s2 = s2 + x\n",
    "output=s1+s2\n",
    "print(sorted(output))"
   ]
  },
  {
   "cell_type": "code",
   "execution_count": 50,
   "metadata": {},
   "outputs": [
    {
     "name": "stdout",
     "output_type": "stream",
     "text": [
      "Enter some stringuuuopi890\n",
      "iopuuu089\n"
     ]
    }
   ],
   "source": [
    "s = input('Enter some string')\n",
    "s1 = s2 = output = ''\n",
    "for x in s:\n",
    "    if x.isalpha():\n",
    "        s1 = s1 + x\n",
    "    elif x.isdigit():\n",
    "        s2 = s2 + x\n",
    "for x in sorted(s1):\n",
    "    output = output+x\n",
    "for x in sorted(s2):\n",
    "    output = output+x\n",
    "print(output)"
   ]
  },
  {
   "cell_type": "code",
   "execution_count": 49,
   "metadata": {},
   "outputs": [
    {
     "data": {
      "text/plain": [
       "['7', '8', '9', 'h', 'i', 'u']"
      ]
     },
     "execution_count": 49,
     "metadata": {},
     "output_type": "execute_result"
    }
   ],
   "source": [
    "sorted(s)"
   ]
  },
  {
   "cell_type": "code",
   "execution_count": 51,
   "metadata": {},
   "outputs": [
    {
     "name": "stdout",
     "output_type": "stream",
     "text": [
      "Enter some stringty56hi\n",
      "tyyyyyyyyyyhi\n"
     ]
    }
   ],
   "source": [
    "#input a4b3c2\n",
    "#out aaaabbbcc\n",
    "s = input('Enter some string')\n",
    "output = ''\n",
    "for x in s:\n",
    "    if x.isalpha():\n",
    "        output = output+x\n",
    "        previous = x\n",
    "    else:\n",
    "        output = output + previous*(int(x)-1)\n",
    "print(output)"
   ]
  },
  {
   "cell_type": "code",
   "execution_count": 116,
   "metadata": {},
   "outputs": [
    {
     "name": "stdout",
     "output_type": "stream",
     "text": [
      "Enter the 1st stringabcd\n",
      "Enter the 2nd string1234\n",
      "a1b2c3d4\n"
     ]
    }
   ],
   "source": [
    "#input1 = 'Rahul'\n",
    "#input2 = 'Rohit'\n",
    "#output - RRaohhuilt\n",
    "\n",
    "s1 = input('Enter the 1st string')\n",
    "s2 = input('Enter the 2nd string')\n",
    "output = ''\n",
    "i=j=0\n",
    "while i<len(s1): #or j<len(s2):\n",
    "    output = output + s1[i] + s2[j]\n",
    "    i = i+1\n",
    "    j = j+1\n",
    "print(output)"
   ]
  },
  {
   "cell_type": "code",
   "execution_count": 117,
   "metadata": {},
   "outputs": [
    {
     "name": "stdout",
     "output_type": "stream",
     "text": [
      "Enter 1st Stringabcd\n",
      "Enter 2nd string12345\n",
      "a1b2c3d45\n"
     ]
    }
   ],
   "source": [
    "s1 = input('Enter 1st String')\n",
    "s2 = input('Enter 2nd string')\n",
    "output = ''\n",
    "i=j=0\n",
    "while i<len(s1) or j<len(s2):\n",
    "    if i < len(s1):\n",
    "        output = output + s1[i]\n",
    "        i = i+1\n",
    "    if j < len(s2):\n",
    "        output = output + s2[j]\n",
    "        j = j + 1\n",
    "print(output)"
   ]
  },
  {
   "cell_type": "code",
   "execution_count": 118,
   "metadata": {},
   "outputs": [
    {
     "name": "stdout",
     "output_type": "stream",
     "text": [
      "Enter some stringdamo\n",
      "Characters at even position: dm\n",
      "Characters at odd position: ao\n"
     ]
    }
   ],
   "source": [
    "#rahul\n",
    "#0 2 4\n",
    "#rhl\n",
    "#au\n",
    "\n",
    "s = input('Enter some string')\n",
    "print('Characters at even position:', s[::2])\n",
    "print('Characters at odd position:', s[1::2])"
   ]
  },
  {
   "cell_type": "code",
   "execution_count": null,
   "metadata": {},
   "outputs": [],
   "source": []
  }
 ],
 "metadata": {
  "kernelspec": {
   "display_name": "Python 3",
   "language": "python",
   "name": "python3"
  },
  "language_info": {
   "codemirror_mode": {
    "name": "ipython",
    "version": 3
   },
   "file_extension": ".py",
   "mimetype": "text/x-python",
   "name": "python",
   "nbconvert_exporter": "python",
   "pygments_lexer": "ipython3",
   "version": "3.8.5"
  }
 },
 "nbformat": 4,
 "nbformat_minor": 2
}
