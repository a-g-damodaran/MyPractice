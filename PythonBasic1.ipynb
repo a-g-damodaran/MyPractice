{
 "cells": [
  {
   "cell_type": "code",
   "execution_count": 6,
   "metadata": {},
   "outputs": [
    {
     "name": "stdout",
     "output_type": "stream",
     "text": [
      "92359\n",
      "344742\n",
      "240679\n",
      "210645\n",
      "583745\n",
      "833492\n",
      "472728\n",
      "112690\n"
     ]
    }
   ],
   "source": [
    "from random import *\n",
    "\n",
    "for i in range(8):\n",
    "    print(randint(0,999999))\n"
   ]
  },
  {
   "cell_type": "code",
   "execution_count": 3,
   "metadata": {},
   "outputs": [
    {
     "data": {
      "text/plain": [
       "[21, 23, 32, 32, 22, 32, 33, 23, 22, 33, 22, 33, 56]"
      ]
     },
     "execution_count": 3,
     "metadata": {},
     "output_type": "execute_result"
    }
   ],
   "source": [
    "ages=[21, 23, 32, 32, 22, 32, 33, 23, 22, 33, 22, 33]\n",
    "sum(ages)\n",
    "ages.append(56)\n",
    "ages"
   ]
  },
  {
   "cell_type": "code",
   "execution_count": 59,
   "metadata": {},
   "outputs": [
    {
     "data": {
      "text/plain": [
       "[21, 23, 32, 100, 22, 32, 33, 23, 22, 33, 22, 33]"
      ]
     },
     "execution_count": 59,
     "metadata": {},
     "output_type": "execute_result"
    }
   ],
   "source": [
    "ages[3]=100\n",
    "ages"
   ]
  },
  {
   "cell_type": "code",
   "execution_count": 61,
   "metadata": {},
   "outputs": [
    {
     "data": {
      "text/plain": [
       "[21, 23, 32, [9, 0, 8], 22, 32, 33, 23, 22, 33, 22, 33]"
      ]
     },
     "execution_count": 61,
     "metadata": {},
     "output_type": "execute_result"
    }
   ],
   "source": [
    "ages[3]=[9,0,8]\n",
    "ages"
   ]
  },
  {
   "cell_type": "code",
   "execution_count": 62,
   "metadata": {},
   "outputs": [
    {
     "data": {
      "text/plain": [
       "[21, 23, 32, [9, [7], 8], 22, 32, 33, 23, 22, 33, 22, 33]"
      ]
     },
     "execution_count": 62,
     "metadata": {},
     "output_type": "execute_result"
    }
   ],
   "source": [
    "ages[3][1]=[7]\n",
    "ages"
   ]
  },
  {
   "cell_type": "code",
   "execution_count": 65,
   "metadata": {},
   "outputs": [
    {
     "data": {
      "text/plain": [
       "[21, 23, 32, [9, [7], 8], 22, 32, 33, 23, 22, 33, 22, 33, 345]"
      ]
     },
     "execution_count": 65,
     "metadata": {},
     "output_type": "execute_result"
    }
   ],
   "source": [
    "ages.append(345)\n",
    "ages"
   ]
  },
  {
   "cell_type": "code",
   "execution_count": 9,
   "metadata": {},
   "outputs": [
    {
     "data": {
      "text/plain": [
       "[21, 23, 32, 32, 22, 32, 33, 23, 22, 33, 45, 45, 22, 33, 56]"
      ]
     },
     "execution_count": 9,
     "metadata": {},
     "output_type": "execute_result"
    }
   ],
   "source": [
    "ages.insert(10,45)\n",
    "ages"
   ]
  },
  {
   "cell_type": "code",
   "execution_count": 10,
   "metadata": {},
   "outputs": [
    {
     "data": {
      "text/plain": [
       "[56, 33, 22, 45, 45, 33, 22, 23, 33, 32, 22, 32, 32, 23, 21]"
      ]
     },
     "execution_count": 10,
     "metadata": {},
     "output_type": "execute_result"
    }
   ],
   "source": [
    "ages.reverse()\n",
    "ages"
   ]
  },
  {
   "cell_type": "code",
   "execution_count": 11,
   "metadata": {},
   "outputs": [
    {
     "data": {
      "text/plain": [
       "[21, 22, 22, 22, 23, 23, 32, 32, 32, 33, 33, 33, 45, 45, 56]"
      ]
     },
     "execution_count": 11,
     "metadata": {},
     "output_type": "execute_result"
    }
   ],
   "source": [
    "ages.sort()\n",
    "ages"
   ]
  },
  {
   "cell_type": "code",
   "execution_count": 13,
   "metadata": {},
   "outputs": [
    {
     "data": {
      "text/plain": [
       "[21, 22, 22, 22, 23, 23, 32, 32, 32, 33, 33, 33, 45, 45, 56]"
      ]
     },
     "execution_count": 13,
     "metadata": {},
     "output_type": "execute_result"
    }
   ],
   "source": [
    "ages.sort(reverse=False)\n",
    "ages"
   ]
  },
  {
   "cell_type": "code",
   "execution_count": 44,
   "metadata": {},
   "outputs": [],
   "source": [
    "ages.extend([10,23,23])"
   ]
  },
  {
   "cell_type": "code",
   "execution_count": 46,
   "metadata": {},
   "outputs": [],
   "source": [
    "ages.sort(reverse=True)"
   ]
  },
  {
   "cell_type": "code",
   "execution_count": 48,
   "metadata": {},
   "outputs": [
    {
     "data": {
      "text/plain": [
       "[23, 23, 23, 22, 22, 22, 21, 10, 10, 10, 10]"
      ]
     },
     "execution_count": 48,
     "metadata": {},
     "output_type": "execute_result"
    }
   ],
   "source": [
    "del ages[0:10]\n",
    "ages"
   ]
  },
  {
   "cell_type": "code",
   "execution_count": 53,
   "metadata": {},
   "outputs": [
    {
     "data": {
      "text/plain": [
       "[22, 21, 10, 10]"
      ]
     },
     "execution_count": 53,
     "metadata": {},
     "output_type": "execute_result"
    }
   ],
   "source": [
    "del ages[0:4:-2]\n",
    "ages"
   ]
  },
  {
   "cell_type": "code",
   "execution_count": 55,
   "metadata": {},
   "outputs": [
    {
     "data": {
      "text/plain": [
       "[]"
      ]
     },
     "execution_count": 55,
     "metadata": {},
     "output_type": "execute_result"
    }
   ],
   "source": [
    "del ages[0:4:1]\n",
    "ages"
   ]
  },
  {
   "cell_type": "code",
   "execution_count": 66,
   "metadata": {},
   "outputs": [
    {
     "data": {
      "text/plain": [
       "{'Name': ['Rahul', 'Rohaan', 'John', 'James'],\n",
       " 'Stu_id': [1, 2, 3, 4, 5],\n",
       " 'Region': ['S', 'N', 'E', 'NaN'],\n",
       " 'NM': ['Mitesh', 'Rohaan', 'John', 'James']}"
      ]
     },
     "execution_count": 66,
     "metadata": {},
     "output_type": "execute_result"
    }
   ],
   "source": [
    "stu_det={'Name': ['Rahul', 'Rohaan', 'John', 'James'],\n",
    " 'Stu_id': [1, 2, 3, 4, 5],\n",
    " 'Region': ['S', 'N', 'E', 'NaN'],\n",
    " 'NM': ['Mitesh', 'Rohaan', 'John', 'James']}\n",
    "stu_det"
   ]
  },
  {
   "cell_type": "code",
   "execution_count": 7,
   "metadata": {},
   "outputs": [
    {
     "data": {
      "text/html": [
       "<div>\n",
       "<style scoped>\n",
       "    .dataframe tbody tr th:only-of-type {\n",
       "        vertical-align: middle;\n",
       "    }\n",
       "\n",
       "    .dataframe tbody tr th {\n",
       "        vertical-align: top;\n",
       "    }\n",
       "\n",
       "    .dataframe thead th {\n",
       "        text-align: right;\n",
       "    }\n",
       "</style>\n",
       "<table border=\"1\" class=\"dataframe\">\n",
       "  <thead>\n",
       "    <tr style=\"text-align: right;\">\n",
       "      <th></th>\n",
       "      <th>Name</th>\n",
       "      <th>Stu_id</th>\n",
       "      <th>Region</th>\n",
       "      <th>NM</th>\n",
       "    </tr>\n",
       "  </thead>\n",
       "  <tbody>\n",
       "    <tr>\n",
       "      <th>0</th>\n",
       "      <td>Rahul</td>\n",
       "      <td>1</td>\n",
       "      <td>S</td>\n",
       "      <td>Mitesh</td>\n",
       "    </tr>\n",
       "    <tr>\n",
       "      <th>1</th>\n",
       "      <td>Rohaan</td>\n",
       "      <td>2</td>\n",
       "      <td>N</td>\n",
       "      <td>Rohaan</td>\n",
       "    </tr>\n",
       "    <tr>\n",
       "      <th>2</th>\n",
       "      <td>John</td>\n",
       "      <td>3</td>\n",
       "      <td>E</td>\n",
       "      <td>John</td>\n",
       "    </tr>\n",
       "    <tr>\n",
       "      <th>3</th>\n",
       "      <td>James</td>\n",
       "      <td>4</td>\n",
       "      <td>NaN</td>\n",
       "      <td>James</td>\n",
       "    </tr>\n",
       "  </tbody>\n",
       "</table>\n",
       "</div>"
      ],
      "text/plain": [
       "     Name  Stu_id Region      NM\n",
       "0   Rahul       1      S  Mitesh\n",
       "1  Rohaan       2      N  Rohaan\n",
       "2    John       3      E    John\n",
       "3   James       4    NaN   James"
      ]
     },
     "execution_count": 7,
     "metadata": {},
     "output_type": "execute_result"
    }
   ],
   "source": [
    "import pandas as pd\n",
    "stu_det={'Name': ['Rahul', 'Rohaan', 'John', 'James'],\n",
    " 'Stu_id': [1, 2, 3, 4],\n",
    " 'Region': ['S', 'N', 'E', 'NaN'],\n",
    " 'NM': ['Mitesh', 'Rohaan', 'John', 'James']}\n",
    "stu_det\n",
    "pd.DataFrame(stu_det)"
   ]
  },
  {
   "cell_type": "code",
   "execution_count": 15,
   "metadata": {},
   "outputs": [
    {
     "name": "stdout",
     "output_type": "stream",
     "text": [
      "93926849947456\n",
      "93926849947456\n"
     ]
    }
   ],
   "source": [
    "a=26\n",
    "b=26\n",
    "print(id(a))\n",
    "print(id(b))"
   ]
  },
  {
   "cell_type": "code",
   "execution_count": 46,
   "metadata": {},
   "outputs": [
    {
     "name": "stdout",
     "output_type": "stream",
     "text": [
      "140685820748552\n",
      "140685820866184\n"
     ]
    },
    {
     "data": {
      "text/plain": [
       "list"
      ]
     },
     "execution_count": 46,
     "metadata": {},
     "output_type": "execute_result"
    }
   ],
   "source": [
    "student1 = [45,3,76,12]\n",
    "student2 = ['Keerthi',9,130,40]\n",
    "\n",
    "print(id(student1))\n",
    "print(id(student2))\n",
    "type(student1)"
   ]
  },
  {
   "cell_type": "code",
   "execution_count": 20,
   "metadata": {},
   "outputs": [
    {
     "data": {
      "text/plain": [
       "list"
      ]
     },
     "execution_count": 20,
     "metadata": {},
     "output_type": "execute_result"
    }
   ],
   "source": [
    "type(student1)"
   ]
  },
  {
   "cell_type": "code",
   "execution_count": 22,
   "metadata": {},
   "outputs": [
    {
     "name": "stdout",
     "output_type": "stream",
     "text": [
      "['False', 'None', 'True', 'and', 'as', 'assert', 'async', 'await', 'break', 'class', 'continue', 'def', 'del', 'elif', 'else', 'except', 'finally', 'for', 'from', 'global', 'if', 'import', 'in', 'is', 'lambda', 'nonlocal', 'not', 'or', 'pass', 'raise', 'return', 'try', 'while', 'with', 'yield']\n"
     ]
    }
   ],
   "source": [
    "import keyword\n",
    "print(keyword.kwlist)"
   ]
  },
  {
   "cell_type": "code",
   "execution_count": 28,
   "metadata": {},
   "outputs": [
    {
     "data": {
      "text/plain": [
       "'dureka'"
      ]
     },
     "execution_count": 28,
     "metadata": {},
     "output_type": "execute_result"
    }
   ],
   "source": [
    "a = 'Edureka'\n",
    "a[1:7]"
   ]
  },
  {
   "cell_type": "code",
   "execution_count": 35,
   "metadata": {},
   "outputs": [
    {
     "data": {
      "text/plain": [
       "'kr'"
      ]
     },
     "execution_count": 35,
     "metadata": {},
     "output_type": "execute_result"
    }
   ],
   "source": [
    "a = 'Edureka'\n",
    "a[5:-5:-2]"
   ]
  },
  {
   "cell_type": "code",
   "execution_count": 37,
   "metadata": {},
   "outputs": [
    {
     "data": {
      "text/plain": [
       "'EdurekaNIT'"
      ]
     },
     "execution_count": 37,
     "metadata": {},
     "output_type": "execute_result"
    }
   ],
   "source": [
    "b = 'NIT'\n",
    "a + b"
   ]
  },
  {
   "cell_type": "code",
   "execution_count": 60,
   "metadata": {},
   "outputs": [
    {
     "name": "stdout",
     "output_type": "stream",
     "text": [
      "[45, 3, 76, 12, 3, 3]\n"
     ]
    }
   ],
   "source": [
    "student1.append(3)\n",
    "print(list(student1))\n",
    "type(student1)\n",
    "student1.()"
   ]
  },
  {
   "cell_type": "code",
   "execution_count": 59,
   "metadata": {},
   "outputs": [
    {
     "name": "stdout",
     "output_type": "stream",
     "text": [
      "34\n"
     ]
    },
    {
     "data": {
      "text/plain": [
       "34"
      ]
     },
     "execution_count": 59,
     "metadata": {},
     "output_type": "execute_result"
    }
   ],
   "source": [
    "a = 34\n",
    "print(a)\n",
    "a"
   ]
  },
  {
   "cell_type": "code",
   "execution_count": 8,
   "metadata": {},
   "outputs": [
    {
     "data": {
      "text/plain": [
       "[10, 8, 6, 4, 2]"
      ]
     },
     "execution_count": 8,
     "metadata": {},
     "output_type": "execute_result"
    }
   ],
   "source": [
    "A=list(range(10,0,-2))\n",
    "A"
   ]
  },
  {
   "cell_type": "code",
   "execution_count": 16,
   "metadata": {},
   "outputs": [
    {
     "data": {
      "text/plain": [
       "True"
      ]
     },
     "execution_count": 16,
     "metadata": {},
     "output_type": "execute_result"
    }
   ],
   "source": [
    "set1={1,2,3,4,5,6,7,8}\n",
    "set2={6,7,8}\n",
    "set3={3,4,5,6}\n",
    "set1.isdisjoint(set2)\n",
    "set2.issubset(set1)"
   ]
  },
  {
   "cell_type": "code",
   "execution_count": 3,
   "metadata": {},
   "outputs": [
    {
     "name": "stdout",
     "output_type": "stream",
     "text": [
      "Hello Edureka Hi! "
     ]
    }
   ],
   "source": [
    "#16.02.21\n",
    "my_text = \"Hello Edureka Hi!\"\n",
    "for i in my_text.split(\" \"):\n",
    "    print(i,end=\" \")"
   ]
  },
  {
   "cell_type": "code",
   "execution_count": 5,
   "metadata": {},
   "outputs": [
    {
     "data": {
      "text/plain": [
       "{1, 2, 3, 4, 5, 6, 7, 8, 9, 10}"
      ]
     },
     "execution_count": 5,
     "metadata": {},
     "output_type": "execute_result"
    }
   ],
   "source": [
    "set1={1,2,3,4,5,6,7,8}\n",
    "set2={6,7,8,9,10}\n",
    "set3={3,4,5,6}\n",
    "set4=set1.union(set2)\n",
    "set4"
   ]
  },
  {
   "cell_type": "code",
   "execution_count": 7,
   "metadata": {},
   "outputs": [
    {
     "data": {
      "text/plain": [
       "{1, 2, 3, 4, 5, 9, 10}"
      ]
     },
     "execution_count": 7,
     "metadata": {},
     "output_type": "execute_result"
    }
   ],
   "source": [
    "set1={1,2,3,4,5,6,7,8}\n",
    "set2={6,7,8,9,10}\n",
    "set3={3,4,5,6}\n",
    "set4=set1.symmetric_difference(set2)\n",
    "set4"
   ]
  },
  {
   "cell_type": "code",
   "execution_count": 16,
   "metadata": {},
   "outputs": [
    {
     "name": "stdout",
     "output_type": "stream",
     "text": [
      "{1, 2, 3, 4, 5, 9, 10}\n",
      "{1, 2, 3, 4, 5, 9, 10}\n",
      "{6, 7, 8, 9, 10}\n"
     ]
    }
   ],
   "source": [
    "set1={1,2,3,4,5,6,7,8}\n",
    "set2={6,7,8,9,10}\n",
    "set3={3,4,5}\n",
    "set4=set1.symmetric_difference_update(set2) # why not assigning?\n",
    "set4=set1\n",
    "print(set4)\n",
    "print(set1)\n",
    "print(set2)"
   ]
  },
  {
   "cell_type": "code",
   "execution_count": 17,
   "metadata": {},
   "outputs": [
    {
     "name": "stdout",
     "output_type": "stream",
     "text": [
      "Enter the values1 2 3\n",
      "[1, 2, 3]\n"
     ]
    },
    {
     "data": {
      "text/plain": [
       "int"
      ]
     },
     "execution_count": 17,
     "metadata": {},
     "output_type": "execute_result"
    }
   ],
   "source": [
    "a = [eval(x) for x in input('Enter the values').split( )]\n",
    "print(a)\n",
    "type(a[1])"
   ]
  },
  {
   "cell_type": "code",
   "execution_count": 26,
   "metadata": {},
   "outputs": [
    {
     "name": "stdout",
     "output_type": "stream",
     "text": [
      "enter 2 nos :1 5\n",
      "2\n",
      "4\n"
     ]
    }
   ],
   "source": [
    "a,b = input('enter 2 nos :').split(' ')\n",
    "x = int(a)\n",
    "y = int(b)\n",
    "for i in range(x,y,2):\n",
    "    if x%2 == 0:\n",
    "        print(i)\n",
    "    else:\n",
    "        print(i+1)"
   ]
  },
  {
   "cell_type": "code",
   "execution_count": 28,
   "metadata": {},
   "outputs": [
    {
     "name": "stdout",
     "output_type": "stream",
     "text": [
      "My food Carbs\n",
      "Carbs\n",
      "Protein\n"
     ]
    },
    {
     "data": {
      "text/plain": [
       "'My food Protein'"
      ]
     },
     "execution_count": 28,
     "metadata": {},
     "output_type": "execute_result"
    }
   ],
   "source": [
    "string1 = input()\n",
    "x = input()\n",
    "y = input()\n",
    "string2 = string1.replace(x,y)\n",
    "string2"
   ]
  },
  {
   "cell_type": "code",
   "execution_count": 21,
   "metadata": {},
   "outputs": [
    {
     "name": "stdout",
     "output_type": "stream",
     "text": [
      "Enter the end Number:5\n",
      "0 1 1 2 3 "
     ]
    }
   ],
   "source": [
    "#Fibonnacci Series 0, 1, 1, 2, 3, 5, 8 ....\n",
    "x = int(input('Enter the end Number:'))-2\n",
    "a = 0\n",
    "b = 1\n",
    "\n",
    "print(a, b,end=' ')\n",
    "while x:\n",
    "    c = a + b\n",
    "    a = b\n",
    "    b = c\n",
    "    print(c,end=' ')\n",
    "    x = x-1"
   ]
  },
  {
   "cell_type": "code",
   "execution_count": 6,
   "metadata": {},
   "outputs": [
    {
     "name": "stdout",
     "output_type": "stream",
     "text": [
      "Enter a digit:8767699\n",
      "52\n"
     ]
    }
   ],
   "source": [
    "S = int(input('Enter a digit:'))\n",
    "sum = 0\n",
    "\n",
    "while S: # S is not equal to zero than it will work : ie True\n",
    "    sum = sum + S%10\n",
    "    S = S//10\n",
    "\n",
    "print(sum)"
   ]
  },
  {
   "cell_type": "code",
   "execution_count": 12,
   "metadata": {},
   "outputs": [
    {
     "name": "stdout",
     "output_type": "stream",
     "text": [
      "       \n",
      "      ^\n",
      "     ^^\n",
      "    ^^^\n",
      "   ^^^^\n",
      "  ^^^^^\n",
      " ^^^^^^\n"
     ]
    }
   ],
   "source": [
    "for i in range(7):\n",
    "    print(' '*((7)-(i))+'^'*i)"
   ]
  },
  {
   "cell_type": "code",
   "execution_count": 18,
   "metadata": {},
   "outputs": [
    {
     "name": "stdout",
     "output_type": "stream",
     "text": [
      "      \n",
      "     ^\n",
      "    ^^^\n",
      "   ^^^^^\n",
      "  ^^^^^^^\n",
      " ^^^^^^^^^\n",
      "^^^^^^^^^^^\n"
     ]
    }
   ],
   "source": [
    "for i in range(7):\n",
    "    print(' '*(2*(7//2)-(i))+'^'*(2*i-1))"
   ]
  },
  {
   "cell_type": "code",
   "execution_count": 20,
   "metadata": {},
   "outputs": [
    {
     "name": "stdout",
     "output_type": "stream",
     "text": [
      "       \n",
      "       ^\n",
      "       ^^^\n",
      "       ^^^^^\n",
      "       ^^^^^^^\n",
      "       ^^^^^^^^^\n",
      "       ^^^^^^^^^^^\n"
     ]
    }
   ],
   "source": [
    "for i in range(7):\n",
    "    print(' '*7+'^'*(2*i-1))"
   ]
  },
  {
   "cell_type": "code",
   "execution_count": 21,
   "metadata": {},
   "outputs": [
    {
     "name": "stdout",
     "output_type": "stream",
     "text": [
      "       \n",
      "      ^\n",
      "     ^^^\n",
      "    ^^^^^\n",
      "   ^^^^^^^\n",
      "  ^^^^^^^^^\n",
      " ^^^^^^^^^^^\n"
     ]
    }
   ],
   "source": [
    "for i in range(7):\n",
    "    print(' '*((7)-(i))+'^'*(2*i-1))"
   ]
  },
  {
   "cell_type": "code",
   "execution_count": 14,
   "metadata": {},
   "outputs": [
    {
     "name": "stdout",
     "output_type": "stream",
     "text": [
      "     ^^^\n",
      "    ^^^^^\n",
      "   ^^^^^^^\n",
      "  ^^^^^^^^^\n",
      " ^^^^^^^^^^^\n",
      "^^^^^^^^^^^^^\n"
     ]
    }
   ],
   "source": [
    "for i in range(1,7):\n",
    "    print(' '*(7-1-i)+'^'*(2*i+1))"
   ]
  },
  {
   "cell_type": "code",
   "execution_count": 1,
   "metadata": {},
   "outputs": [
    {
     "data": {
      "text/plain": [
       "{'Sum of a+b': 14, 'Sub of a-b': 6, 'Mul of a*b': 40, 'Div of a/b': 2.5}"
      ]
     },
     "execution_count": 1,
     "metadata": {},
     "output_type": "execute_result"
    }
   ],
   "source": [
    "\n",
    "def calc(a,b):\n",
    "    sum = a+b\n",
    "    sub = a-b\n",
    "    mul = a*b\n",
    "    div = a/b\n",
    "    return {'Sum of a+b':sum, 'Sub of a-b':sub, 'Mul of a*b':mul, 'Div of a/b':div}\n",
    "\n",
    "calc(10,4)"
   ]
  },
  {
   "cell_type": "code",
   "execution_count": 3,
   "metadata": {},
   "outputs": [
    {
     "data": {
      "text/plain": [
       "dict"
      ]
     },
     "execution_count": 3,
     "metadata": {},
     "output_type": "execute_result"
    }
   ],
   "source": [
    "type(calc(10,4))"
   ]
  },
  {
   "cell_type": "code",
   "execution_count": 8,
   "metadata": {},
   "outputs": [
    {
     "name": "stdout",
     "output_type": "stream",
     "text": [
      "<class 'map'>\n"
     ]
    },
    {
     "data": {
      "text/plain": [
       "map"
      ]
     },
     "execution_count": 8,
     "metadata": {},
     "output_type": "execute_result"
    }
   ],
   "source": [
    "def double(x):\n",
    "    return 2*x\n",
    "l = [32,33,445,43,44,32,112,22,11]\n",
    "map(double,l)\n",
    "filter(double,l)\n",
    "set(filter(double,l))\n",
    "print(map)\n",
    "map"
   ]
  },
  {
   "cell_type": "code",
   "execution_count": 16,
   "metadata": {},
   "outputs": [
    {
     "name": "stdout",
     "output_type": "stream",
     "text": [
      "Enter the main stringDamodaran\n",
      "What you are looking for?x\n",
      "Not Found\n",
      "0\n"
     ]
    }
   ],
   "source": [
    "#All the occurances of the value in the string rahullllllluull\n",
    "s = input('Enter the main string')\n",
    "sub = input('What you are looking for?')\n",
    "flag = False\n",
    "pos = -1\n",
    "n = len(s)\n",
    "count = 0\n",
    "while True:\n",
    "    pos = s.find(sub, pos+1, n)\n",
    "    if pos==-1:\n",
    "        break\n",
    "    print('Found at index:', pos)\n",
    "    flag = True\n",
    "    count = count + 1\n",
    "if flag == False:\n",
    "    print('Not Found')\n",
    "print(count)"
   ]
  },
  {
   "cell_type": "code",
   "execution_count": 29,
   "metadata": {},
   "outputs": [
    {
     "name": "stdout",
     "output_type": "stream",
     "text": [
      "Enter the city name: Mum$bai\n",
      "Your city is available\n"
     ]
    }
   ],
   "source": [
    "city = input('Enter the city name: ')\n",
    "list1 = ['Mum$bai', 'Pune','Bengaluru','Chennai']\n",
    "if city.strip('$') in list1:\n",
    "    print('Your city is available')\n",
    "else:\n",
    "    print('Your city is not available')"
   ]
  },
  {
   "cell_type": "code",
   "execution_count": 5,
   "metadata": {},
   "outputs": [
    {
     "ename": "SyntaxError",
     "evalue": "invalid syntax (<ipython-input-5-4afb62842494>, line 4)",
     "output_type": "error",
     "traceback": [
      "\u001b[0;36m  File \u001b[0;32m\"<ipython-input-5-4afb62842494>\"\u001b[0;36m, line \u001b[0;32m4\u001b[0m\n\u001b[0;31m    continue\u001b[0m\n\u001b[0m           ^\u001b[0m\n\u001b[0;31mSyntaxError\u001b[0m\u001b[0;31m:\u001b[0m invalid syntax\n"
     ]
    }
   ],
   "source": [
    "s = 'mayam'\n",
    "for (i,j) in zip(range((0,len(s),1),(0,len(s),-1))\n",
    "            if s[i] == s[j]\n",
    "                continue\n",
    "                print('Palindraome')\n",
    "            else\n",
    "                Print('Not Palindrome')\n",
    "                       \n",
    "                       "
   ]
  },
  {
   "cell_type": "code",
   "execution_count": 46,
   "metadata": {},
   "outputs": [
    {
     "ename": "IndentationError",
     "evalue": "expected an indented block (<ipython-input-46-0dd53789fac3>, line 7)",
     "output_type": "error",
     "traceback": [
      "\u001b[0;36m  File \u001b[0;32m\"<ipython-input-46-0dd53789fac3>\"\u001b[0;36m, line \u001b[0;32m7\u001b[0m\n\u001b[0;31m    continue\u001b[0m\n\u001b[0m           ^\u001b[0m\n\u001b[0;31mIndentationError\u001b[0m\u001b[0;31m:\u001b[0m expected an indented block\n"
     ]
    }
   ],
   "source": [
    "s = 'mayiam'\n",
    "n = len(s)\n",
    "for i in range(0,n):\n",
    "    a=s[i]\n",
    "    b=s[n-1-i]\n",
    "    if a == b:\n",
    "    continue\n",
    "        print('P')\n",
    "    else:\n",
    "        print('NP')"
   ]
  },
  {
   "cell_type": "code",
   "execution_count": 27,
   "metadata": {},
   "outputs": [
    {
     "name": "stdout",
     "output_type": "stream",
     "text": [
      "m m\n",
      "a a\n",
      "y y\n"
     ]
    }
   ],
   "source": [
    "s = 'mayam'\n",
    "n=len(s)\n",
    "i = 0\n",
    "while i<=n/2:\n",
    "    a=s[i]\n",
    "    b=s[n-1-i]\n",
    "    i = i + 1\n",
    "    if a == b:\n",
    "        print(a,b)\n",
    "        "
   ]
  },
  {
   "cell_type": "code",
   "execution_count": 21,
   "metadata": {},
   "outputs": [
    {
     "name": "stdout",
     "output_type": "stream",
     "text": [
      "N\n"
     ]
    }
   ],
   "source": [
    "s = 'mayiam'\n",
    "n = len(s)\n",
    "i = 0\n",
    "while i<=n/2:\n",
    "    a=s[i]\n",
    "    b=s[n-1-i]\n",
    "    i = i + 1\n",
    "    if a != b:\n",
    "        print('N')\n",
    "        break\n",
    "    else:\n",
    "        continue\n",
    "        print('P')\n",
    "        \n"
   ]
  },
  {
   "cell_type": "code",
   "execution_count": 24,
   "metadata": {},
   "outputs": [
    {
     "name": "stdout",
     "output_type": "stream",
     "text": [
      "Enter a word :MAYAILAM\n",
      "Not a Palindrome\n"
     ]
    }
   ],
   "source": [
    "s = input('Enter a word :')\n",
    "n=len(s)\n",
    "i = 0\n",
    "count= 0\n",
    "while i<=n/2:\n",
    "    a=s[i]\n",
    "    b=s[n-1-i]\n",
    "    i = i + 1\n",
    "    if a == b:\n",
    "        count = count + 1\n",
    "        \n",
    "        continue\n",
    "    else:\n",
    "        print('Not a Palindrome')\n",
    "        break\n",
    "counter = int((n+1)/2)\n",
    "if count == counter:\n",
    "    print('Palindrome')\n",
    "   \n",
    "        "
   ]
  },
  {
   "cell_type": "markdown",
   "metadata": {},
   "source": [
    "s1 = input('Enter a word :')\n",
    "n=len(s1)\n",
    "i = 0\n",
    "count= 0\n",
    "\n",
    "for i in (0,n):\n",
    "    s2 = s2 + s1[n-1-i]\n",
    "\n",
    "print(s1,s2)"
   ]
  },
  {
   "cell_type": "code",
   "execution_count": 33,
   "metadata": {},
   "outputs": [
    {
     "name": "stdout",
     "output_type": "stream",
     "text": [
      "Enter a word :doubj\n",
      "doubj jbuod\n",
      "Not a Palindrome\n"
     ]
    }
   ],
   "source": [
    "s1 = input('Enter a word :') \n",
    "n=len(s1) \n",
    "i = 0 \n",
    "count= 0\n",
    "s2=''\n",
    "for i in range(0,n): \n",
    "    s2 = s2 + s1[n-1-i]\n",
    "\n",
    "print(s1,s2)\n",
    "if s1 == s2:\n",
    "    print('Palindrome')\n",
    "else:\n",
    "    print('Not a Palindrome')"
   ]
  },
  {
   "cell_type": "code",
   "execution_count": 65,
   "metadata": {},
   "outputs": [
    {
     "name": "stdout",
     "output_type": "stream",
     "text": [
      "Enter a word: cnbcnb\n",
      "bncbnc\n",
      "Not a Palindrome\n"
     ]
    }
   ],
   "source": [
    "def string_reverse(s1):\n",
    "    n=len(s1) \n",
    "    i = 0 \n",
    "    count= 0\n",
    "    s3=''\n",
    "    for i in range(0,n): \n",
    "        s3= s3 + s1[n-1-i]\n",
    "    print(s3)\n",
    "    return(s3)\n",
    "s2 = input('Enter a word: ')\n",
    "\n",
    "if s2 == string_reverse(s2):\n",
    "      print('Palindrome')\n",
    "else:\n",
    "    print('Not a Palindrome')"
   ]
  }
 ],
 "metadata": {
  "kernelspec": {
   "display_name": "Python 3",
   "language": "python",
   "name": "python3"
  },
  "language_info": {
   "codemirror_mode": {
    "name": "ipython",
    "version": 3
   },
   "file_extension": ".py",
   "mimetype": "text/x-python",
   "name": "python",
   "nbconvert_exporter": "python",
   "pygments_lexer": "ipython3",
   "version": "3.8.5"
  }
 },
 "nbformat": 4,
 "nbformat_minor": 2
}
