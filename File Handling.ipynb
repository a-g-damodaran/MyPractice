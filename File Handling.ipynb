{
 "cells": [
  {
   "cell_type": "code",
   "execution_count": null,
   "metadata": {},
   "outputs": [],
   "source": [
    "# -*- coding: utf-8 -*-\n",
    "#Python File Handling - CA.ipynb\n",
    "\n",
    "#To store the data for future purposes \n",
    "    #Very less data storage we will go with file systems\n",
    "    #IF we have more amount of data then we prefer to go with DBs\n",
    "\n",
    "#Types of files \n",
    "    #Text files - Juypter notebook, program file, log file\n",
    "    #Binary Files - Image or video\n",
    "\n",
    "#To perform any action on the files\n",
    "    #Open a file, need to mention the purpose of the opening of the files as well\n",
    "\n",
    "#open()\n",
    "#f = open(filename, mode)\n",
    "# The allowed modes in Python\n",
    "    #1. Read (r) - Open an existing file for read operation - Default mode\n",
    "    \n",
    "    #2. Write (w) - Open a file and write something, if data is present already then it will overwrite the data and\n",
    "        #If the file is not present then it will create one.\n",
    "        \n",
    "    #3. Append (a) - It will append the data in the file, if the file is not available then it will create one\n",
    "    \n",
    "    #4. Read and write data (r+) - Read and write the data , Previous data will not deleted , File pointer will start\n",
    "        #at the start of the file\n",
    "        \n",
    "    #5. Write and Read (w+) - Write and read , Previous data will be deleted\n",
    "    \n",
    "    #6. Append and read (a+) - Append the data and read, It will not overwrite existing data\n",
    "    \n",
    "    #7. Exclusive Creation mode for writing operation (x) - Fileexist error - if it is present \n",
    "        #File should not be there \n",
    "#all these 7 modes are for text file\n",
    "\n",
    "#For Binary File\n",
    "# rb\n",
    "# wb\n",
    "# ab\n",
    "# r+b\n",
    "# w+b\n",
    "# a+b\n",
    "# xb\n",
    "\n",
    "#Closing the file\n",
    "#f.close()\n",
    "\n"
   ]
  },
  {
   "cell_type": "code",
   "execution_count": 1,
   "metadata": {},
   "outputs": [
    {
     "data": {
      "text/plain": [
       "'C:\\\\Users\\\\Dell\\\\Desktop\\\\MyPractice Colab\\\\Python Prg'"
      ]
     },
     "execution_count": 1,
     "metadata": {},
     "output_type": "execute_result"
    }
   ],
   "source": [
    "import os\n",
    "os.getcwd()"
   ]
  },
  {
   "cell_type": "code",
   "execution_count": 3,
   "metadata": {},
   "outputs": [
    {
     "name": "stdout",
     "output_type": "stream",
     "text": [
      "File name parnav.txt\n",
      "File mode w\n",
      "File Readable? False\n",
      "File Writable? True\n",
      "File closed? False\n",
      "File closed? True\n"
     ]
    }
   ],
   "source": [
    "#Various properties of file object\n",
    "f = open('parnav.txt', 'w')\n",
    "print('File name', f.name)\n",
    "print('File mode', f.mode)\n",
    "print('File Readable?', f.readable())\n",
    "print('File Writable?', f.writable())\n",
    "print('File closed?', f.closed)\n",
    "f.close()\n",
    "print('File closed?', f.closed)"
   ]
  },
  {
   "cell_type": "code",
   "execution_count": 4,
   "metadata": {},
   "outputs": [
    {
     "name": "stdout",
     "output_type": "stream",
     "text": [
      "Data written successfully\n",
      "File closed? False\n",
      "File closed? True\n"
     ]
    }
   ],
   "source": [
    "#How to write the data in the file\n",
    "#f.write(str)\n",
    "#f.writelines(list of lines)\n",
    "f = open('parnav.txt', 'w')\n",
    "f.write('Python looks like an easy programming Lang\\n')\n",
    "f.write('Earlier I was very much scared of Python\\n')\n",
    "print('Data written successfully')\n",
    "print('File closed?', f.closed)\n",
    "f.close()\n",
    "print('File closed?', f.closed)"
   ]
  },
  {
   "cell_type": "code",
   "execution_count": 6,
   "metadata": {},
   "outputs": [
    {
     "name": "stdout",
     "output_type": "stream",
     "text": [
      "Data written successfully\n",
      "File closed? False\n",
      "File closed? True\n"
     ]
    }
   ],
   "source": [
    "#How to append the data in the file\n",
    "#f.write(str)\n",
    "#f.writelines(list of lines)\n",
    "f = open('parnav.txt', 'a')\n",
    "f.write('We are looking to expand our knowledge on Data Science\\n')\n",
    "f.write('We are still working on our base skills that is Data Warehousing and Business Intelligence')\n",
    "print('Data written successfully')\n",
    "print('File closed?', f.closed)\n",
    "f.close()\n",
    "print('File closed?', f.closed)"
   ]
  },
  {
   "cell_type": "code",
   "execution_count": 7,
   "metadata": {},
   "outputs": [
    {
     "name": "stdout",
     "output_type": "stream",
     "text": [
      "Data written successfully\n",
      "File closed? False\n",
      "File closed? True\n"
     ]
    }
   ],
   "source": [
    "#How to Overwrite the data in the file\n",
    "#f.write(str)\n",
    "#f.writelines(list of lines)\n",
    "f = open('paresh.txt', 'w')\n",
    "list = ['Python looks like an easy programming Lang\\n','Earlier I was very much scared of Python\\n','We are looking to expand our knowledge on Data Science\\n']\n",
    "f.writelines(list)\n",
    "print('Data written successfully')\n",
    "print('File closed?', f.closed)\n",
    "f.close()\n",
    "print('File closed?', f.closed)"
   ]
  },
  {
   "cell_type": "code",
   "execution_count": 8,
   "metadata": {},
   "outputs": [
    {
     "name": "stdout",
     "output_type": "stream",
     "text": [
      "Python looks like an easy programming Lang\n",
      "Earlier I was very much scared of Python\n",
      "We are looking to expand our knowledge on Data Science\n",
      "\n"
     ]
    }
   ],
   "source": [
    "#Reading character or data from the file \n",
    "    #read() - > Read the total data from the file \n",
    "    #read(n) - > To read the first n characters from the file\n",
    "    #readline() - > Read data line by line one by one \n",
    "    #readlines() -> Read all the lines into the list\n",
    "\n",
    "f = open('paresh.txt', 'r')\n",
    "data = f.read()\n",
    "type(data)\n",
    "print(data)\n",
    "f.close()"
   ]
  },
  {
   "cell_type": "code",
   "execution_count": 9,
   "metadata": {},
   "outputs": [
    {
     "data": {
      "text/plain": [
       "'Python looks like an easy programming Lang\\nEarlier I was very much scared of Python\\nWe are looking to expand our knowledge on Data Science\\n'"
      ]
     },
     "execution_count": 9,
     "metadata": {},
     "output_type": "execute_result"
    }
   ],
   "source": [
    "data"
   ]
  },
  {
   "cell_type": "code",
   "execution_count": 10,
   "metadata": {},
   "outputs": [
    {
     "name": "stdout",
     "output_type": "stream",
     "text": [
      "Python looks like an easy prog\n"
     ]
    }
   ],
   "source": [
    "f = open('paresh.txt', 'r')\n",
    "data = f.read(30)\n",
    "print(data)\n",
    "f.close()"
   ]
  },
  {
   "cell_type": "code",
   "execution_count": 16,
   "metadata": {},
   "outputs": [
    {
     "name": "stdout",
     "output_type": "stream",
     "text": [
      "Python looks like an easy programming Lang\n",
      "\n"
     ]
    }
   ],
   "source": [
    "f = open('paresh.txt', 'r')\n",
    "data = f.readline()\n",
    "print(data)\n",
    "f.close()"
   ]
  },
  {
   "cell_type": "code",
   "execution_count": 15,
   "metadata": {},
   "outputs": [
    {
     "name": "stdout",
     "output_type": "stream",
     "text": [
      "['Python looks like an easy programming Lang\\n', 'Earlier I was very much scared of Python\\n', 'We are looking to expand our knowledge on Data Science\\n']\n"
     ]
    }
   ],
   "source": [
    "f = open('paresh.txt', 'r')\n",
    "data = f.readlines()\n",
    "print(data)\n",
    "f.close()"
   ]
  },
  {
   "cell_type": "code",
   "execution_count": 18,
   "metadata": {},
   "outputs": [
    {
     "name": "stdout",
     "output_type": "stream",
     "text": [
      "Python looks like an easy programming Lang\n",
      "\tEarlier I was very much scared of Python\n",
      "We are looking to expand our knowledge on Data Science\n"
     ]
    }
   ],
   "source": [
    "f = open('paresh.txt', 'r')\n",
    "print(f.readline(), end='\\t')\n",
    "print(f.readline(), end='')\n",
    "print(f.readline(), end='')\n",
    "f.close()"
   ]
  },
  {
   "cell_type": "code",
   "execution_count": 19,
   "metadata": {},
   "outputs": [
    {
     "name": "stdout",
     "output_type": "stream",
     "text": [
      "['Python looks like an easy programming Lang\\n', 'Earlier I was very much scared of Python\\n', 'We are looking to expand our knowledge on Data Science\\n']\n",
      "Python looks like an easy programming Lang\n",
      "Earlier I was very much scared of Python\n",
      "We are looking to expand our knowledge on Data Science\n"
     ]
    }
   ],
   "source": [
    "f = open('paresh.txt', 'r')\n",
    "list = data = f.readlines()\n",
    "print(data)\n",
    "for i in list:\n",
    "    print(i, end='')\n",
    "\n",
    "f.close()"
   ]
  },
  {
   "cell_type": "code",
   "execution_count": null,
   "metadata": {},
   "outputs": [],
   "source": [
    "#with statement - Auto Closing\n",
    "    #with statement can be used while opening the file \n",
    "    #It will take care of closing the files\n",
    "\n",
    "with open('Muzzammil.txt', 'w' ) as f:\n",
    "    f.write('I am from Anjuman college, I want to learn python')\n",
    "    f.write('I feel confident on Python now')\n",
    "    print('Is file close', f.closed)\n",
    "print('Is file close', f.closed)"
   ]
  },
  {
   "cell_type": "code",
   "execution_count": 20,
   "metadata": {},
   "outputs": [
    {
     "name": "stdout",
     "output_type": "stream",
     "text": [
      "0\n",
      "Rahul\n",
      "5\n",
      "\n",
      "T\n",
      "8\n"
     ]
    }
   ],
   "source": [
    "#tell() - It gives the current position of the pointer \n",
    "f = open('milind.txt', 'w')\n",
    "f.write('Rahul\\n')\n",
    "f.write('Tiwari\\n')\n",
    "f.write('India\\n')\n",
    "f.write('Corona\\n')\n",
    "f.close()\n",
    "f = open('milind.txt', 'r')\n",
    "print(f.tell())\n",
    "print(f.read(5))\n",
    "print(f.tell())\n",
    "print(f.read(2))\n",
    "print(f.tell())"
   ]
  },
  {
   "cell_type": "code",
   "execution_count": null,
   "metadata": {},
   "outputs": [],
   "source": [
    "#seek() - \n",
    "#f.seek(offset, fromwhere)\n",
    "#0 - From the beginning (default value)\n",
    "#1 - From the current position\n",
    "#2 - From the end of the file \n",
    "#Python 2 \n",
    "#0 \n",
    "f = open('milind.txt','r')\n",
    "f.seek(10,0)\n",
    "print(f.read())\n",
    "\n",
    "data = 'Learning Python is very Difficult\\n Python is an amazing programming language\\n We love Python'\n",
    "\n",
    "f = open('Monali.txt', 'w')\n",
    "f.write(data)\n",
    "with open('Monali.txt', 'r+') as f:\n",
    "    text = f.read()\n",
    "    print(text)\n",
    "    print(f.tell())\n",
    "    f.seek(24)\n",
    "    print(f.tell())\n",
    "    f.write('Easy!!!!!')\n",
    "    f.seek(0)\n",
    "    text = f.read()\n",
    "    print('Data After modification')\n",
    "    print(text)\n",
    "#Why it is going at the end of the file?"
   ]
  },
  {
   "cell_type": "code",
   "execution_count": null,
   "metadata": {},
   "outputs": [],
   "source": [
    "\n",
    "\n",
    "import os\n",
    "os.getcwd()\n",
    "\n",
    "r+ (start) - At the start of the file \n",
    "w+ (start) - Remove the old \n",
    "a+ (end) - end of the file\n",
    "\n",
    "os.path.isfile('monali.txt')\n",
    "\n",
    "import os\n",
    "import sys\n",
    "fname = input('Enter the file name')\n",
    "if os.path.isfile(fname):\n",
    "    print('The file exists', fname)\n",
    "    f = open(fname, 'r')\n",
    "else:\n",
    "    print('File does not exist', fname)\n",
    "    sys.exit(0)\n",
    "print('The content of the file is ')\n",
    "data=f.read()\n",
    "print(data)\n",
    "\n",
    "import os\n",
    "import sys\n",
    "fname = input('Enter the file name')\n",
    "if os.path.isfile(fname):\n",
    "    print('File exists', fname)\n",
    "    f = open(fname, 'r')\n",
    "else:\n",
    "    print('File does not exist', fname)\n",
    "    sys.exit(0)\n",
    "\n",
    "lcount=wcount=ccount=0\n",
    "for line in f: \n",
    "    lcount = lcount + 1\n",
    "    ccount = ccount + len(line)\n",
    "    words = line.split()\n",
    "    wcount = wcount + len(words)\n",
    "print('The number of lines', lcount)\n",
    "print('The number of characters', ccount)\n",
    "print('The number of Words', wcount)\n",
    "\n",
    "fname = input('Enter the file name')\n",
    "if os.path.isfile(fname):\n",
    "    print('File exists', fname)\n",
    "    f = open(fname, 'r')\n",
    "    text = f.read()\n",
    "    \n",
    "    print(text)\n",
    "\n",
    "#Binary Files \n",
    "f1 = open('education.png','rb')\n",
    "f2 = open('Education2.png', 'wb')\n",
    "bytes = f1.read()\n",
    "f2.write(bytes)\n",
    "print('The new file is created')\n",
    "\n",
    "#CSV Files \n",
    "import csv\n",
    "with open('employee.csv', 'w', newline = '') as f:\n",
    "    w = csv.writer(f)\n",
    "    w.writerow(['ENO','ENAME','ESAL'])\n",
    "    n = int(input('Enter num of employees'))\n",
    "    for i in range(n):\n",
    "        eno = int(input('Enter Employee Number'))\n",
    "        ename = input('Enter Employee Name')\n",
    "        esal = float(input('Enter Employee Salary'))\n",
    "        w.writerow([eno,ename,esal])\n",
    "print('Total Data written successfully')\n",
    "\n",
    "#CSV Files \n",
    "import csv\n",
    "with open('employee.csv', 'w') as f:\n",
    "    w = csv.writer(f)\n",
    "    w.writerow(['ENO','ENAME','ESAL'])\n",
    "    n = int(input('Enter num of employees'))\n",
    "    for i in range(n):\n",
    "        eno = int(input('Enter Employee Number'))\n",
    "        ename = input('Enter Employee Name')\n",
    "        esal = float(input('Enter Employee Salary'))\n",
    "        w.writerow([eno,ename,esal])\n",
    "print('Total Data written successfully')\n",
    "\n",
    "os.getcwd()\n",
    "\n",
    "os.chdir(r'C:\\Users\\Admin\\Desktop\\DIRS')\n",
    "\n",
    "os.mkdir('Test')\n",
    "\n",
    "sub1 - sub2 - sub - sub4\n",
    "\n",
    "os.makedirs('Test/sub1/sub2/sub3/sub4')\n",
    "\n",
    "os.rmdir('sub1/sub2/sub3/sub4')\n",
    "\n",
    "os.removedirs('sub1/sub2/')\n",
    "\n",
    "os.mkdir('Test1')\n",
    "\n",
    "os.rename('Test1','Test2')\n",
    "\n",
    "import os\n",
    "os.chdir(r'C:\\Users\\Admin\\Desktop\\CA\\Tableau Blogs\\Why DS')\n",
    "\n",
    "os.getcwd()\n",
    "\n",
    "print(os.listdir())\n",
    "\n",
    "os.walk()\n",
    "\n",
    "for dirpath, dirnames, filenames in os.walk('.'):\n",
    "    print('Current working directory path:', dirpath)\n",
    "    print('Current working directory name:', dirnames)\n",
    "    print('File Names', filenames)\n",
    "    print()\n",
    "\n",
    "#Pickling and unpickling of the object \n",
    "#Writing - Serialization \n",
    "#Reading - Unserializtion\n",
    "\n",
    "import pickle\n",
    "\n",
    "class Employee:\n",
    "    def __init__(self, eno, ename, esal):\n",
    "        self.eno=eno\n",
    "        self.ename = ename\n",
    "        self.esal = esal\n",
    "    def display(self):\n",
    "        print(self.eno)\n",
    "        print(self.ename)\n",
    "        print(self.esal)\n",
    "e = Employee(100, 'Rahul', 1234)\n",
    "e.display()\n",
    "\n",
    "with open('emp.dat','wb') as f:\n",
    "    e = Employee(100,'Rahul', 1234)\n",
    "    pickle.dump(e,f)\n",
    "    print('Pickling of the employee object completed')\n",
    "\n",
    "with open('emp.dat', 'rb') as f:\n",
    "    obj = pickle.load(f)\n",
    "    print('Employee information after pickling')\n",
    "    obj.display()\n",
    "\n"
   ]
  },
  {
   "cell_type": "code",
   "execution_count": null,
   "metadata": {},
   "outputs": [],
   "source": []
  }
 ],
 "metadata": {
  "kernelspec": {
   "display_name": "Python 3",
   "language": "python",
   "name": "python3"
  },
  "language_info": {
   "codemirror_mode": {
    "name": "ipython",
    "version": 3
   },
   "file_extension": ".py",
   "mimetype": "text/x-python",
   "name": "python",
   "nbconvert_exporter": "python",
   "pygments_lexer": "ipython3",
   "version": "3.8.5"
  }
 },
 "nbformat": 4,
 "nbformat_minor": 4
}
