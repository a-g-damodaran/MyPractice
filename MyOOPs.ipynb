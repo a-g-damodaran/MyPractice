{
 "cells": [
  {
   "cell_type": "code",
   "execution_count": 3,
   "metadata": {},
   "outputs": [
    {
     "data": {
      "text/plain": [
       "96.8"
      ]
     },
     "execution_count": 3,
     "metadata": {},
     "output_type": "execute_result"
    }
   ],
   "source": [
    "def ctof(c):\n",
    "    f = (c*9/5) + 32\n",
    "    return f\n",
    "\n",
    "a = ctof(10)\n",
    "\n",
    "a\n",
    "\n",
    "ctof(36)"
   ]
  },
  {
   "cell_type": "code",
   "execution_count": 6,
   "metadata": {},
   "outputs": [
    {
     "name": "stdout",
     "output_type": "stream",
     "text": [
      "50.0\n",
      "212.0\n",
      "69.8\n",
      "109.4\n"
     ]
    }
   ],
   "source": [
    "class Ctof:\n",
    "    def __init__(self,c):\n",
    "        self.c = c\n",
    "    def ctof(self):\n",
    "        f = (self.c * 9/5) + 32\n",
    "        print(f)\n",
    "c1 = Ctof(10)\n",
    "c2 = Ctof(100)\n",
    "c3 = Ctof(21)\n",
    "c4 = Ctof(43)\n",
    "c1.ctof()\n",
    "c2.ctof()\n",
    "c3.ctof()\n",
    "c4.ctof()"
   ]
  },
  {
   "cell_type": "code",
   "execution_count": 4,
   "metadata": {},
   "outputs": [
    {
     "name": "stdout",
     "output_type": "stream",
     "text": [
      "My Name:  Damo\n",
      "My ID:  111\n",
      "My Salary:  10000\n",
      "None\n",
      "Help on class emp in module __main__:\n",
      "\n",
      "class emp(builtins.object)\n",
      " |  emp(name, id, salary)\n",
      " |  \n",
      " |  Methods defined here:\n",
      " |  \n",
      " |  __init__(self, name, id, salary)\n",
      " |      Initialize self.  See help(type(self)) for accurate signature.\n",
      " |  \n",
      " |  talk(self)\n",
      " |  \n",
      " |  ----------------------------------------------------------------------\n",
      " |  Data descriptors defined here:\n",
      " |  \n",
      " |  __dict__\n",
      " |      dictionary for instance variables (if defined)\n",
      " |  \n",
      " |  __weakref__\n",
      " |      list of weak references to the object (if defined)\n",
      "\n"
     ]
    }
   ],
   "source": [
    "class emp:\n",
    "    def __init__(self,name,id,salary):\n",
    "        self.n = name\n",
    "        self.i = id\n",
    "        self.s = salary\n",
    "    def talk(self):\n",
    "        print('My Name: ',self.n)\n",
    "        print('My ID: ',self.i)\n",
    "        print('My Salary: ',self.s)\n",
    "\n",
    "e1 = emp('Damo',111,10000)\n",
    "e1.talk()\n",
    "e1.__dict__ # keys are self.var in dictionary format\n",
    "\n",
    "print(emp.__doc__)\n",
    "\n",
    "help(emp)\n",
    "e1.__weakref__"
   ]
  },
  {
   "cell_type": "code",
   "execution_count": 13,
   "metadata": {},
   "outputs": [
    {
     "name": "stdout",
     "output_type": "stream",
     "text": [
      "Constructor Executing\n",
      "2658926285872\n",
      "Constructor Executing\n",
      "2658927377040\n"
     ]
    }
   ],
   "source": [
    "class Test: \n",
    "    def __init__(self):\n",
    "        print('Constructor Executing')\n",
    "        print(id(self))\n",
    "        \n",
    "t1 = Test()\n",
    "t2 = Test()"
   ]
  },
  {
   "cell_type": "code",
   "execution_count": 7,
   "metadata": {},
   "outputs": [
    {
     "name": "stdout",
     "output_type": "stream",
     "text": [
      "Constructor Executing\n"
     ]
    }
   ],
   "source": [
    "class Test:\n",
    "    def __init__(self,x):\n",
    "        print('Constructor Executing')\n",
    "#     def __init__(self):\n",
    "#         print('0 arg constructor executing')\n",
    "\n",
    "t1 = Test(None)\n",
    "# t2 = Test(a)\n",
    "# m1()\n",
    "# m1(x)\n",
    "# m1(x,y)\n",
    "# Method overloading\n"
   ]
  },
  {
   "cell_type": "code",
   "execution_count": 9,
   "metadata": {},
   "outputs": [
    {
     "name": "stdout",
     "output_type": "stream",
     "text": [
      "Movie name: PK\n",
      "Hero name: AK\n",
      "Heroine Name: AS\n",
      "Movie Rating: 10\n",
      "\n",
      "Movie name: PK\n",
      "Hero name: AK\n",
      "Heroine Name: AS\n",
      "Movie Rating: 10\n",
      "\n",
      "Movie name: XYz\n",
      "Hero name: rt\n",
      "Heroine Name: tt\n",
      "Movie Rating: 8\n",
      "\n",
      "Movie name: uyt\n",
      "Hero name: ee\n",
      "Heroine Name: uy\n",
      "Movie Rating: 0\n",
      "\n"
     ]
    }
   ],
   "source": [
    "#Self\n",
    "    #Self is a python provided implict default variable which is always pointing to current object\n",
    "    #By using self we can acccess variables,  methods of corresponding object\n",
    "    #In constructor self should be the first arg\n",
    "    ###Self is the 1st arguement in the instance method as well\n",
    "class Movie: \n",
    "    def __init__(self, name, hero, heroine, rating):\n",
    "        self.name = name\n",
    "        self.hero = hero\n",
    "        self.heroine = heroine\n",
    "        self.rating = rating\n",
    "        #Instance variables\n",
    "    def info(self):\n",
    "        print('Movie name:', self.name)\n",
    "        print('Hero name:', self.hero)\n",
    "        print('Heroine Name:', self.heroine)\n",
    "        print('Movie Rating:', self.rating)\n",
    "        print()\n",
    "movies = [Movie('PK', 'AK','AS',10), Movie('PK', 'AK','AS',10), Movie('XYz', 'rt','tt',8), Movie('uyt', 'ee','uy',0)] # sequences having objects of class function.\n",
    "\n",
    "for mov in movies:\n",
    "    mov.info()"
   ]
  },
  {
   "cell_type": "code",
   "execution_count": 11,
   "metadata": {},
   "outputs": [
    {
     "name": "stdout",
     "output_type": "stream",
     "text": [
      "{'eno': 1000, 'ename': 'Rahul', 'sal': 10000}\n"
     ]
    },
    {
     "data": {
      "text/plain": [
       "1000"
      ]
     },
     "execution_count": 11,
     "metadata": {},
     "output_type": "execute_result"
    }
   ],
   "source": [
    "#1. Inside constructor by using self variable\n",
    "class Employee:\n",
    "    '''Instance variables declared inside constructor'''\n",
    "    def __init__(self):\n",
    "        self.eno = 1000\n",
    "        self.ename = 'Rahul'\n",
    "        self.sal = 10000\n",
    "emp = Employee()\n",
    "print(emp.__dict__)\n",
    "emp.eno"
   ]
  },
  {
   "cell_type": "code",
   "execution_count": 13,
   "metadata": {},
   "outputs": [
    {
     "name": "stdout",
     "output_type": "stream",
     "text": [
      "{'b': 20}\n"
     ]
    },
    {
     "data": {
      "text/plain": [
       "20"
      ]
     },
     "execution_count": 13,
     "metadata": {},
     "output_type": "execute_result"
    }
   ],
   "source": [
    "#2. Inside instance method by using self variable \n",
    "class Employee:\n",
    "    def __init__(self):\n",
    "        pass\n",
    "    def m1(self):\n",
    "        '''Inside the method'''\n",
    "        self.b = 20\n",
    "emp1 = Employee()\n",
    "emp1.m1()\n",
    "print(emp1.__dict__) # variables are stored in dictionary forms.\n",
    "emp1.b"
   ]
  },
  {
   "cell_type": "code",
   "execution_count": 14,
   "metadata": {},
   "outputs": [
    {
     "name": "stdout",
     "output_type": "stream",
     "text": [
      "{'b': 20}\n",
      "{'b': 20, 'c': 30}\n"
     ]
    }
   ],
   "source": [
    "#3. Outside of the class by using object reference variables \n",
    "class Employee:\n",
    "    def __init__(self):\n",
    "        pass\n",
    "    def m1(self):\n",
    "        '''Inside the method'''\n",
    "        self.b = 20\n",
    "emp1 = Employee()\n",
    "emp1.m1()\n",
    "print(emp1.__dict__)\n",
    "emp1.c=30   # we can introduce new variable as method form by assigning\n",
    "print(emp1.__dict__)"
   ]
  },
  {
   "cell_type": "code",
   "execution_count": 15,
   "metadata": {},
   "outputs": [
    {
     "name": "stdout",
     "output_type": "stream",
     "text": [
      "Constructor Executing\n",
      "2128691907504\n",
      "Constructor Executing\n",
      "2128691907696\n"
     ]
    }
   ],
   "source": [
    "class Test: \n",
    "    def __init__(self):\n",
    "        print('Constructor Executing')\n",
    "        print(id(self))\n",
    "        \n",
    "t1 = Test()\n",
    "t2 = Test()"
   ]
  },
  {
   "cell_type": "code",
   "execution_count": null,
   "metadata": {},
   "outputs": [],
   "source": [
    "m1()\n",
    "m1(x)\n",
    "m1(x,y)\n",
    "Method overloading"
   ]
  },
  {
   "cell_type": "code",
   "execution_count": 16,
   "metadata": {},
   "outputs": [
    {
     "name": "stdout",
     "output_type": "stream",
     "text": [
      "{'eno': 1000, 'ename': 'Rahul', 'sal': 10000}\n"
     ]
    }
   ],
   "source": [
    "#Different types of variables\n",
    "\n",
    "#Instance variables (Object level)\n",
    "#Static variable (Class level)\n",
    "#Local variable (Method level)\n",
    "\n",
    "#Instance Variables \n",
    "    #If the value of the variable is varying from object to object - Instance variables\n",
    "    #A seperate copy of instance variable is created for every object\n",
    "    \n",
    "#Where can we declare instance variables : \n",
    "    #1. Inside constructor by using self variable\n",
    "    #2. Inside instance method by using self variable \n",
    "    #3. Outside of the class by using object reference variables\n",
    "\n",
    "#1. Inside constructor by using self variable\n",
    "class Employee:\n",
    "    '''Instance variables declared inside constructor'''\n",
    "    def __init__(self):\n",
    "        self.eno = 1000\n",
    "        self.ename = 'Rahul'\n",
    "        self.sal = 10000\n",
    "emp = Employee()\n",
    "print(emp.__dict__)"
   ]
  },
  {
   "cell_type": "code",
   "execution_count": 19,
   "metadata": {},
   "outputs": [
    {
     "name": "stdout",
     "output_type": "stream",
     "text": [
      "{'eno': 1, 'ename': 'Rakshit', 'sal': 10000}\n",
      "\n",
      "{'eno': 2, 'ename': 'Milind', 'sal': 20000}\n",
      "{'eno': 1, 'ename': 'Rakshit', 'sal': 10000, 'id': 7}\n",
      "\n"
     ]
    }
   ],
   "source": [
    "#1. Inside constructor by using self variable\n",
    "class Employee:\n",
    "    '''Instance variables declared inside constructor'''\n",
    "    def __init__(self, eno, ename, sal):\n",
    "        self.eno = eno\n",
    "        self.ename = ename\n",
    "        self.sal = sal\n",
    "emp1 = Employee(1,'Rakshit', 10000)\n",
    "emp2 = Employee(2, 'Milind', 20000)\n",
    "print(emp1.__dict__)\n",
    "print()\n",
    "print(emp2.__dict__)\n",
    "emp1.id=7\n",
    "print(emp1.__dict__)\n",
    "print()"
   ]
  },
  {
   "cell_type": "code",
   "execution_count": 21,
   "metadata": {},
   "outputs": [
    {
     "name": "stdout",
     "output_type": "stream",
     "text": [
      "{'b': 20}\n"
     ]
    }
   ],
   "source": [
    "#2. Inside instance method by using self variable \n",
    "class Employee:\n",
    "    def __init__(self):\n",
    "        pass\n",
    "    def m1(self):\n",
    "        '''Inside the method'''\n",
    "        self.b = 20\n",
    "emp1 = Employee()\n",
    "emp1.m1()\n",
    "print(emp1.__dict__)"
   ]
  },
  {
   "cell_type": "code",
   "execution_count": 20,
   "metadata": {},
   "outputs": [
    {
     "name": "stdout",
     "output_type": "stream",
     "text": [
      "{'b': 20}\n",
      "{'b': 20, 'c': 30}\n"
     ]
    }
   ],
   "source": [
    "#3. Outside of the class by using object reference variables \n",
    "class Employee:\n",
    "    def __init__(self):\n",
    "        pass\n",
    "    def m1(self):\n",
    "        '''Inside the method'''\n",
    "        self.b = 20\n",
    "emp1 = Employee()\n",
    "emp1.m1()\n",
    "print(emp1.__dict__)\n",
    "emp1.c=30\n",
    "print(emp1.__dict__)"
   ]
  },
  {
   "cell_type": "code",
   "execution_count": 23,
   "metadata": {},
   "outputs": [
    {
     "name": "stdout",
     "output_type": "stream",
     "text": [
      "20\n",
      "30\n",
      "20\n",
      "30\n"
     ]
    }
   ],
   "source": [
    "#How to access the Instance variables\n",
    "#Within the class by using self\n",
    "class Test:\n",
    "    def __init__(self):\n",
    "        self.a = 20\n",
    "        self.b = 30\n",
    "    def m1(self):\n",
    "        print(self.a)\n",
    "        print(self.b)\n",
    "t= Test()\n",
    "t.m1()\n",
    "#Outside the class by using object reference \n",
    "print(t.a)\n",
    "print(t.b)"
   ]
  },
  {
   "cell_type": "code",
   "execution_count": 26,
   "metadata": {},
   "outputs": [
    {
     "name": "stdout",
     "output_type": "stream",
     "text": [
      "{'a': 10, 'b': 20, 'c': 30, 'd': 40}\n",
      "{'a': 10, 'c': 30, 'd': 40}\n",
      "{'c': 30, 'd': 40}\n"
     ]
    }
   ],
   "source": [
    "#How to delete the instance variables\n",
    "#del self.variablename - within the class\n",
    "class Test:\n",
    "    def __init__(self):\n",
    "        self.a = 10\n",
    "        self.b = 20\n",
    "        self.c = 30\n",
    "        self.d = 40\n",
    "    def m1(self):\n",
    "        del self.b\n",
    "t = Test()\n",
    "print(t.__dict__)\n",
    "t.m1()\n",
    "print(t.__dict__)\n",
    "# #Outside the class - del obj.val\n",
    "del t.a\n",
    "print(t.__dict__)"
   ]
  },
  {
   "cell_type": "code",
   "execution_count": null,
   "metadata": {},
   "outputs": [],
   "source": [
    "class Test:\n",
    "    def __init__(self):\n",
    "        self.a = 10\n",
    "    def m1(self):\n",
    "        self.a = 777\n",
    "        self.b = 888\n",
    "t = Test()\n",
    "print(t.__dict__)\n",
    "t.m1()\n",
    "print(t.__dict__)\n",
    "t.b = 1000\n",
    "print(t.__dict__)\n",
    "t.c = 2000\n",
    "print(t.__dict__)"
   ]
  },
  {
   "cell_type": "code",
   "execution_count": 31,
   "metadata": {},
   "outputs": [
    {
     "name": "stdout",
     "output_type": "stream",
     "text": [
      "{'b': 20}\n",
      "{'b': 777}\n",
      "{'b': 777, 'a': 888}\n",
      "888 777\n",
      "10 20\n",
      "{'b': 20}\n"
     ]
    }
   ],
   "source": [
    "class Test:\n",
    "    a = 10\n",
    "    def __init__(self):\n",
    "        self.b = 20\n",
    "t1 = Test()\n",
    "print(t1.__dict__)\n",
    "t1.b = 777\n",
    "print(t1.__dict__)\n",
    "t1.a = 888\n",
    "print(t1.__dict__)\n",
    "print(t1.a, t1.b)\n",
    "\n",
    "t2 = Test()\n",
    "print(t2.a, t2.b)\n",
    "print(t2.__dict__)"
   ]
  },
  {
   "cell_type": "code",
   "execution_count": 47,
   "metadata": {},
   "outputs": [
    {
     "name": "stdout",
     "output_type": "stream",
     "text": [
      "This is a class which will calculate the salary of an employee\n"
     ]
    }
   ],
   "source": [
    "class Employee: \n",
    "    '''This is a class which will calculate the salary of an employee'''\n",
    "    \n",
    "print(Employee.__doc__)\n",
    "\n",
    "#help(Employee)"
   ]
  },
  {
   "cell_type": "code",
   "execution_count": 41,
   "metadata": {},
   "outputs": [
    {
     "name": "stdout",
     "output_type": "stream",
     "text": [
      "{'__module__': '__main__', 'a': 10, '__init__': <function Test.__init__ at 0x000001EF9FFC4820>, 'm1': <function Test.m1 at 0x000001EF9FFC4790>, 'm2': <classmethod object at 0x000001EF9FFA6C70>, 'm3': <staticmethod object at 0x000001EF9FFA6C10>, '__dict__': <attribute '__dict__' of 'Test' objects>, '__weakref__': <attribute '__weakref__' of 'Test' objects>, '__doc__': None}\n",
      "\n",
      "{'__module__': '__main__', 'a': 10, '__init__': <function Test.__init__ at 0x000001EF9FFC4820>, 'm1': <function Test.m1 at 0x000001EF9FFC4790>, 'm2': <classmethod object at 0x000001EF9FFA6C70>, 'm3': <staticmethod object at 0x000001EF9FFA6C10>, '__dict__': <attribute '__dict__' of 'Test' objects>, '__weakref__': <attribute '__weakref__' of 'Test' objects>, '__doc__': None, 'b': 20, 'g': 100}\n",
      "\n",
      "{'__module__': '__main__', 'a': 10, '__init__': <function Test.__init__ at 0x000001EF9FFC4820>, 'm1': <function Test.m1 at 0x000001EF9FFC4790>, 'm2': <classmethod object at 0x000001EF9FFA6C70>, 'm3': <staticmethod object at 0x000001EF9FFA6C10>, '__dict__': <attribute '__dict__' of 'Test' objects>, '__weakref__': <attribute '__weakref__' of 'Test' objects>, '__doc__': None, 'b': 20, 'g': 100, 'c': 30}\n",
      "{'__module__': '__main__', 'a': 10, '__init__': <function Test.__init__ at 0x000001EF9FFC4820>, 'm1': <function Test.m1 at 0x000001EF9FFC4790>, 'm2': <classmethod object at 0x000001EF9FFA6C70>, 'm3': <staticmethod object at 0x000001EF9FFA6C10>, '__dict__': <attribute '__dict__' of 'Test' objects>, '__weakref__': <attribute '__weakref__' of 'Test' objects>, '__doc__': None, 'b': 20, 'g': 100, 'c': 30, 'd': 40, 'e': 50}\n",
      "{'__module__': '__main__', 'a': 10, '__init__': <function Test.__init__ at 0x000001EF9FFC4820>, 'm1': <function Test.m1 at 0x000001EF9FFC4790>, 'm2': <classmethod object at 0x000001EF9FFA6C70>, 'm3': <staticmethod object at 0x000001EF9FFA6C10>, '__dict__': <attribute '__dict__' of 'Test' objects>, '__weakref__': <attribute '__weakref__' of 'Test' objects>, '__doc__': None, 'b': 20, 'g': 100, 'c': 30, 'd': 40, 'e': 50, 'f': 60}\n",
      "{'c': 12345}\n"
     ]
    }
   ],
   "source": [
    "#Static variables : \n",
    "\n",
    "    #We are not require to maintain seperate copy of a variable - Share the same copy \n",
    "    #One copy of static variable created at the class level\n",
    "    \n",
    "#How to declare the static variable \n",
    "    #1. Directly create inside the class , Self is not associated \n",
    "    #2. Inside the constructor by using class name \n",
    "    #3. Inside instance method using class name \n",
    "    #4. Inside class method by using cls variable or class name \n",
    "    #5. Inside static method by using class name \n",
    "    #6. From outside the class as well\n",
    "    \n",
    "    \n",
    "#Static variable  - Only one copy will be created at the class level\n",
    "#Instance Variable - For every object a seperate copy will be created\n",
    "\n",
    "\n",
    "class Test:\n",
    "    #Static variable \n",
    "    a = 10\n",
    "    def __init__(self):\n",
    "        Test.b = 20\n",
    "        \n",
    "    def m1(self):\n",
    "        self.c = 12345\n",
    "        Test.c = 30\n",
    "        \n",
    "    @classmethod\n",
    "    def m2(cls):\n",
    "        cls.d = 40\n",
    "        Test.e = 50\n",
    "    \n",
    "    @staticmethod\n",
    "    def m3():\n",
    "        Test.f = 60\n",
    "        \n",
    "    \n",
    "print(Test.__dict__)    \n",
    "t=Test()\n",
    "\n",
    "Test.g = 100\n",
    "print()\n",
    "print(Test.__dict__)\n",
    "print()\n",
    "t.m1()\n",
    "print(Test.__dict__)\n",
    "t.m2()\n",
    "print(Test.__dict__)\n",
    "t.m3()\n",
    "print(Test.__dict__)\n",
    "print(t.__dict__)"
   ]
  },
  {
   "cell_type": "code",
   "execution_count": 65,
   "metadata": {},
   "outputs": [
    {
     "name": "stdout",
     "output_type": "stream",
     "text": [
      "888\n",
      "777\n"
     ]
    }
   ],
   "source": [
    "class Test:\n",
    "    a = 777\n",
    "    def __init__(self):\n",
    "        self.a = 888\n",
    "t = Test()\n",
    "print(t.a)\n",
    "print(Test.a)\n"
   ]
  },
  {
   "cell_type": "code",
   "execution_count": 74,
   "metadata": {},
   "outputs": [
    {
     "name": "stdout",
     "output_type": "stream",
     "text": [
      "100\n",
      "10\n",
      "100\n",
      "10\n",
      "10\n",
      "10\n",
      "10\n"
     ]
    }
   ],
   "source": [
    "#How to access the static variable \n",
    "    #1. Inside the constructor - Either by self or by class name \n",
    "    #2. Inside the Instance method - Either by self or class name \n",
    "    #3. Inside the class method - Either by cls or by class name \n",
    "    #4. Inside the static method - By class name \n",
    "    #5. Outisde the class - Either by object ref or by class name\n",
    "\n",
    "class Test:\n",
    "    a = 10 \n",
    "    def __init__(self):\n",
    "        self.a=100\n",
    "        print(self.a)\n",
    "        print(Test.a)\n",
    "        \n",
    "    def m1(self):\n",
    "        print(self.a)\n",
    "        print(Test.a)\n",
    "        \n",
    "    @classmethod\n",
    "    def m2(cls):  #cls not clear to study further - between class and static\n",
    "        print(cls.a)\n",
    "        print(Test.a)\n",
    "    \n",
    "    @staticmethod\n",
    "    def m3():\n",
    "        print(Test.a)\n",
    "        \n",
    "t = Test()\n",
    "t.m1()\n",
    "t.m2()\n",
    "t.m3()\n",
    "#t.a\n",
    "#Test.a"
   ]
  },
  {
   "cell_type": "code",
   "execution_count": 86,
   "metadata": {},
   "outputs": [
    {
     "name": "stdout",
     "output_type": "stream",
     "text": [
      "888\n",
      "10000\n",
      "2222\n",
      "22122\n",
      "44322\n"
     ]
    }
   ],
   "source": [
    "#Where we can modify the value of static variables \n",
    "    #By using the class name (Inside or outside the class)\n",
    "    #Inside the class method by using cls variable also\n",
    "\n",
    "class Test:\n",
    "    a = 10\n",
    "    def __init__(self):\n",
    "        Test.a = 888\n",
    "        pass\n",
    "    def m1(self):\n",
    "        Test.a =10000\n",
    "        \n",
    "    @classmethod\n",
    "    def m2(cls):\n",
    "        Test.a = 9090\n",
    "        cls.a = 2222\n",
    "    @staticmethod\n",
    "    def m3():\n",
    "        Test.a = 22122\n",
    "        \n",
    "t = Test()\n",
    "print(Test.a)\n",
    "t.m1()\n",
    "print(Test.a)\n",
    "t.m2()\n",
    "print(Test.a)\n",
    "t.m3()\n",
    "print(Test.a)\n",
    "Test.a = 44322\n",
    "print(Test.a)"
   ]
  },
  {
   "cell_type": "code",
   "execution_count": 50,
   "metadata": {},
   "outputs": [
    {
     "name": "stdout",
     "output_type": "stream",
     "text": [
      "90\n",
      "90 99 10\n"
     ]
    }
   ],
   "source": [
    "class Test:\n",
    "    b = 10\n",
    "    def __init__(self):\n",
    "        #Test.a = 888\n",
    "        self.c = 99\n",
    "        self.a = 90\n",
    "        #print(self.a)\n",
    "        \n",
    "    def m1(self):\n",
    "        #a = 0\n",
    "        print(self.a)\n",
    "        \n",
    "t = Test()\n",
    "t.m1() # Not clear ? 50.0 if not assigned but somewhere the same variable used in class.\n",
    "\n",
    "print(t.a,t.c,Test.b)"
   ]
  },
  {
   "cell_type": "code",
   "execution_count": 51,
   "metadata": {},
   "outputs": [
    {
     "name": "stdout",
     "output_type": "stream",
     "text": [
      "90\n",
      "1000\n",
      "10\n"
     ]
    }
   ],
   "source": [
    "class Test:\n",
    "    a = 10\n",
    "    def __init__(self):\n",
    "        Test.a = 1000\n",
    "        a = 100\n",
    "        self.a = 90\n",
    "        print(self.a)\n",
    "        print(Test.a)\n",
    "        #print(b)\n",
    "        \n",
    "    def m1(self):\n",
    "        b = 10\n",
    "        print(b)\n",
    "        \n",
    "t = Test()\n",
    "t.m1()"
   ]
  },
  {
   "cell_type": "code",
   "execution_count": 108,
   "metadata": {},
   "outputs": [
    {
     "name": "stdout",
     "output_type": "stream",
     "text": [
      "10 20\n",
      "10 20\n",
      "888 20\n",
      "10 1000\n"
     ]
    }
   ],
   "source": [
    "class Test:\n",
    "    x = 10\n",
    "    def __init__(self):\n",
    "        self.y = 20\n",
    "t1 = Test()\n",
    "t2 = Test()\n",
    "\n",
    "print(t1.x, t1.y)\n",
    "print(t2.x, t2.y)\n",
    "t1.x = 888\n",
    "t2.y = 1000\n",
    "print(t1.x, t1.y)\n",
    "print(t2.x, t2.y)"
   ]
  },
  {
   "cell_type": "code",
   "execution_count": 114,
   "metadata": {},
   "outputs": [
    {
     "name": "stdout",
     "output_type": "stream",
     "text": [
      "888 999\n",
      "10 20\n"
     ]
    }
   ],
   "source": [
    "class Test:\n",
    "    a = 10\n",
    "    def __init__(self):\n",
    "        self.b = 20\n",
    "        \n",
    "    def m1(self):\n",
    "        self.a = 888\n",
    "        self.b =  999\n",
    "        \n",
    "t1 = Test()\n",
    "t2 = Test()\n",
    "t1.m1()\n",
    "print(t1.a, t1.b)\n",
    "print(t2.a, t2.b)\n"
   ]
  },
  {
   "cell_type": "code",
   "execution_count": 52,
   "metadata": {},
   "outputs": [
    {
     "name": "stdout",
     "output_type": "stream",
     "text": [
      "888 20\n",
      "888 20\n",
      "888 999\n"
     ]
    }
   ],
   "source": [
    "class Test:\n",
    "    a = 10\n",
    "    def __init__(self):\n",
    "        self.b = 20\n",
    "    \n",
    "    @classmethod\n",
    "    def m1(cls):\n",
    "        cls.a = 888\n",
    "        cls.b = 999\n",
    "    \n",
    "t1 = Test()\n",
    "t2 = Test()\n",
    "t1.m1()\n",
    "print(t1.a, t1.b)\n",
    "print(t2.a, t2.b)\n",
    "print(Test.a, Test.b)"
   ]
  },
  {
   "cell_type": "code",
   "execution_count": 126,
   "metadata": {},
   "outputs": [
    {
     "name": "stdout",
     "output_type": "stream",
     "text": [
      "{'__module__': '__main__', 'a': 10, '__init__': <function Test.__init__ at 0x0000026B168811F0>, 'm1': <function Test.m1 at 0x0000026B168819D0>, 'm2': <classmethod object at 0x0000026B168B4A00>, 'm3': <staticmethod object at 0x0000026B168B4E80>, '__dict__': <attribute '__dict__' of 'Test' objects>, '__weakref__': <attribute '__weakref__' of 'Test' objects>, '__doc__': None}\n",
      "{'__module__': '__main__', '__init__': <function Test.__init__ at 0x0000026B168811F0>, 'm1': <function Test.m1 at 0x0000026B168819D0>, 'm2': <classmethod object at 0x0000026B168B4A00>, 'm3': <staticmethod object at 0x0000026B168B4E80>, '__dict__': <attribute '__dict__' of 'Test' objects>, '__weakref__': <attribute '__weakref__' of 'Test' objects>, '__doc__': None, 'b': 20}\n",
      "{'__module__': '__main__', '__init__': <function Test.__init__ at 0x0000026B168811F0>, 'm1': <function Test.m1 at 0x0000026B168819D0>, 'm2': <classmethod object at 0x0000026B168B4A00>, 'm3': <staticmethod object at 0x0000026B168B4E80>, '__dict__': <attribute '__dict__' of 'Test' objects>, '__weakref__': <attribute '__weakref__' of 'Test' objects>, '__doc__': None, 'c': 30}\n",
      "{'__module__': '__main__', '__init__': <function Test.__init__ at 0x0000026B168811F0>, 'm1': <function Test.m1 at 0x0000026B168819D0>, 'm2': <classmethod object at 0x0000026B168B4A00>, 'm3': <staticmethod object at 0x0000026B168B4E80>, '__dict__': <attribute '__dict__' of 'Test' objects>, '__weakref__': <attribute '__weakref__' of 'Test' objects>, '__doc__': None, 'd': 40}\n",
      "{'__module__': '__main__', '__init__': <function Test.__init__ at 0x0000026B168811F0>, 'm1': <function Test.m1 at 0x0000026B168819D0>, 'm2': <classmethod object at 0x0000026B168B4A00>, 'm3': <staticmethod object at 0x0000026B168B4E80>, '__dict__': <attribute '__dict__' of 'Test' objects>, '__weakref__': <attribute '__weakref__' of 'Test' objects>, '__doc__': None, 'e': 5}\n"
     ]
    }
   ],
   "source": [
    "class Test:\n",
    "    a = 10\n",
    "    def __init__(self):\n",
    "        Test.b = 20\n",
    "        del Test.a \n",
    "        \n",
    "    def m1(self):  #what is the difference if def m1() alone?\n",
    "        Test.c = 30\n",
    "        del Test.b\n",
    "        \n",
    "    @classmethod\n",
    "    def m2(cls):\n",
    "        cls.d = 40\n",
    "        del Test.c\n",
    "    \n",
    "    @staticmethod\n",
    "    def m3():\n",
    "        Test.e = 5\n",
    "        del Test.d\n",
    "        \n",
    "print(Test.__dict__)\n",
    "t = Test()\n",
    "print(Test.__dict__)\n",
    "t.m1()\n",
    "print(Test.__dict__)\n",
    "t.m2()\n",
    "print(Test.__dict__)\n",
    "t.m3()\n",
    "print(Test.__dict__)"
   ]
  },
  {
   "cell_type": "code",
   "execution_count": 136,
   "metadata": {},
   "outputs": [
    {
     "name": "stdout",
     "output_type": "stream",
     "text": [
      "10\n",
      "303\n",
      "999\n",
      "999\n"
     ]
    }
   ],
   "source": [
    "class Test:\n",
    "    a = 10\n",
    "    \n",
    "t = Test()\n",
    "print(t.a)\n",
    "t.a = 303\n",
    "print(t.a)\n",
    "Test.a = 999\n",
    "print(Test.a)\n",
    "\n",
    "del t.a\n",
    "print(Test.a)"
   ]
  },
  {
   "cell_type": "code",
   "execution_count": 53,
   "metadata": {},
   "outputs": [
    {
     "name": "stdout",
     "output_type": "stream",
     "text": [
      "10\n"
     ]
    },
    {
     "data": {
      "text/plain": [
       "mappingproxy({'__module__': '__main__',\n",
       "              '__dict__': <attribute '__dict__' of 'Test' objects>,\n",
       "              '__weakref__': <attribute '__weakref__' of 'Test' objects>,\n",
       "              '__doc__': None})"
      ]
     },
     "execution_count": 53,
     "metadata": {},
     "output_type": "execute_result"
    }
   ],
   "source": [
    "class Test:\n",
    "    a = 10\n",
    "    \n",
    "t = Test()\n",
    "print(t.a)\n",
    "Test.a = 999\n",
    "del Test.a\n",
    "#print(t.a)\n",
    "Test.__dict__"
   ]
  },
  {
   "cell_type": "code",
   "execution_count": 55,
   "metadata": {},
   "outputs": [
    {
     "name": "stdout",
     "output_type": "stream",
     "text": [
      "1000\n",
      "2000\n"
     ]
    }
   ],
   "source": [
    "#Local variables \n",
    "class Test:\n",
    "    c=1\n",
    "    def m1(self):\n",
    "        a = 1000\n",
    "        print(a)\n",
    "    def m2(self):\n",
    "        b = 2000\n",
    "        print(b)\n",
    "        \n",
    "t = Test()\n",
    "t.m1()\n",
    "t.m2()"
   ]
  },
  {
   "cell_type": "code",
   "execution_count": 57,
   "metadata": {},
   "outputs": [
    {
     "name": "stdout",
     "output_type": "stream",
     "text": [
      "100\n"
     ]
    }
   ],
   "source": [
    "class Test:\n",
    "    a = 10\n",
    "    def __init__(self):\n",
    "        #self.a = 200\n",
    "        z=100\n",
    "        #print(self.a)\n",
    "        print(z)\n",
    "        del z\n",
    "        #print(a)\n",
    "        \n",
    "t = Test()"
   ]
  },
  {
   "cell_type": "code",
   "execution_count": 161,
   "metadata": {},
   "outputs": [
    {
     "name": "stdout",
     "output_type": "stream",
     "text": [
      "Hi Astha\n",
      "Your marks are: 95\n",
      "You got 1st grade\n",
      "Hi Astha\n",
      "Your marks are: 95\n",
      "You got 1st grade\n",
      "You got 1st grade\n"
     ]
    }
   ],
   "source": [
    "#Types of methods \n",
    "    #Instance Methods (Object related method)\n",
    "    #Static Methods \n",
    "    #Class Methods\n",
    "\n",
    "#Instance Method - Related to object \n",
    "    #Any method consists of instance variables - Instance method \n",
    "    #Inside the instance method , First keyword i.e. self is compulsory\n",
    "    \n",
    "class Student: \n",
    "    def __init__(self, name, marks):\n",
    "        self.name = name \n",
    "        self.marks = marks\n",
    "        self.display()\n",
    "               \n",
    "    def display(self):\n",
    "        print('Hi', self.name)\n",
    "        print('Your marks are:', self.marks)\n",
    "        self.grade()\n",
    "        #If we want to call an instance method inside the instance method we will go for self keyword\n",
    "    \n",
    "    def grade(self):\n",
    "        if self.marks >=60:\n",
    "            print('You got 1st grade')\n",
    "        elif self.marks >=50:\n",
    "            print('You got 2nd grade')\n",
    "        elif self.marks >=35: \n",
    "            print('You got 3rd grade')\n",
    "        else: \n",
    "            print('You did not pass')\n",
    "            \n",
    "s1 = Student('Astha', 95)   \n",
    "s1.display()\n",
    "s1.grade()"
   ]
  },
  {
   "cell_type": "code",
   "execution_count": 58,
   "metadata": {},
   "outputs": [
    {
     "ename": "KeyboardInterrupt",
     "evalue": "Interrupted by user",
     "output_type": "error",
     "traceback": [
      "\u001b[1;31m---------------------------------------------------------------------------\u001b[0m",
      "\u001b[1;31mKeyboardInterrupt\u001b[0m                         Traceback (most recent call last)",
      "\u001b[1;32m<ipython-input-58-b109c1a978e2>\u001b[0m in \u001b[0;36m<module>\u001b[1;34m\u001b[0m\n\u001b[0;32m     16\u001b[0m         \u001b[1;32mreturn\u001b[0m \u001b[0mself\u001b[0m\u001b[1;33m.\u001b[0m\u001b[0mmarks\u001b[0m\u001b[1;33m\u001b[0m\u001b[1;33m\u001b[0m\u001b[0m\n\u001b[0;32m     17\u001b[0m \u001b[0ml\u001b[0m \u001b[1;33m=\u001b[0m \u001b[1;33m[\u001b[0m\u001b[1;33m]\u001b[0m\u001b[1;33m\u001b[0m\u001b[1;33m\u001b[0m\u001b[0m\n\u001b[1;32m---> 18\u001b[1;33m \u001b[0mn\u001b[0m \u001b[1;33m=\u001b[0m \u001b[0mint\u001b[0m\u001b[1;33m(\u001b[0m\u001b[0minput\u001b[0m\u001b[1;33m(\u001b[0m\u001b[1;34m'Enter the number of students:'\u001b[0m\u001b[1;33m)\u001b[0m\u001b[1;33m)\u001b[0m\u001b[1;33m\u001b[0m\u001b[1;33m\u001b[0m\u001b[0m\n\u001b[0m\u001b[0;32m     19\u001b[0m \u001b[1;32mfor\u001b[0m \u001b[0mi\u001b[0m \u001b[1;32min\u001b[0m \u001b[0mrange\u001b[0m\u001b[1;33m(\u001b[0m\u001b[0mn\u001b[0m\u001b[1;33m)\u001b[0m\u001b[1;33m:\u001b[0m\u001b[1;33m\u001b[0m\u001b[1;33m\u001b[0m\u001b[0m\n\u001b[0;32m     20\u001b[0m     \u001b[0ms\u001b[0m \u001b[1;33m=\u001b[0m \u001b[0mStudent\u001b[0m\u001b[1;33m(\u001b[0m\u001b[1;33m)\u001b[0m\u001b[1;33m\u001b[0m\u001b[1;33m\u001b[0m\u001b[0m\n",
      "\u001b[1;32m~\\anaconda3\\lib\\site-packages\\ipykernel\\kernelbase.py\u001b[0m in \u001b[0;36mraw_input\u001b[1;34m(self, prompt)\u001b[0m\n\u001b[0;32m    858\u001b[0m                 \u001b[1;34m\"raw_input was called, but this frontend does not support input requests.\"\u001b[0m\u001b[1;33m\u001b[0m\u001b[1;33m\u001b[0m\u001b[0m\n\u001b[0;32m    859\u001b[0m             )\n\u001b[1;32m--> 860\u001b[1;33m         return self._input_request(str(prompt),\n\u001b[0m\u001b[0;32m    861\u001b[0m             \u001b[0mself\u001b[0m\u001b[1;33m.\u001b[0m\u001b[0m_parent_ident\u001b[0m\u001b[1;33m,\u001b[0m\u001b[1;33m\u001b[0m\u001b[1;33m\u001b[0m\u001b[0m\n\u001b[0;32m    862\u001b[0m             \u001b[0mself\u001b[0m\u001b[1;33m.\u001b[0m\u001b[0m_parent_header\u001b[0m\u001b[1;33m,\u001b[0m\u001b[1;33m\u001b[0m\u001b[1;33m\u001b[0m\u001b[0m\n",
      "\u001b[1;32m~\\anaconda3\\lib\\site-packages\\ipykernel\\kernelbase.py\u001b[0m in \u001b[0;36m_input_request\u001b[1;34m(self, prompt, ident, parent, password)\u001b[0m\n\u001b[0;32m    902\u001b[0m             \u001b[1;32mexcept\u001b[0m \u001b[0mKeyboardInterrupt\u001b[0m\u001b[1;33m:\u001b[0m\u001b[1;33m\u001b[0m\u001b[1;33m\u001b[0m\u001b[0m\n\u001b[0;32m    903\u001b[0m                 \u001b[1;31m# re-raise KeyboardInterrupt, to truncate traceback\u001b[0m\u001b[1;33m\u001b[0m\u001b[1;33m\u001b[0m\u001b[1;33m\u001b[0m\u001b[0m\n\u001b[1;32m--> 904\u001b[1;33m                 \u001b[1;32mraise\u001b[0m \u001b[0mKeyboardInterrupt\u001b[0m\u001b[1;33m(\u001b[0m\u001b[1;34m\"Interrupted by user\"\u001b[0m\u001b[1;33m)\u001b[0m \u001b[1;32mfrom\u001b[0m \u001b[1;32mNone\u001b[0m\u001b[1;33m\u001b[0m\u001b[1;33m\u001b[0m\u001b[0m\n\u001b[0m\u001b[0;32m    905\u001b[0m             \u001b[1;32mexcept\u001b[0m \u001b[0mException\u001b[0m \u001b[1;32mas\u001b[0m \u001b[0me\u001b[0m\u001b[1;33m:\u001b[0m\u001b[1;33m\u001b[0m\u001b[1;33m\u001b[0m\u001b[0m\n\u001b[0;32m    906\u001b[0m                 \u001b[0mself\u001b[0m\u001b[1;33m.\u001b[0m\u001b[0mlog\u001b[0m\u001b[1;33m.\u001b[0m\u001b[0mwarning\u001b[0m\u001b[1;33m(\u001b[0m\u001b[1;34m\"Invalid Message:\"\u001b[0m\u001b[1;33m,\u001b[0m \u001b[0mexc_info\u001b[0m\u001b[1;33m=\u001b[0m\u001b[1;32mTrue\u001b[0m\u001b[1;33m)\u001b[0m\u001b[1;33m\u001b[0m\u001b[1;33m\u001b[0m\u001b[0m\n",
      "\u001b[1;31mKeyboardInterrupt\u001b[0m: Interrupted by user"
     ]
    }
   ],
   "source": [
    "#Setter and Getter methods\n",
    "#Setter - To set the values to the instance variables (Mutator Method)\n",
    "#Getter - To get the values of an instance variables (Accessor Method)\n",
    "\n",
    "class Student:\n",
    "    def setName(self, name):\n",
    "        self.name = name \n",
    "        \n",
    "    def getName(self):\n",
    "        return self.name\n",
    "    \n",
    "    def setMarks(self, marks):\n",
    "        self.marks = marks\n",
    "        \n",
    "    def getMarks(self):\n",
    "        return self.marks\n",
    "l = []\n",
    "n = int(input('Enter the number of students:'))\n",
    "for i in range(n):\n",
    "    s = Student()\n",
    "    name = input('Enter the name of the student')\n",
    "    marks = int(input('Enter the marks of the student'))\n",
    "    s.setName(name)\n",
    "    s.setMarks(marks)\n",
    "    l.append(s)\n",
    "for s in l:\n",
    "    print('Student Name', s.getName())\n",
    "    print('Student Marks', s.getMarks())\n",
    "    print()\n",
    "\n",
    "l"
   ]
  },
  {
   "cell_type": "code",
   "execution_count": 168,
   "metadata": {},
   "outputs": [
    {
     "name": "stdout",
     "output_type": "stream",
     "text": [
      "TCS has total 10 employees\n"
     ]
    }
   ],
   "source": [
    "#Class Methods \n",
    "    #Inside the method implementation if we are using only static variables (WITHOUT INSTANCE VARIABLES)\n",
    "    \n",
    "#Atleast one instance  variables - > Instance method\n",
    "#Instance variables + Static variables - Both are present (Instance Method )\n",
    "\n",
    "#@classmethod #Decorator \n",
    "#cls\n",
    "#We can call class methods by using class name or object ref\n",
    "\n",
    "class Employee: \n",
    "    total_emp = 10\n",
    "    \n",
    "    @classmethod\n",
    "    def totemp(cls, compname):\n",
    "        print('{} has total {} employees'.format(compname, cls.total_emp))\n",
    "        \n",
    "Employee.totemp('TCS')"
   ]
  },
  {
   "cell_type": "code",
   "execution_count": 171,
   "metadata": {},
   "outputs": [
    {
     "name": "stdout",
     "output_type": "stream",
     "text": [
      "The no of objects created 3\n"
     ]
    }
   ],
   "source": [
    "class Test:\n",
    "    count = 0\n",
    "    def __init__(self):\n",
    "        Test.count = Test.count + 1\n",
    "        \n",
    "    @classmethod\n",
    "    def noofobj(cls):\n",
    "        print('The no of objects created', Test.count)\n",
    "        \n",
    "t1 = Test()\n",
    "t2 = Test()\n",
    "t3 = Test()\n",
    "Test.noofobj()"
   ]
  },
  {
   "cell_type": "code",
   "execution_count": 172,
   "metadata": {},
   "outputs": [
    {
     "name": "stdout",
     "output_type": "stream",
     "text": [
      "30\n"
     ]
    }
   ],
   "source": [
    "class Test:\n",
    "    count = 0\n",
    "    def __init__(self):\n",
    "        Test.count = Test.count + 1\n",
    "        \n",
    "    @staticmethod\n",
    "    def noofobj(x,y):\n",
    "        print(x+y)\n",
    "t = Test()  \n",
    "\n",
    "t.noofobj(10,20)"
   ]
  },
  {
   "cell_type": "code",
   "execution_count": 173,
   "metadata": {},
   "outputs": [
    {
     "name": "stdout",
     "output_type": "stream",
     "text": [
      "The sum is  30\n"
     ]
    }
   ],
   "source": [
    "#Static method \n",
    "    #Inside method if we are ot using instance and static variables \n",
    "    #General utility method \n",
    "    \n",
    "#@staticmethod\n",
    "class RahulMaths:\n",
    "    \n",
    "    def add(x,y):\n",
    "        print('The sum is ', x+y)\n",
    "    \n",
    "    \n",
    "    def product(x,y):\n",
    "        print('The product is', x*y)\n",
    "        \n",
    "    \n",
    "    def average(x,y):\n",
    "        print('The average is', (x+y)/2)\n",
    "#RahulMaths.add(10,20)  \n",
    "#RahulMaths.product(10,20)\n",
    "#RahulMaths.average(10,20)\n",
    "RahulMaths.add(10,20)"
   ]
  },
  {
   "cell_type": "code",
   "execution_count": 60,
   "metadata": {},
   "outputs": [
    {
     "name": "stdout",
     "output_type": "stream",
     "text": [
      "Some Method: instance | Static | Class\n",
      "2128692016368\n",
      "Some Method: instance | Static | Class\n",
      "2128692017040\n",
      "2128692017040\n",
      "2128692016368\n"
     ]
    }
   ],
   "source": [
    "#Instance method - No decorator is required\n",
    "#Class Method - @classmethod  - Mandatory \n",
    "#Static method - @staticmethod - (Optional)\n",
    "#cls - self - instance method\n",
    "\n",
    "#Instance variables - (Instance method)\n",
    "#Static Variables - (Class Method )\n",
    "#Instance + Static - (Instance Method )\n",
    "#Instance + Local - (Instance Method )\n",
    "#Static + Local - (Class Method )\n",
    "#Local - (Static Method )\n",
    "\n",
    "#No decorator - Only two options - Instance method or static method\n",
    "\n",
    "#class Test\n",
    "\n",
    "#We call the static method - Either by class name or by obj ref\n",
    "\n",
    "class Test:\n",
    "    def m1(cls):\n",
    "        print('Some Method: instance | Static | Class')\n",
    "        print(id(cls))\n",
    "t1 = Test()     \n",
    "t1.m1()\n",
    "t2 = Test()\n",
    "t2.m1()\n",
    "print(id(t2))\n",
    "print(id(t1))\n",
    "#Test.m1(a)  # why 10\n"
   ]
  },
  {
   "cell_type": "code",
   "execution_count": 66,
   "metadata": {},
   "outputs": [
    {
     "name": "stdout",
     "output_type": "stream",
     "text": [
      "Employee Number: 100\n",
      "Employee Name: Rahul\n",
      "Employee Salary: 15000\n",
      "Employee Number: 100\n",
      "Employee Name: Rahul\n",
      "Employee Salary: 25000\n",
      "Hello\n",
      "Hello\n"
     ]
    }
   ],
   "source": [
    "#Passing the members of one class to another\n",
    "\n",
    "class Employee:\n",
    "    def __init__(self, eno, ename, esal):\n",
    "        self.eno = eno\n",
    "        self.ename = ename \n",
    "        self.esal = esal\n",
    "        \n",
    "    def display(self):\n",
    "        print('Employee Number:', self.eno)\n",
    "        print('Employee Name:', self.ename)\n",
    "        print('Employee Salary:', self.esal)\n",
    "        \n",
    "class Test:    \n",
    "    def modify(emp):\n",
    "        emp.esal = emp.esal + 10000\n",
    "        emp.display()\n",
    "    \n",
    "e = Employee(100, 'Rahul', 15000)\n",
    "e.display()\n",
    "\n",
    "Test.modify(e)\n",
    "\n",
    "class Test:\n",
    "    def modify(emp):\n",
    "        print('Hello')\n",
    "e1 = Test()\n",
    "e1.modify() #Instance\n",
    "Test.modify(1) #Static"
   ]
  },
  {
   "cell_type": "code",
   "execution_count": 195,
   "metadata": {},
   "outputs": [
    {
     "name": "stdout",
     "output_type": "stream",
     "text": [
      "Outer class object creation...\n",
      "Inner class object creation...\n",
      "Inner class method\n",
      "Outer class object creation...\n",
      "Inner class object creation...\n",
      "Inner class method\n"
     ]
    }
   ],
   "source": [
    "#Inner classes \n",
    "    #Classes inside another classes\n",
    "    #Without existing outer class inner class is of no use\n",
    "\n",
    "class Outer:\n",
    "    def __init__(self):\n",
    "        print('Outer class object creation...')\n",
    "    \n",
    "    class Inner:\n",
    "        def __init__(self):\n",
    "            print('Inner class object creation...')\n",
    "            \n",
    "        def m1(self):\n",
    "            print('Inner class method')\n",
    "    \n",
    "o = Outer()\n",
    "i=o.Inner()\n",
    "i.m1()\n",
    "\n",
    "i = Outer().Inner().m1()"
   ]
  },
  {
   "cell_type": "code",
   "execution_count": 196,
   "metadata": {},
   "outputs": [
    {
     "name": "stdout",
     "output_type": "stream",
     "text": [
      "Outer class object creation...\n",
      "Inner class object creation...\n",
      "Inner Inner class object creation...\n",
      "Inner Inner class method\n"
     ]
    }
   ],
   "source": [
    "class Outer:\n",
    "    def __init__(self):\n",
    "        print('Outer class object creation...')\n",
    "    \n",
    "    class Inner:\n",
    "        def __init__(self):\n",
    "            print('Inner class object creation...')\n",
    "            \n",
    "        class InnerInner:\n",
    "            def __init__(self):\n",
    "                print('Inner Inner class object creation...')\n",
    "                \n",
    "            def m1(self):\n",
    "                print('Inner Inner class method')\n",
    "i = Outer().Inner().InnerInner().m1()"
   ]
  },
  {
   "cell_type": "code",
   "execution_count": 198,
   "metadata": {},
   "outputs": [
    {
     "name": "stdout",
     "output_type": "stream",
     "text": [
      "Hello Rahul\n",
      "Talking...\n",
      "Thinking...\n"
     ]
    }
   ],
   "source": [
    "class Human:\n",
    "    def __init__(self):\n",
    "        self.name = 'Rahul'\n",
    "        self.head = self.Head()\n",
    "        self.brain = self.head.Brain()\n",
    "        \n",
    "        \n",
    "    def display(self):\n",
    "        print('Hello', self.name)\n",
    "        self.head.talk()\n",
    "        self.brain.think()\n",
    "\n",
    "      \n",
    "    class Head:\n",
    "        def talk(self):\n",
    "            print('Talking...')\n",
    "            \n",
    "        class Brain:\n",
    "            def think(self):\n",
    "                print('Thinking...')\n",
    "        \n",
    "\n",
    "h = Human()\n",
    "h.display()"
   ]
  },
  {
   "cell_type": "code",
   "execution_count": 200,
   "metadata": {},
   "outputs": [
    {
     "name": "stdout",
     "output_type": "stream",
     "text": [
      "Customer Name: R\n",
      "DOB=10/11/2010\n"
     ]
    }
   ],
   "source": [
    "class Customer: \n",
    "    def __init__(self, name, dd,mm,yyyy):\n",
    "        self.name = name\n",
    "        self.dob = self.DOB(dd,mm,yyyy)\n",
    "        \n",
    "    def display(self):\n",
    "        print('Customer Name:', self.name)\n",
    "        self.dob.display()\n",
    "        \n",
    "        \n",
    "    class DOB:\n",
    "        def __init__(self, dd,mm,yyyy):\n",
    "            self.dd = dd\n",
    "            self.mm = mm\n",
    "            self.yyyy = yyyy\n",
    "            \n",
    "        def display(self):\n",
    "            print('DOB={}/{}/{}'.format(self.dd, self.mm, self.yyyy))\n",
    "        \n",
    "c = Customer('R', 10,11, 2010)\n",
    "c.display()"
   ]
  },
  {
   "cell_type": "code",
   "execution_count": 201,
   "metadata": {},
   "outputs": [
    {
     "name": "stdout",
     "output_type": "stream",
     "text": [
      "The sum is: 30\n",
      "The diff is: -10\n",
      "The mul is: 200\n",
      "The div is: 0.5\n",
      "\n",
      "The sum is: 300\n",
      "The diff is: -100\n",
      "The mul is: 20000\n",
      "The div is: 0.5\n",
      "\n",
      "The sum is: 3000\n",
      "The diff is: -1000\n",
      "The mul is: 2000000\n",
      "The div is: 0.5\n",
      "\n"
     ]
    }
   ],
   "source": [
    "class Test:\n",
    "    def m1(self):\n",
    "        a,b = 10,20\n",
    "        print('The sum is:', a + b)\n",
    "        print('The diff is:', a - b)\n",
    "        print('The mul is:', a * b)\n",
    "        print('The div is:', a / b)\n",
    "        print()\n",
    "        \n",
    "        a,b = 100,200\n",
    "        print('The sum is:', a + b)\n",
    "        print('The diff is:', a - b)\n",
    "        print('The mul is:', a * b)\n",
    "        print('The div is:', a / b)\n",
    "        print()\n",
    "        \n",
    "        a,b = 1000,2000\n",
    "        print('The sum is:', a + b)\n",
    "        print('The diff is:', a - b)\n",
    "        print('The mul is:', a * b)\n",
    "        print('The div is:', a / b)\n",
    "        print()\n",
    "t = Test()\n",
    "t.m1()"
   ]
  },
  {
   "cell_type": "code",
   "execution_count": 202,
   "metadata": {},
   "outputs": [
    {
     "name": "stdout",
     "output_type": "stream",
     "text": [
      "The sum is: 30\n",
      "The Diff is: -10\n",
      "The Mul is: 200\n",
      "The Div is: 0.5\n",
      "\n",
      "The sum is: 300\n",
      "The Diff is: -100\n",
      "The Mul is: 20000\n",
      "The Div is: 0.5\n",
      "\n",
      "The sum is: 3000\n",
      "The Diff is: -1000\n",
      "The Mul is: 2000000\n",
      "The Div is: 0.5\n",
      "\n"
     ]
    }
   ],
   "source": [
    "class Test:\n",
    "    def m1(self):\n",
    "        def calculator(a,b):\n",
    "            print('The sum is:', a+b)\n",
    "            print('The Diff is:', a-b)\n",
    "            print('The Mul is:', a*b)\n",
    "            print('The Div is:', a/b)\n",
    "            print()\n",
    "            \n",
    "        calculator(10,20)\n",
    "        calculator(100,200)\n",
    "        calculator(1000,2000)\n",
    "            \n",
    "t = Test()\n",
    "t.m1()\n"
   ]
  },
  {
   "cell_type": "code",
   "execution_count": 1,
   "metadata": {},
   "outputs": [
    {
     "name": "stdout",
     "output_type": "stream",
     "text": [
      "True\n",
      "False\n",
      "True\n"
     ]
    }
   ],
   "source": [
    "#Garbage collector \n",
    "    #C++ - Programmer will be responsible (Creation as well as Destroy)\n",
    "    #Java and Python - GC \n",
    "    #GC is a part of Python virtual machine \n",
    "    #When there is no reference variable then it is eligible for GC\n",
    "    #GC - Enable\n",
    "    \n",
    "import gc\n",
    "print(gc.isenabled())\n",
    "gc.disable()\n",
    "print(gc.isenabled())\n",
    "gc.enable()\n",
    "print(gc.isenabled())"
   ]
  },
  {
   "cell_type": "code",
   "execution_count": 21,
   "metadata": {},
   "outputs": [
    {
     "name": "stdout",
     "output_type": "stream",
     "text": [
      "Object Initialization\n",
      "Performing clean up activities\n",
      "Using the object T1 for my technical purpose\n",
      "Performing clean up activities\n",
      "End of application\n"
     ]
    }
   ],
   "source": [
    "#GC - Last wish \n",
    "#One database connect , Network connection release that (clean up activities)\n",
    "        \n",
    "#Destructor - \n",
    "#Who is calling destructor : GC\n",
    "#When GC will call destructor ? : Just before destroying the object \n",
    "#For which purpose GC calls destroctor? : Clean up activities \n",
    "\n",
    "#The job of destructor is not to destroy the object just to do the clean up activiies , destroying the objects done by - GC\n",
    "\n",
    "#Constructor\n",
    "#def __init__(self):\n",
    "\n",
    "#Destructor\n",
    "#def __del__(self):\n",
    "# class Customer: \n",
    "#     def __init__(self, name, dd,mm,yyyy):\n",
    "#         self.name = name\n",
    "#         self.dob = self.DOB(dd,mm,yyyy)\n",
    "\n",
    "# c1 = Customer()\n",
    "import time\n",
    "class Test:\n",
    "    def __init__(self):\n",
    "        print('Object Initialization')\n",
    "    def __del__(self):  # Not Clear\n",
    "        print('Performing clean up activities')\n",
    "\n",
    "t1 = Test()\n",
    "print('Using the object T1 for my technical purpose')\n",
    "time.sleep(5)\n",
    "t1 = None\n",
    "time.sleep(10)\n",
    "print('End of application')"
   ]
  },
  {
   "cell_type": "code",
   "execution_count": 30,
   "metadata": {},
   "outputs": [
    {
     "name": "stdout",
     "output_type": "stream",
     "text": [
      "Obj Inti\n",
      "CLean up\n",
      "2243885150320\n",
      "2243885150320\n",
      "2243885150320\n",
      "Object not yet ready for destroy after deleting the T1\n",
      "Object not yet ready for destroy after deleting the T2\n",
      "CLean up\n",
      "Object is ready for destroy \n",
      "End of the app\n"
     ]
    }
   ],
   "source": [
    "import time \n",
    "class Test:\n",
    "    def __init__(self):\n",
    "        print('Obj Inti')\n",
    "        \n",
    "    def __del__(self):\n",
    "        print('CLean up')\n",
    "        \n",
    "t1 = Test()\n",
    "t2 = t1 \n",
    "t3 = t2 \n",
    "print(id(t1))\n",
    "print(id(t2))\n",
    "print(id(t3))\n",
    "\n",
    "del t1 \n",
    "time.sleep(10)\n",
    "print('Object not yet ready for destroy after deleting the T1')\n",
    "del t2 \n",
    "time.sleep(10)\n",
    "print('Object not yet ready for destroy after deleting the T2')\n",
    "del t3 \n",
    "time.sleep(10)\n",
    "print('Object is ready for destroy ')\n",
    "print('End of the app')"
   ]
  },
  {
   "cell_type": "code",
   "execution_count": 44,
   "metadata": {},
   "outputs": [
    {
     "name": "stdout",
     "output_type": "stream",
     "text": [
      "Obj Ini\n",
      "Obj Ini\n",
      "End of the app\n"
     ]
    },
    {
     "data": {
      "text/plain": [
       "[<__main__.Test at 0x20a726afa90>, <__main__.Test at 0x20a723ec160>]"
      ]
     },
     "execution_count": 44,
     "metadata": {},
     "output_type": "execute_result"
    }
   ],
   "source": [
    "##To Study?????\n",
    "\n",
    "#Destructor concept \n",
    "\n",
    "\n",
    "import time\n",
    "class Test:\n",
    "    def __init__(self):\n",
    "        print('Obj Ini')\n",
    "    def __del__(self):\n",
    "        print('Clean up ')\n",
    "        \n",
    "list = [Test(),Test()]\n",
    "print('End of the app')\n",
    "list"
   ]
  },
  {
   "cell_type": "code",
   "execution_count": 45,
   "metadata": {},
   "outputs": [
    {
     "name": "stdout",
     "output_type": "stream",
     "text": [
      "Class car using engine class functionality\n",
      "10\n",
      "20\n",
      "Engine specific functionality\n"
     ]
    }
   ],
   "source": [
    "#Members of one class inside another class\n",
    "#By Composition (Has a relationship)\n",
    "#By Inheritance (Is a relationship)\n",
    "\n",
    "#Composition - By using class name or by creating object we can access members of one class inside another class\n",
    "\n",
    "class Engine: \n",
    "    a = 10\n",
    "    def __init__(self):\n",
    "        self.b = 20\n",
    "        \n",
    "    def m1(self):\n",
    "        print('Engine specific functionality')\n",
    "    \n",
    "class Car: \n",
    "    def __init__(self):\n",
    "        self.engine = Engine()\n",
    "        \n",
    "    def m2(self):\n",
    "        print('Class car using engine class functionality')\n",
    "        print(self.engine.a)\n",
    "        print(self.engine.b)\n",
    "        self.engine.m1()\n",
    "        \n",
    "c = Car()\n",
    "c.m2()"
   ]
  },
  {
   "cell_type": "code",
   "execution_count": 49,
   "metadata": {},
   "outputs": [
    {
     "name": "stdout",
     "output_type": "stream",
     "text": [
      "Employee Number: 100\n",
      "Employee Name: Rahul\n",
      "Car Information\n",
      "Car Name: Maruti 800\n",
      "Car Model: 800\n",
      "Car Color: Grey\n"
     ]
    }
   ],
   "source": [
    "#What is a relation between car and engine ? Car class HAS A Engine reference\n",
    "\n",
    "class Car: \n",
    "    def __init__(self, name, model, color):\n",
    "        self.name = name\n",
    "        self.model = model\n",
    "        self.color = color\n",
    "        \n",
    "    def getinfo(self):\n",
    "        print('Car Name:', self.name)\n",
    "        print('Car Model:', self.model)\n",
    "        print('Car Color:', self.color)\n",
    "        \n",
    "        \n",
    "class Employee:\n",
    "    def __init__(self,eno, ename, car):\n",
    "        self.eno = eno\n",
    "        self.ename = ename\n",
    "        self.car = car\n",
    "    def empinfo(self):\n",
    "        print('Employee Number:', self.eno)\n",
    "        print('Employee Name:', self.ename)\n",
    "        print('Car Information')\n",
    "        self.car.getinfo()\n",
    "        \n",
    "c = Car('Maruti 800', '800', 'Grey')\n",
    "e = Employee(100, 'Rahul',c)\n",
    "e.empinfo()"
   ]
  },
  {
   "cell_type": "code",
   "execution_count": 52,
   "metadata": {},
   "outputs": [
    {
     "name": "stdout",
     "output_type": "stream",
     "text": [
      "10\n",
      "20\n",
      "M1 method of X class\n",
      "30\n",
      "40\n",
      "M2 Method of Y class\n",
      "Inside m3 method of Y class\n"
     ]
    }
   ],
   "source": [
    "class X:\n",
    "    a = 10\n",
    "    def __init__(self):\n",
    "        self.b = 20\n",
    "    def m1(self):\n",
    "        print('M1 method of X class')\n",
    "        \n",
    "\n",
    "class Y:\n",
    "    c = 30\n",
    "    def __init__(self):\n",
    "        self.d = 40\n",
    "        \n",
    "    def m2(self):\n",
    "        print('M2 Method of Y class')\n",
    "        \n",
    "    def m3(self):\n",
    "        x1 = X()\n",
    "        print(x1.a)\n",
    "        print(x1.b)\n",
    "        x1.m1()\n",
    "        print(self.c)\n",
    "        print(self.d)\n",
    "        self.m2()\n",
    "        print('Inside m3 method of Y class')\n",
    "        \n",
    "y1 = Y()\n",
    "y1.m3()"
   ]
  },
  {
   "cell_type": "code",
   "execution_count": 60,
   "metadata": {},
   "outputs": [
    {
     "name": "stdout",
     "output_type": "stream",
     "text": [
      "Parent class instance method\n",
      "Parent class method\n",
      "Parent class static method\n",
      "10\n",
      "Parent class instance method\n",
      "Parent class method\n",
      "Parent class static method\n"
     ]
    }
   ],
   "source": [
    "#Inheritance\n",
    "\n",
    "class P:\n",
    "    a = 10\n",
    "    def __init__(self):\n",
    "        self.b = 20\n",
    "        \n",
    "    def m1(self):\n",
    "        print('Parent class instance method')\n",
    "        \n",
    "    @classmethod\n",
    "    def m2(cls):\n",
    "        print('Parent class method')\n",
    "    @staticmethod\n",
    "    def m3():\n",
    "        print('Parent class static method')\n",
    "        \n",
    "class C(P):\n",
    "    pass\n",
    "\n",
    "p = P()\n",
    "p.a\n",
    "p.b\n",
    "p.m1()\n",
    "p.m2()\n",
    "p.m3()\n",
    "p.b\n",
    "print(p.a)\n",
    "c = C()\n",
    "c.a\n",
    "c.b\n",
    "c.m1()\n",
    "c.m2()\n",
    "c.m3()"
   ]
  },
  {
   "cell_type": "code",
   "execution_count": 61,
   "metadata": {},
   "outputs": [
    {
     "name": "stdout",
     "output_type": "stream",
     "text": [
      "Child class method\n",
      "Parent class method\n"
     ]
    }
   ],
   "source": [
    "class P:\n",
    "    def m1(self):\n",
    "        print('Parent class method')\n",
    "class C(P):\n",
    "    def m2(self):\n",
    "        print('Child class method')\n",
    "c = C()\n",
    "c.m2()\n",
    "c.m1()"
   ]
  },
  {
   "cell_type": "code",
   "execution_count": 79,
   "metadata": {},
   "outputs": [
    {
     "name": "stdout",
     "output_type": "stream",
     "text": [
      "10 30 40 20\n"
     ]
    }
   ],
   "source": [
    "class Y:\n",
    "    a = 10\n",
    "    def __init__(self):\n",
    "        self.b = 20\n",
    "        \n",
    "class C(Y):\n",
    "    c = 30\n",
    "    def __init__(self):\n",
    "        self.d = 40\n",
    "        \n",
    "c = C()\n",
    "t = Y()\n",
    "print(c.a,c.c, c.d,p.b) #Error how p.b working?"
   ]
  },
  {
   "cell_type": "code",
   "execution_count": 6,
   "metadata": {},
   "outputs": [
    {
     "name": "stdout",
     "output_type": "stream",
     "text": [
      "10 20 30 40\n"
     ]
    }
   ],
   "source": [
    "class P:\n",
    "    a = 10\n",
    "    def __init__(self):\n",
    "        self.b = 20\n",
    "        \n",
    "class C(P):\n",
    "    x = 30\n",
    "    def __init__(self):\n",
    "        super().__init__()\n",
    "        self.d = 40\n",
    "c = C()\n",
    "print(c.a, c.b, c.x, c.d)\n"
   ]
  },
  {
   "cell_type": "code",
   "execution_count": 81,
   "metadata": {},
   "outputs": [
    {
     "name": "stdout",
     "output_type": "stream",
     "text": [
      "Parent Method\n",
      "Child Method\n"
     ]
    }
   ],
   "source": [
    "#Types of Inheritance \n",
    "#Single Inheritance \n",
    "class P:\n",
    "    def m1(self):\n",
    "        print('Parent Method')\n",
    "class C(P):\n",
    "    def m2(self):\n",
    "        print('Child Method')\n",
    "c = C()\n",
    "c.m1()\n",
    "c.m2()"
   ]
  },
  {
   "cell_type": "code",
   "execution_count": 82,
   "metadata": {},
   "outputs": [
    {
     "name": "stdout",
     "output_type": "stream",
     "text": [
      "Sub Child Method\n",
      "Child Method\n",
      "Parent Method\n"
     ]
    }
   ],
   "source": [
    "#Multilevel Inheritance \n",
    "class P:\n",
    "    def m1(self):\n",
    "        print('Parent Method')\n",
    "        \n",
    "class C(P):\n",
    "    def m2(self):\n",
    "        print('Child Method')\n",
    "        \n",
    "class CC(C):\n",
    "    def m3(self):\n",
    "        print('Sub Child Method')\n",
    "        \n",
    "cc1 = CC()\n",
    "cc1.m3()\n",
    "cc1.m2()\n",
    "cc1.m1()"
   ]
  },
  {
   "cell_type": "code",
   "execution_count": 87,
   "metadata": {},
   "outputs": [
    {
     "name": "stdout",
     "output_type": "stream",
     "text": [
      "Child 1 Method\n",
      "Parent Method\n",
      "Child 2 Method\n",
      "Parent Method\n"
     ]
    }
   ],
   "source": [
    "#Hierarchical Inheritance \n",
    "class P:\n",
    "    def m1(self):\n",
    "        print('Parent Method')\n",
    "        \n",
    "class C1(P):\n",
    "    def m2(self):\n",
    "        print('Child 1 Method')\n",
    "        \n",
    "class C2(P):\n",
    "    def m3(self):\n",
    "        print('Child 2 Method')\n",
    "        \n",
    "c1 = C1()\n",
    "c1.m2()\n",
    "c1.m1()\n",
    "#c1.m3()\n",
    "c2 = C2()\n",
    "c2.m3()\n",
    "c2.m1()\n",
    "#c2.m2()"
   ]
  },
  {
   "cell_type": "code",
   "execution_count": 88,
   "metadata": {},
   "outputs": [
    {
     "name": "stdout",
     "output_type": "stream",
     "text": [
      "Child Method\n",
      "Parent 2 Method\n",
      "Parent 1 Method\n"
     ]
    }
   ],
   "source": [
    "#Multiple Inheritance \n",
    "class P1:\n",
    "    def m1(self):\n",
    "        print('Parent 1 Method')\n",
    "\n",
    "class P2:\n",
    "    def m2(self):\n",
    "        print('Parent 2 Method')\n",
    "        \n",
    "class C(P1,P2):\n",
    "    def m3(self):\n",
    "        print('Child Method')\n",
    "        \n",
    "c = C()\n",
    "c.m3()\n",
    "c.m2()\n",
    "c.m1()"
   ]
  },
  {
   "cell_type": "code",
   "execution_count": 91,
   "metadata": {},
   "outputs": [
    {
     "name": "stdout",
     "output_type": "stream",
     "text": [
      "Lets have Pizza and Cold Coffee Rahul 34\n",
      "Python Coding...\n",
      "Employee name: Rahul\n",
      "Employee Age: 34\n",
      "Employee No: 123\n",
      "Employee Sal: 10000\n",
      "Car Info:\n",
      "\tCar Name: Innova\tCar Model: Classic\tCar color: Silver\n"
     ]
    }
   ],
   "source": [
    "class Car:\n",
    "    def __init__(self, name, model, color):\n",
    "        self.name = name \n",
    "        self.model = model \n",
    "        self.color = color\n",
    "        \n",
    "    def getinfo(self):\n",
    "        print('\\tCar Name: {}\\tCar Model: {}\\tCar color: {}'.format(self.name, self.model, self.color))\n",
    "        \n",
    "        \n",
    "class Person:\n",
    "    def __init__(self, name, age):\n",
    "        self.name = name \n",
    "        self.age = age\n",
    "        \n",
    "    def eat_n_drink(self):\n",
    "        print('Lets have Pizza and Cold Coffee', self.name,self.age)\n",
    "        \n",
    "class Employee(Person): #Inheritance\n",
    "    def __init__(self, name, age,eno, esal, car): #Composition\n",
    "        super().__init__(name, age)\n",
    "        self.eno = eno\n",
    "        self.esal = esal\n",
    "        self.car = car\n",
    "        \n",
    "    def work(self):\n",
    "        print('Python Coding...')\n",
    "        \n",
    "        \n",
    "    def empinfo(self):\n",
    "        print('Employee name:', self.name)\n",
    "        print('Employee Age:', self.age)\n",
    "        print('Employee No:', self.eno)\n",
    "        print('Employee Sal:', self.esal)\n",
    "        print('Car Info:')\n",
    "        self.car.getinfo()\n",
    "        \n",
    "c = Car('Innova', 'Classic', 'Silver')\n",
    "e = Employee('Rahul', 34, 123, 10000, c)\n",
    "        \n",
    "e.eat_n_drink()  \n",
    "e.work()\n",
    "e.empinfo()"
   ]
  },
  {
   "cell_type": "code",
   "execution_count": 92,
   "metadata": {},
   "outputs": [
    {
     "name": "stdout",
     "output_type": "stream",
     "text": [
      "[<class '__main__.D'>, <class '__main__.B'>, <class '__main__.C'>, <class '__main__.A'>, <class 'object'>]\n"
     ]
    }
   ],
   "source": [
    "#In HAS A - We have two formats \n",
    "    #Composition \n",
    "    #Aggregation \n",
    "    \n",
    "    #Without existing college there is no chance of dept. Strongly associated and known as composition \n",
    "#In a department there are several professors going to work. Students not coming to one dept the professors will move to \n",
    "#Other department  - Aggregation \n",
    "\n",
    "#Without existing container object there may be a chance of contained object - Weak assocaiton and known as aggregation \n",
    "class Student:\n",
    "    college_name = 'RahulTEch' #Weak assocaition - Aggregation \n",
    "    def __init__(self,name):\n",
    "        self.name = name #Strong assocaiton - Composition\n",
    "\n",
    "#Single \n",
    "#Multi Level\n",
    "#Hierachical \n",
    "#Multiple \n",
    "\n",
    "#Hybrid - \n",
    "#Cyclic - Not allowed in Python - not really required A(B) B(A) - Out of scope\n",
    "\n",
    "#Hybrid Case 1: \n",
    "class A:pass\n",
    "\n",
    "class B(A):pass\n",
    "\n",
    "class C(A):pass\n",
    "\n",
    "class D(B,C):pass\n",
    "\n",
    "print(D.mro()) # What is mro?"
   ]
  },
  {
   "cell_type": "code",
   "execution_count": 99,
   "metadata": {},
   "outputs": [
    {
     "name": "stdout",
     "output_type": "stream",
     "text": [
      "[<class '__main__.P'>, <class '__main__.X'>, <class '__main__.A'>, <class '__main__.Y'>, <class '__main__.B'>, <class '__main__.C'>, <class 'object'>]\n",
      "[<class '__main__.A'>, <class 'object'>]\n",
      "[<class '__main__.B'>, <class 'object'>]\n",
      "[<class '__main__.C'>, <class 'object'>]\n",
      "[<class '__main__.X'>, <class '__main__.A'>, <class '__main__.B'>, <class 'object'>]\n",
      "[<class '__main__.Y'>, <class '__main__.B'>, <class '__main__.C'>, <class 'object'>]\n",
      "[<class '__main__.P'>, <class '__main__.X'>, <class '__main__.A'>, <class '__main__.Y'>, <class '__main__.B'>, <class '__main__.C'>, <class 'object'>]\n"
     ]
    }
   ],
   "source": [
    "#Hybrid Case 2:\n",
    "class A: pass\n",
    "    \n",
    "class B: pass\n",
    "    \n",
    "class C: pass\n",
    "    \n",
    "class X(A,B): pass\n",
    "    \n",
    "class Y(B,C): pass\n",
    "\n",
    "class P(X,Y,C): pass\n",
    "\n",
    "\n",
    "#This is expected: P, X, Y, C, A, B ,O\n",
    "print(P.mro())\n",
    "#This is coming: P, X, A, Y, B, C, O  ????\n",
    "#In the Hybrid inheritance Python runs an internal algorithm when we have more levels\n",
    "\n",
    "print(A.mro())\n",
    "print(B.mro())\n",
    "print(C.mro())\n",
    "print(X.mro())\n",
    "print(Y.mro())\n",
    "print(P.mro())\n",
    "#XABO\n",
    "#head element - X \n",
    "#Tail - ABO\n",
    "#mro(O) = O\n",
    "#mro(A) = AO\n",
    "#mro(B) = BO\n",
    "#mro(C) = CO\n",
    "#mro(X) = XABO\n",
    "#mro(Y) = YBCO\n",
    "#mro(P) === ????"
   ]
  },
  {
   "cell_type": "code",
   "execution_count": 100,
   "metadata": {},
   "outputs": [
    {
     "name": "stdout",
     "output_type": "stream",
     "text": [
      "[<class '__main__.A'>, <class '__main__.B'>, <class '__main__.C'>, <class '__main__.D'>, <class '__main__.E'>, <class '__main__.F'>, <class 'object'>]\n"
     ]
    }
   ],
   "source": [
    "# To Study\n",
    "#C3 Linearization Algorithm - Samuel Pedroni \n",
    "    #DLR (Depth first Left to Right)\n",
    "    \n",
    "#MRO(X) = X  + Merge(MRO(P1), MRO(P2), ....., parent list)\n",
    "#MRO(P) = P + Merge(MRO(X), MRO(Y), MRO(C), XYC)\n",
    "#       = P + Merge(XABO, YBCO, CO, XYC)\n",
    "#       = P + X + Merge(ABO, YBCO, CO, YC)\n",
    "#       = P + X + A + Merge(BO, YBCO, CO, YC)\n",
    "#       = P + X + A + B.... Hold \n",
    "#       = P + X + A + Y + Merge(BO, BCO, CO, C)\n",
    "#       = P + X + A + Y + B + Merge(O, CO, CO, C)\n",
    "#       = P + X + A + Y + B + O.....Hold\n",
    "#       = P + X + A + Y + B + C + Merge(O,O,O)\n",
    "#       = P + X + A + Y + B + C + O\n",
    "        \n",
    "        \n",
    "#This is coming: P, X, A, Y, B, C, O\n",
    "\n",
    "#Hybrid Case 3: \n",
    "class D:\n",
    "    pass\n",
    "\n",
    "class E:\n",
    "    pass\n",
    "\n",
    "class F:\n",
    "    pass\n",
    "\n",
    "class B(D,E):\n",
    "    pass\n",
    "\n",
    "class C(D,F):\n",
    "    pass\n",
    "\n",
    "class A(B,C):\n",
    "    pass\n",
    "\n",
    "#mro(A) = A + Merge(MRO(B), MRO(C), BC)\n",
    "#mro(A) = A + Merge(BDEO, CDFO, BC)\n",
    "#mro(A) = A + B + Merge(DEO, CDFO, C)\n",
    "#mro(A) = A + B + D .... Hold \n",
    "#mro(A) = A + B + C + Merge(DEO, DFO)\n",
    "#mro(A) = A + B + C + D + Merge(EO, FO)\n",
    "#mro(A) = A + B + C + D + E + Merge(O, FO)\n",
    "#mro(A) = A + B + C + D + E + O ... Hold\n",
    "#mro(A) = A + B + C + D + E + F + Merge (O,O)\n",
    "#mro(A) = A + B + C + D + E + F + O\n",
    "print(A.mro())"
   ]
  },
  {
   "cell_type": "code",
   "execution_count": 2,
   "metadata": {},
   "outputs": [
    {
     "name": "stdout",
     "output_type": "stream",
     "text": [
      "Rahul\n",
      "34\n",
      "11\n",
      "45\n"
     ]
    }
   ],
   "source": [
    "#super()\n",
    "#Which can be used to call parent class constructor, Methods and variables from the child class\n",
    "\n",
    "class Person:\n",
    "    def __init__(self, name, age):\n",
    "        self.name = name \n",
    "        self.age = age\n",
    "        \n",
    "        \n",
    "class Student(Person):\n",
    "    def __init__(self,name, age, rollno, marks):\n",
    "        self.name = name\n",
    "        self.age = age\n",
    "        self.rollno = rollno\n",
    "        self.marks =marks\n",
    "        \n",
    "    def display(self):\n",
    "        print(self.name)\n",
    "        print(self.age)\n",
    "        print(self.rollno)\n",
    "        print(self.marks)\n",
    "        \n",
    "s = Student('Rahul', 34, 11, 45)\n",
    "s.display()"
   ]
  },
  {
   "cell_type": "code",
   "execution_count": 8,
   "metadata": {},
   "outputs": [
    {
     "name": "stdout",
     "output_type": "stream",
     "text": [
      "Rahul\n",
      "34\n",
      "11\n",
      "45\n"
     ]
    }
   ],
   "source": [
    "class Person:\n",
    "    def __init__(self, name, age):\n",
    "        self.name = name \n",
    "        self.age = age\n",
    "        \n",
    "    def display(self):\n",
    "        print(self.name)\n",
    "        print(self.age)\n",
    "        \n",
    "        \n",
    "class Student(Person):\n",
    "    def __init__(self, name, age, rollno, marks):\n",
    "        super().__init__(name,age)\n",
    "        self.rollno = rollno\n",
    "        self.marks =marks\n",
    "        \n",
    "    def display(self):\n",
    "        super().display()\n",
    "        print(self.rollno)\n",
    "        print(self.marks)\n",
    "        \n",
    "s = Student('Rahul', 34, 11, 45)\n",
    "s.display()"
   ]
  },
  {
   "cell_type": "code",
   "execution_count": 7,
   "metadata": {},
   "outputs": [
    {
     "name": "stdout",
     "output_type": "stream",
     "text": [
      "Rahul\n",
      "34\n",
      "11\n",
      "45\n"
     ]
    }
   ],
   "source": [
    "class Person:\n",
    "    def __init__(self, name, age):\n",
    "        self.name = name \n",
    "        self.age = age\n",
    "        \n",
    "    def display1(self):\n",
    "        print(self.name)\n",
    "        print(self.age)\n",
    "     \n",
    "class Student(Person):\n",
    "    def __init__(self, name, age,rollno, marks):\n",
    "        super().__init__(name,age)\n",
    "        self.rollno = rollno\n",
    "        self.marks = marks\n",
    "        \n",
    "    def display2(self):\n",
    "        self.display1()\n",
    "        print(self.rollno)\n",
    "        print(self.marks)\n",
    "        \n",
    "s = Student('Rahul',34, 11, 45)\n",
    "s.display2()"
   ]
  },
  {
   "cell_type": "code",
   "execution_count": 11,
   "metadata": {},
   "outputs": [],
   "source": [
    "class P:\n",
    "    a = 100\n",
    "    def __init__(self):\n",
    "        self.b = 200\n",
    "        \n",
    "    def m1(self):\n",
    "        print('Parent instance method...')\n",
    "        \n",
    "    @classmethod\n",
    "    def m2(cls):\n",
    "        print('Parent class method...')\n",
    "        \n",
    "    @staticmethod\n",
    "    def m3():\n",
    "        print('Parent static method...')"
   ]
  },
  {
   "cell_type": "code",
   "execution_count": 12,
   "metadata": {},
   "outputs": [
    {
     "name": "stdout",
     "output_type": "stream",
     "text": [
      "100\n",
      "Parent instance method...\n",
      "Parent class method...\n",
      "Parent static method...\n"
     ]
    }
   ],
   "source": [
    "class C(P):\n",
    "    a = 100000\n",
    "    def __init__(self):\n",
    "        self.b = 90909\n",
    "        super().__init__()\n",
    "        print(super().a)\n",
    "        super().m1()\n",
    "        super().m2()\n",
    "        super().m3()\n",
    "        \n",
    "c = C()"
   ]
  },
  {
   "cell_type": "code",
   "execution_count": 13,
   "metadata": {},
   "outputs": [
    {
     "name": "stdout",
     "output_type": "stream",
     "text": [
      "D class method...\n"
     ]
    }
   ],
   "source": [
    "#Mulitlevel case \n",
    "#A -> B -> C\n",
    "\n",
    "class A:\n",
    "    def m1(self):\n",
    "        print('A class method...')\n",
    "        \n",
    "class B(A):\n",
    "    def m1(self):\n",
    "        print('B class method...')\n",
    "        \n",
    "class C(B):\n",
    "    def m1(self):\n",
    "        print('C class method...')\n",
    "        \n",
    "class D(C):\n",
    "    def m1(self):\n",
    "        print('D class method...')\n",
    "        \n",
    "class E(D):\n",
    "    def m1(self):\n",
    "        #print('E class method...')\n",
    "        super().m1()\n",
    "        \n",
    "e = E()\n",
    "e.m1()"
   ]
  },
  {
   "cell_type": "code",
   "execution_count": 15,
   "metadata": {},
   "outputs": [
    {
     "name": "stdout",
     "output_type": "stream",
     "text": [
      "B class method...\n"
     ]
    }
   ],
   "source": [
    "#Mulitlevel case \n",
    "#A -> B -> C\n",
    "\n",
    "class A:\n",
    "    def m1(self):\n",
    "        print('A class method...')\n",
    "        \n",
    "class B(A):\n",
    "    def m1(self):\n",
    "        print('B class method...')\n",
    "        \n",
    "class C(B):\n",
    "    def m1(self):\n",
    "        print('C class method...')\n",
    "        \n",
    "class D(C):\n",
    "    def m1(self):\n",
    "        print('D class method...')\n",
    "        \n",
    "class E(D):\n",
    "    def m1(self):\n",
    "        #print('E class method...')\n",
    "        B.m1(self)\n",
    "        \n",
    "e = E()\n",
    "e.m1()"
   ]
  },
  {
   "cell_type": "code",
   "execution_count": 14,
   "metadata": {},
   "outputs": [
    {
     "name": "stdout",
     "output_type": "stream",
     "text": [
      "B class method...\n"
     ]
    }
   ],
   "source": [
    "#Mulitlevel case \n",
    "#A -> B -> C\n",
    "\n",
    "class A:\n",
    "    def m1(self):\n",
    "        print('A class method...')\n",
    "        \n",
    "class B(A):\n",
    "    def m1(self):\n",
    "        print('B class method...')\n",
    "        \n",
    "class C(B):\n",
    "    def m1(self):\n",
    "        print('C class method...')\n",
    "        \n",
    "class D(C):\n",
    "    def m1(self):\n",
    "        print('D class method...')\n",
    "        \n",
    "class E(D):\n",
    "    def m1(self):\n",
    "        #print('E class method...')\n",
    "        super(C,self).m1()\n",
    "        \n",
    "e = E()\n",
    "e.m1()"
   ]
  },
  {
   "cell_type": "code",
   "execution_count": 16,
   "metadata": {},
   "outputs": [
    {
     "name": "stdout",
     "output_type": "stream",
     "text": [
      "100\n",
      "20\n",
      "200\n"
     ]
    }
   ],
   "source": [
    "class P:\n",
    "    a = 100\n",
    "    def __init__(self):\n",
    "        self.b = 20\n",
    "        \n",
    "class C(P):\n",
    "    def m1(self):\n",
    "        print(super().a)\n",
    "        print(self.b)\n",
    "        \n",
    "c = C()\n",
    "c.m1()\n",
    "\n",
    "class P:\n",
    "    a = 100\n",
    "    def __init__(self):\n",
    "        self.b = 200\n",
    "        \n",
    "class C(P):\n",
    "    a = 1000\n",
    "    def m1(self):\n",
    "        self.b = 2000\n",
    "        super().__init__()\n",
    "        print(self.b)\n",
    "        \n",
    "c = C()\n",
    "c.m1()"
   ]
  },
  {
   "cell_type": "code",
   "execution_count": 17,
   "metadata": {},
   "outputs": [
    {
     "name": "stdout",
     "output_type": "stream",
     "text": [
      "200\n"
     ]
    }
   ],
   "source": [
    "#Mulitlevel case \n",
    "#A -> B -> C\n",
    "\n",
    "class A:\n",
    "    def __init__(self):\n",
    "        self.b = 200\n",
    "    def m1(self):\n",
    "        print('A class method...')\n",
    "        \n",
    "class B(A):\n",
    "    def __init__(self):\n",
    "        self.b = 2000\n",
    "    def m1(self):\n",
    "        print('B class method...')\n",
    "        \n",
    "class C(B):\n",
    "    def __init__(self):\n",
    "        self.b = 20000\n",
    "        super(B,self).__init__()\n",
    "    \n",
    "    def m1(self):\n",
    "        print(self.b)\n",
    "\n",
    "c = C() \n",
    "c.m1()"
   ]
  },
  {
   "cell_type": "code",
   "execution_count": null,
   "metadata": {},
   "outputs": [],
   "source": [
    "# -*- coding: utf-8 -*-\n",
    "\"\"\"OOPs - Class 10 and 11.ipynb\n",
    "\n",
    "Automatically generated by Colaboratory.\n",
    "\n",
    "Original file is located at\n",
    "    https://colab.research.google.com/github/dsrahul08/PythonProgramming/blob/master/Codes/OOPs/OOPs%20-%20Class%2010%20and%2011.ipynb\n",
    "\"\"\"\n",
    "\n",
    "#Polymorphism\n",
    "#Poly Multiple Morph - Forms\n",
    "#1. Duck Typing Philosophy of Python \n",
    "#2. Overloading \n",
    "    #Operator Overloading \n",
    "    #Method Overloading \n",
    "    #Constructor overloading\n",
    "    \n",
    "#3. Overriding \n",
    "    #Method Overriding \n",
    "    #Constructor overriding \n",
    "    \n",
    "    \n",
    "class Duck:\n",
    "    def eat(self):\n",
    "        print('Fish')\n",
    "        \n",
    "class Dog:\n",
    "    def eat(self):\n",
    "        print('Meat')\n",
    "    \n",
    "class Cat:\n",
    "    def eat(self):\n",
    "        print('Rat')\n",
    "        \n",
    "class Goat:\n",
    "    def eat(self):\n",
    "        print('Grass')\n",
    "        \n",
    "def f1(obj):\n",
    "    obj.eat()\n",
    "    \n",
    "l = [Duck(),Dog(), Cat(), Goat()]\n",
    "for obj in l:\n",
    "    f1(obj)\n",
    "\n",
    "class Duck:\n",
    "    def eat(self):\n",
    "        print('Fish')\n",
    "        \n",
    "class Dog:\n",
    "    def talk(self):\n",
    "        print('Bow Bow')\n",
    "        \n",
    "        \n",
    "def f1(obj):\n",
    "    obj.talk()\n",
    "    \n",
    "#d1 = Duck()\n",
    "\n",
    "\n",
    "#d1.talk()\n",
    "\n",
    "d1 = Dog()\n",
    "d1.talk()\n",
    "\n",
    "def f1(obj):\n",
    "    if hasattr(obj, 'talk'):\n",
    "        obj.talk()\n",
    "        \n",
    "    elif hasattr(obj, 'eat'):\n",
    "        obj.eat()\n",
    "        \n",
    "d = Duck()\n",
    "f1(d)\n",
    "d = Dog()\n",
    "f1(d)\n",
    "\n",
    "#Overloading \n",
    "1+2 \n",
    "'a'+'b'\n",
    "\n",
    "class Book:\n",
    "    def __init__(self, pages):\n",
    "        self.pages = pages\n",
    "        \n",
    "b1 = Book(100)\n",
    "b2 = Book(200)\n",
    "print(b1+b2)\n",
    "\n",
    "class Book:\n",
    "    def __init__(self,pages):\n",
    "        self.pages = pages\n",
    "    def __add__(self, other):\n",
    "        return self.pages + other.pages\n",
    "    def __mul__(self,other):\n",
    "        return self.pages * other.pages\n",
    "    \n",
    "b1 = Book(100)\n",
    "b2 = Book(200)\n",
    "print(b1+b2)\n",
    "print(b1*b2)\n",
    "\n",
    "dir(int)\n",
    "\n",
    "# Commented out IPython magic to ensure Python compatibility.\n",
    "+ --> __add__(self,other)\n",
    "- --> __sub__(self,other)\n",
    "* --> __mul__(self,other)\n",
    "/ --> __div__(self,other)\n",
    "// --> __floordiv__(self,other)\n",
    "# % --> __mod__(self,other)\n",
    "** --> __pow__(self,other)\n",
    "\n",
    "+= --> __iadd__(self,other)\n",
    "-= --> __isub__(self,other)\n",
    "*= --> __imul__(self,other)\n",
    "/= --> __idiv__(self,other)\n",
    "//= --> __ifloordiv__(self,other)\n",
    "# %= --> __imod__(self,other)\n",
    "**= --> __ipow__(self,other)\n",
    "\n",
    "< --> __lt__(sef,other)\n",
    "<= --> __le__(self,other)\n",
    "> --> __gt__(self,other)\n",
    ">= --> __ge__(self,other)\n",
    "== --> __eq__(self,other)\n",
    "!= --> __ne__(self,other)\n",
    "\n",
    "class Student:\n",
    "    def __init__(self,name,marks):\n",
    "        self.name = name \n",
    "        self.marks = marks\n",
    "        \n",
    "    def __gt__(self,other):\n",
    "        return self.marks > other.marks\n",
    "    def __ge__(self,other):\n",
    "        return self.marks >= other.marks\n",
    "    def __lt__(self,other):\n",
    "        return self.marks  <other.marks\n",
    "    def __le__(self,other):\n",
    "        return self.marks <= other.marks\n",
    "    \n",
    "s1 = Student('Rahul', 100)\n",
    "s2 = Student('Milind', 200)\n",
    "print(s1>s2)\n",
    "print(s1>=s2)\n",
    "print(s1<s2)\n",
    "print(s1<=s2)\n",
    "\n",
    "class Book:\n",
    "    def __init__(self,pages):\n",
    "        self.pages = pages\n",
    "        \n",
    "    def __add__(self,other):\n",
    "        return self.pages + other.pages\n",
    "b1 = Book(100)\n",
    "b2 = Book(200)\n",
    "b3 = Book(300)\n",
    "print(b1+b2+b3)\n",
    "\n",
    "class Book:\n",
    "    def __init__(self, pages):\n",
    "        self.pages = pages\n",
    "    def __add__(self,other1, other2):\n",
    "        return self.pages + other1.pages + other2.pages\n",
    "    \n",
    "b1 = Book(100)\n",
    "b2 = Book(200)\n",
    "b3 = Book(300)\n",
    "print(b1+b2+b3)\n",
    "\n",
    "class Book:\n",
    "    def __init__(self,pages):\n",
    "        self.pages = pages\n",
    "        \n",
    "    def __add__(self,other):\n",
    "        print('Add method we are calling')\n",
    "        total = self.pages + other.pages\n",
    "        return Book(total)\n",
    "    \n",
    "    def __str__(self):\n",
    "        print('str method calling')\n",
    "        return str(self.pages)\n",
    "    \n",
    "b1 = Book(100)\n",
    "b2 = Book(200)\n",
    "b3 = Book(300)\n",
    "b4 = Book(400)\n",
    "print(b1+b2+b3+b4)\n",
    "\n",
    "class Student:\n",
    "    def __init__(self,name, marks):\n",
    "        self.name = name\n",
    "        self.marks = marks\n",
    "        \n",
    "    def __str__(self):\n",
    "        return 'This is Student object with the name:{} and  marks:{}'.format(self.name, self.marks)\n",
    "        \n",
    "    \n",
    "s1 = Student('Rahul', 100)\n",
    "print(s1)\n",
    "s2 = Student('Milind',200)\n",
    "print(s2)\n",
    "\n",
    "class Employee:\n",
    "    def __init__(self,name, salary):\n",
    "        self.name = name\n",
    "        self.salary = salary\n",
    "        \n",
    "    def __mul__(self,other):\n",
    "        return self.salary * other.days\n",
    "    \n",
    "class TimeSheet:\n",
    "    def __init__(self,name, days):\n",
    "        self.name =name\n",
    "        self.days=days\n",
    "    def __mul__(self,other):\n",
    "        return self.days * other.salary\n",
    "        \n",
    "e = Employee('Rahul',500)\n",
    "t = TimeSheet('Rahul',25)\n",
    "\n",
    "print('The month salary is:', e*t)\n",
    "print('The month salary is:', t*e)\n",
    "\n",
    "#Method overloading\n",
    "class Test:\n",
    "    def m1(self):\n",
    "        print('Zero arg method')\n",
    "        \n",
    "    def m1(self,a):\n",
    "        print('One arg Method')\n",
    "        \n",
    "    def m1(self, a,b):\n",
    "        print('Two arg method')\n",
    "        \n",
    "t = Test()\n",
    "t.m1(10,10)\n",
    "\n",
    "class Test:\n",
    "    def sum1(self, a=None,b=None,c=None):\n",
    "        if a !=None and b != None and c != None:\n",
    "            print('The sum of three numbers is:', a+b+c)\n",
    "        elif a !=None and b != None:\n",
    "            print('The sum of two numbers is:', a+b)\n",
    "        elif a!=None:\n",
    "            print('The sum of one number is:',a)\n",
    "        else:\n",
    "            print('Atleast provide one value')\n",
    "\n",
    "t = Test()\n",
    "t.sum1()\n",
    "t.sum1(10)\n",
    "t.sum1(19,12)\n",
    "t.sum1(10,20,30)\n",
    "\n",
    "class Test:\n",
    "    def sum(self, *a): #*a is a variable arguement \n",
    "        total = 0 \n",
    "        for x in a:\n",
    "            total = total + x\n",
    "        print('The sum is:', total)\n",
    "t = Test()\n",
    "t.sum()\n",
    "t.sum(10)\n",
    "t.sum(10,20)\n",
    "t.sum(10,20,30)\n",
    "t.sum(10,20,30,40)\n",
    "t.sum(10,20,30,40,50)\n",
    "\n",
    "class Test:\n",
    "    def sum(self, *a): #*a is a variable arguement \n",
    "        total = 0 \n",
    "        for x in a:\n",
    "            total = total + x\n",
    "        print('The sum is:', total)\n",
    "        \n",
    "    def sum(self):\n",
    "        print('The sum is nothing')\n",
    "t = Test()\n",
    "t.sum()\n",
    "t.sum(10)\n",
    "t.sum(10,20)\n",
    "t.sum(10,20,30)\n",
    "t.sum(10,20,30,40)\n",
    "t.sum(10,20,30,40,50)\n",
    "\n",
    "#Constructor Overloading\n",
    "class Test:\n",
    "    def __init__(self):\n",
    "        print('No arg constructor ')\n",
    "    def __init__(self,a):\n",
    "        print('One arg constructor')\n",
    "    def __init__(self,a,b):\n",
    "        print('Two arg constructor')\n",
    "t = Test(10,20)\n",
    "\n",
    "class Test:\n",
    "    def __init__(self, a=None, b= None, c=None):\n",
    "        print('Constructor is with 0|1|2|3 args')\n",
    "        \n",
    "t = Test()\n",
    "t = Test(10)\n",
    "t = Test(10,20)\n",
    "t = Test(10,20,30)\n",
    "\n",
    "class Test:\n",
    "    def __init__(self,*a):\n",
    "        print('Constructor with n args')\n",
    "        \n",
    "t = Test()\n",
    "t = Test(10)\n",
    "t = Test(10,20)\n",
    "t = Test(10,20,30)\n",
    "t = Test(10,20,30,40)\n",
    "\n",
    "#Method Overriding\n",
    "    #What is the purpose of Method Overriding \n",
    "    \n",
    "class P:\n",
    "    def property(self):\n",
    "        print('Cash+Gold+Shares+Vehicles+Land+Houses')\n",
    "        \n",
    "class C(P): pass\n",
    "c = C()\n",
    "c.property()\n",
    "\n",
    "#Method Overriding\n",
    "    #What is the purpose of Method Overriding \n",
    "    \n",
    "class P:\n",
    "    def property(self):\n",
    "        print('Cash+Gold+Shares+Vehicles+Land+Houses')\n",
    "        \n",
    "    def marriage(self):\n",
    "        print('X|Y|Z')\n",
    "        \n",
    "class C(P):\n",
    "    def marriage(self):\n",
    "        print('A|B|C')\n",
    "c = C()\n",
    "c.property()\n",
    "c.marriage()\n",
    "\n",
    "#Method Overriding\n",
    "    #What is the purpose of Method Overriding \n",
    "    \n",
    "class P:\n",
    "    def property(self):\n",
    "        print('Cash+Gold+Shares+Vehicles+Land+Houses')\n",
    "        \n",
    "    def marriage(self):\n",
    "        print('X|Y|Z')\n",
    "        \n",
    "class C(P):\n",
    "    def marriage(self):\n",
    "        super().marriage()\n",
    "        print('A|B|C')\n",
    "c = C()\n",
    "c.property()\n",
    "c.marriage()\n",
    "\n",
    "class P:\n",
    "    def __init__(self):\n",
    "        print('Parent constructor')\n",
    "class C(P):\n",
    "    pass\n",
    "\n",
    "c=C()\n",
    "\n",
    "class P:\n",
    "    def __init__(self):\n",
    "        print('Parent constructor')\n",
    "class C(P):\n",
    "    def __init__(self):\n",
    "        print('Child constructor')\n",
    "\n",
    "c=C()\n",
    "\n",
    "class P:\n",
    "    def __init__(self):\n",
    "        print('Parent constructor')\n",
    "class C(P):\n",
    "    def __init__(self):\n",
    "        P.__init__(self)\n",
    "        print('Child constructor')\n",
    "\n",
    "c=C()"
   ]
  },
  {
   "cell_type": "code",
   "execution_count": 67,
   "metadata": {},
   "outputs": [
    {
     "ename": "TypeError",
     "evalue": "Can't instantiate abstract class Vehicle with abstract methods get_no_wheels",
     "output_type": "error",
     "traceback": [
      "\u001b[1;31m---------------------------------------------------------------------------\u001b[0m",
      "\u001b[1;31mTypeError\u001b[0m                                 Traceback (most recent call last)",
      "\u001b[1;32m<ipython-input-67-be203f9c726a>\u001b[0m in \u001b[0;36m<module>\u001b[1;34m\u001b[0m\n\u001b[0;32m     26\u001b[0m         \u001b[1;32mpass\u001b[0m\u001b[1;33m\u001b[0m\u001b[1;33m\u001b[0m\u001b[0m\n\u001b[0;32m     27\u001b[0m \u001b[1;33m\u001b[0m\u001b[0m\n\u001b[1;32m---> 28\u001b[1;33m \u001b[0mv\u001b[0m \u001b[1;33m=\u001b[0m \u001b[0mVehicle\u001b[0m\u001b[1;33m(\u001b[0m\u001b[1;33m)\u001b[0m\u001b[1;33m\u001b[0m\u001b[1;33m\u001b[0m\u001b[0m\n\u001b[0m\u001b[0;32m     29\u001b[0m \u001b[1;33m\u001b[0m\u001b[0m\n\u001b[0;32m     30\u001b[0m \u001b[1;32mclass\u001b[0m \u001b[0mTest\u001b[0m\u001b[1;33m(\u001b[0m\u001b[0mABC\u001b[0m\u001b[1;33m)\u001b[0m\u001b[1;33m:\u001b[0m\u001b[1;33m\u001b[0m\u001b[1;33m\u001b[0m\u001b[0m\n",
      "\u001b[1;31mTypeError\u001b[0m: Can't instantiate abstract class Vehicle with abstract methods get_no_wheels"
     ]
    }
   ],
   "source": [
    "#class 12\n",
    "\n",
    "#Abstract Methods\n",
    "#Abstract Classes \n",
    "#Interface \n",
    "#Public, Private and Protected members\n",
    "\n",
    "from abc import *\n",
    "#abstract base class\n",
    "#Abstact means hiding something, not complete\n",
    "class Vehicle:\n",
    "    @abstractmethod\n",
    "    def get_no_wheel(self):\n",
    "        pass\n",
    "    #Where we dont know implementation but still declaring it as a part of the code\n",
    "    \n",
    "class Veg:\n",
    "    @abstractmethod\n",
    "    def get_price(self):\n",
    "        pass\n",
    "\n",
    "#Abstact class - Implementation of the class not complete, Partial implementaiton is known as abstact class. \n",
    "class Vehicle(ABC):\n",
    "    @abstractmethod\n",
    "    def get_no_wheels(self): \n",
    "        pass\n",
    "    \n",
    "v = Vehicle()\n",
    "\n",
    "class Test(ABC):\n",
    "    pass\n",
    "\n",
    "t = Test()\n",
    "t"
   ]
  },
  {
   "cell_type": "code",
   "execution_count": null,
   "metadata": {},
   "outputs": [],
   "source": [
    "\n",
    "\n",
    "#Abstact class - Implementation of the class not complete, Partial implementaiton is known as abstact class. \n",
    "class Vehicle:\n",
    "    @abstractmethod\n",
    "    def get_no_wheels(self): \n",
    "        print('Hello')\n",
    "    \n",
    "v = Vehicle()\n",
    "\n",
    "#Abstact class - Implementation of the class not complete, Partial implementaiton is known as abstact class. \n",
    "class Vehicle:\n",
    "    @abstractmethod\n",
    "    def get_no_wheels(self): \n",
    "        pass\n",
    "    \n",
    "v = Vehicle()\n",
    "\n",
    "#Abstact class - Implementation of the class not complete, Partial implementaiton is known as abstact class. \n",
    "class Vehicle(ABC):\n",
    "    \n",
    "    def get_no_wheels(self): \n",
    "        pass\n",
    "    \n",
    "v = Vehicle()\n",
    "\n",
    "#Abstract Method - Method having no proper implementation \n",
    "    #How to declare abstractmethod - @abstractmethod decorator\n",
    "    #@abstractmethod decorator present in abc module \n",
    "    #Child classes are responsible to provide the implementation for the parent class abstract method\n",
    "    \n",
    "    \n",
    "#Abstract Class - If implementation of the class is not complete (Partially complete)\n",
    "    #How to declare abstract class - We have to extend ABC Class\n",
    "    #class Test(ABC):\n",
    "    #   pass\n",
    "    \n",
    "    #Test is child and ABC is parent. Test class is Extending ABC class. Hence abstract class \n",
    "    #ABC class present in abc module\n",
    "    \n",
    "#Abstract class vs Abstract Method\n",
    "    #Abstract class contains any number of abstract methods including 0.\n",
    "    #Abstract class can contain normal methods as well\n",
    "    \n",
    "    \n",
    "#When object creation is not possible? \n",
    "    # If class is abstract and it contains atleast one abstract method then only method will not instantiate \n",
    "    # However, object creation is possbile \n",
    "        #Class is not abstract but contains one abstract method - Object creation is possible \n",
    "        # Class is abstract but it does not contain any abstract method\n",
    "\n",
    "class Vehicle(ABC):\n",
    "    @abstractmethod\n",
    "    def get_no_wheels(self):\n",
    "        pass\n",
    "    \n",
    "class Bus(Vehicle):\n",
    "    pass\n",
    "b = Bus()\n",
    "\n",
    "class Vehicle(ABC):\n",
    "    @abstractmethod\n",
    "    def get_no_wheels(self):\n",
    "        pass\n",
    "    \n",
    "    \n",
    "class Bus(Vehicle):\n",
    "    def get_no_wheels(self):\n",
    "        return 10\n",
    "    \n",
    "class Auto(Vehicle):\n",
    "    def get_no_wheels(self):\n",
    "        return 4\n",
    "    \n",
    "b = Bus()\n",
    "b.get_no_wheels()\n",
    "a=Auto()\n",
    "a.get_no_wheels()\n",
    "#What is the advantage of abstractmethod? \n",
    "#Compulsory child have to implement then only child will get the property of the parent\n",
    "\n",
    "class P(ABC):\n",
    "    @abstractmethod\n",
    "    def m1(self):\n",
    "        pass\n",
    "    @abstractmethod\n",
    "    def m2(self):\n",
    "        pass\n",
    "    \n",
    "class C(P):\n",
    "    def m1(self):\n",
    "        print('Implementing M1 method')\n",
    "        \n",
    "c = C()\n",
    "\n",
    "class P(ABC):\n",
    "    @abstractmethod\n",
    "    def m1(self):\n",
    "        pass\n",
    "    @abstractmethod\n",
    "    def m2(self):\n",
    "        pass\n",
    "    \n",
    "class C(P):\n",
    "    def m1(self):\n",
    "        print('Implementing M1 method')\n",
    "    def m2(self):\n",
    "        print('Implementing M2 method')\n",
    "        \n",
    "c = C()\n",
    "c.m1()\n",
    "c.m2()\n",
    "\n",
    "class P(ABC):\n",
    "    @abstractmethod\n",
    "    def m1(self):\n",
    "        pass\n",
    "    @abstractmethod\n",
    "    def m2(self):\n",
    "        pass\n",
    "    \n",
    "class C(P):\n",
    "    def m1(self):\n",
    "        print('Implementation of M1')\n",
    "        \n",
    "class CC(C):\n",
    "    def m2(self):\n",
    "        print('Implementation of M2')\n",
    "        \n",
    "#c = C()\n",
    "c = CC()\n",
    "c.m1()\n",
    "c.m2()\n",
    "\n",
    "class P(ABC):\n",
    "    @abstractmethod\n",
    "    def m1(self): pass\n",
    "    def m2(self):\n",
    "        print('Implementation of M2')\n",
    "class C(P):\n",
    "    def m1(self):\n",
    "        print('Implementation of M1')\n",
    "c = C()\n",
    "c.m1()\n",
    "c.m2()\n",
    "\n",
    "#Interface - An abstract class which contains only abstract methods\n",
    "\n",
    "from abc import *\n",
    "class Interf(ABC):\n",
    "    @abstractmethod\n",
    "    def patients(self):\n",
    "        pass\n",
    "    def OPD(self):\n",
    "        pass\n",
    "    def Billing(self):\n",
    "        pass\n",
    "    def Operations(self):\n",
    "        pass\n",
    "#Not an interface \n",
    "from abc import *\n",
    "class Interf(ABC):\n",
    "    @abstractmethod\n",
    "    def patients(self):\n",
    "        pass\n",
    "    @abstractmethod\n",
    "    def OPD(self):\n",
    "        pass\n",
    "    @abstractmethod\n",
    "    def Billing(self):\n",
    "        pass\n",
    "    @abstractmethod\n",
    "    def Operations(self):\n",
    "        pass\n",
    "#Its an interface\n",
    "\n",
    "#When to go for interface vs Abstract class vs Concrete class\n",
    "# If we dont know any implemenation only requirement specification - Interface\n",
    "# If we are talking about implementation but not completely - Abstract class\n",
    "# If we are talking about implementation completely and ready to provide all the services - Concrete class\n",
    "\n",
    "#Public , Private , Protected Members\n",
    "class Test:\n",
    "    x = 10\n",
    "    def __init__(self):\n",
    "        self.y = 20\n",
    "        \n",
    "t = Test()\n",
    "print(t.x)\n",
    "print(t.y)\n",
    "\n",
    "class Test:\n",
    "    _x = 10\n",
    "    def __init__(self):\n",
    "        self._y = 20\n",
    "        \n",
    "t = Test()\n",
    "print(t._x)\n",
    "print(t._y)\n",
    "\n",
    "class Test:\n",
    "    __x = 10\n",
    "    def __init__(self):\n",
    "        self.__y = 20\n",
    "        \n",
    "t = Test()\n",
    "print(t.__x)\n",
    "print(t.__y)\n",
    "\n",
    "print(t.__dict__)\n",
    "\n",
    "print(t._Test__y)\n",
    "\n",
    "print(Test._Test__x)"
   ]
  },
  {
   "cell_type": "code",
   "execution_count": null,
   "metadata": {},
   "outputs": [],
   "source": [
    "#class final\n",
    "# -*- coding: utf-8 -*-\n",
    "\"\"\"OOPs Str - Repr.ipynb\n",
    "\n",
    "Automatically generated by Colaboratory.\n",
    "\n",
    "Original file is located at\n",
    "    https://colab.research.google.com/github/dsrahul08/PythonProgramming/blob/master/Codes/OOPs/OOPs%20Str%20-%20Repr.ipynb\n",
    "\"\"\"\n",
    "\n",
    "class Student:\n",
    "    def __init__(self,name,rollno):\n",
    "        self.name = name\n",
    "        self.rollno = rollno\n",
    "        \n",
    "s1 = Student('Rahul',100)\n",
    "print(s1)\n",
    "\n",
    "class Student:\n",
    "    def __init__(self,name,rollno):\n",
    "        self.name = name\n",
    "        self.rollno = rollno\n",
    "    def __str__(self):\n",
    "        return 'This is the student name {} and rollno: {}'.format(self.name, self.rollno)\n",
    "        \n",
    "s1 = Student('Rahul',100)\n",
    "print(s1)\n",
    "#print(s1.__str__()) internally called\n",
    "#Object to string represent - __str__\n",
    "\n",
    "#__str__() vs __repr__() - Diff between\n",
    "    #Obj to str - Get string representation \n",
    "    #Obj to str and str to obj - Get string representation and we can go to obj representation as well \n",
    "import datetime\n",
    "today = datetime.datetime.now()\n",
    "s = str(today)\n",
    "print(s)\n",
    "d = eval(s)\n",
    "\n",
    "#__str__() vs __repr__() - Diff between\n",
    "    #Obj to str - Get string representation \n",
    "    #Obj to str and str to obj - Get string representation and we can go to obj representation as well \n",
    "import datetime\n",
    "today = datetime.datetime.now()\n",
    "s = repr(today)\n",
    "print(s)\n",
    "print(type(s))\n",
    "d = eval(s)\n",
    "print(d)\n",
    "print(type(d))\n",
    "\n",
    "class Account:\n",
    "    def __init__(self, name, balance, min_balance):\n",
    "        self.name = name \n",
    "        self.balance = balance \n",
    "        self.min_balance = min_balance\n",
    "        \n",
    "    def deposit(self,amount):\n",
    "        self.balance = self.balance + amount\n",
    "        \n",
    "    def withdraw(self,amount):\n",
    "        if self.balance - amount >= self.min_balance:\n",
    "            self.balance = self.balance - amount\n",
    "        else:\n",
    "            print('Insufficient funds in the account')\n",
    "            \n",
    "    def print_statement(self):\n",
    "        print('Account Balance:', self.balance)\n",
    "        \n",
    "class SavingsAccount(Account):\n",
    "    def __init__(self,name,balance):\n",
    "        super().__init__(name, balance, min_balance=0)\n",
    "    \n",
    "    def __str__(self):\n",
    "        return \"{}'s Saving Account Balance:{}\".format(self.name, self.balance)\n",
    "    \n",
    "class CurrentAccount(Account):\n",
    "    def __init__(self,name,balance):\n",
    "        super().__init__(name, balance, min_balance=-10000)\n",
    "    \n",
    "    def __str__(self):\n",
    "        return \"{}'s Current Account Balance:{}\".format(self.name, self.balance)\n",
    "c = CurrentAccount('Rahul', 10)     \n",
    "print(c)\n",
    "c.deposit(10000)\n",
    "print(c)\n",
    "s = SavingsAccount('Rahul',-1)\n",
    "print(s)\n",
    "s.withdraw(10000)\n",
    "print(s)\n",
    "\n",
    "#Bank Application\n",
    "import sys\n",
    "class Customer:\n",
    "    '''Customer class with bank operations'''\n",
    "    bankname = 'RahulBank'\n",
    "    \n",
    "    def __init__(self,name,balance=0.0):\n",
    "        self.name = name\n",
    "        self.balance = balance\n",
    "        \n",
    "    def deposit(self, amount):\n",
    "        self.balance = self.balance + amount\n",
    "        print('The balance After Deposit:', self.balance)\n",
    "        \n",
    "    def withdraw(self,amount):\n",
    "        if amount > self.balance:\n",
    "            print('Insufficient funds, cannot perform this operation')\n",
    "            sys.exit()\n",
    "        self.balance = self.balance - amount\n",
    "        print('The balance after withdraw:', self.balance)\n",
    "        \n",
    "print('Welcome to ', Customer.bankname)\n",
    "name = input('Enter Your Name')\n",
    "c = Customer(name)\n",
    "while True:\n",
    "    print('d-Deposit \\n w-Withdraw \\n e-Exit')\n",
    "    option = input('Choose your option').lower()\n",
    "    if option =='d':\n",
    "        amount = float(input('Enter amount to deposit'))\n",
    "        c.deposit(amount)\n",
    "    elif option =='w':\n",
    "        amount = float(input('Enter amount to withdraw'))\n",
    "        c.withdraw(amount)\n",
    "    elif option == 'e':\n",
    "        print('Thank you for banking with us')\n",
    "        sys.exit()\n",
    "    else:\n",
    "        print('Invalid option... Please choose valid option')\n",
    "\n",
    "#Bank Application\n",
    "import sys\n",
    "class Customer:\n",
    "    '''Customer class with bank operations'''\n",
    "    bankname = 'RahulBank'\n",
    "    \n",
    "    def __init__(self,name,balance=0.0):\n",
    "        self.name = name\n",
    "        self.balance = balance\n",
    "        \n",
    "    def deposit(self, amount):\n",
    "        self.balance = self.balance + amount\n",
    "        print('The balance After Deposit:', self.balance)\n",
    "        \n",
    "    def withdraw(self,amount):\n",
    "        if amount > self.balance:\n",
    "            print('Insufficient funds, cannot perform this operation')\n",
    "            sys.exit()\n",
    "        self.balance = self.balance - amount\n",
    "        print('The balance after withdraw:', self.balance)\n",
    "        \n",
    "print('Welcome to ', Customer.bankname)\n",
    "name = input('Enter Your Name')\n",
    "c = Customer(name)\n",
    "while True:\n",
    "    print('d-Deposit \\n w-Withdraw \\n e-Exit')\n",
    "    option = input('Choose your option').lower()\n",
    "    if option =='d':\n",
    "        amount = float(input('Enter amount to deposit'))\n",
    "        c.deposit(amount)\n",
    "    elif option =='w':\n",
    "        while True:\n",
    "            amount = float(input('Enter amount to withdraw'))\n",
    "            if amount<100:\n",
    "                print('Amount should be within the limit')\n",
    "            else:\n",
    "                break\n",
    "        c.withdraw(amount)\n",
    "    elif option == 'e':\n",
    "        print('Thank you for banking with us')\n",
    "        sys.exit()\n",
    "    else:\n",
    "        print('Invalid option... Please choose valid option')\n",
    "\n",
    "#Bank Application\n",
    "import sys\n",
    "class Customer:\n",
    "    '''Customer class with bank operations'''\n",
    "    bankname = 'RahulBank'\n",
    "    \n",
    "    def __init__(self,name,balance=0.0):\n",
    "        self.name = name\n",
    "        self.balance = balance\n",
    "        \n",
    "    def deposit(self, amount):\n",
    "        self.balance = self.balance + amount\n",
    "        print('The balance After Deposit:', self.balance)\n",
    "        \n",
    "    def withdraw(self,amount):\n",
    "        if amount > self.balance:\n",
    "            print('Insufficient funds, cannot perform this operation')\n",
    "            sys.exit()\n",
    "        self.balance = self.balance - amount\n",
    "        print('The balance after withdraw:', self.balance)\n",
    "        \n",
    "print('Welcome to ', Customer.bankname)\n",
    "name = input('Enter Your Name')\n",
    "c = Customer(name)\n",
    "while True:\n",
    "    print('d-Deposit \\n w-Withdraw \\n e-Exit')\n",
    "    option = input('Choose your option').lower()\n",
    "    if option =='d':\n",
    "        amount = float(input('Enter amount to deposit'))\n",
    "        c.deposit(amount)\n",
    "    elif option =='w':\n",
    "        while True:\n",
    "            amount = float(input('Enter amount to withdraw'))\n",
    "            if not(amount>0 and amount%100==0):\n",
    "                print('Amount should be multiples of 100')\n",
    "            else:\n",
    "                break\n",
    "        c.withdraw(amount)\n",
    "    elif option == 'e':\n",
    "        print('Thank you for banking with us')\n",
    "        sys.exit()\n",
    "    else:\n",
    "        print('Invalid option... Please choose valid option')"
   ]
  }
 ],
 "metadata": {
  "kernelspec": {
   "display_name": "Python 3",
   "language": "python",
   "name": "python3"
  },
  "language_info": {
   "codemirror_mode": {
    "name": "ipython",
    "version": 3
   },
   "file_extension": ".py",
   "mimetype": "text/x-python",
   "name": "python",
   "nbconvert_exporter": "python",
   "pygments_lexer": "ipython3",
   "version": "3.8.5"
  }
 },
 "nbformat": 4,
 "nbformat_minor": 4
}
