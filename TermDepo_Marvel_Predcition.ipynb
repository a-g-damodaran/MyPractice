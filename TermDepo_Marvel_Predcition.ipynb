{
 "cells": [
  {
   "cell_type": "markdown",
   "metadata": {
    "id": "QNVH-YvMcYIy"
   },
   "source": [
    "## Predictive Analytics\n",
    "## Module 2 – Probability\n",
    "EnCare Bank Demo on Marginal and Joint Probability\n",
    "Tasks to be performed \n",
    "1. Find the probability that a customer will take a term deposit.\n",
    "2. Find the probability that a customer has at least 9 years of education.\n",
    "3. Find the probability that a customer is a technician.\n",
    "\n",
    "4. Find the probability for a male customer who(and)  has already taken a term deposit.\n",
    "5. Find the probability that a customer is married and has a housing loan.\n",
    "6. Find the probability thta a customer has a university degree and no loan.\n",
    "\n",
    "7. Given that a customer has taken the term deposit find the probability that she is a female.\n",
    "8. Given that the customer has defaulted in the past, find the probability that she has a blue collar job.\n",
    "Tasks to be performed "
   ]
  },
  {
   "cell_type": "code",
   "execution_count": null,
   "metadata": {
    "id": "m0WeAgBpcYI8"
   },
   "outputs": [],
   "source": [
    "import pandas as pd\n",
    "import numpy as np\n",
    "import seaborn as sns"
   ]
  },
  {
   "cell_type": "code",
   "execution_count": null,
   "metadata": {
    "id": "hfOmE1FDcYI9",
    "outputId": "37a304b0-f365-4805-8913-8af80da63c08"
   },
   "outputs": [
    {
     "data": {
      "text/html": [
       "<div>\n",
       "<style scoped>\n",
       "    .dataframe tbody tr th:only-of-type {\n",
       "        vertical-align: middle;\n",
       "    }\n",
       "\n",
       "    .dataframe tbody tr th {\n",
       "        vertical-align: top;\n",
       "    }\n",
       "\n",
       "    .dataframe thead th {\n",
       "        text-align: right;\n",
       "    }\n",
       "</style>\n",
       "<table border=\"1\" class=\"dataframe\">\n",
       "  <thead>\n",
       "    <tr style=\"text-align: right;\">\n",
       "      <th></th>\n",
       "      <th>gender</th>\n",
       "      <th>age</th>\n",
       "      <th>job</th>\n",
       "      <th>marital</th>\n",
       "      <th>education</th>\n",
       "      <th>default</th>\n",
       "      <th>housing</th>\n",
       "      <th>loan</th>\n",
       "      <th>contact</th>\n",
       "      <th>term_deposit</th>\n",
       "    </tr>\n",
       "  </thead>\n",
       "  <tbody>\n",
       "    <tr>\n",
       "      <th>0</th>\n",
       "      <td>female</td>\n",
       "      <td>56</td>\n",
       "      <td>housemaid</td>\n",
       "      <td>married</td>\n",
       "      <td>basic.4y</td>\n",
       "      <td>no</td>\n",
       "      <td>no</td>\n",
       "      <td>no</td>\n",
       "      <td>telephone</td>\n",
       "      <td>no</td>\n",
       "    </tr>\n",
       "    <tr>\n",
       "      <th>1</th>\n",
       "      <td>male</td>\n",
       "      <td>57</td>\n",
       "      <td>services</td>\n",
       "      <td>married</td>\n",
       "      <td>high.school</td>\n",
       "      <td>yes</td>\n",
       "      <td>no</td>\n",
       "      <td>no</td>\n",
       "      <td>telephone</td>\n",
       "      <td>no</td>\n",
       "    </tr>\n",
       "    <tr>\n",
       "      <th>2</th>\n",
       "      <td>female</td>\n",
       "      <td>37</td>\n",
       "      <td>services</td>\n",
       "      <td>married</td>\n",
       "      <td>high.school</td>\n",
       "      <td>no</td>\n",
       "      <td>yes</td>\n",
       "      <td>no</td>\n",
       "      <td>telephone</td>\n",
       "      <td>no</td>\n",
       "    </tr>\n",
       "    <tr>\n",
       "      <th>3</th>\n",
       "      <td>female</td>\n",
       "      <td>40</td>\n",
       "      <td>admin.</td>\n",
       "      <td>married</td>\n",
       "      <td>basic.6y</td>\n",
       "      <td>no</td>\n",
       "      <td>no</td>\n",
       "      <td>no</td>\n",
       "      <td>telephone</td>\n",
       "      <td>no</td>\n",
       "    </tr>\n",
       "    <tr>\n",
       "      <th>4</th>\n",
       "      <td>female</td>\n",
       "      <td>56</td>\n",
       "      <td>services</td>\n",
       "      <td>married</td>\n",
       "      <td>high.school</td>\n",
       "      <td>no</td>\n",
       "      <td>no</td>\n",
       "      <td>yes</td>\n",
       "      <td>telephone</td>\n",
       "      <td>no</td>\n",
       "    </tr>\n",
       "  </tbody>\n",
       "</table>\n",
       "</div>"
      ],
      "text/plain": [
       "   gender  age        job  marital    education default housing loan  \\\n",
       "0  female   56  housemaid  married     basic.4y      no      no   no   \n",
       "1    male   57   services  married  high.school     yes      no   no   \n",
       "2  female   37   services  married  high.school      no     yes   no   \n",
       "3  female   40     admin.  married     basic.6y      no      no   no   \n",
       "4  female   56   services  married  high.school      no      no  yes   \n",
       "\n",
       "     contact term_deposit  \n",
       "0  telephone           no  \n",
       "1  telephone           no  \n",
       "2  telephone           no  \n",
       "3  telephone           no  \n",
       "4  telephone           no  "
      ]
     },
     "execution_count": 57,
     "metadata": {
      "tags": []
     },
     "output_type": "execute_result"
    }
   ],
   "source": [
    "df=pd.read_csv('term_deposit.csv', sep=',')\n",
    "df.head()"
   ]
  },
  {
   "cell_type": "markdown",
   "metadata": {
    "id": "HpAz2GOjcYI_"
   },
   "source": [
    "## Marginal Probability "
   ]
  },
  {
   "cell_type": "markdown",
   "metadata": {
    "id": "jfcN7xP6cYI_"
   },
   "source": [
    "1. Find the probability that a customer will take a term deposit.\n",
    "2. Find the probability that a customer has at least 9 years of education.\n",
    "3. Find the probability that a customer is a technician."
   ]
  },
  {
   "cell_type": "code",
   "execution_count": null,
   "metadata": {
    "id": "DhSS5ewtcYJA",
    "outputId": "fd0cebcb-8869-4dd5-ffea-a499ab7946c5"
   },
   "outputs": [
    {
     "name": "stdout",
     "output_type": "stream",
     "text": [
      "probbility that customer will take a term deposit is 0.113\n"
     ]
    }
   ],
   "source": [
    "#1.Customer will take a term deposit\n",
    "term=df.term_deposit.value_counts()\n",
    "e=4640\n",
    "s=df.shape[0]\n",
    "prob=round(e/s,3)\n",
    "print(f'probbility that customer will take a term deposit is {prob}')"
   ]
  },
  {
   "cell_type": "code",
   "execution_count": null,
   "metadata": {
    "id": "OugWw6WLcYJA",
    "outputId": "29d04447-bcf9-47b0-ec1f-ee568dddc815"
   },
   "outputs": [
    {
     "name": "stdout",
     "output_type": "stream",
     "text": [
      "the probability that a customer has at least 9 years of education is 0.801\n"
     ]
    }
   ],
   "source": [
    "#2. Find the probability that a customer has at least 9 years of education.\n",
    "edu=df.education.value_counts()\n",
    "e=edu['professional.course']+edu['basic.9y']+edu['high.school']+edu['university.degree']\n",
    "n=df.shape[0]\n",
    "prob=round(e/n,3)\n",
    "print(f'the probability that a customer has at least 9 years of education is {prob}')\n"
   ]
  },
  {
   "cell_type": "code",
   "execution_count": null,
   "metadata": {
    "id": "xYRuU6D3cYJB",
    "outputId": "b9988200-34ee-4e36-e4b8-1cd53ea92dc6"
   },
   "outputs": [
    {
     "name": "stdout",
     "output_type": "stream",
     "text": [
      "the probability that a customer is a technician is 0.164\n"
     ]
    }
   ],
   "source": [
    "#Find the probability that a customer is a technician\n",
    "df.job.value_counts()\n",
    "e=6743\n",
    "s=df.shape[0]\n",
    "prob=round(e/s,3)\n",
    "print(f'the probability that a customer is a technician is {prob}')"
   ]
  },
  {
   "cell_type": "markdown",
   "metadata": {
    "id": "LWePxQ9DcYJB"
   },
   "source": [
    "## Joint Probabilities"
   ]
  },
  {
   "cell_type": "markdown",
   "metadata": {
    "id": "XEN6tUvkcYJB"
   },
   "source": [
    "4. Find the probability for a male customer who has already taken a term deposit.\n",
    "5. Find the probability that a customer is married and has a housing loan.\n",
    "6. Find the probability thta a customer has a university degree and no loan."
   ]
  },
  {
   "cell_type": "code",
   "execution_count": null,
   "metadata": {
    "id": "ha4yjf5jcYJC",
    "outputId": "b0e50457-27be-4611-cc85-9d880673f837"
   },
   "outputs": [
    {
     "name": "stdout",
     "output_type": "stream",
     "text": [
      "the probability for a male customer who has already taken a term deposit is 0.055\n"
     ]
    }
   ],
   "source": [
    "#4.Find the probability for a male customer who has already taken a term deposit.\n",
    "pd.crosstab(df.gender,df.term_deposit, margins=True)\n",
    "e=2284\n",
    "s=df.shape[0]\n",
    "prob=round(e/s,3)\n",
    "print(f'the probability for a male customer who has already taken a term deposit is {prob}')"
   ]
  },
  {
   "cell_type": "code",
   "execution_count": null,
   "metadata": {
    "id": "ZavIR1-ucYJC",
    "outputId": "cbaf2246-1f59-4079-ac7a-f6ca55f49992"
   },
   "outputs": [
    {
     "name": "stdout",
     "output_type": "stream",
     "text": [
      "the probability that a customer is married and has a housing loan is 0.106\n"
     ]
    }
   ],
   "source": [
    "#Find the probability that a customer is married and has a housing loan.\n",
    "pd.crosstab(df.marital,df.loan, margins=True)\n",
    "e=4361\n",
    "s=41188\n",
    "prob=round(e/s,3)\n",
    "print(f'the probability that a customer is married and has a housing loan is {prob}')"
   ]
  },
  {
   "cell_type": "code",
   "execution_count": null,
   "metadata": {
    "id": "6OlCZr-lcYJD",
    "outputId": "a3fb0ede-5ed4-4143-bd6f-150879398905"
   },
   "outputs": [
    {
     "name": "stdout",
     "output_type": "stream",
     "text": [
      "the probability that a customer has a university degree and no loan is 0.242\n"
     ]
    }
   ],
   "source": [
    "# 6. Find the probability thta a customer has a university degree and no loan.\n",
    "pd.crosstab(df.education,df.loan, margins=True)\n",
    "e=len(df[(df.education=='university.degree') & (df.loan=='no')])\n",
    "s=df.shape[0]\n",
    "prob=round(e/s,3)\n",
    "print(f'the probability that a customer has a university degree and no loan is {prob}')"
   ]
  },
  {
   "cell_type": "markdown",
   "metadata": {
    "id": "2UDU372qcYJD"
   },
   "source": [
    "# Conditional probabilities"
   ]
  },
  {
   "cell_type": "markdown",
   "metadata": {
    "id": "QJJJn51tcYJE"
   },
   "source": [
    "7. Given that a customer has taken the term deposit find the probability that she is a female.\n",
    "8. Given that the customer has defaulted in the past, find the probability that she has a blue collar job."
   ]
  },
  {
   "cell_type": "code",
   "execution_count": null,
   "metadata": {
    "id": "zNjFIJ_ncYJE",
    "outputId": "a545a5d6-1020-4212-efd3-58388dc972a1"
   },
   "outputs": [
    {
     "data": {
      "text/plain": [
       "0.5077586206896552"
      ]
     },
     "execution_count": 66,
     "metadata": {
      "tags": []
     },
     "output_type": "execute_result"
    }
   ],
   "source": [
    "#7. Given that a customer has taken the term deposit find the probability that she is a female.\n",
    "pd.crosstab(df.term_deposit, df.gender, margins=True)\n",
    "e=2356\n",
    "s=4640\n",
    "prob=e/s\n",
    "prob"
   ]
  },
  {
   "cell_type": "code",
   "execution_count": null,
   "metadata": {
    "id": "8gqKxktqcYJE",
    "outputId": "61866ec9-09cd-4392-8f6c-ce0c23c75b4b"
   },
   "outputs": [
    {
     "data": {
      "text/plain": [
       "admin.           10422\n",
       "blue-collar       9254\n",
       "technician        6743\n",
       "services          3969\n",
       "management        2924\n",
       "retired           1720\n",
       "entrepreneur      1456\n",
       "self-employed     1421\n",
       "housemaid         1060\n",
       "unemployed        1014\n",
       "student            875\n",
       "unknown            330\n",
       "Name: job, dtype: int64"
      ]
     },
     "execution_count": 67,
     "metadata": {
      "tags": []
     },
     "output_type": "execute_result"
    }
   ],
   "source": [
    "df.job.value_counts()"
   ]
  },
  {
   "cell_type": "code",
   "execution_count": null,
   "metadata": {
    "id": "8lfK7QCdcYJF",
    "outputId": "123b3f88-27fa-4abb-fbbe-b8bc82c71259"
   },
   "outputs": [
    {
     "name": "stdout",
     "output_type": "stream",
     "text": [
      " Given that the customer has defaulted in the past,the probability that she has a blue collar job is 0.368\n"
     ]
    }
   ],
   "source": [
    "# Given that the customer has defaulted in the past, find the probability that she has a blue collar job.\n",
    "e=len(df[(df.default=='yes') & (df.job=='blue-collar')])\n",
    "s=len(df[df.default=='yes'])\n",
    "prob=round(e/s,3)\n",
    "print(f' Given that the customer has defaulted in the past,the probability that she has a blue collar job is {prob}')"
   ]
  },
  {
   "cell_type": "markdown",
   "metadata": {
    "id": "RNMSXWyjcYJF"
   },
   "source": [
    "## Predictive Analytics\n",
    "### Module 2 – Probability Part 1\n",
    "In-class Practice Questions "
   ]
  },
  {
   "cell_type": "code",
   "execution_count": null,
   "metadata": {
    "id": "0NMtcC9UcYJF",
    "outputId": "e7d8db0f-b438-450c-bd16-de94bb3d6fbe"
   },
   "outputs": [
    {
     "data": {
      "text/html": [
       "<div>\n",
       "<style scoped>\n",
       "    .dataframe tbody tr th:only-of-type {\n",
       "        vertical-align: middle;\n",
       "    }\n",
       "\n",
       "    .dataframe tbody tr th {\n",
       "        vertical-align: top;\n",
       "    }\n",
       "\n",
       "    .dataframe thead th {\n",
       "        text-align: right;\n",
       "    }\n",
       "</style>\n",
       "<table border=\"1\" class=\"dataframe\">\n",
       "  <thead>\n",
       "    <tr style=\"text-align: right;\">\n",
       "      <th></th>\n",
       "      <th>page_id</th>\n",
       "      <th>name</th>\n",
       "      <th>urlslug</th>\n",
       "      <th>ID</th>\n",
       "      <th>ALIGN</th>\n",
       "      <th>EYE</th>\n",
       "      <th>HAIR</th>\n",
       "      <th>SEX</th>\n",
       "      <th>GSM</th>\n",
       "      <th>ALIVE</th>\n",
       "      <th>APPEARANCES</th>\n",
       "      <th>FIRST APPEARANCE</th>\n",
       "      <th>Year</th>\n",
       "    </tr>\n",
       "  </thead>\n",
       "  <tbody>\n",
       "    <tr>\n",
       "      <th>0</th>\n",
       "      <td>1678</td>\n",
       "      <td>Spider-Man (Peter Parker)</td>\n",
       "      <td>\\/Spider-Man_(Peter_Parker)</td>\n",
       "      <td>Secret Identity</td>\n",
       "      <td>Good Characters</td>\n",
       "      <td>Hazel Eyes</td>\n",
       "      <td>Brown Hair</td>\n",
       "      <td>Male Characters</td>\n",
       "      <td>NaN</td>\n",
       "      <td>Living Characters</td>\n",
       "      <td>4043.0</td>\n",
       "      <td>Aug-62</td>\n",
       "      <td>1962.0</td>\n",
       "    </tr>\n",
       "    <tr>\n",
       "      <th>1</th>\n",
       "      <td>7139</td>\n",
       "      <td>Captain America (Steven Rogers)</td>\n",
       "      <td>\\/Captain_America_(Steven_Rogers)</td>\n",
       "      <td>Public Identity</td>\n",
       "      <td>Good Characters</td>\n",
       "      <td>Blue Eyes</td>\n",
       "      <td>White Hair</td>\n",
       "      <td>Male Characters</td>\n",
       "      <td>NaN</td>\n",
       "      <td>Living Characters</td>\n",
       "      <td>3360.0</td>\n",
       "      <td>Mar-41</td>\n",
       "      <td>1941.0</td>\n",
       "    </tr>\n",
       "    <tr>\n",
       "      <th>2</th>\n",
       "      <td>64786</td>\n",
       "      <td>Wolverine (James \\\"Logan\\\" Howlett)</td>\n",
       "      <td>\\/Wolverine_(James_%22Logan%22_Howlett)</td>\n",
       "      <td>Public Identity</td>\n",
       "      <td>Neutral Characters</td>\n",
       "      <td>Blue Eyes</td>\n",
       "      <td>Black Hair</td>\n",
       "      <td>Male Characters</td>\n",
       "      <td>NaN</td>\n",
       "      <td>Living Characters</td>\n",
       "      <td>3061.0</td>\n",
       "      <td>Oct-74</td>\n",
       "      <td>1974.0</td>\n",
       "    </tr>\n",
       "    <tr>\n",
       "      <th>3</th>\n",
       "      <td>1868</td>\n",
       "      <td>Iron Man (Anthony \\\"Tony\\\" Stark)</td>\n",
       "      <td>\\/Iron_Man_(Anthony_%22Tony%22_Stark)</td>\n",
       "      <td>Public Identity</td>\n",
       "      <td>Good Characters</td>\n",
       "      <td>Blue Eyes</td>\n",
       "      <td>Black Hair</td>\n",
       "      <td>Male Characters</td>\n",
       "      <td>NaN</td>\n",
       "      <td>Living Characters</td>\n",
       "      <td>2961.0</td>\n",
       "      <td>Mar-63</td>\n",
       "      <td>1963.0</td>\n",
       "    </tr>\n",
       "    <tr>\n",
       "      <th>4</th>\n",
       "      <td>2460</td>\n",
       "      <td>Thor (Thor Odinson)</td>\n",
       "      <td>\\/Thor_(Thor_Odinson)</td>\n",
       "      <td>No Dual Identity</td>\n",
       "      <td>Good Characters</td>\n",
       "      <td>Blue Eyes</td>\n",
       "      <td>Blond Hair</td>\n",
       "      <td>Male Characters</td>\n",
       "      <td>NaN</td>\n",
       "      <td>Living Characters</td>\n",
       "      <td>2258.0</td>\n",
       "      <td>Nov-50</td>\n",
       "      <td>1950.0</td>\n",
       "    </tr>\n",
       "  </tbody>\n",
       "</table>\n",
       "</div>"
      ],
      "text/plain": [
       "   page_id                                 name  \\\n",
       "0     1678            Spider-Man (Peter Parker)   \n",
       "1     7139      Captain America (Steven Rogers)   \n",
       "2    64786  Wolverine (James \\\"Logan\\\" Howlett)   \n",
       "3     1868    Iron Man (Anthony \\\"Tony\\\" Stark)   \n",
       "4     2460                  Thor (Thor Odinson)   \n",
       "\n",
       "                                   urlslug                ID  \\\n",
       "0              \\/Spider-Man_(Peter_Parker)   Secret Identity   \n",
       "1        \\/Captain_America_(Steven_Rogers)   Public Identity   \n",
       "2  \\/Wolverine_(James_%22Logan%22_Howlett)   Public Identity   \n",
       "3    \\/Iron_Man_(Anthony_%22Tony%22_Stark)   Public Identity   \n",
       "4                    \\/Thor_(Thor_Odinson)  No Dual Identity   \n",
       "\n",
       "                ALIGN         EYE        HAIR              SEX  GSM  \\\n",
       "0     Good Characters  Hazel Eyes  Brown Hair  Male Characters  NaN   \n",
       "1     Good Characters   Blue Eyes  White Hair  Male Characters  NaN   \n",
       "2  Neutral Characters   Blue Eyes  Black Hair  Male Characters  NaN   \n",
       "3     Good Characters   Blue Eyes  Black Hair  Male Characters  NaN   \n",
       "4     Good Characters   Blue Eyes  Blond Hair  Male Characters  NaN   \n",
       "\n",
       "               ALIVE  APPEARANCES FIRST APPEARANCE    Year  \n",
       "0  Living Characters       4043.0           Aug-62  1962.0  \n",
       "1  Living Characters       3360.0           Mar-41  1941.0  \n",
       "2  Living Characters       3061.0           Oct-74  1974.0  \n",
       "3  Living Characters       2961.0           Mar-63  1963.0  \n",
       "4  Living Characters       2258.0           Nov-50  1950.0  "
      ]
     },
     "execution_count": 74,
     "metadata": {
      "tags": []
     },
     "output_type": "execute_result"
    }
   ],
   "source": [
    "df = pd.read_csv('marveldata.csv')\n",
    "df.head()"
   ]
  },
  {
   "cell_type": "markdown",
   "metadata": {
    "id": "-Sn9BTF8cYJG"
   },
   "source": [
    "1. Calculate total number of character counts\n",
    "2. Display columns SEX, EYE, HAIR\n",
    "3. Calculate total number of characters according to gender\n",
    "4. Calculate the probability of a character being male\n",
    "5. Calculate probability of character being female  with red hair i.e., joint probability. Assume the events are independent.\n",
    "9. Calculate probability of character being female and has blue eyes i.e., joint probability\n",
    "10. Calculate joint probability in terms of percentage"
   ]
  },
  {
   "cell_type": "code",
   "execution_count": null,
   "metadata": {
    "id": "yJyV-i5ecYJG",
    "outputId": "d0e20fd4-95cf-4a8a-8faa-9c003e99cf9f"
   },
   "outputs": [
    {
     "data": {
      "text/plain": [
       "(16376, 13)"
      ]
     },
     "execution_count": 75,
     "metadata": {
      "tags": []
     },
     "output_type": "execute_result"
    }
   ],
   "source": [
    "df.shape"
   ]
  },
  {
   "cell_type": "code",
   "execution_count": null,
   "metadata": {
    "id": "3ePdC-eJcYJH",
    "outputId": "ddba482c-7231-489f-9df3-28b268e945c5"
   },
   "outputs": [
    {
     "data": {
      "text/plain": [
       "16376"
      ]
     },
     "execution_count": 76,
     "metadata": {
      "tags": []
     },
     "output_type": "execute_result"
    }
   ],
   "source": [
    "#1. Calculate total number of character counts\n",
    "n=len(df.name)\n",
    "n"
   ]
  },
  {
   "cell_type": "code",
   "execution_count": null,
   "metadata": {
    "id": "z27tLIM9cYJH",
    "outputId": "e279ae47-2f8d-4ecc-b60e-40492aa6fc45"
   },
   "outputs": [
    {
     "data": {
      "text/html": [
       "<div>\n",
       "<style scoped>\n",
       "    .dataframe tbody tr th:only-of-type {\n",
       "        vertical-align: middle;\n",
       "    }\n",
       "\n",
       "    .dataframe tbody tr th {\n",
       "        vertical-align: top;\n",
       "    }\n",
       "\n",
       "    .dataframe thead th {\n",
       "        text-align: right;\n",
       "    }\n",
       "</style>\n",
       "<table border=\"1\" class=\"dataframe\">\n",
       "  <thead>\n",
       "    <tr style=\"text-align: right;\">\n",
       "      <th></th>\n",
       "      <th>SEX</th>\n",
       "      <th>EYE</th>\n",
       "      <th>HAIR</th>\n",
       "    </tr>\n",
       "  </thead>\n",
       "  <tbody>\n",
       "    <tr>\n",
       "      <th>0</th>\n",
       "      <td>Male Characters</td>\n",
       "      <td>Hazel Eyes</td>\n",
       "      <td>Brown Hair</td>\n",
       "    </tr>\n",
       "    <tr>\n",
       "      <th>1</th>\n",
       "      <td>Male Characters</td>\n",
       "      <td>Blue Eyes</td>\n",
       "      <td>White Hair</td>\n",
       "    </tr>\n",
       "    <tr>\n",
       "      <th>2</th>\n",
       "      <td>Male Characters</td>\n",
       "      <td>Blue Eyes</td>\n",
       "      <td>Black Hair</td>\n",
       "    </tr>\n",
       "    <tr>\n",
       "      <th>3</th>\n",
       "      <td>Male Characters</td>\n",
       "      <td>Blue Eyes</td>\n",
       "      <td>Black Hair</td>\n",
       "    </tr>\n",
       "    <tr>\n",
       "      <th>4</th>\n",
       "      <td>Male Characters</td>\n",
       "      <td>Blue Eyes</td>\n",
       "      <td>Blond Hair</td>\n",
       "    </tr>\n",
       "    <tr>\n",
       "      <th>...</th>\n",
       "      <td>...</td>\n",
       "      <td>...</td>\n",
       "      <td>...</td>\n",
       "    </tr>\n",
       "    <tr>\n",
       "      <th>16371</th>\n",
       "      <td>Male Characters</td>\n",
       "      <td>Green Eyes</td>\n",
       "      <td>No Hair</td>\n",
       "    </tr>\n",
       "    <tr>\n",
       "      <th>16372</th>\n",
       "      <td>Male Characters</td>\n",
       "      <td>Blue Eyes</td>\n",
       "      <td>Bald</td>\n",
       "    </tr>\n",
       "    <tr>\n",
       "      <th>16373</th>\n",
       "      <td>Male Characters</td>\n",
       "      <td>Black Eyes</td>\n",
       "      <td>Bald</td>\n",
       "    </tr>\n",
       "    <tr>\n",
       "      <th>16374</th>\n",
       "      <td>Male Characters</td>\n",
       "      <td>NaN</td>\n",
       "      <td>NaN</td>\n",
       "    </tr>\n",
       "    <tr>\n",
       "      <th>16375</th>\n",
       "      <td>NaN</td>\n",
       "      <td>NaN</td>\n",
       "      <td>NaN</td>\n",
       "    </tr>\n",
       "  </tbody>\n",
       "</table>\n",
       "<p>16376 rows × 3 columns</p>\n",
       "</div>"
      ],
      "text/plain": [
       "                   SEX         EYE        HAIR\n",
       "0      Male Characters  Hazel Eyes  Brown Hair\n",
       "1      Male Characters   Blue Eyes  White Hair\n",
       "2      Male Characters   Blue Eyes  Black Hair\n",
       "3      Male Characters   Blue Eyes  Black Hair\n",
       "4      Male Characters   Blue Eyes  Blond Hair\n",
       "...                ...         ...         ...\n",
       "16371  Male Characters  Green Eyes     No Hair\n",
       "16372  Male Characters   Blue Eyes        Bald\n",
       "16373  Male Characters  Black Eyes        Bald\n",
       "16374  Male Characters         NaN         NaN\n",
       "16375              NaN         NaN         NaN\n",
       "\n",
       "[16376 rows x 3 columns]"
      ]
     },
     "execution_count": 77,
     "metadata": {
      "tags": []
     },
     "output_type": "execute_result"
    }
   ],
   "source": [
    "#2. Display columns SEX, EYE, HAIR\n",
    "features=df[['SEX', 'EYE', 'HAIR']]\n",
    "features"
   ]
  },
  {
   "cell_type": "code",
   "execution_count": null,
   "metadata": {
    "id": "ujQXlj3GcYJH",
    "outputId": "bee36cb7-52eb-4246-a920-73f7d61982e0"
   },
   "outputs": [
    {
     "data": {
      "text/plain": [
       "SEX\n",
       "Agender Characters           45\n",
       "Female Characters          3837\n",
       "Genderfluid Characters        2\n",
       "Male Characters           11638\n",
       "Name: name, dtype: int64"
      ]
     },
     "execution_count": 78,
     "metadata": {
      "tags": []
     },
     "output_type": "execute_result"
    }
   ],
   "source": [
    "# Calculate total number of characters according to gender\n",
    "char=df.groupby(['SEX']).count()['name']\n",
    "char"
   ]
  },
  {
   "cell_type": "code",
   "execution_count": null,
   "metadata": {
    "id": "1qB-plCmcYJI",
    "outputId": "89b25d50-60cd-487b-972c-b448a4830420"
   },
   "outputs": [
    {
     "data": {
      "text/plain": [
       "0.7106741573033708"
      ]
     },
     "execution_count": 79,
     "metadata": {
      "tags": []
     },
     "output_type": "execute_result"
    }
   ],
   "source": [
    "#4. Calculate the probability of a character being male\n",
    "n=df.shape[0]\n",
    "e=char['Male Characters']\n",
    "prob=e/n\n",
    "prob"
   ]
  },
  {
   "cell_type": "code",
   "execution_count": null,
   "metadata": {
    "id": "N8aATJ84cYJI",
    "outputId": "e30abcad-356c-4b39-d5ff-8d4e86a5b606"
   },
   "outputs": [
    {
     "data": {
      "text/plain": [
       "0.887"
      ]
     },
     "execution_count": 82,
     "metadata": {
      "tags": []
     },
     "output_type": "execute_result"
    }
   ],
   "source": [
    "#5. Calculate probability of character being female  with red hair i.e., joint probability. Assume the events are independent\n",
    "char=df.groupby(['SEX']).count()['name']\n",
    "hair=df.groupby(['HAIR']).count()['name']\n",
    "female=char['Female Characters']\n",
    "red=hair['Red Hair']\n",
    "prob_female_with_red_hair=(female/n)*(red/n)\n",
    "round(prob_female_with_red_hair*100,3)"
   ]
  },
  {
   "cell_type": "code",
   "execution_count": null,
   "metadata": {
    "id": "j-ovca5TcYJI"
   },
   "outputs": [],
   "source": []
  }
 ],
 "metadata": {
  "colab": {
   "collapsed_sections": [],
   "name": "270321TermDepo_Marvel_Pre.ipynb",
   "provenance": []
  },
  "kernelspec": {
   "display_name": "Python 3 (ipykernel)",
   "language": "python",
   "name": "python3"
  },
  "language_info": {
   "codemirror_mode": {
    "name": "ipython",
    "version": 3
   },
   "file_extension": ".py",
   "mimetype": "text/x-python",
   "name": "python",
   "nbconvert_exporter": "python",
   "pygments_lexer": "ipython3",
   "version": "3.9.13"
  }
 },
 "nbformat": 4,
 "nbformat_minor": 1
}
